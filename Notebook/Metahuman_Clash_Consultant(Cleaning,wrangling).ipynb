{
 "cells": [
  {
   "cell_type": "code",
   "execution_count": 1,
   "id": "49a426da",
   "metadata": {},
   "outputs": [],
   "source": [
    "import numpy as np\n",
    "import pandas as pd\n",
    "import matplotlib.pyplot as plt\n",
    "import seaborn as sns\n",
    "import re"
   ]
  },
  {
   "cell_type": "markdown",
   "id": "d5c1657b",
   "metadata": {},
   "source": [
    "#### Importing kaggle dataset"
   ]
  },
  {
   "cell_type": "code",
   "execution_count": 2,
   "id": "9e266888",
   "metadata": {},
   "outputs": [
    {
     "name": "stderr",
     "output_type": "stream",
     "text": [
      "C:\\Users\\Mahbub\\AppData\\Local\\Temp\\ipykernel_8524\\3393436495.py:2: DtypeWarning: Columns (4,6,8,16,17,19,23,24,25,27,30,31,32,33,35) have mixed types. Specify dtype option on import or set low_memory=False.\n",
      "  temp = pd.read_csv('D:\\\\Study\\\\Datasets\\\\Superheroes\\\\Sups\\\\Superheroes.csv')\n"
     ]
    }
   ],
   "source": [
    "pd.set_option('display.max_columns', None)\n",
    "temp = pd.read_csv('D:\\\\Study\\\\Datasets\\\\Superheroes\\\\Sups\\\\Superheroes.csv')\n",
    "\n",
    "sups = temp.copy()"
   ]
  },
  {
   "cell_type": "markdown",
   "id": "b4363be4",
   "metadata": {},
   "source": [
    "#### First 5 rows of the dataset"
   ]
  },
  {
   "cell_type": "code",
   "execution_count": 3,
   "id": "09fdaafd",
   "metadata": {},
   "outputs": [
    {
     "data": {
      "text/html": [
       "<div>\n",
       "<style scoped>\n",
       "    .dataframe tbody tr th:only-of-type {\n",
       "        vertical-align: middle;\n",
       "    }\n",
       "\n",
       "    .dataframe tbody tr th {\n",
       "        vertical-align: top;\n",
       "    }\n",
       "\n",
       "    .dataframe thead th {\n",
       "        text-align: right;\n",
       "    }\n",
       "</style>\n",
       "<table border=\"1\" class=\"dataframe\">\n",
       "  <thead>\n",
       "    <tr style=\"text-align: right;\">\n",
       "      <th></th>\n",
       "      <th>Alignment</th>\n",
       "      <th>Alter_Egos</th>\n",
       "      <th>Base</th>\n",
       "      <th>Character</th>\n",
       "      <th>Class_value</th>\n",
       "      <th>Collections</th>\n",
       "      <th>Combat</th>\n",
       "      <th>Creator</th>\n",
       "      <th>Durability</th>\n",
       "      <th>Equipment</th>\n",
       "      <th>Eye_color</th>\n",
       "      <th>Formerly</th>\n",
       "      <th>Full_name</th>\n",
       "      <th>Gender</th>\n",
       "      <th>Hair_color</th>\n",
       "      <th>Height</th>\n",
       "      <th>IQ</th>\n",
       "      <th>Intelligence</th>\n",
       "      <th>Leader</th>\n",
       "      <th>Level</th>\n",
       "      <th>Member</th>\n",
       "      <th>Name</th>\n",
       "      <th>Occupation</th>\n",
       "      <th>Omnipotent</th>\n",
       "      <th>Omnipresent</th>\n",
       "      <th>Omniscient</th>\n",
       "      <th>Place_of_birth</th>\n",
       "      <th>Power</th>\n",
       "      <th>Relatives</th>\n",
       "      <th>Species</th>\n",
       "      <th>Speed</th>\n",
       "      <th>Speed_velocity</th>\n",
       "      <th>Strength</th>\n",
       "      <th>Strength_force</th>\n",
       "      <th>Super_powers</th>\n",
       "      <th>Tier</th>\n",
       "      <th>Universe</th>\n",
       "      <th>Weight</th>\n",
       "      <th>History</th>\n",
       "    </tr>\n",
       "  </thead>\n",
       "  <tbody>\n",
       "    <tr>\n",
       "      <th>0</th>\n",
       "      <td>Good</td>\n",
       "      <td>None</td>\n",
       "      <td>None</td>\n",
       "      <td>Alucard</td>\n",
       "      <td>5471.0</td>\n",
       "      <td>None</td>\n",
       "      <td>80</td>\n",
       "      <td>Konami</td>\n",
       "      <td>35</td>\n",
       "      <td>NaN</td>\n",
       "      <td>Red</td>\n",
       "      <td>None</td>\n",
       "      <td>None</td>\n",
       "      <td>Male</td>\n",
       "      <td>Blond</td>\n",
       "      <td>191 cm • 6'3.2\"</td>\n",
       "      <td>140</td>\n",
       "      <td>70</td>\n",
       "      <td>NaN</td>\n",
       "      <td>3</td>\n",
       "      <td>None</td>\n",
       "      <td>Alucard</td>\n",
       "      <td>None</td>\n",
       "      <td>0</td>\n",
       "      <td>0</td>\n",
       "      <td>0</td>\n",
       "      <td>None</td>\n",
       "      <td>60</td>\n",
       "      <td>Vlad Ţepeş (father)\\nLisa Ţepeş (mother)</td>\n",
       "      <td>Human</td>\n",
       "      <td>30</td>\n",
       "      <td>2000</td>\n",
       "      <td>30</td>\n",
       "      <td>100000</td>\n",
       "      <td>Accelerated Healing,Agility,Berserk Mode,Blood...</td>\n",
       "      <td>2</td>\n",
       "      <td>C17S</td>\n",
       "      <td>82 kg • 180.78 lbs</td>\n",
       "      <td>NaN</td>\n",
       "    </tr>\n",
       "    <tr>\n",
       "      <th>1</th>\n",
       "      <td>Good</td>\n",
       "      <td>None</td>\n",
       "      <td>None</td>\n",
       "      <td>Alucard</td>\n",
       "      <td>5876.0</td>\n",
       "      <td>None</td>\n",
       "      <td>80</td>\n",
       "      <td>Konami</td>\n",
       "      <td>35</td>\n",
       "      <td>NaN</td>\n",
       "      <td>Red</td>\n",
       "      <td>None</td>\n",
       "      <td>None</td>\n",
       "      <td>Male</td>\n",
       "      <td>Blond</td>\n",
       "      <td>191 cm • 6'3.2\"</td>\n",
       "      <td>140</td>\n",
       "      <td>70</td>\n",
       "      <td>NaN</td>\n",
       "      <td>3</td>\n",
       "      <td>None</td>\n",
       "      <td>Alucard</td>\n",
       "      <td>None</td>\n",
       "      <td>0</td>\n",
       "      <td>0</td>\n",
       "      <td>0</td>\n",
       "      <td>None</td>\n",
       "      <td>60</td>\n",
       "      <td>Vlad Ţepeş (father)\\nLisa Ţepeş (mother)</td>\n",
       "      <td>Human</td>\n",
       "      <td>30</td>\n",
       "      <td>2000</td>\n",
       "      <td>30</td>\n",
       "      <td>100000</td>\n",
       "      <td>Accelerated Healing,Agility,Berserk Mode,Blood...</td>\n",
       "      <td>2</td>\n",
       "      <td>C17S</td>\n",
       "      <td>82 kg • 180.78 lbs</td>\n",
       "      <td>NaN</td>\n",
       "    </tr>\n",
       "    <tr>\n",
       "      <th>2</th>\n",
       "      <td>Good</td>\n",
       "      <td>None</td>\n",
       "      <td>None</td>\n",
       "      <td>Alucard</td>\n",
       "      <td>2586011.0</td>\n",
       "      <td>None</td>\n",
       "      <td>90</td>\n",
       "      <td>Konami</td>\n",
       "      <td>100</td>\n",
       "      <td>NaN</td>\n",
       "      <td>Gold</td>\n",
       "      <td>None</td>\n",
       "      <td>None</td>\n",
       "      <td>Male</td>\n",
       "      <td>White</td>\n",
       "      <td>-</td>\n",
       "      <td>160</td>\n",
       "      <td>80</td>\n",
       "      <td>NaN</td>\n",
       "      <td>6</td>\n",
       "      <td>None</td>\n",
       "      <td>NaN</td>\n",
       "      <td>Vampire Hunter</td>\n",
       "      <td>0</td>\n",
       "      <td>0</td>\n",
       "      <td>0</td>\n",
       "      <td>None</td>\n",
       "      <td>100</td>\n",
       "      <td>Dracula Vlad ?epe? (father)\\nLisa (mother)\\nEl...</td>\n",
       "      <td>Vampire</td>\n",
       "      <td>100</td>\n",
       "      <td>1000000000</td>\n",
       "      <td>100</td>\n",
       "      <td>1000000000</td>\n",
       "      <td>Accelerated Healing,Acrobatics,Agility,Blood M...</td>\n",
       "      <td>7</td>\n",
       "      <td>Castlevania</td>\n",
       "      <td>-</td>\n",
       "      <td>NaN</td>\n",
       "    </tr>\n",
       "    <tr>\n",
       "      <th>3</th>\n",
       "      <td>Good</td>\n",
       "      <td>None</td>\n",
       "      <td>None</td>\n",
       "      <td>Alucard</td>\n",
       "      <td>3380098.0</td>\n",
       "      <td>None</td>\n",
       "      <td>90</td>\n",
       "      <td>Konami</td>\n",
       "      <td>100</td>\n",
       "      <td>NaN</td>\n",
       "      <td>Gold</td>\n",
       "      <td>None</td>\n",
       "      <td>None</td>\n",
       "      <td>Male</td>\n",
       "      <td>White</td>\n",
       "      <td>-</td>\n",
       "      <td>160</td>\n",
       "      <td>80</td>\n",
       "      <td>NaN</td>\n",
       "      <td>6</td>\n",
       "      <td>None</td>\n",
       "      <td>NaN</td>\n",
       "      <td>Vampire Hunter</td>\n",
       "      <td>0</td>\n",
       "      <td>0</td>\n",
       "      <td>0</td>\n",
       "      <td>None</td>\n",
       "      <td>100</td>\n",
       "      <td>Dracula Vlad ?epe? (father)\\nLisa (mother)\\nEl...</td>\n",
       "      <td>Vampire</td>\n",
       "      <td>100</td>\n",
       "      <td>1000000000</td>\n",
       "      <td>100</td>\n",
       "      <td>1000000000</td>\n",
       "      <td>Accelerated Healing,Acrobatics,Agility,Blood M...</td>\n",
       "      <td>7</td>\n",
       "      <td>Castlevania</td>\n",
       "      <td>-</td>\n",
       "      <td>NaN</td>\n",
       "    </tr>\n",
       "    <tr>\n",
       "      <th>4</th>\n",
       "      <td>Good</td>\n",
       "      <td>None</td>\n",
       "      <td>None</td>\n",
       "      <td>Alucard</td>\n",
       "      <td>1170.0</td>\n",
       "      <td>None</td>\n",
       "      <td>100</td>\n",
       "      <td>None</td>\n",
       "      <td>45</td>\n",
       "      <td>NaN</td>\n",
       "      <td>Blue</td>\n",
       "      <td>None</td>\n",
       "      <td>None</td>\n",
       "      <td>Male</td>\n",
       "      <td>Blond</td>\n",
       "      <td>-</td>\n",
       "      <td>140</td>\n",
       "      <td>70</td>\n",
       "      <td>NaN</td>\n",
       "      <td>3</td>\n",
       "      <td>None</td>\n",
       "      <td>Alucard</td>\n",
       "      <td>None</td>\n",
       "      <td>0</td>\n",
       "      <td>0</td>\n",
       "      <td>0</td>\n",
       "      <td>None</td>\n",
       "      <td>80</td>\n",
       "      <td>None</td>\n",
       "      <td>None</td>\n",
       "      <td>50</td>\n",
       "      <td>10000</td>\n",
       "      <td>50</td>\n",
       "      <td>400000</td>\n",
       "      <td>Accelerated Healing,Acrobatics,Agility,Berserk...</td>\n",
       "      <td>2</td>\n",
       "      <td>ML</td>\n",
       "      <td>-</td>\n",
       "      <td>NaN</td>\n",
       "    </tr>\n",
       "  </tbody>\n",
       "</table>\n",
       "</div>"
      ],
      "text/plain": [
       "  Alignment Alter_Egos  Base Character Class_value Collections Combat Creator  \\\n",
       "0      Good       None  None   Alucard      5471.0        None     80  Konami   \n",
       "1      Good       None  None   Alucard      5876.0        None     80  Konami   \n",
       "2      Good       None  None   Alucard   2586011.0        None     90  Konami   \n",
       "3      Good       None  None   Alucard   3380098.0        None     90  Konami   \n",
       "4      Good       None  None   Alucard      1170.0        None    100    None   \n",
       "\n",
       "  Durability Equipment Eye_color Formerly Full_name Gender Hair_color  \\\n",
       "0         35       NaN       Red     None      None   Male      Blond   \n",
       "1         35       NaN       Red     None      None   Male      Blond   \n",
       "2        100       NaN      Gold     None      None   Male      White   \n",
       "3        100       NaN      Gold     None      None   Male      White   \n",
       "4         45       NaN      Blue     None      None   Male      Blond   \n",
       "\n",
       "            Height   IQ Intelligence Leader Level Member     Name  \\\n",
       "0  191 cm • 6'3.2\"  140           70    NaN     3   None  Alucard   \n",
       "1  191 cm • 6'3.2\"  140           70    NaN     3   None  Alucard   \n",
       "2                -  160           80    NaN     6   None      NaN   \n",
       "3                -  160           80    NaN     6   None      NaN   \n",
       "4                -  140           70    NaN     3   None  Alucard   \n",
       "\n",
       "       Occupation Omnipotent Omnipresent Omniscient Place_of_birth Power  \\\n",
       "0            None          0           0          0           None    60   \n",
       "1            None          0           0          0           None    60   \n",
       "2  Vampire Hunter          0           0          0           None   100   \n",
       "3  Vampire Hunter          0           0          0           None   100   \n",
       "4            None          0           0          0           None    80   \n",
       "\n",
       "                                           Relatives  Species Speed  \\\n",
       "0           Vlad Ţepeş (father)\\nLisa Ţepeş (mother)    Human    30   \n",
       "1           Vlad Ţepeş (father)\\nLisa Ţepeş (mother)    Human    30   \n",
       "2  Dracula Vlad ?epe? (father)\\nLisa (mother)\\nEl...  Vampire   100   \n",
       "3  Dracula Vlad ?epe? (father)\\nLisa (mother)\\nEl...  Vampire   100   \n",
       "4                                               None     None    50   \n",
       "\n",
       "  Speed_velocity Strength Strength_force  \\\n",
       "0           2000       30         100000   \n",
       "1           2000       30         100000   \n",
       "2     1000000000      100     1000000000   \n",
       "3     1000000000      100     1000000000   \n",
       "4          10000       50         400000   \n",
       "\n",
       "                                        Super_powers Tier     Universe  \\\n",
       "0  Accelerated Healing,Agility,Berserk Mode,Blood...    2         C17S   \n",
       "1  Accelerated Healing,Agility,Berserk Mode,Blood...    2         C17S   \n",
       "2  Accelerated Healing,Acrobatics,Agility,Blood M...    7  Castlevania   \n",
       "3  Accelerated Healing,Acrobatics,Agility,Blood M...    7  Castlevania   \n",
       "4  Accelerated Healing,Acrobatics,Agility,Berserk...    2           ML   \n",
       "\n",
       "               Weight History  \n",
       "0  82 kg • 180.78 lbs     NaN  \n",
       "1  82 kg • 180.78 lbs     NaN  \n",
       "2                   -     NaN  \n",
       "3                   -     NaN  \n",
       "4                   -     NaN  "
      ]
     },
     "execution_count": 3,
     "metadata": {},
     "output_type": "execute_result"
    }
   ],
   "source": [
    "sups.head(5)"
   ]
  },
  {
   "cell_type": "code",
   "execution_count": 4,
   "id": "d0d4fc60",
   "metadata": {},
   "outputs": [
    {
     "data": {
      "text/plain": [
       "(28118, 39)"
      ]
     },
     "execution_count": 4,
     "metadata": {},
     "output_type": "execute_result"
    }
   ],
   "source": [
    "sups.shape"
   ]
  },
  {
   "cell_type": "markdown",
   "id": "d383141d",
   "metadata": {},
   "source": [
    "#### Checking for duplicated data"
   ]
  },
  {
   "cell_type": "code",
   "execution_count": 5,
   "id": "4670e30b",
   "metadata": {},
   "outputs": [
    {
     "data": {
      "text/plain": [
       "3448"
      ]
     },
     "execution_count": 5,
     "metadata": {},
     "output_type": "execute_result"
    }
   ],
   "source": [
    "sups.duplicated().sum()"
   ]
  },
  {
   "cell_type": "code",
   "execution_count": 6,
   "id": "8f5b7b7c",
   "metadata": {},
   "outputs": [],
   "source": [
    "sups = sups.drop_duplicates()"
   ]
  },
  {
   "cell_type": "code",
   "execution_count": 7,
   "id": "989f8f44",
   "metadata": {},
   "outputs": [
    {
     "data": {
      "text/plain": [
       "(24670, 39)"
      ]
     },
     "execution_count": 7,
     "metadata": {},
     "output_type": "execute_result"
    }
   ],
   "source": [
    "sups.shape"
   ]
  },
  {
   "cell_type": "markdown",
   "id": "f77fc562",
   "metadata": {},
   "source": [
    "#### Deleting the columns that are not required for the analysis and model creation"
   ]
  },
  {
   "cell_type": "code",
   "execution_count": 8,
   "id": "8acd0215",
   "metadata": {},
   "outputs": [
    {
     "data": {
      "text/plain": [
       "Index(['Alignment', 'Alter_Egos', 'Base', 'Character', 'Class_value',\n",
       "       'Collections', 'Combat', 'Creator', 'Durability', 'Equipment',\n",
       "       'Eye_color', 'Formerly', 'Full_name', 'Gender', 'Hair_color', 'Height',\n",
       "       'IQ', 'Intelligence', 'Leader', 'Level', 'Member', 'Name', 'Occupation',\n",
       "       'Omnipotent', 'Omnipresent', 'Omniscient', 'Place_of_birth', 'Power',\n",
       "       'Relatives', 'Species', 'Speed', 'Speed_velocity', 'Strength',\n",
       "       'Strength_force', 'Super_powers', 'Tier', 'Universe', 'Weight',\n",
       "       'History'],\n",
       "      dtype='object')"
      ]
     },
     "execution_count": 8,
     "metadata": {},
     "output_type": "execute_result"
    }
   ],
   "source": [
    "sups.columns"
   ]
  },
  {
   "cell_type": "code",
   "execution_count": 9,
   "id": "6692752d",
   "metadata": {},
   "outputs": [],
   "source": [
    "not_needed_columns = ['Alter_Egos','Base','Collections','Full_name','Omnipotent','Omnipresent','Omniscient','Class_value','Eye_color','Equipment','Formerly','Hair_color',\n",
    "                      'Leader','Member','Name','Occupation','Relatives','History']"
   ]
  },
  {
   "cell_type": "code",
   "execution_count": 10,
   "id": "e63aead2",
   "metadata": {},
   "outputs": [],
   "source": [
    "sups.drop(columns=not_needed_columns,inplace=True)"
   ]
  },
  {
   "cell_type": "code",
   "execution_count": 11,
   "id": "27ecbc13",
   "metadata": {},
   "outputs": [
    {
     "data": {
      "text/plain": [
       "(24670, 21)"
      ]
     },
     "execution_count": 11,
     "metadata": {},
     "output_type": "execute_result"
    }
   ],
   "source": [
    "sups.shape"
   ]
  },
  {
   "cell_type": "code",
   "execution_count": 12,
   "id": "780d2144",
   "metadata": {},
   "outputs": [
    {
     "name": "stdout",
     "output_type": "stream",
     "text": [
      "<class 'pandas.core.frame.DataFrame'>\n",
      "Int64Index: 24670 entries, 0 to 28117\n",
      "Data columns (total 21 columns):\n",
      " #   Column          Non-Null Count  Dtype \n",
      "---  ------          --------------  ----- \n",
      " 0   Alignment       24492 non-null  object\n",
      " 1   Character       24670 non-null  object\n",
      " 2   Combat          24492 non-null  object\n",
      " 3   Creator         24492 non-null  object\n",
      " 4   Durability      24492 non-null  object\n",
      " 5   Gender          24492 non-null  object\n",
      " 6   Height          24492 non-null  object\n",
      " 7   IQ              24492 non-null  object\n",
      " 8   Intelligence    24492 non-null  object\n",
      " 9   Level           24492 non-null  object\n",
      " 10  Place_of_birth  24472 non-null  object\n",
      " 11  Power           24492 non-null  object\n",
      " 12  Species         24492 non-null  object\n",
      " 13  Speed           24492 non-null  object\n",
      " 14  Speed_velocity  24492 non-null  object\n",
      " 15  Strength        24492 non-null  object\n",
      " 16  Strength_force  24492 non-null  object\n",
      " 17  Super_powers    24492 non-null  object\n",
      " 18  Tier            24492 non-null  object\n",
      " 19  Universe        21786 non-null  object\n",
      " 20  Weight          24492 non-null  object\n",
      "dtypes: object(21)\n",
      "memory usage: 4.1+ MB\n"
     ]
    }
   ],
   "source": [
    "sups.info()"
   ]
  },
  {
   "cell_type": "markdown",
   "id": "a50e08c7",
   "metadata": {},
   "source": [
    "#### Duplicates"
   ]
  },
  {
   "cell_type": "code",
   "execution_count": 14,
   "id": "087e302d",
   "metadata": {},
   "outputs": [
    {
     "data": {
      "text/html": [
       "<div>\n",
       "<style scoped>\n",
       "    .dataframe tbody tr th:only-of-type {\n",
       "        vertical-align: middle;\n",
       "    }\n",
       "\n",
       "    .dataframe tbody tr th {\n",
       "        vertical-align: top;\n",
       "    }\n",
       "\n",
       "    .dataframe thead th {\n",
       "        text-align: right;\n",
       "    }\n",
       "</style>\n",
       "<table border=\"1\" class=\"dataframe\">\n",
       "  <thead>\n",
       "    <tr style=\"text-align: right;\">\n",
       "      <th></th>\n",
       "      <th>Alignment</th>\n",
       "      <th>Character</th>\n",
       "      <th>Combat</th>\n",
       "      <th>Creator</th>\n",
       "      <th>Durability</th>\n",
       "      <th>Gender</th>\n",
       "      <th>Height</th>\n",
       "      <th>IQ</th>\n",
       "      <th>Intelligence</th>\n",
       "      <th>Level</th>\n",
       "      <th>Place_of_birth</th>\n",
       "      <th>Power</th>\n",
       "      <th>Species</th>\n",
       "      <th>Speed</th>\n",
       "      <th>Speed_velocity</th>\n",
       "      <th>Strength</th>\n",
       "      <th>Strength_force</th>\n",
       "      <th>Super_powers</th>\n",
       "      <th>Tier</th>\n",
       "      <th>Universe</th>\n",
       "      <th>Weight</th>\n",
       "    </tr>\n",
       "  </thead>\n",
       "  <tbody>\n",
       "    <tr>\n",
       "      <th>1</th>\n",
       "      <td>Good</td>\n",
       "      <td>Alucard</td>\n",
       "      <td>80</td>\n",
       "      <td>Konami</td>\n",
       "      <td>35</td>\n",
       "      <td>Male</td>\n",
       "      <td>191 cm • 6'3.2\"</td>\n",
       "      <td>140</td>\n",
       "      <td>70</td>\n",
       "      <td>3</td>\n",
       "      <td>None</td>\n",
       "      <td>60</td>\n",
       "      <td>Human</td>\n",
       "      <td>30</td>\n",
       "      <td>2000</td>\n",
       "      <td>30</td>\n",
       "      <td>100000</td>\n",
       "      <td>Accelerated Healing,Agility,Berserk Mode,Blood...</td>\n",
       "      <td>2</td>\n",
       "      <td>C17S</td>\n",
       "      <td>82 kg • 180.78 lbs</td>\n",
       "    </tr>\n",
       "    <tr>\n",
       "      <th>2</th>\n",
       "      <td>Good</td>\n",
       "      <td>Alucard</td>\n",
       "      <td>90</td>\n",
       "      <td>Konami</td>\n",
       "      <td>100</td>\n",
       "      <td>Male</td>\n",
       "      <td>-</td>\n",
       "      <td>160</td>\n",
       "      <td>80</td>\n",
       "      <td>6</td>\n",
       "      <td>None</td>\n",
       "      <td>100</td>\n",
       "      <td>Vampire</td>\n",
       "      <td>100</td>\n",
       "      <td>1000000000</td>\n",
       "      <td>100</td>\n",
       "      <td>1000000000</td>\n",
       "      <td>Accelerated Healing,Acrobatics,Agility,Blood M...</td>\n",
       "      <td>7</td>\n",
       "      <td>Castlevania</td>\n",
       "      <td>-</td>\n",
       "    </tr>\n",
       "    <tr>\n",
       "      <th>3</th>\n",
       "      <td>Good</td>\n",
       "      <td>Alucard</td>\n",
       "      <td>90</td>\n",
       "      <td>Konami</td>\n",
       "      <td>100</td>\n",
       "      <td>Male</td>\n",
       "      <td>-</td>\n",
       "      <td>160</td>\n",
       "      <td>80</td>\n",
       "      <td>6</td>\n",
       "      <td>None</td>\n",
       "      <td>100</td>\n",
       "      <td>Vampire</td>\n",
       "      <td>100</td>\n",
       "      <td>1000000000</td>\n",
       "      <td>100</td>\n",
       "      <td>1000000000</td>\n",
       "      <td>Accelerated Healing,Acrobatics,Agility,Blood M...</td>\n",
       "      <td>7</td>\n",
       "      <td>Castlevania</td>\n",
       "      <td>-</td>\n",
       "    </tr>\n",
       "    <tr>\n",
       "      <th>4</th>\n",
       "      <td>Good</td>\n",
       "      <td>Alucard</td>\n",
       "      <td>100</td>\n",
       "      <td>None</td>\n",
       "      <td>45</td>\n",
       "      <td>Male</td>\n",
       "      <td>-</td>\n",
       "      <td>140</td>\n",
       "      <td>70</td>\n",
       "      <td>3</td>\n",
       "      <td>None</td>\n",
       "      <td>80</td>\n",
       "      <td>None</td>\n",
       "      <td>50</td>\n",
       "      <td>10000</td>\n",
       "      <td>50</td>\n",
       "      <td>400000</td>\n",
       "      <td>Accelerated Healing,Acrobatics,Agility,Berserk...</td>\n",
       "      <td>2</td>\n",
       "      <td>ML</td>\n",
       "      <td>-</td>\n",
       "    </tr>\n",
       "    <tr>\n",
       "      <th>5</th>\n",
       "      <td>Good</td>\n",
       "      <td>Alucard</td>\n",
       "      <td>100</td>\n",
       "      <td>None</td>\n",
       "      <td>45</td>\n",
       "      <td>Male</td>\n",
       "      <td>-</td>\n",
       "      <td>140</td>\n",
       "      <td>70</td>\n",
       "      <td>3</td>\n",
       "      <td>None</td>\n",
       "      <td>80</td>\n",
       "      <td>None</td>\n",
       "      <td>50</td>\n",
       "      <td>10000</td>\n",
       "      <td>50</td>\n",
       "      <td>400000</td>\n",
       "      <td>Accelerated Healing,Acrobatics,Agility,Berserk...</td>\n",
       "      <td>2</td>\n",
       "      <td>ML</td>\n",
       "      <td>-</td>\n",
       "    </tr>\n",
       "    <tr>\n",
       "      <th>...</th>\n",
       "      <td>...</td>\n",
       "      <td>...</td>\n",
       "      <td>...</td>\n",
       "      <td>...</td>\n",
       "      <td>...</td>\n",
       "      <td>...</td>\n",
       "      <td>...</td>\n",
       "      <td>...</td>\n",
       "      <td>...</td>\n",
       "      <td>...</td>\n",
       "      <td>...</td>\n",
       "      <td>...</td>\n",
       "      <td>...</td>\n",
       "      <td>...</td>\n",
       "      <td>...</td>\n",
       "      <td>...</td>\n",
       "      <td>...</td>\n",
       "      <td>...</td>\n",
       "      <td>...</td>\n",
       "      <td>...</td>\n",
       "      <td>...</td>\n",
       "    </tr>\n",
       "    <tr>\n",
       "      <th>28110</th>\n",
       "      <td>NaN</td>\n",
       "      <td>Wonder Man</td>\n",
       "      <td>NaN</td>\n",
       "      <td>NaN</td>\n",
       "      <td>NaN</td>\n",
       "      <td>NaN</td>\n",
       "      <td>NaN</td>\n",
       "      <td>NaN</td>\n",
       "      <td>NaN</td>\n",
       "      <td>NaN</td>\n",
       "      <td>NaN</td>\n",
       "      <td>NaN</td>\n",
       "      <td>NaN</td>\n",
       "      <td>NaN</td>\n",
       "      <td>NaN</td>\n",
       "      <td>NaN</td>\n",
       "      <td>NaN</td>\n",
       "      <td>NaN</td>\n",
       "      <td>NaN</td>\n",
       "      <td>Earth-2149</td>\n",
       "      <td>NaN</td>\n",
       "    </tr>\n",
       "    <tr>\n",
       "      <th>28111</th>\n",
       "      <td>NaN</td>\n",
       "      <td>Wonder Girl</td>\n",
       "      <td>NaN</td>\n",
       "      <td>NaN</td>\n",
       "      <td>NaN</td>\n",
       "      <td>NaN</td>\n",
       "      <td>NaN</td>\n",
       "      <td>NaN</td>\n",
       "      <td>NaN</td>\n",
       "      <td>NaN</td>\n",
       "      <td>NaN</td>\n",
       "      <td>NaN</td>\n",
       "      <td>NaN</td>\n",
       "      <td>NaN</td>\n",
       "      <td>NaN</td>\n",
       "      <td>NaN</td>\n",
       "      <td>NaN</td>\n",
       "      <td>NaN</td>\n",
       "      <td>NaN</td>\n",
       "      <td>New 52</td>\n",
       "      <td>NaN</td>\n",
       "    </tr>\n",
       "    <tr>\n",
       "      <th>28112</th>\n",
       "      <td>NaN</td>\n",
       "      <td>Wonder Girl</td>\n",
       "      <td>NaN</td>\n",
       "      <td>NaN</td>\n",
       "      <td>NaN</td>\n",
       "      <td>NaN</td>\n",
       "      <td>NaN</td>\n",
       "      <td>NaN</td>\n",
       "      <td>NaN</td>\n",
       "      <td>NaN</td>\n",
       "      <td>NaN</td>\n",
       "      <td>NaN</td>\n",
       "      <td>NaN</td>\n",
       "      <td>NaN</td>\n",
       "      <td>NaN</td>\n",
       "      <td>NaN</td>\n",
       "      <td>NaN</td>\n",
       "      <td>NaN</td>\n",
       "      <td>NaN</td>\n",
       "      <td>Prime Earth</td>\n",
       "      <td>NaN</td>\n",
       "    </tr>\n",
       "    <tr>\n",
       "      <th>28114</th>\n",
       "      <td>NaN</td>\n",
       "      <td>Watcher</td>\n",
       "      <td>NaN</td>\n",
       "      <td>NaN</td>\n",
       "      <td>NaN</td>\n",
       "      <td>NaN</td>\n",
       "      <td>NaN</td>\n",
       "      <td>NaN</td>\n",
       "      <td>NaN</td>\n",
       "      <td>NaN</td>\n",
       "      <td>NaN</td>\n",
       "      <td>NaN</td>\n",
       "      <td>NaN</td>\n",
       "      <td>NaN</td>\n",
       "      <td>NaN</td>\n",
       "      <td>NaN</td>\n",
       "      <td>NaN</td>\n",
       "      <td>NaN</td>\n",
       "      <td>NaN</td>\n",
       "      <td>TLFFS</td>\n",
       "      <td>NaN</td>\n",
       "    </tr>\n",
       "    <tr>\n",
       "      <th>28116</th>\n",
       "      <td>NaN</td>\n",
       "      <td>Yellow Lantern</td>\n",
       "      <td>NaN</td>\n",
       "      <td>NaN</td>\n",
       "      <td>NaN</td>\n",
       "      <td>NaN</td>\n",
       "      <td>NaN</td>\n",
       "      <td>NaN</td>\n",
       "      <td>NaN</td>\n",
       "      <td>NaN</td>\n",
       "      <td>NaN</td>\n",
       "      <td>NaN</td>\n",
       "      <td>NaN</td>\n",
       "      <td>NaN</td>\n",
       "      <td>NaN</td>\n",
       "      <td>NaN</td>\n",
       "      <td>NaN</td>\n",
       "      <td>NaN</td>\n",
       "      <td>NaN</td>\n",
       "      <td>New 52</td>\n",
       "      <td>NaN</td>\n",
       "    </tr>\n",
       "  </tbody>\n",
       "</table>\n",
       "<p>13408 rows × 21 columns</p>\n",
       "</div>"
      ],
      "text/plain": [
       "      Alignment       Character Combat Creator Durability Gender  \\\n",
       "1          Good         Alucard     80  Konami         35   Male   \n",
       "2          Good         Alucard     90  Konami        100   Male   \n",
       "3          Good         Alucard     90  Konami        100   Male   \n",
       "4          Good         Alucard    100    None         45   Male   \n",
       "5          Good         Alucard    100    None         45   Male   \n",
       "...         ...             ...    ...     ...        ...    ...   \n",
       "28110       NaN      Wonder Man    NaN     NaN        NaN    NaN   \n",
       "28111       NaN     Wonder Girl    NaN     NaN        NaN    NaN   \n",
       "28112       NaN     Wonder Girl    NaN     NaN        NaN    NaN   \n",
       "28114       NaN         Watcher    NaN     NaN        NaN    NaN   \n",
       "28116       NaN  Yellow Lantern    NaN     NaN        NaN    NaN   \n",
       "\n",
       "                Height   IQ Intelligence Level Place_of_birth Power  Species  \\\n",
       "1      191 cm • 6'3.2\"  140           70     3           None    60    Human   \n",
       "2                    -  160           80     6           None   100  Vampire   \n",
       "3                    -  160           80     6           None   100  Vampire   \n",
       "4                    -  140           70     3           None    80     None   \n",
       "5                    -  140           70     3           None    80     None   \n",
       "...                ...  ...          ...   ...            ...   ...      ...   \n",
       "28110              NaN  NaN          NaN   NaN            NaN   NaN      NaN   \n",
       "28111              NaN  NaN          NaN   NaN            NaN   NaN      NaN   \n",
       "28112              NaN  NaN          NaN   NaN            NaN   NaN      NaN   \n",
       "28114              NaN  NaN          NaN   NaN            NaN   NaN      NaN   \n",
       "28116              NaN  NaN          NaN   NaN            NaN   NaN      NaN   \n",
       "\n",
       "      Speed Speed_velocity Strength Strength_force  \\\n",
       "1        30           2000       30         100000   \n",
       "2       100     1000000000      100     1000000000   \n",
       "3       100     1000000000      100     1000000000   \n",
       "4        50          10000       50         400000   \n",
       "5        50          10000       50         400000   \n",
       "...     ...            ...      ...            ...   \n",
       "28110   NaN            NaN      NaN            NaN   \n",
       "28111   NaN            NaN      NaN            NaN   \n",
       "28112   NaN            NaN      NaN            NaN   \n",
       "28114   NaN            NaN      NaN            NaN   \n",
       "28116   NaN            NaN      NaN            NaN   \n",
       "\n",
       "                                            Super_powers Tier     Universe  \\\n",
       "1      Accelerated Healing,Agility,Berserk Mode,Blood...    2         C17S   \n",
       "2      Accelerated Healing,Acrobatics,Agility,Blood M...    7  Castlevania   \n",
       "3      Accelerated Healing,Acrobatics,Agility,Blood M...    7  Castlevania   \n",
       "4      Accelerated Healing,Acrobatics,Agility,Berserk...    2           ML   \n",
       "5      Accelerated Healing,Acrobatics,Agility,Berserk...    2           ML   \n",
       "...                                                  ...  ...          ...   \n",
       "28110                                                NaN  NaN   Earth-2149   \n",
       "28111                                                NaN  NaN       New 52   \n",
       "28112                                                NaN  NaN  Prime Earth   \n",
       "28114                                                NaN  NaN        TLFFS   \n",
       "28116                                                NaN  NaN       New 52   \n",
       "\n",
       "                   Weight  \n",
       "1      82 kg • 180.78 lbs  \n",
       "2                       -  \n",
       "3                       -  \n",
       "4                       -  \n",
       "5                       -  \n",
       "...                   ...  \n",
       "28110                 NaN  \n",
       "28111                 NaN  \n",
       "28112                 NaN  \n",
       "28114                 NaN  \n",
       "28116                 NaN  \n",
       "\n",
       "[13408 rows x 21 columns]"
      ]
     },
     "execution_count": 14,
     "metadata": {},
     "output_type": "execute_result"
    }
   ],
   "source": [
    "sups[sups['Character'].duplicated()]"
   ]
  },
  {
   "cell_type": "code",
   "execution_count": 15,
   "id": "e842a001",
   "metadata": {},
   "outputs": [],
   "source": [
    "sups = sups.drop_duplicates(subset=['Character'])"
   ]
  },
  {
   "cell_type": "code",
   "execution_count": 16,
   "id": "e8a77f2e",
   "metadata": {},
   "outputs": [
    {
     "data": {
      "text/plain": [
       "(11262, 21)"
      ]
     },
     "execution_count": 16,
     "metadata": {},
     "output_type": "execute_result"
    }
   ],
   "source": [
    "sups.shape"
   ]
  },
  {
   "cell_type": "markdown",
   "id": "b1f9cdc2",
   "metadata": {},
   "source": [
    "#### Checking NAN rows"
   ]
  },
  {
   "cell_type": "code",
   "execution_count": 17,
   "id": "5f3659dd",
   "metadata": {},
   "outputs": [],
   "source": [
    "threshold = 11\n",
    "\n",
    "# Filter rows with most NaN values\n",
    "rows_with_most_nan = sups[sups.isna().sum(axis=1) >= threshold]"
   ]
  },
  {
   "cell_type": "code",
   "execution_count": 18,
   "id": "976c178f",
   "metadata": {},
   "outputs": [
    {
     "data": {
      "text/plain": [
       "56"
      ]
     },
     "execution_count": 18,
     "metadata": {},
     "output_type": "execute_result"
    }
   ],
   "source": [
    "len(rows_with_most_nan)"
   ]
  },
  {
   "cell_type": "code",
   "execution_count": 19,
   "id": "af9c4a83",
   "metadata": {},
   "outputs": [],
   "source": [
    "sups = sups.dropna(thresh = threshold)"
   ]
  },
  {
   "cell_type": "code",
   "execution_count": 20,
   "id": "5d6a0dda",
   "metadata": {},
   "outputs": [
    {
     "data": {
      "text/plain": [
       "(11206, 21)"
      ]
     },
     "execution_count": 20,
     "metadata": {},
     "output_type": "execute_result"
    }
   ],
   "source": [
    "sups.shape"
   ]
  },
  {
   "cell_type": "code",
   "execution_count": 21,
   "id": "eeca1fa3",
   "metadata": {},
   "outputs": [
    {
     "data": {
      "text/plain": [
       "Index(['Alignment', 'Character', 'Combat', 'Creator', 'Durability', 'Gender',\n",
       "       'Height', 'IQ', 'Intelligence', 'Level', 'Place_of_birth', 'Power',\n",
       "       'Species', 'Speed', 'Speed_velocity', 'Strength', 'Strength_force',\n",
       "       'Super_powers', 'Tier', 'Universe', 'Weight'],\n",
       "      dtype='object')"
      ]
     },
     "execution_count": 21,
     "metadata": {},
     "output_type": "execute_result"
    }
   ],
   "source": [
    "sups.columns"
   ]
  },
  {
   "cell_type": "markdown",
   "id": "1ecfb00e",
   "metadata": {},
   "source": [
    "#### Alignment column"
   ]
  },
  {
   "cell_type": "code",
   "execution_count": 22,
   "id": "b6c48a3f",
   "metadata": {},
   "outputs": [
    {
     "data": {
      "text/html": [
       "<div>\n",
       "<style scoped>\n",
       "    .dataframe tbody tr th:only-of-type {\n",
       "        vertical-align: middle;\n",
       "    }\n",
       "\n",
       "    .dataframe tbody tr th {\n",
       "        vertical-align: top;\n",
       "    }\n",
       "\n",
       "    .dataframe thead th {\n",
       "        text-align: right;\n",
       "    }\n",
       "</style>\n",
       "<table border=\"1\" class=\"dataframe\">\n",
       "  <thead>\n",
       "    <tr style=\"text-align: right;\">\n",
       "      <th></th>\n",
       "      <th>Alignment</th>\n",
       "      <th>Character</th>\n",
       "      <th>Combat</th>\n",
       "      <th>Creator</th>\n",
       "      <th>Durability</th>\n",
       "      <th>Gender</th>\n",
       "      <th>Height</th>\n",
       "      <th>IQ</th>\n",
       "      <th>Intelligence</th>\n",
       "      <th>Level</th>\n",
       "      <th>Place_of_birth</th>\n",
       "      <th>Power</th>\n",
       "      <th>Species</th>\n",
       "      <th>Speed</th>\n",
       "      <th>Speed_velocity</th>\n",
       "      <th>Strength</th>\n",
       "      <th>Strength_force</th>\n",
       "      <th>Super_powers</th>\n",
       "      <th>Tier</th>\n",
       "      <th>Universe</th>\n",
       "      <th>Weight</th>\n",
       "    </tr>\n",
       "  </thead>\n",
       "  <tbody>\n",
       "  </tbody>\n",
       "</table>\n",
       "</div>"
      ],
      "text/plain": [
       "Empty DataFrame\n",
       "Columns: [Alignment, Character, Combat, Creator, Durability, Gender, Height, IQ, Intelligence, Level, Place_of_birth, Power, Species, Speed, Speed_velocity, Strength, Strength_force, Super_powers, Tier, Universe, Weight]\n",
       "Index: []"
      ]
     },
     "execution_count": 22,
     "metadata": {},
     "output_type": "execute_result"
    }
   ],
   "source": [
    "sups[sups.Alignment.isna()]"
   ]
  },
  {
   "cell_type": "code",
   "execution_count": 23,
   "id": "5b409b05",
   "metadata": {},
   "outputs": [
    {
     "data": {
      "text/plain": [
       "array(['Good', 'Neutral', 'Bad', 'None', '-', 'Alignment'], dtype=object)"
      ]
     },
     "execution_count": 23,
     "metadata": {},
     "output_type": "execute_result"
    }
   ],
   "source": [
    "sups.Alignment.unique()"
   ]
  },
  {
   "cell_type": "markdown",
   "id": "e2fb0568",
   "metadata": {},
   "source": [
    "#### Good, Bad, and neutral value rows will be taken"
   ]
  },
  {
   "cell_type": "code",
   "execution_count": 24,
   "id": "0a47da4a",
   "metadata": {},
   "outputs": [],
   "source": [
    "sups = sups[(sups['Alignment'] == 'Good') | (sups['Alignment'] == 'Bad') | (sups['Alignment'] == 'Neutral')]"
   ]
  },
  {
   "cell_type": "code",
   "execution_count": 25,
   "id": "4131add9",
   "metadata": {},
   "outputs": [
    {
     "data": {
      "text/plain": [
       "(7667, 21)"
      ]
     },
     "execution_count": 25,
     "metadata": {},
     "output_type": "execute_result"
    }
   ],
   "source": [
    "sups.shape"
   ]
  },
  {
   "cell_type": "code",
   "execution_count": 26,
   "id": "0e6a0fb6",
   "metadata": {},
   "outputs": [
    {
     "data": {
      "text/plain": [
       "array(['Good', 'Neutral', 'Bad'], dtype=object)"
      ]
     },
     "execution_count": 26,
     "metadata": {},
     "output_type": "execute_result"
    }
   ],
   "source": [
    "# verify\n",
    "sups.Alignment.unique()"
   ]
  },
  {
   "cell_type": "markdown",
   "id": "77305c8e",
   "metadata": {},
   "source": [
    "#### Character column"
   ]
  },
  {
   "cell_type": "code",
   "execution_count": 27,
   "id": "448c2a2f",
   "metadata": {},
   "outputs": [
    {
     "data": {
      "text/plain": [
       "0"
      ]
     },
     "execution_count": 27,
     "metadata": {},
     "output_type": "execute_result"
    }
   ],
   "source": [
    "sups['Character'].duplicated().sum()"
   ]
  },
  {
   "cell_type": "code",
   "execution_count": 28,
   "id": "5a4372a1",
   "metadata": {},
   "outputs": [
    {
     "data": {
      "text/plain": [
       "0"
      ]
     },
     "execution_count": 28,
     "metadata": {},
     "output_type": "execute_result"
    }
   ],
   "source": [
    "sups['Character'].isna().sum()"
   ]
  },
  {
   "cell_type": "markdown",
   "id": "735e436a",
   "metadata": {},
   "source": [
    "#### Cobmat columns"
   ]
  },
  {
   "cell_type": "code",
   "execution_count": 29,
   "id": "ba726be7",
   "metadata": {},
   "outputs": [],
   "source": [
    "def process_powers(val):\n",
    "    if val <= 0:\n",
    "        return '0'\n",
    "    for i in range(0, 21): \n",
    "        if i * 5 + 1 <= val <= (i + 1) * 5:\n",
    "            return f'{i * 5 + 1}to{(i + 1) * 5}'\n",
    "    return 'outofrange'"
   ]
  },
  {
   "cell_type": "code",
   "execution_count": 30,
   "id": "bdb6784d",
   "metadata": {},
   "outputs": [],
   "source": [
    "# data type\n",
    "sups['Combat'] = sups['Combat'].astype(int)"
   ]
  },
  {
   "cell_type": "code",
   "execution_count": 31,
   "id": "2aa1e96e",
   "metadata": {},
   "outputs": [],
   "source": [
    "sups['combat_str'] = sups['Combat'].apply(process_powers)"
   ]
  },
  {
   "cell_type": "code",
   "execution_count": 32,
   "id": "5db570dd",
   "metadata": {},
   "outputs": [
    {
     "data": {
      "text/plain": [
       "0"
      ]
     },
     "execution_count": 32,
     "metadata": {},
     "output_type": "execute_result"
    }
   ],
   "source": [
    "sups['combat_str'].isna().sum()"
   ]
  },
  {
   "cell_type": "code",
   "execution_count": 33,
   "id": "4ec26092",
   "metadata": {},
   "outputs": [
    {
     "data": {
      "text/plain": [
       "7646"
      ]
     },
     "execution_count": 33,
     "metadata": {},
     "output_type": "execute_result"
    }
   ],
   "source": [
    "sups.combat_str.duplicated().sum()"
   ]
  },
  {
   "cell_type": "code",
   "execution_count": 34,
   "id": "bd196690",
   "metadata": {},
   "outputs": [],
   "source": [
    "sups['combat_str'] = 'combat' + sups['combat_str'].astype(str)"
   ]
  },
  {
   "cell_type": "code",
   "execution_count": 35,
   "id": "a48c90b8",
   "metadata": {},
   "outputs": [
    {
     "data": {
      "text/plain": [
       "array(['combat76to80', 'combat86to90', 'combat36to40', 'combat11to15',\n",
       "       'combat56to60', 'combat96to100', 'combat41to45', 'combat46to50',\n",
       "       'combat71to75', 'combat91to95', 'combat16to20', 'combat61to65',\n",
       "       'combat66to70', 'combat51to55', 'combat26to30', 'combat1to5',\n",
       "       'combat31to35', 'combat21to25', 'combat81to85', 'combat6to10',\n",
       "       'combat0'], dtype=object)"
      ]
     },
     "execution_count": 35,
     "metadata": {},
     "output_type": "execute_result"
    }
   ],
   "source": [
    "sups.combat_str.unique()"
   ]
  },
  {
   "cell_type": "code",
   "execution_count": null,
   "id": "dcbdd4d9",
   "metadata": {},
   "outputs": [],
   "source": []
  },
  {
   "cell_type": "markdown",
   "id": "152993b5",
   "metadata": {},
   "source": [
    "#### Creator Column"
   ]
  },
  {
   "cell_type": "code",
   "execution_count": 37,
   "id": "904a729f",
   "metadata": {},
   "outputs": [
    {
     "data": {
      "text/plain": [
       "array(['Konami', 'Sega', 'None', 'Cartoon Network', 'Marvel Comics',\n",
       "       'Square Enix', 'DC Comics', 'Shueisha', 'Warner Brothers',\n",
       "       'J. K. Rowling', 'James Cameron', 'Hasbro', 'Ubisoft',\n",
       "       'Shogakukan', 'George Lucas', 'Capcom', 'J. R. R. Tolkien',\n",
       "       'Image Comics', 'George R. R. Martin', 'ABC Studios', 'Wildstorm',\n",
       "       'Kodansha', 'Microsoft', 'Nintendo', 'IDW Publishing',\n",
       "       'Nickelodeon', 'Kadokawa', 'Activision Blizzard', 'Skybound',\n",
       "       'Dreamworks', 'Riot Games', 'Universal Studios', 'Namco', 'SNK',\n",
       "       'Toei Animation', 'Pixar', 'Dark Horse Comics', 'Dargaud',\n",
       "       'Mortal Kombat', 'Mattel', 'Dynamite Entertainment',\n",
       "       'Team Epic TV', 'Netflix', 'CD Projekt Red', 'Hanna-Barbera',\n",
       "       'Disney', 'Rick Riordan', 'South Park', 'Sony Pictures',\n",
       "       'Amalgam Comics', 'AMC', 'H.P. Lovecraft', 'SyFy',\n",
       "       'Kevin Williamson', 'Rebellion', 'Viz Media', 'Naughty Dog',\n",
       "       'Top Cow Productions', 'Studio Ghibli', 'Matt Groening', 'Lego',\n",
       "       'SCP Foundation', 'NBC', 'Stephen King', 'Valiant Comics',\n",
       "       'Tui T. Sutherland', 'Gene Roddenberry', 'Herg�',\n",
       "       'Insomniac Games', 'Newgrounds', 'Stephen McCranie',\n",
       "       'Valve Corporation', 'Bonelli', 'Ian Fleming', 'Rockstar Games',\n",
       "       '2K', 'Electronic Arts', 'Boom! Studios', 'Rooster Teeth Games',\n",
       "       'Clive Barker', 'Guerrilla Games', 'Epic', 'Arkane Studios',\n",
       "       '07th Expansion', 'Type-Moon', 'Warhammer 40K',\n",
       "       'Absolute Comics Group', 'Power Rangers', 'AC Comics', 'MGM',\n",
       "       'Le Lombard', 'The CW', 'Games Workshop', 'CoroCoro Comic',\n",
       "       'Thomas Harris', 'Tokuma Shoten', 'John Conroe', 'Dupuis',\n",
       "       'Mark Jones', 'Koei Tecmo'], dtype=object)"
      ]
     },
     "execution_count": 37,
     "metadata": {},
     "output_type": "execute_result"
    }
   ],
   "source": [
    "sups.Creator.unique()"
   ]
  },
  {
   "cell_type": "code",
   "execution_count": 38,
   "id": "3b7c2ad1",
   "metadata": {},
   "outputs": [
    {
     "data": {
      "text/plain": [
       "0"
      ]
     },
     "execution_count": 38,
     "metadata": {},
     "output_type": "execute_result"
    }
   ],
   "source": [
    "sups.Creator.isna().sum()"
   ]
  },
  {
   "cell_type": "markdown",
   "id": "4a1b499c",
   "metadata": {},
   "source": [
    "#### Durability column"
   ]
  },
  {
   "cell_type": "code",
   "execution_count": 39,
   "id": "08ede9ee",
   "metadata": {},
   "outputs": [
    {
     "data": {
      "text/plain": [
       "dtype('O')"
      ]
     },
     "execution_count": 39,
     "metadata": {},
     "output_type": "execute_result"
    }
   ],
   "source": [
    "sups.Durability.dtype"
   ]
  },
  {
   "cell_type": "code",
   "execution_count": 40,
   "id": "931829d6",
   "metadata": {},
   "outputs": [],
   "source": [
    "# data type\n",
    "sups['Durability'] = sups['Durability'].astype(int)"
   ]
  },
  {
   "cell_type": "code",
   "execution_count": 41,
   "id": "c9ba4215",
   "metadata": {},
   "outputs": [
    {
     "data": {
      "text/plain": [
       "0"
      ]
     },
     "execution_count": 41,
     "metadata": {},
     "output_type": "execute_result"
    }
   ],
   "source": [
    "sups.Durability.min()"
   ]
  },
  {
   "cell_type": "code",
   "execution_count": 42,
   "id": "c8800ff1",
   "metadata": {},
   "outputs": [
    {
     "data": {
      "text/plain": [
       "100"
      ]
     },
     "execution_count": 42,
     "metadata": {},
     "output_type": "execute_result"
    }
   ],
   "source": [
    "sups.Durability.max()"
   ]
  },
  {
   "cell_type": "code",
   "execution_count": 43,
   "id": "b43a38a9",
   "metadata": {},
   "outputs": [],
   "source": [
    "sups['durability_str'] = sups['Durability'].apply(process_powers)"
   ]
  },
  {
   "cell_type": "code",
   "execution_count": 44,
   "id": "9505228b",
   "metadata": {},
   "outputs": [
    {
     "data": {
      "text/plain": [
       "0"
      ]
     },
     "execution_count": 44,
     "metadata": {},
     "output_type": "execute_result"
    }
   ],
   "source": [
    "sups.durability_str.isna().sum()"
   ]
  },
  {
   "cell_type": "code",
   "execution_count": 45,
   "id": "efbfde68",
   "metadata": {},
   "outputs": [
    {
     "data": {
      "text/plain": [
       "7646"
      ]
     },
     "execution_count": 45,
     "metadata": {},
     "output_type": "execute_result"
    }
   ],
   "source": [
    "sups.durability_str.duplicated().sum()"
   ]
  },
  {
   "cell_type": "code",
   "execution_count": 46,
   "id": "6861725b",
   "metadata": {},
   "outputs": [],
   "source": [
    "sups['durability_str'] = 'durability' + sups['Durability'].astype(str)"
   ]
  },
  {
   "cell_type": "code",
   "execution_count": 47,
   "id": "24a73b86",
   "metadata": {},
   "outputs": [
    {
     "data": {
      "text/plain": [
       "array(['durability35', 'durability75', 'durability15', 'durability5',\n",
       "       'durability60', 'durability25', 'durability100', 'durability10',\n",
       "       'durability20', 'durability70', 'durability9', 'durability85',\n",
       "       'durability30', 'durability50', 'durability95', 'durability80',\n",
       "       'durability8', 'durability55', 'durability90', 'durability40',\n",
       "       'durability45', 'durability13', 'durability65', 'durability7',\n",
       "       'durability12', 'durability6', 'durability16', 'durability19',\n",
       "       'durability1', 'durability18', 'durability17', 'durability14',\n",
       "       'durability11', 'durability0'], dtype=object)"
      ]
     },
     "execution_count": 47,
     "metadata": {},
     "output_type": "execute_result"
    }
   ],
   "source": [
    "sups.durability_str.unique()"
   ]
  },
  {
   "cell_type": "markdown",
   "id": "f6016d92",
   "metadata": {},
   "source": [
    "#### Gender column"
   ]
  },
  {
   "cell_type": "code",
   "execution_count": 48,
   "id": "e7775964",
   "metadata": {},
   "outputs": [
    {
     "data": {
      "text/plain": [
       "dtype('O')"
      ]
     },
     "execution_count": 48,
     "metadata": {},
     "output_type": "execute_result"
    }
   ],
   "source": [
    "sups.Gender.dtype"
   ]
  },
  {
   "cell_type": "code",
   "execution_count": 49,
   "id": "a90a9d00",
   "metadata": {},
   "outputs": [
    {
     "data": {
      "text/plain": [
       "0"
      ]
     },
     "execution_count": 49,
     "metadata": {},
     "output_type": "execute_result"
    }
   ],
   "source": [
    "sups.Gender.isna().sum()"
   ]
  },
  {
   "cell_type": "code",
   "execution_count": 50,
   "id": "9a375d18",
   "metadata": {},
   "outputs": [
    {
     "data": {
      "text/plain": [
       "array(['Male', 'Female', '-', 'Other', 'None'], dtype=object)"
      ]
     },
     "execution_count": 50,
     "metadata": {},
     "output_type": "execute_result"
    }
   ],
   "source": [
    "sups.Gender.unique()"
   ]
  },
  {
   "cell_type": "code",
   "execution_count": 51,
   "id": "b8847ae7",
   "metadata": {},
   "outputs": [],
   "source": [
    "sups['Gender'] = sups['Gender'].replace('-','Unknown')"
   ]
  },
  {
   "cell_type": "code",
   "execution_count": 52,
   "id": "734fe620",
   "metadata": {},
   "outputs": [
    {
     "data": {
      "text/plain": [
       "array(['Male', 'Female', 'Unknown', 'Other', 'None'], dtype=object)"
      ]
     },
     "execution_count": 52,
     "metadata": {},
     "output_type": "execute_result"
    }
   ],
   "source": [
    "sups.Gender.unique()"
   ]
  },
  {
   "cell_type": "markdown",
   "id": "d78eeed0",
   "metadata": {},
   "source": [
    "#### Height Column"
   ]
  },
  {
   "cell_type": "code",
   "execution_count": 53,
   "id": "0a41796e",
   "metadata": {},
   "outputs": [
    {
     "data": {
      "text/plain": [
       "0"
      ]
     },
     "execution_count": 53,
     "metadata": {},
     "output_type": "execute_result"
    }
   ],
   "source": [
    "sups['Height'].isna().sum()"
   ]
  },
  {
   "cell_type": "code",
   "execution_count": 54,
   "id": "406710e4",
   "metadata": {},
   "outputs": [],
   "source": [
    "def convert_to_meters(value):\n",
    "    # Split the input using '•' as the delimiter\n",
    "    parts = value.split('•')\n",
    "\n",
    "    if len(parts) == 2:\n",
    "        left_part = parts[0].strip()\n",
    "        value, unit = left_part.split()\n",
    "\n",
    "        # Convert value to float for calculation\n",
    "        value = float(value)\n",
    "\n",
    "        # Convert unit to meters\n",
    "        if unit == 'mm':\n",
    "            value /= 1000\n",
    "        elif unit == 'cm':\n",
    "            value /= 100\n",
    "        elif unit == 'm':\n",
    "            # Already in meters\n",
    "            pass\n",
    "        elif unit == 'km':\n",
    "            value *= 1000\n",
    "        else:\n",
    "            raise ValueError(f\"Unsupported unit: {unit}\")\n",
    "\n",
    "        return int(value)\n",
    "    else:\n",
    "        return 0"
   ]
  },
  {
   "cell_type": "code",
   "execution_count": 55,
   "id": "92b3a983",
   "metadata": {},
   "outputs": [],
   "source": [
    "sups['height_str'] = sups['Height'].apply(convert_to_meters)"
   ]
  },
  {
   "cell_type": "code",
   "execution_count": null,
   "id": "edc7d338",
   "metadata": {},
   "outputs": [],
   "source": []
  },
  {
   "cell_type": "code",
   "execution_count": 56,
   "id": "69d089f2",
   "metadata": {},
   "outputs": [
    {
     "data": {
      "text/plain": [
       "array([        1,         2,         0,        18,        69,         3,\n",
       "              40,        15,        45,        73,        60,        30,\n",
       "              57,        87,       150,        49,       120,         4,\n",
       "               8,        72,         9,         6,        22,        54,\n",
       "              50,        12,       100,       300,        79,        81,\n",
       "              61,         5,        65,     10000,       609,        80,\n",
       "              25,       420,         7,        99, 324517000,       103,\n",
       "              89,        91,        23,        77,        47,       133,\n",
       "              31,    160020,        74,        48,        28,       130,\n",
       "              96,       182,        55,        75,        62,        11,\n",
       "              56,        43,       109,        20,        85,        58,\n",
       "         3474800,        76,        10,        34,        14,        35,\n",
       "              46,        88,        52,       140,     20000,        37,\n",
       "             500,       128,        16,        98,        36,       176,\n",
       "              63,        24,        17,        38,       106,        21,\n",
       "             134,        13,        19,       181,        39,        70,\n",
       "             400,        32,      4000,      1000,       158,       167,\n",
       "             118,        42,        53,        92], dtype=int64)"
      ]
     },
     "execution_count": 56,
     "metadata": {},
     "output_type": "execute_result"
    }
   ],
   "source": [
    "sups['height_str'].unique()"
   ]
  },
  {
   "cell_type": "code",
   "execution_count": 58,
   "id": "12baa7d5",
   "metadata": {},
   "outputs": [],
   "source": [
    "sups['height_str'] = sups['height_str'].replace(0,int(sups['height_str'].mean()))"
   ]
  },
  {
   "cell_type": "code",
   "execution_count": 59,
   "id": "05f4650c",
   "metadata": {},
   "outputs": [
    {
     "data": {
      "text/plain": [
       "array([        1,         2,     42808,        18,        69,         3,\n",
       "              40,        15,        45,        73,        60,        30,\n",
       "              57,        87,       150,        49,       120,         4,\n",
       "               8,        72,         9,         6,        22,        54,\n",
       "              50,        12,       100,       300,        79,        81,\n",
       "              61,         5,        65,     10000,       609,        80,\n",
       "              25,       420,         7,        99, 324517000,       103,\n",
       "              89,        91,        23,        77,        47,       133,\n",
       "              31,    160020,        74,        48,        28,       130,\n",
       "              96,       182,        55,        75,        62,        11,\n",
       "              56,        43,       109,        20,        85,        58,\n",
       "         3474800,        76,        10,        34,        14,        35,\n",
       "              46,        88,        52,       140,     20000,        37,\n",
       "             500,       128,        16,        98,        36,       176,\n",
       "              63,        24,        17,        38,       106,        21,\n",
       "             134,        13,        19,       181,        39,        70,\n",
       "             400,        32,      4000,      1000,       158,       167,\n",
       "             118,        42,        53,        92], dtype=int64)"
      ]
     },
     "execution_count": 59,
     "metadata": {},
     "output_type": "execute_result"
    }
   ],
   "source": [
    "sups['height_str'].unique()"
   ]
  },
  {
   "cell_type": "code",
   "execution_count": 60,
   "id": "b0e8f228",
   "metadata": {},
   "outputs": [
    {
     "data": {
      "text/plain": [
       "1"
      ]
     },
     "execution_count": 60,
     "metadata": {},
     "output_type": "execute_result"
    }
   ],
   "source": [
    "sups.height_str.min()"
   ]
  },
  {
   "cell_type": "code",
   "execution_count": 61,
   "id": "43d0023c",
   "metadata": {},
   "outputs": [
    {
     "data": {
      "text/plain": [
       "324517000"
      ]
     },
     "execution_count": 61,
     "metadata": {},
     "output_type": "execute_result"
    }
   ],
   "source": [
    "sups.height_str.max()"
   ]
  },
  {
   "cell_type": "code",
   "execution_count": 62,
   "id": "c44749ba",
   "metadata": {},
   "outputs": [],
   "source": [
    "def height_process(val):\n",
    "    if  1<= val <= 5:\n",
    "        return 'height0-5'\n",
    "    elif 6<= val <=10:\n",
    "        return 'height6-10'\n",
    "    elif 11<=val<=100:\n",
    "        return 'height11-100'\n",
    "    elif 101<=val<=500:\n",
    "        return 'height101-500'\n",
    "    elif 501<=val<=1000:\n",
    "        return 'height501-1000'\n",
    "    elif 1001 <= val <= 10000:\n",
    "        return 'height1001-10000'\n",
    "    else:\n",
    "        return 'heighthuge'"
   ]
  },
  {
   "cell_type": "code",
   "execution_count": 63,
   "id": "6eafe400",
   "metadata": {},
   "outputs": [],
   "source": [
    "sups['height_str'] = sups['height_str'].apply(height_process)"
   ]
  },
  {
   "cell_type": "code",
   "execution_count": 65,
   "id": "35a74422",
   "metadata": {},
   "outputs": [
    {
     "data": {
      "text/plain": [
       "array(['height0-5', 'heighthuge', 'height11-100', 'height101-500',\n",
       "       'height6-10', 'height1001-10000', 'height501-1000'], dtype=object)"
      ]
     },
     "execution_count": 65,
     "metadata": {},
     "output_type": "execute_result"
    }
   ],
   "source": [
    "sups.height_str.unique()"
   ]
  },
  {
   "cell_type": "markdown",
   "id": "c26da72a",
   "metadata": {},
   "source": [
    "#### IQ column"
   ]
  },
  {
   "cell_type": "code",
   "execution_count": 66,
   "id": "bd382bbf",
   "metadata": {},
   "outputs": [],
   "source": [
    "def iq_process(val):\n",
    "    if val <= 0:\n",
    "        return 'iq0'\n",
    "    for i in range(0, 41):\n",
    "        if i * 5 + 1 <= val <= (i + 1) * 5:\n",
    "            return f'iq{i * 5 + 1}to{(i + 1) * 5}'\n",
    "    return 'iqoutofrange'"
   ]
  },
  {
   "cell_type": "code",
   "execution_count": 67,
   "id": "6a8603a6",
   "metadata": {},
   "outputs": [
    {
     "data": {
      "text/plain": [
       "dtype('O')"
      ]
     },
     "execution_count": 67,
     "metadata": {},
     "output_type": "execute_result"
    }
   ],
   "source": [
    "sups['IQ'].dtype"
   ]
  },
  {
   "cell_type": "code",
   "execution_count": 70,
   "id": "99f172bd",
   "metadata": {},
   "outputs": [],
   "source": [
    "sups['IQ'] = sups.IQ.astype(int)"
   ]
  },
  {
   "cell_type": "code",
   "execution_count": 71,
   "id": "a893dd35",
   "metadata": {},
   "outputs": [
    {
     "data": {
      "text/plain": [
       "0"
      ]
     },
     "execution_count": 71,
     "metadata": {},
     "output_type": "execute_result"
    }
   ],
   "source": [
    "sups.IQ.isna().sum()"
   ]
  },
  {
   "cell_type": "code",
   "execution_count": 72,
   "id": "836d68b5",
   "metadata": {},
   "outputs": [
    {
     "data": {
      "text/plain": [
       "0"
      ]
     },
     "execution_count": 72,
     "metadata": {},
     "output_type": "execute_result"
    }
   ],
   "source": [
    "sups.IQ.min()"
   ]
  },
  {
   "cell_type": "code",
   "execution_count": 73,
   "id": "455f11db",
   "metadata": {},
   "outputs": [
    {
     "data": {
      "text/plain": [
       "200"
      ]
     },
     "execution_count": 73,
     "metadata": {},
     "output_type": "execute_result"
    }
   ],
   "source": [
    "sups.IQ.max()"
   ]
  },
  {
   "cell_type": "code",
   "execution_count": 74,
   "id": "38c7d793",
   "metadata": {},
   "outputs": [],
   "source": [
    "sups.IQ_str = sups.IQ.apply(iq_process)"
   ]
  },
  {
   "cell_type": "code",
   "execution_count": 75,
   "id": "846b3fac",
   "metadata": {},
   "outputs": [
    {
     "data": {
      "text/plain": [
       "array(['iq136to140', 'iq151to155', 'iq106to110', 'iq96to100',\n",
       "       'iq126to130', 'iq146to150', 'iq156to160', 'iq176to180',\n",
       "       'iq116to120', 'iq196to200', 'iq166to170', 'iq36to40', 'iq111to115',\n",
       "       'iq131to135', 'iq86to90', 'iq181to185', 'iq186to190', 'iq141to145',\n",
       "       'iq46to50', 'iq6to10', 'iq76to80', 'iq66to70', 'iq161to165',\n",
       "       'iq171to175', 'iq91to95', 'iq41to45', 'iq101to105', 'iq56to60',\n",
       "       'iq51to55', 'iq121to125', 'iq81to85', 'iq71to75', 'iq191to195',\n",
       "       'iq61to65', 'iq16to20', 'iq21to25', 'iq26to30', 'iq31to35', 'iq0',\n",
       "       'iq11to15', 'iq1to5'], dtype=object)"
      ]
     },
     "execution_count": 75,
     "metadata": {},
     "output_type": "execute_result"
    }
   ],
   "source": [
    "sups.IQ_str.unique()"
   ]
  },
  {
   "cell_type": "markdown",
   "id": "4255d4df",
   "metadata": {},
   "source": [
    "#### Intelligence column"
   ]
  },
  {
   "cell_type": "code",
   "execution_count": 76,
   "id": "80206a74",
   "metadata": {},
   "outputs": [],
   "source": [
    "def process_intelligence(val):\n",
    "    if val == 0:\n",
    "        return 'intelligence0'\n",
    "    for i in range(0, 21): \n",
    "        if i * 5 + 1 <= val <= (i + 1) * 5:\n",
    "            return f'intelligence{i * 5 + 1}to{(i + 1) * 5}'\n",
    "    return 'intelligenceoutofrange'"
   ]
  },
  {
   "cell_type": "code",
   "execution_count": 77,
   "id": "e7a5687a",
   "metadata": {},
   "outputs": [
    {
     "data": {
      "text/plain": [
       "dtype('O')"
      ]
     },
     "execution_count": 77,
     "metadata": {},
     "output_type": "execute_result"
    }
   ],
   "source": [
    "sups.Intelligence.dtype"
   ]
  },
  {
   "cell_type": "code",
   "execution_count": 78,
   "id": "b96dca75",
   "metadata": {},
   "outputs": [],
   "source": [
    "sups.Intelligence = sups.Intelligence.astype(int)"
   ]
  },
  {
   "cell_type": "code",
   "execution_count": 79,
   "id": "6725e39c",
   "metadata": {},
   "outputs": [],
   "source": [
    "sups['intelligence_str'] = sups['Intelligence'].apply(process_intelligence)"
   ]
  },
  {
   "cell_type": "code",
   "execution_count": 80,
   "id": "bffe9486",
   "metadata": {},
   "outputs": [
    {
     "data": {
      "text/plain": [
       "0"
      ]
     },
     "execution_count": 80,
     "metadata": {},
     "output_type": "execute_result"
    }
   ],
   "source": [
    "sups['intelligence_str'].isna().sum()"
   ]
  },
  {
   "cell_type": "code",
   "execution_count": 81,
   "id": "66f0cc89",
   "metadata": {},
   "outputs": [
    {
     "data": {
      "text/plain": [
       "array(['intelligence66to70', 'intelligence76to80', 'intelligence51to55',\n",
       "       'intelligence46to50', 'intelligence61to65', 'intelligence71to75',\n",
       "       'intelligence86to90', 'intelligence56to60', 'intelligence96to100',\n",
       "       'intelligence81to85', 'intelligence16to20', 'intelligence41to45',\n",
       "       'intelligence91to95', 'intelligence21to25', 'intelligence1to5',\n",
       "       'intelligence36to40', 'intelligence31to35', 'intelligence26to30',\n",
       "       'intelligence6to10', 'intelligence11to15', 'intelligence0'],\n",
       "      dtype=object)"
      ]
     },
     "execution_count": 81,
     "metadata": {},
     "output_type": "execute_result"
    }
   ],
   "source": [
    "sups.intelligence_str.unique()"
   ]
  },
  {
   "cell_type": "markdown",
   "id": "a13a2bcb",
   "metadata": {},
   "source": [
    "#### Level column"
   ]
  },
  {
   "cell_type": "code",
   "execution_count": 82,
   "id": "a35eab19",
   "metadata": {},
   "outputs": [],
   "source": [
    "def process_level(val): \n",
    "    return f'level{val}'"
   ]
  },
  {
   "cell_type": "code",
   "execution_count": 83,
   "id": "0c44c083",
   "metadata": {},
   "outputs": [
    {
     "data": {
      "text/plain": [
       "dtype('O')"
      ]
     },
     "execution_count": 83,
     "metadata": {},
     "output_type": "execute_result"
    }
   ],
   "source": [
    "sups.Level.dtype"
   ]
  },
  {
   "cell_type": "code",
   "execution_count": 84,
   "id": "2117a6f8",
   "metadata": {},
   "outputs": [
    {
     "data": {
      "text/plain": [
       "array([3, 5, 1, 2, 6, 4, '3', '2', '6', '4', '5', '1'], dtype=object)"
      ]
     },
     "execution_count": 84,
     "metadata": {},
     "output_type": "execute_result"
    }
   ],
   "source": [
    "sups.Level.unique()"
   ]
  },
  {
   "cell_type": "code",
   "execution_count": 85,
   "id": "6d749707",
   "metadata": {},
   "outputs": [],
   "source": [
    "sups.Level = sups.Level.astype(int)"
   ]
  },
  {
   "cell_type": "code",
   "execution_count": 86,
   "id": "e95c83bd",
   "metadata": {},
   "outputs": [
    {
     "data": {
      "text/plain": [
       "0"
      ]
     },
     "execution_count": 86,
     "metadata": {},
     "output_type": "execute_result"
    }
   ],
   "source": [
    "sups.Level.isna().sum()"
   ]
  },
  {
   "cell_type": "code",
   "execution_count": 87,
   "id": "4d83d6e0",
   "metadata": {},
   "outputs": [],
   "source": [
    "sups['level_str'] = sups.Level.apply(process_level)"
   ]
  },
  {
   "cell_type": "code",
   "execution_count": 88,
   "id": "084ec9ab",
   "metadata": {},
   "outputs": [
    {
     "data": {
      "text/plain": [
       "array(['level3', 'level5', 'level1', 'level2', 'level6', 'level4'],\n",
       "      dtype=object)"
      ]
     },
     "execution_count": 88,
     "metadata": {},
     "output_type": "execute_result"
    }
   ],
   "source": [
    "sups.level_str.unique()"
   ]
  },
  {
   "cell_type": "markdown",
   "id": "fe98a879",
   "metadata": {},
   "source": [
    "#### Place_of_birth column"
   ]
  },
  {
   "cell_type": "code",
   "execution_count": 89,
   "id": "45f086a5",
   "metadata": {},
   "outputs": [
    {
     "data": {
      "text/plain": [
       "1217"
      ]
     },
     "execution_count": 89,
     "metadata": {},
     "output_type": "execute_result"
    }
   ],
   "source": [
    "len(sups.Place_of_birth.unique())"
   ]
  },
  {
   "cell_type": "code",
   "execution_count": 90,
   "id": "e1a938af",
   "metadata": {},
   "outputs": [
    {
     "data": {
      "text/plain": [
       "9"
      ]
     },
     "execution_count": 90,
     "metadata": {},
     "output_type": "execute_result"
    }
   ],
   "source": [
    "sups.Place_of_birth.isna().sum()"
   ]
  },
  {
   "cell_type": "code",
   "execution_count": 91,
   "id": "90da85b1",
   "metadata": {},
   "outputs": [
    {
     "data": {
      "text/plain": [
       "0    None\n",
       "Name: Place_of_birth, dtype: object"
      ]
     },
     "execution_count": 91,
     "metadata": {},
     "output_type": "execute_result"
    }
   ],
   "source": [
    "sups.Place_of_birth.mode()"
   ]
  },
  {
   "cell_type": "code",
   "execution_count": 92,
   "id": "6cac105b",
   "metadata": {},
   "outputs": [],
   "source": [
    "sups.Place_of_birth = sups.Place_of_birth.fillna('Unknown')"
   ]
  },
  {
   "cell_type": "code",
   "execution_count": 93,
   "id": "39a4ef4e",
   "metadata": {},
   "outputs": [],
   "source": [
    "sups.Place_of_birth = sups.Place_of_birth.replace('None','Unknown')"
   ]
  },
  {
   "cell_type": "code",
   "execution_count": 94,
   "id": "06689975",
   "metadata": {},
   "outputs": [
    {
     "data": {
      "text/plain": [
       "0"
      ]
     },
     "execution_count": 94,
     "metadata": {},
     "output_type": "execute_result"
    }
   ],
   "source": [
    "sups.Place_of_birth.isna().sum()"
   ]
  },
  {
   "cell_type": "markdown",
   "id": "63523109",
   "metadata": {},
   "source": [
    "#### Power column"
   ]
  },
  {
   "cell_type": "code",
   "execution_count": null,
   "id": "eb2452a4",
   "metadata": {},
   "outputs": [],
   "source": []
  },
  {
   "cell_type": "code",
   "execution_count": 95,
   "id": "0001fd70",
   "metadata": {},
   "outputs": [
    {
     "data": {
      "text/plain": [
       "dtype('O')"
      ]
     },
     "execution_count": 95,
     "metadata": {},
     "output_type": "execute_result"
    }
   ],
   "source": [
    "sups.Power.dtype"
   ]
  },
  {
   "cell_type": "code",
   "execution_count": 96,
   "id": "41a661cd",
   "metadata": {},
   "outputs": [
    {
     "data": {
      "text/plain": [
       "0"
      ]
     },
     "execution_count": 96,
     "metadata": {},
     "output_type": "execute_result"
    }
   ],
   "source": [
    "sups.Power.isna().sum()"
   ]
  },
  {
   "cell_type": "code",
   "execution_count": 97,
   "id": "f4b25906",
   "metadata": {},
   "outputs": [],
   "source": [
    "sups.Power = sups.Power.astype(int)"
   ]
  },
  {
   "cell_type": "code",
   "execution_count": 98,
   "id": "44c64977",
   "metadata": {},
   "outputs": [
    {
     "data": {
      "text/plain": [
       "0"
      ]
     },
     "execution_count": 98,
     "metadata": {},
     "output_type": "execute_result"
    }
   ],
   "source": [
    "sups.Power.min()"
   ]
  },
  {
   "cell_type": "code",
   "execution_count": 99,
   "id": "9f2386cc",
   "metadata": {},
   "outputs": [
    {
     "data": {
      "text/plain": [
       "100"
      ]
     },
     "execution_count": 99,
     "metadata": {},
     "output_type": "execute_result"
    }
   ],
   "source": [
    "sups.Power.max()"
   ]
  },
  {
   "cell_type": "code",
   "execution_count": 100,
   "id": "3e831ef2",
   "metadata": {},
   "outputs": [],
   "source": [
    "def process_power(val):\n",
    "    if val <= 0:\n",
    "        return 'power0'\n",
    "    for i in range(0, 21): \n",
    "        if i * 5 + 1 <= val <= (i + 1) * 5:\n",
    "            return f'power{i * 5 + 1}to{(i + 1) * 5}'\n",
    "    return 'poweroutofrange'"
   ]
  },
  {
   "cell_type": "code",
   "execution_count": 101,
   "id": "338a45ed",
   "metadata": {},
   "outputs": [],
   "source": [
    "sups['power_str'] = sups.Power.apply(process_power)"
   ]
  },
  {
   "cell_type": "code",
   "execution_count": 102,
   "id": "e5c20040",
   "metadata": {},
   "outputs": [
    {
     "data": {
      "text/plain": [
       "array(['power56to60', 'power96to100', 'power31to35', 'power66to70',\n",
       "       'power46to50', 'power11to15', 'power51to55', 'power81to85',\n",
       "       'power1to5', 'power36to40', 'power26to30', 'power86to90',\n",
       "       'power91to95', 'power41to45', 'power21to25', 'power6to10',\n",
       "       'power76to80', 'power61to65', 'power71to75', 'power16to20',\n",
       "       'power0'], dtype=object)"
      ]
     },
     "execution_count": 102,
     "metadata": {},
     "output_type": "execute_result"
    }
   ],
   "source": [
    "sups.power_str.unique()"
   ]
  },
  {
   "cell_type": "markdown",
   "id": "181378ed",
   "metadata": {},
   "source": [
    "#### Species column"
   ]
  },
  {
   "cell_type": "code",
   "execution_count": 103,
   "id": "c8ce62b8",
   "metadata": {},
   "outputs": [
    {
     "data": {
      "text/plain": [
       "0"
      ]
     },
     "execution_count": 103,
     "metadata": {},
     "output_type": "execute_result"
    }
   ],
   "source": [
    "sups.Species.isna().sum()"
   ]
  },
  {
   "cell_type": "code",
   "execution_count": 104,
   "id": "1b3db677",
   "metadata": {},
   "outputs": [
    {
     "data": {
      "text/plain": [
       "array(['Human', 'None', 'Metahuman', 'Alien', 'Android', 'Dragon',\n",
       "       'Deity', 'Bizarro', 'Robot', 'Kaiju', 'God / Eternal', 'Elf',\n",
       "       'Demi-God', 'Amazon', 'Cosmic Entity', 'Vampire', 'Mutant',\n",
       "       'Spirit', 'Pok�mon', 'Demon', 'Animal', 'Czarnian', 'Cyborg',\n",
       "       'Asgardian', 'Symbiote', 'Elder', 'Saiyan', 'Atlantean',\n",
       "       'Olympian', 'Inhuman', 'Xenomorph XX121', 'Imp', 'Celestials',\n",
       "       'Eternal', 'Wookiee', 'Kree', 'Human-Kree', 'Korbinite',\n",
       "       'Dathomirian Zabrak', 'New God', 'Kryptonian', 'Human-Inhuman',\n",
       "       'Strontian', 'Maiar', 'Zen-Whoberian', 'Golem', 'Bolovaxian',\n",
       "       'Altered', 'Daxamite', 'Energy', 'Titanian', 'Alpha', 'Spartoi',\n",
       "       'Zombie', 'Titan', 'Cosmic', 'Lego', 'Flora Colossus', 'Yautja',\n",
       "       'Arachnid', 'Clone', 'Skrull', 'Ent', 'Human-Spartoi',\n",
       "       'Frost Giant', 'Icthyo Sapien', 'Martian', 'Werewolf',\n",
       "       'Kakarantharaian', 'Hobbit', 'Korugaran', 'Planet', 'Centaurian',\n",
       "       'Luphomoid', 'Talokite', 'Radiation', 'Vulcan', 'Pokémon', 'Angel',\n",
       "       'Tamaranean', 'Kaliklakian', \"Yoda's species\", 'Smurf', 'Witch',\n",
       "       'Neyaphem', 'Parademon', 'Leprechaun', 'Human-Vulcan'],\n",
       "      dtype=object)"
      ]
     },
     "execution_count": 104,
     "metadata": {},
     "output_type": "execute_result"
    }
   ],
   "source": [
    "sups.Species.unique()"
   ]
  },
  {
   "cell_type": "markdown",
   "id": "28a690ec",
   "metadata": {},
   "source": [
    "#### Speed column"
   ]
  },
  {
   "cell_type": "code",
   "execution_count": 105,
   "id": "5229fd4c",
   "metadata": {},
   "outputs": [
    {
     "data": {
      "text/plain": [
       "0"
      ]
     },
     "execution_count": 105,
     "metadata": {},
     "output_type": "execute_result"
    }
   ],
   "source": [
    "sups.Speed.isna().sum()"
   ]
  },
  {
   "cell_type": "code",
   "execution_count": 106,
   "id": "3dd19d9b",
   "metadata": {},
   "outputs": [
    {
     "data": {
      "text/plain": [
       "array([30, 50, 10, 1, 80, 6, 100, 25, 11, 20, 75, 13, 7, 8, 55, 85, 17,\n",
       "       15, 45, 35, 14, 95, 9, 5, 90, 65, 40, 12, 70, 60, 19, 18, 16, '25',\n",
       "       '100', '30', '45', '85', '6', '75', '50', '7', '90', '40', '11',\n",
       "       '14', '80', '5', '8', '10', '17', '20', '1', '35', '19', '95',\n",
       "       '55', '15', '65', '70', '60', '0', '9', '18', '12', '13', '16'],\n",
       "      dtype=object)"
      ]
     },
     "execution_count": 106,
     "metadata": {},
     "output_type": "execute_result"
    }
   ],
   "source": [
    "sups.Speed.unique()"
   ]
  },
  {
   "cell_type": "code",
   "execution_count": 107,
   "id": "c79157dd",
   "metadata": {},
   "outputs": [],
   "source": [
    "sups.Speed = sups.Speed.astype(int)"
   ]
  },
  {
   "cell_type": "code",
   "execution_count": 108,
   "id": "693c9d17",
   "metadata": {},
   "outputs": [
    {
     "data": {
      "text/plain": [
       "array([ 30,  50,  10,   1,  80,   6, 100,  25,  11,  20,  75,  13,   7,\n",
       "         8,  55,  85,  17,  15,  45,  35,  14,  95,   9,   5,  90,  65,\n",
       "        40,  12,  70,  60,  19,  18,  16,   0])"
      ]
     },
     "execution_count": 108,
     "metadata": {},
     "output_type": "execute_result"
    }
   ],
   "source": [
    "sups.Speed.unique()"
   ]
  },
  {
   "cell_type": "code",
   "execution_count": 109,
   "id": "0d92454e",
   "metadata": {},
   "outputs": [
    {
     "data": {
      "text/plain": [
       "0"
      ]
     },
     "execution_count": 109,
     "metadata": {},
     "output_type": "execute_result"
    }
   ],
   "source": [
    "sups.Speed.min()"
   ]
  },
  {
   "cell_type": "code",
   "execution_count": 110,
   "id": "5ed9205f",
   "metadata": {},
   "outputs": [
    {
     "data": {
      "text/plain": [
       "100"
      ]
     },
     "execution_count": 110,
     "metadata": {},
     "output_type": "execute_result"
    }
   ],
   "source": [
    "sups.Speed.max()"
   ]
  },
  {
   "cell_type": "code",
   "execution_count": 111,
   "id": "e373633f",
   "metadata": {},
   "outputs": [],
   "source": [
    "def process_speed(val):\n",
    "    if val <= 0:\n",
    "        return 'speed0'\n",
    "    for i in range(0, 21): \n",
    "        if i * 5 + 1 <= val <= (i + 1) * 5:\n",
    "            return f'speed{i * 5 + 1}to{(i + 1) * 5}'\n",
    "    return 'speedoutofrange'"
   ]
  },
  {
   "cell_type": "code",
   "execution_count": 112,
   "id": "5791afb3",
   "metadata": {},
   "outputs": [],
   "source": [
    "sups['speed_str'] = sups.Speed.apply(process_speed)"
   ]
  },
  {
   "cell_type": "code",
   "execution_count": 113,
   "id": "86abd359",
   "metadata": {},
   "outputs": [
    {
     "data": {
      "text/plain": [
       "array(['speed26to30', 'speed46to50', 'speed6to10', 'speed1to5',\n",
       "       'speed76to80', 'speed96to100', 'speed21to25', 'speed11to15',\n",
       "       'speed16to20', 'speed71to75', 'speed51to55', 'speed81to85',\n",
       "       'speed41to45', 'speed31to35', 'speed91to95', 'speed86to90',\n",
       "       'speed61to65', 'speed36to40', 'speed66to70', 'speed56to60',\n",
       "       'speed0'], dtype=object)"
      ]
     },
     "execution_count": 113,
     "metadata": {},
     "output_type": "execute_result"
    }
   ],
   "source": [
    "sups.speed_str.unique()"
   ]
  },
  {
   "cell_type": "markdown",
   "id": "6eb04d15",
   "metadata": {},
   "source": [
    "#### Speed_velocity column"
   ]
  },
  {
   "cell_type": "code",
   "execution_count": 114,
   "id": "de39c3b5",
   "metadata": {},
   "outputs": [
    {
     "data": {
      "text/plain": [
       "0"
      ]
     },
     "execution_count": 114,
     "metadata": {},
     "output_type": "execute_result"
    }
   ],
   "source": [
    "sups.Speed_velocity.isna().sum()"
   ]
  },
  {
   "cell_type": "code",
   "execution_count": 115,
   "id": "5f767681",
   "metadata": {},
   "outputs": [
    {
     "data": {
      "text/plain": [
       "array([2000, 2997925, 18, 2, 290000000, 10, 1000000000, 500, 265000000,\n",
       "       300000000, 343, 7, 20, 50, 40, 321000232, 999990000, 117500000, 57,\n",
       "       23, 313, 12, 10000, 15, 750, 15000000, 2500, 8, 858, 500000000,\n",
       "       100, 14, 5, 1029, 30, 35869, 27, 100000000, 8575, 80, 1372, 3400,\n",
       "       1715, 12000, 25, 100000, 999999999, 150, 200, 21212111, 3000000,\n",
       "       895, 830000000, 16, 350, 70, 9, 12121, 18008200, 36, 60, 20000,\n",
       "       6985296, 1000, 5000, 43, 11662, 640000000, 262000000, 17142, 244,\n",
       "       4200, 6, 171, 800000000, 700000000, 13, 1000000, 300, 62000000,\n",
       "       400000000, 60000000, 22007700, 10000003, 550, 400000, 1989, 171500,\n",
       "       12401, 300000, 240, 370, 90, 1500, 800000, 1837, 6000, 22, 200000,\n",
       "       78535872, 150000000, 400, 22007750, 330, 2009700, 10000000,\n",
       "       30000000, 45, 80000000, 230, 299792458, 17, 3900, 11, 210, 15435,\n",
       "       900, 340, 12312, 20000000, 40000000, 120, 20000015, 515, 98000200,\n",
       "       280, 3, 655000000, 3000, 9900, 55, 450000000, 170000000, 250000,\n",
       "       514500, 1, 250, 35, 200000000, 874030, 472588, 7555555, 88888,\n",
       "       343000, 160000, 2100, 4000, 470000000, 224, 123345420, 33, 472586,\n",
       "       2235, 62, 179, 3430, 8000, 650000000, 350000000, 2000000, 50000000,\n",
       "       140, 9000000, 556823639, 686, 99450000, 26, 1028, 480, 220,\n",
       "       900000000, 120000, 5145, 90000, 600000000, 235, 363288547,\n",
       "       580369085, 463528883, 905852889, 400695147, 309285800, 477777777,\n",
       "       863258740, 65802365, 99995285, 665236960, 7692887, 29, 75, 42,\n",
       "       475866, 1250, 3087, 58004200, 20116, 297000000, 50000, 2744, 25000,\n",
       "       55000, 123580000, 17150, 111111111, 630000000, 1900, 33000, 40000,\n",
       "       4500, 83, 6215, 170, 820000000, 555888, 46, 3500, 12005, 358858000,\n",
       "       7642, 102, 45000, 308, 117999999, 646, 1700, 2009799, 82700, 110,\n",
       "       28, 4225, 4, 270000000, 30000, 309, 29978392, 263000000, 2200,\n",
       "       6393, 90000000, 325, 442000000, 900000, 24, 100212121, 37, 700,\n",
       "       78500000, 5800, 442556996, 511312313, 1111, 777777777, 89586,\n",
       "       68030, 661, 857, 478528, 2760, 100200, 360, 7823, 363, 286, 5500,\n",
       "       6860, 158, 1100, 375, 89, 1550, 180, 849500000, 67777, 5820, 95,\n",
       "       56, 280000000, 320, 3830, 800, 399000000, 9000, 86, 965, 1212121,\n",
       "       64, 34, 255, 14989621, 197, 2121, 600, 1341082, 5555, 192, 475823,\n",
       "       54, 2121212, 763258741, 760000, 475000000, 111, 1715000, 105, 19,\n",
       "       52, 85000000, 5000000, 122, 14990000, 70000000, 660000000, 125000,\n",
       "       1200, 39, 23000, 101, 260, 87500, 38500000, 5660, 240100000,\n",
       "       690000000, 4116, 59000000, 84, 9850, 275, 29000000, 82000000, 450,\n",
       "       514, 110352147, 375000006, 5011, 850000000, 254, 3773, 1450,\n",
       "       99000000, 1850, 44, 792458, 250000000, 34300, 11000, 3250, 6839,\n",
       "       42000000, 190, 11155, 81000000, 78002200, 2230, 117900000, 38,\n",
       "       2807425, 657500000, 60000, 1840, 80000, 6174, 442500000, 6934, 175,\n",
       "       289700000, 10075, 34050609, 4220, 13720, 2300, 2112, 6210, 98098,\n",
       "       9999999, 49, 19955, 299782000, 44000, 62650000, 8200, 500000005,\n",
       "       110000000, 273, 39000000, 3816029, 580000000, 5008, 134108180,\n",
       "       810000000, 4350, 2058, 8575000, 625000000, 502085693, 582479981,\n",
       "       2222, 78100000, 225, 2401, 799999999, 1201, 67, 333333335, 3800,\n",
       "       268, 101010111, 489, 935802, 657999999, 12122, 1544, 99999999, 377,\n",
       "       2984, 2997869, 3021744, 16986732, 18000, 4166701, 200002002,\n",
       "       300005, 32, 344, 18539800, 79000000, 55000000, 295000000, 83147,\n",
       "       1656, 622000000, 96040, 130, 116000000, 9157, 7000, 860, 1876,\n",
       "       68600, 125, 153, 41, 356888888, 2350, 62003799, 34000, 9785809,\n",
       "       8000000, 875969, 5496939, 98, 7340000, 139, 472506, 63960000, 79,\n",
       "       478520, 19999, 624999999, 530, 22000000, 460000000, 65, 65000,\n",
       "       83499, 760, 8941, 788800111, 4120, 160, 85, 135, 7500, 155, 80465,\n",
       "       37700, 77500000, 76, '260', '343', '1000000000', '50', '2500',\n",
       "       '8000', '400000000', '10', '1900', '149900000', '1029', '343000',\n",
       "       '1000', '12', '600000000', '7000', '100', '180', '20', '25',\n",
       "       '267325615', '1372', '300000000', '900', '2000', '100000000', '9',\n",
       "       '15', '140', '18', '72', '200', '340', '30', '1715', '5072509',\n",
       "       '60', '40', '80', '5', '657000000', '4519', '3430', '238', '14',\n",
       "       '230', '1', '36', '35', '8', '240', '86', '150', '6200', '300000',\n",
       "       '10000', '200000000', '37', '1500', '299792458', '5000', '2997925',\n",
       "       '1715000', '170', '250000000', '313', '5145', '300', '90000',\n",
       "       '800000000', '11', '250', '265000000', '290000000', '45', '59',\n",
       "       '450000000', '93040000', '300000001', '999999999', '34300',\n",
       "       '100000', '20000000', '297999999', '640000000', '2', '10000000',\n",
       "       '4000', '500', '2000000', '385000000', '6860', '3', '200000',\n",
       "       '725000000', '27', '13', '7', '220', '6174', '244', '60000000',\n",
       "       '80000000', '1840', '39', '70', '160000', '280000000', '344',\n",
       "       '82000000', '4', '99999999', '50000000', '90', '32800000',\n",
       "       '650000000', '3830', '500000050', '50000', '35000', '40000000',\n",
       "       '366667000', '40000', '440171500', '515', '3685', '1041', '42',\n",
       "       '3075', '5800', '599', '0', '33527', '1000000', '150000000', '6',\n",
       "       '250008226', '6010', '400000003', '455555553', '61211',\n",
       "       '500000003', '350', '5007', '126285556', '16', '400', '630000000',\n",
       "       '225', '21212', '213', '1111', '700000000', '550000', '416666683',\n",
       "       '266672', '576980', '20000', '33', '500000000', '380000000', '105',\n",
       "       '200000015', '65', '333333336', '7505', '104', '22', '880', '858',\n",
       "       '3000', '46949700', '125', '800000062', '346666967', '99', '50014',\n",
       "       '32', '333333333', '44444479', '2033', '97000', '6000',\n",
       "       '900000000', '22000000', '987', '15829235', '500000001', '212',\n",
       "       '6819488', '631819094', '120000', '24', '15000', '420000', '8200',\n",
       "       '17052', '255', '110000000', '310', '130', '350000000', '81000000',\n",
       "       '275', '500000008', '3337', '100000009', '471264800', '500002500',\n",
       "       '78900', '1450', '75', '222', '21312', '985214', '6900', '83',\n",
       "       '500000', '600', '75005000', '34', '393', '10250000', '1544',\n",
       "       '2200', '30000000', '850000000', '660000000', '12000', '120',\n",
       "       '70000000', '830000000', '550000000', '1028', '333345',\n",
       "       '500500250', '10644700', '686', '7889', '30000', '23', '38146',\n",
       "       '50000018', '85', '55', '4225', '464144198', '2550', '501', '62',\n",
       "       '450', '8575', '754335665', '850', '1201', '7645', '54948',\n",
       "       '880000000', '228000', '335000000', '156692357', '262000000',\n",
       "       '8232', '66600', '365', '666686790', '500000172', '111',\n",
       "       '15000000', '150000128', '700', '500025000', '883333333',\n",
       "       '100002334', '505000000', '19', '56', '342990', '330000000', '149',\n",
       "       '270000000', '1648963', '17150', '702507500', '447', '5805',\n",
       "       '588000000', '698269358', '3850', '93', '385848361', '29979245',\n",
       "       '101', '210', '608', '50350', '911151111', '17', '295000000',\n",
       "       '36963147', '88000000', '580000000', '470000000', '139698550',\n",
       "       '78', '750000250', '336700', '880000', '29', '31', '59888560',\n",
       "       '440', '58963666', '66667333', '500007500', '2230', '96',\n",
       "       '500000750', '340000', '1000050', '2235', '17777', '125000018',\n",
       "       '58966', '825000000', '428614303', '114412', '333666675',\n",
       "       '500000013', '122', '4676', '60000', '750020', '326', '857',\n",
       "       '6859', '14989621', '69866', '250019', '78491335', '1212', '588',\n",
       "       '211', '12010', '33974', '14990000', '34945', '46', '820000000',\n",
       "       '33333524', '3380000', '468944', '115', '52', '299999974', '503',\n",
       "       '461539854', '13720', '500000005', '50025000', '246', '150000032',\n",
       "       '280', '333341750', '190', '25800', '181', '325', '506',\n",
       "       '98963580', '200000208', '250000100', '369852', '134', '4841',\n",
       "       '1018', '24999', '414860382', '500015000', '518', '343000000',\n",
       "       '90000000', '67', '265', '98500000', '3400', '45013', '698555000',\n",
       "       '64682500', '150000004', '2401', '9261', '8918', '7546', '7718',\n",
       "       '3087', '800024691', '89', '21', '56898566'], dtype=object)"
      ]
     },
     "execution_count": 115,
     "metadata": {},
     "output_type": "execute_result"
    }
   ],
   "source": [
    "sups.Speed_velocity.unique()"
   ]
  },
  {
   "cell_type": "code",
   "execution_count": 116,
   "id": "c38f8e74",
   "metadata": {},
   "outputs": [],
   "source": [
    "sups.Speed_velocity = sups.Speed_velocity.astype(int)"
   ]
  },
  {
   "cell_type": "code",
   "execution_count": 117,
   "id": "7ef866a3",
   "metadata": {},
   "outputs": [
    {
     "data": {
      "text/plain": [
       "0"
      ]
     },
     "execution_count": 117,
     "metadata": {},
     "output_type": "execute_result"
    }
   ],
   "source": [
    "sups.Speed_velocity.min()"
   ]
  },
  {
   "cell_type": "code",
   "execution_count": 118,
   "id": "7793985f",
   "metadata": {},
   "outputs": [
    {
     "data": {
      "text/plain": [
       "1000000000"
      ]
     },
     "execution_count": 118,
     "metadata": {},
     "output_type": "execute_result"
    }
   ],
   "source": [
    "sups.Speed_velocity.max()"
   ]
  },
  {
   "cell_type": "code",
   "execution_count": 119,
   "id": "dd21f240",
   "metadata": {},
   "outputs": [],
   "source": [
    "def process_sv(value):\n",
    "    if value <= 0:\n",
    "        return 'sv0'\n",
    "    elif 1 <= value <= 1000:\n",
    "        return \"sv1-1000\"\n",
    "    elif 1001 <= value <= 5000:\n",
    "        return \"sv1001-5000\"\n",
    "    \n",
    "    elif 5001 <= value <= 10000:\n",
    "        return \"sv5001-10000\"\n",
    "    \n",
    "    elif 10001 <= value <= 100000:\n",
    "        return \"sv10001-100000\"\n",
    "    elif 100001 <= value <= 1000000:\n",
    "        return \"sv100001-1000000\"\n",
    "    elif 1000001 <= value <= 10000000:\n",
    "        return \"sv1000001-10000000\"\n",
    "    \n",
    "    elif 10000001 <= value <= 100000000:\n",
    "        return \"sv10000001-100000000\"\n",
    "    elif 100000001 <= value <= 1000000000:\n",
    "        return \"sv100000001-1000000000\"\n",
    "    else:\n",
    "        return \"svoutofrange\""
   ]
  },
  {
   "cell_type": "code",
   "execution_count": 120,
   "id": "b5adef6d",
   "metadata": {},
   "outputs": [],
   "source": [
    "sups['speed_velocity_str'] = sups.Speed_velocity.apply(process_sv)"
   ]
  },
  {
   "cell_type": "code",
   "execution_count": 121,
   "id": "6dc0b52f",
   "metadata": {},
   "outputs": [
    {
     "data": {
      "text/plain": [
       "array(['sv1001-5000', 'sv1000001-10000000', 'sv1-1000',\n",
       "       'sv100000001-1000000000', 'sv5001-10000', 'sv10000001-100000000',\n",
       "       'sv10001-100000', 'sv100001-1000000', 'sv0'], dtype=object)"
      ]
     },
     "execution_count": 121,
     "metadata": {},
     "output_type": "execute_result"
    }
   ],
   "source": [
    "sups.speed_velocity_str.unique()"
   ]
  },
  {
   "cell_type": "code",
   "execution_count": 122,
   "id": "a2d6386e",
   "metadata": {},
   "outputs": [
    {
     "data": {
      "text/plain": [
       "Index(['Alignment', 'Character', 'Combat', 'Creator', 'Durability', 'Gender',\n",
       "       'Height', 'IQ', 'Intelligence', 'Level', 'Place_of_birth', 'Power',\n",
       "       'Species', 'Speed', 'Speed_velocity', 'Strength', 'Strength_force',\n",
       "       'Super_powers', 'Tier', 'Universe', 'Weight', 'combat_str',\n",
       "       'durability_str', 'height_str', 'IQ_str', 'intelligence_str',\n",
       "       'level_str', 'power_str', 'speed_str', 'speed_velocity_str'],\n",
       "      dtype='object')"
      ]
     },
     "execution_count": 122,
     "metadata": {},
     "output_type": "execute_result"
    }
   ],
   "source": [
    "sups.columns"
   ]
  },
  {
   "cell_type": "markdown",
   "id": "5f0db6fa",
   "metadata": {},
   "source": [
    "#### Strength column"
   ]
  },
  {
   "cell_type": "code",
   "execution_count": 123,
   "id": "39aae02e",
   "metadata": {},
   "outputs": [
    {
     "data": {
      "text/plain": [
       "0"
      ]
     },
     "execution_count": 123,
     "metadata": {},
     "output_type": "execute_result"
    }
   ],
   "source": [
    "sups.Strength.isna().sum()"
   ]
  },
  {
   "cell_type": "code",
   "execution_count": 124,
   "id": "50f3c263",
   "metadata": {},
   "outputs": [
    {
     "data": {
      "text/plain": [
       "array([30, 55, 25, 1, 50, 5, 100, 6, 75, 95, 60, 9, 8, 80, 35, 20, 90, 65,\n",
       "       13, 45, 19, 10, 85, 15, 70, 40, 18, 17, 14, 11, 7, '50', '1',\n",
       "       '100', '6', '55', '25', '75', '10', '20', '45', '5', '30', '85',\n",
       "       '13', '70', '35', '95', '80', '90', '60', '8', '16', '15', '18',\n",
       "       '65', '0', '11', '14', '7', '17', '19', '40', '9'], dtype=object)"
      ]
     },
     "execution_count": 124,
     "metadata": {},
     "output_type": "execute_result"
    }
   ],
   "source": [
    "sups.Strength.unique()"
   ]
  },
  {
   "cell_type": "code",
   "execution_count": 125,
   "id": "39e3fcb8",
   "metadata": {},
   "outputs": [],
   "source": [
    "sups.Strength = sups.Strength.astype(int)"
   ]
  },
  {
   "cell_type": "code",
   "execution_count": 126,
   "id": "77af2cf2",
   "metadata": {},
   "outputs": [
    {
     "data": {
      "text/plain": [
       "0"
      ]
     },
     "execution_count": 126,
     "metadata": {},
     "output_type": "execute_result"
    }
   ],
   "source": [
    "sups.Strength.min()"
   ]
  },
  {
   "cell_type": "code",
   "execution_count": 127,
   "id": "c7d46b66",
   "metadata": {},
   "outputs": [
    {
     "data": {
      "text/plain": [
       "100"
      ]
     },
     "execution_count": 127,
     "metadata": {},
     "output_type": "execute_result"
    }
   ],
   "source": [
    "sups.Strength.max()"
   ]
  },
  {
   "cell_type": "code",
   "execution_count": 128,
   "id": "f41e237b",
   "metadata": {},
   "outputs": [],
   "source": [
    "def process_strength(val):\n",
    "    if val <= 0:\n",
    "        return 'strength0'\n",
    "    for i in range(0, 21): \n",
    "        if i * 5 + 1 <= val <= (i + 1) * 5:\n",
    "            return f'strength{i * 5 + 1}to{(i + 1) * 5}'\n",
    "    return 'strengthoutofrange'"
   ]
  },
  {
   "cell_type": "code",
   "execution_count": 129,
   "id": "fbd3d870",
   "metadata": {},
   "outputs": [],
   "source": [
    "sups['strength_str'] = sups.Strength.apply(process_strength)"
   ]
  },
  {
   "cell_type": "code",
   "execution_count": 130,
   "id": "769bc8c1",
   "metadata": {},
   "outputs": [
    {
     "data": {
      "text/plain": [
       "array(['strength26to30', 'strength51to55', 'strength21to25',\n",
       "       'strength1to5', 'strength46to50', 'strength96to100',\n",
       "       'strength6to10', 'strength71to75', 'strength91to95',\n",
       "       'strength56to60', 'strength76to80', 'strength31to35',\n",
       "       'strength16to20', 'strength86to90', 'strength61to65',\n",
       "       'strength11to15', 'strength41to45', 'strength81to85',\n",
       "       'strength66to70', 'strength36to40', 'strength0'], dtype=object)"
      ]
     },
     "execution_count": 130,
     "metadata": {},
     "output_type": "execute_result"
    }
   ],
   "source": [
    "sups.strength_str.unique()"
   ]
  },
  {
   "cell_type": "markdown",
   "id": "7425b2c1",
   "metadata": {},
   "source": [
    "#### Strength_force column"
   ]
  },
  {
   "cell_type": "code",
   "execution_count": 131,
   "id": "15d9ec62",
   "metadata": {},
   "outputs": [
    {
     "data": {
      "text/plain": [
       "0"
      ]
     },
     "execution_count": 131,
     "metadata": {},
     "output_type": "execute_result"
    }
   ],
   "source": [
    "sups.Strength_force.isna().sum()"
   ]
  },
  {
   "cell_type": "code",
   "execution_count": 132,
   "id": "a5b509c6",
   "metadata": {},
   "outputs": [
    {
     "data": {
      "text/plain": [
       "array([100000, 1000000, 8000, 83, 400000, 200, 1000000000, 1000, 120, 250,\n",
       "       100, 150, 10000, 2000, 5000000, 880443342, 880000000, 2400, 23000,\n",
       "       40000000, 1500, 40, 1800000, 7500000, 5000, 800000000, 80000000,\n",
       "       75, 350, 1100000, 80000, 25000000, 30000000, 300, 63500, 1800,\n",
       "       653985, 200000000, 310, 40000, 180, 1500000, 130000000, 3000,\n",
       "       130000, 125, 212121212, 100000000, 190, 50000, 20000, 800, 601011,\n",
       "       581680000, 500000, 385553, 8000000, 160000, 2500000, 9085969,\n",
       "       85000, 200000, 900000000, 88779, 1875, 10000000, 500, 1200000,\n",
       "       300000, 62000, 140, 60000000, 70, 750, 25, 50, 20000000, 22000000,\n",
       "       401511, 110, 3200, 150000000, 815, 999999999, 130, 15000, 150000,\n",
       "       7700, 380, 999, 420000000, 600000, 10, 400, 90000000, 35000, 2700,\n",
       "       22600, 375, 300000000, 88775, 600, 350000, 900, 180000, 99, 30000,\n",
       "       75000, 721212, 80, 60000, 88000, 25000, 85000000, 1200, 820000000,\n",
       "       50000000, 45, 70000, 4500, 160, 6000, 600000000, 2100, 210,\n",
       "       65000000, 400000000, 2000000, 60, 90, 88888888, 20, 4000000, 55,\n",
       "       720000, 70000000, 3300000, 98, 220000000, 2178, 472586, 8975, 907,\n",
       "       135, 9000000, 9000, 580000000, 750000000, 120000000, 1257000,\n",
       "       240000, 550000000, 620000000, 6500, 155, 165712, 369852380,\n",
       "       665807250, 563258741, 500695147, 303000000, 588888888, 863258740,\n",
       "       65369082, 99996396, 676852361, 9559639, 700000, 125000, 2500,\n",
       "       11000000, 230, 990000000, 145, 350000000, 15000000, 475586, 181,\n",
       "       250000, 12000000, 175, 153, 750000, 220000, 386000000, 100010551,\n",
       "       450000000, 908880, 247000, 328175, 985, 420000, 4000, 120081, 122,\n",
       "       56000, 125000000, 800000, 24000000, 440000, 950000000, 450000,\n",
       "       3351999, 140000, 700007, 35000000, 980, 3890, 64000, 7196687, 385,\n",
       "       400001, 700, 859041, 290000, 65000, 10012121, 5500000, 45000000,\n",
       "       501, 52, 6860, 110000, 170, 81241242, 611, 6899325, 5758268, 227,\n",
       "       88000099, 16000000, 478520, 154, 621519999, 81000, 55000, 18000,\n",
       "       6200000, 61998, 2122111, 8900, 220, 470000, 7000, 75000000, 7500,\n",
       "       7676, 223000000, 9010101, 621500000, 30, 500000000, 900000,\n",
       "       55000000, 232420, 12000, 90000, 7300, 1212111, 679, 320000, 15,\n",
       "       212121, 4700000, 3000000, 111000000, 120000, 475826, 810000000,\n",
       "       2012121, 90718, 65, 7006060, 340, 6000000, 1250, 200999990, 8979,\n",
       "       320, 59000000, 181437, 95000000, 1005, 205, 21412, 8200000, 382500,\n",
       "       113, 363, 571, 537, 92, 168579, 99999, 90088000, 13000000, 1880,\n",
       "       140000000, 30405, 71, 7200000, 165000, 68000, 1700, 226706, 340000,\n",
       "       91795, 375004575, 87072, 3011, 504, 50000561, 3100, 3250000,\n",
       "       88000000, 8800000, 650000000, 1, 250000000, 45000, 3500, 1900000,\n",
       "       696, 5250000, 22000, 780000, 167500, 621510000, 612512371, 5443,\n",
       "       1191000, 8950, 3950000, 128845, 360000, 410, 646400000, 18000000,\n",
       "       13000, 32000000, 26826300, 450, 199, 8800, 22700, 12121, 275,\n",
       "       395000, 77000, 280, 9999999, 165, 124, 389000000, 390000000,\n",
       "       19000000, 95, 8500000, 500000038, 115, 545, 5200, 4800, 760000000,\n",
       "       425, 565, 89777000, 1191995, 590, 702085693, 582479981, 17000000,\n",
       "       1585, 21000000, 25886, 1814, 899999999, 1375, 333333373, 10110101,\n",
       "       754, 10586396, 8500, 1221, 360, 34, 238, 99999999, 422319000,\n",
       "       72820, 63, 136078, 200002012, 5628, 820, 100034, 780, 5, 1050000,\n",
       "       98000000, 390, 74000000, 152620, 382480000, 5247, 85, 1135, 83990,\n",
       "       460000, 28000000, 42000, 33333360, 169, 76340000, 8100, 410000000,\n",
       "       9485809, 100001010, 8759698, 80500, 240, 600405000, 58000000,\n",
       "       10249699, 550, 289665561, 472506, 325000000, 215, 12500, 785000000,\n",
       "       478525, 86, 790000, 36000000, 390000, 12460004, 700000000, 2323,\n",
       "       26000000, 235450, 5500, 674000000, 105, '500000', '168',\n",
       "       '1000000000', '244', '1100000', '50', '1000', '5000000', '400',\n",
       "       '800', '10000', '181', '250', '300000', '2000', '8500', '9000000',\n",
       "       '200', '40000', '34534150', '60', '8000000', '100000', '50000',\n",
       "       '130', '150', '460000', '50000000', '400000000', '125', '80000',\n",
       "       '500', '3075809', '90000000', '100', '780', '75', '20000', '17000',\n",
       "       '600000', '150000', '117', '140', '84', '200000', '120000',\n",
       "       '470000', '880000000', '75000', '150000000', '995000000', '400000',\n",
       "       '700000000', '800000', '200000000', '1000000', '2500', '1500000',\n",
       "       '7000', '3000', '45', '7000000', '74', '95', '70', '300', '7500',\n",
       "       '20000000', '10000000', '73', '40', '800000000', '45462', '4000',\n",
       "       '500000000', '40000000', '30000', '5000', '999999999', '120',\n",
       "       '999999000', '25000', '180', '558000000', '225', '175',\n",
       "       '900000000', '6500', '650', '8000', '1200', '88000000', '1800',\n",
       "       '123658000', '227', '57152', '160', '85000', '113398', '1500',\n",
       "       '25000000', '570000', '600000000', '36', '20', '600', '80',\n",
       "       '10100000', '170', '340000', '99999999', '700', '100000000',\n",
       "       '65000', '70307', '18000000', '2500000', '113000000', '63503',\n",
       "       '500500000', '91', '35', '0', '503817500', '7500000', '698525',\n",
       "       '528250', '10', '55800', '6802', '422', '355800', '144389',\n",
       "       '420000', '62000', '233533333', '1', '5', '230197846', '600075',\n",
       "       '78', '505000000', '400000229', '450', '590', '12122', '500000075',\n",
       "       '37750', '52000', '90', '129396156', '617114522', '8979', '60000',\n",
       "       '575', '266', '699', '85', '125000000', '250000000', '82', '12112',\n",
       "       '10101011', '121', '86', '573333333', '15000', '500500', '591',\n",
       "       '717', '30080', '420000000', '1376980', '6000', '165', '2200',\n",
       "       '310', '550000000', '713', '468000', '110', '133333375', '123',\n",
       "       '5000100', '1400', '190992000', '750', '900', '136', '2000000',\n",
       "       '1681739', '35000', '28000', '15888800', '1250000', '135', '15',\n",
       "       '600801000', '336696667', '99', '125001', '1100035', '1115000',\n",
       "       '1850', '157', '144298698', '8800000', '2586366', '32000000',\n",
       "       '500000016', '900000', '110000000', '55000', '410000', '709102734',\n",
       "       '162500', '28123', '2250', '810', '998', '6200', '127006', '15825',\n",
       "       '60000000', '480000', '810000000', '76', '500000013', '172', '30',\n",
       "       '500225000', '4560', '90000', '115', '9000', '360333333', '212312',\n",
       "       '588366', '41000', '963800', '500200000', '545', '63', '3', '55',\n",
       "       '80250', '1340', '81000', '210', '24000000', '5123', '950', '6175',\n",
       "       '33550', '75000000', '525450249', '125000', '190000', '61400',\n",
       "       '42000000', '140000000', '126', '55000000', '320000', '454',\n",
       "       '2050', '50001250', '1750', '464413677', '871428571', '7011210',\n",
       "       '3493333', '850000000', '12000', '4000000', '764357744', '8880000',\n",
       "       '295000', '3500', '588000000', '100024', '108565', '502500',\n",
       "       '240000', '236000000', '350', '666360', '255', '500100000',\n",
       "       '70000', '826', '909999', '19891030', '2025000', '733333333',\n",
       "       '780543', '8975', '400500000', '28000000', '3000000', '3500000',\n",
       "       '13000', '700000', '702000000', '960', '582636', '96325874', '98',\n",
       "       '160000', '685487369', '74000000', '34', '220', '90718', '82000',\n",
       "       '80000000', '15000000', '650000', '811000000', '95150',\n",
       "       '900001000', '401111100', '4500', '6996369', '34000000', '907',\n",
       "       '363', '6111111', '1150000', '580000000', '11111', '135698550',\n",
       "       '782', '750250000', '73000', '3667333', '555000000', '750000000',\n",
       "       '6', '2', '5443', '83', '396', '230', '1580822', '275', '3333683',\n",
       "       '92', '65', '60011', '350500000', '300000000', '193', '6315500',\n",
       "       '86000', '59', '440000500', '2586698', '4', '131', '571443019',\n",
       "       '25700', '4734000', '333366833', '500000050', '12121', '288850',\n",
       "       '6000000', '990000000', '58365', '500100', '250018000',\n",
       "       '100000001', '25', '151211', '330000', '999997077', '305', '1212',\n",
       "       '23', '620000', '4207000', '1270', '261', '369465', '89', '152700',\n",
       "       '45000', '300500000', '12', '333491667', '136311155', '102500000',\n",
       "       '522', '164', '55888', '12525', '202500', '175000000', '529230926',\n",
       "       '500000550', '405000000', '68', '235325675', '240', '380',\n",
       "       '140000', '12345678', '588000', '37000', '3324200', '999999997',\n",
       "       '500050000', '555', '200300400', '369852', '72581', '190', '375',\n",
       "       '2648', '23000', '300200000', '999000000', '364910382',\n",
       "       '504000000', '165035', '39683', '4600', '288000000', '501000',\n",
       "       '1050000', '118', '644', '500000150', '159', '12508', '12530',\n",
       "       '750000', '645000', '4649499', '7600', '656730', '4000114',\n",
       "       '160000000', '130000000', '120000000', '180000000', '260000000',\n",
       "       '758024691', '1223', '51000', '69985698'], dtype=object)"
      ]
     },
     "execution_count": 132,
     "metadata": {},
     "output_type": "execute_result"
    }
   ],
   "source": [
    "sups.Strength_force.unique()"
   ]
  },
  {
   "cell_type": "code",
   "execution_count": 133,
   "id": "e2bc9088",
   "metadata": {},
   "outputs": [],
   "source": [
    "sups.Strength_force = sups.Strength_force.astype(int)"
   ]
  },
  {
   "cell_type": "code",
   "execution_count": 134,
   "id": "e95521a7",
   "metadata": {},
   "outputs": [
    {
     "data": {
      "text/plain": [
       "0"
      ]
     },
     "execution_count": 134,
     "metadata": {},
     "output_type": "execute_result"
    }
   ],
   "source": [
    "sups.Strength_force.min()"
   ]
  },
  {
   "cell_type": "code",
   "execution_count": 135,
   "id": "6d06f448",
   "metadata": {},
   "outputs": [
    {
     "data": {
      "text/plain": [
       "1000000000"
      ]
     },
     "execution_count": 135,
     "metadata": {},
     "output_type": "execute_result"
    }
   ],
   "source": [
    "sups.Strength_force.max()"
   ]
  },
  {
   "cell_type": "code",
   "execution_count": 136,
   "id": "42c38b6e",
   "metadata": {},
   "outputs": [],
   "source": [
    "def process_sf(value):\n",
    "    if value <= 0:\n",
    "        return 'sf0'\n",
    "    elif 1 <= value <= 1000:\n",
    "        return \"sf1-1000\"\n",
    "    elif 1001 <= value <= 5000:\n",
    "        return \"sf1001-5000\"\n",
    "    \n",
    "    elif 5001 <= value <= 10000:\n",
    "        return \"sf5001-10000\"\n",
    "    \n",
    "    elif 10001 <= value <= 100000:\n",
    "        return \"sf10001-100000\"\n",
    "    elif 100001 <= value <= 1000000:\n",
    "        return \"sf100001-1000000\"\n",
    "    elif 1000001 <= value <= 10000000:\n",
    "        return \"sf1000001-10000000\"\n",
    "    \n",
    "    elif 10000001 <= value <= 100000000:\n",
    "        return \"sf10000001-100000000\"\n",
    "    elif 100000001 <= value <= 1000000000:\n",
    "        return \"sf100000001-1000000000\"\n",
    "    else:\n",
    "        return \"sfoutofrange\""
   ]
  },
  {
   "cell_type": "code",
   "execution_count": 137,
   "id": "cc18b067",
   "metadata": {},
   "outputs": [],
   "source": [
    "sups['strength_force'] = sups.Strength_force.apply(process_sf)"
   ]
  },
  {
   "cell_type": "code",
   "execution_count": 138,
   "id": "895dde63",
   "metadata": {},
   "outputs": [
    {
     "data": {
      "text/plain": [
       "array(['sf10001-100000', 'sf100001-1000000', 'sf5001-10000', 'sf1-1000',\n",
       "       'sf100000001-1000000000', 'sf1001-5000', 'sf1000001-10000000',\n",
       "       'sf10000001-100000000', 'sf0'], dtype=object)"
      ]
     },
     "execution_count": 138,
     "metadata": {},
     "output_type": "execute_result"
    }
   ],
   "source": [
    "sups.strength_force.unique()"
   ]
  },
  {
   "cell_type": "markdown",
   "id": "70ed418a",
   "metadata": {},
   "source": [
    "#### Super_powers column"
   ]
  },
  {
   "cell_type": "code",
   "execution_count": 139,
   "id": "365218bb",
   "metadata": {},
   "outputs": [
    {
     "data": {
      "text/plain": [
       "0"
      ]
     },
     "execution_count": 139,
     "metadata": {},
     "output_type": "execute_result"
    }
   ],
   "source": [
    "sups.Super_powers.isna().sum()"
   ]
  },
  {
   "cell_type": "code",
   "execution_count": 140,
   "id": "59fd68d8",
   "metadata": {},
   "outputs": [],
   "source": [
    "sups.Super_powers = sups.Super_powers.str.replace(' ','')"
   ]
  },
  {
   "cell_type": "code",
   "execution_count": 141,
   "id": "0dafd2e3",
   "metadata": {},
   "outputs": [],
   "source": [
    "sups.Super_powers = sups.Super_powers.str.lower()"
   ]
  },
  {
   "cell_type": "markdown",
   "id": "61d370ac",
   "metadata": {},
   "source": [
    "#### Tier column"
   ]
  },
  {
   "cell_type": "code",
   "execution_count": 142,
   "id": "77f54a43",
   "metadata": {},
   "outputs": [
    {
     "data": {
      "text/plain": [
       "0"
      ]
     },
     "execution_count": 142,
     "metadata": {},
     "output_type": "execute_result"
    }
   ],
   "source": [
    "sups.Tier.isna().sum()"
   ]
  },
  {
   "cell_type": "code",
   "execution_count": 143,
   "id": "00ca68a8",
   "metadata": {},
   "outputs": [],
   "source": [
    "sups.Tier = sups.Tier.astype(int)"
   ]
  },
  {
   "cell_type": "code",
   "execution_count": 144,
   "id": "8655744b",
   "metadata": {},
   "outputs": [
    {
     "data": {
      "text/plain": [
       "0"
      ]
     },
     "execution_count": 144,
     "metadata": {},
     "output_type": "execute_result"
    }
   ],
   "source": [
    "sups.Tier.min()"
   ]
  },
  {
   "cell_type": "code",
   "execution_count": 145,
   "id": "5f4c3e43",
   "metadata": {},
   "outputs": [
    {
     "data": {
      "text/plain": [
       "10"
      ]
     },
     "execution_count": 145,
     "metadata": {},
     "output_type": "execute_result"
    }
   ],
   "source": [
    "sups.Tier.max()"
   ]
  },
  {
   "cell_type": "code",
   "execution_count": 146,
   "id": "b31e149e",
   "metadata": {},
   "outputs": [],
   "source": [
    "def process_tier(val):\n",
    "    return f'tier{val}'"
   ]
  },
  {
   "cell_type": "code",
   "execution_count": 147,
   "id": "687efbbe",
   "metadata": {},
   "outputs": [],
   "source": [
    "sups['tier_str'] = sups.Tier.apply(process_tier)"
   ]
  },
  {
   "cell_type": "code",
   "execution_count": 148,
   "id": "b3bd97c4",
   "metadata": {},
   "outputs": [
    {
     "data": {
      "text/plain": [
       "array(['tier2', 'tier4', 'tier1', 'tier7', 'tier5', 'tier6', 'tier3',\n",
       "       'tier8', 'tier9', 'tier10', 'tier0'], dtype=object)"
      ]
     },
     "execution_count": 148,
     "metadata": {},
     "output_type": "execute_result"
    }
   ],
   "source": [
    "sups.tier_str.unique()"
   ]
  },
  {
   "cell_type": "markdown",
   "id": "a5cfa69e",
   "metadata": {},
   "source": [
    "#### Universe column"
   ]
  },
  {
   "cell_type": "code",
   "execution_count": 149,
   "id": "fc6f27eb",
   "metadata": {},
   "outputs": [
    {
     "data": {
      "text/plain": [
       "914"
      ]
     },
     "execution_count": 149,
     "metadata": {},
     "output_type": "execute_result"
    }
   ],
   "source": [
    "sups.Universe.isna().sum()"
   ]
  },
  {
   "cell_type": "code",
   "execution_count": 150,
   "id": "7ccc23a2",
   "metadata": {},
   "outputs": [
    {
     "data": {
      "text/plain": [
       "0    Earth-616\n",
       "Name: Universe, dtype: object"
      ]
     },
     "execution_count": 150,
     "metadata": {},
     "output_type": "execute_result"
    }
   ],
   "source": [
    "sups.Universe.mode()"
   ]
  },
  {
   "cell_type": "code",
   "execution_count": 151,
   "id": "49c8af84",
   "metadata": {},
   "outputs": [],
   "source": [
    "sups.Universe = sups.Universe.fillna('Earth-616')"
   ]
  },
  {
   "cell_type": "code",
   "execution_count": 152,
   "id": "22b71342",
   "metadata": {},
   "outputs": [
    {
     "data": {
      "text/plain": [
       "0"
      ]
     },
     "execution_count": 152,
     "metadata": {},
     "output_type": "execute_result"
    }
   ],
   "source": [
    "sups.Universe.isna().sum()"
   ]
  },
  {
   "cell_type": "markdown",
   "id": "fbdd0817",
   "metadata": {},
   "source": [
    "#### Weight column"
   ]
  },
  {
   "cell_type": "code",
   "execution_count": 153,
   "id": "5985ab85",
   "metadata": {},
   "outputs": [
    {
     "data": {
      "text/plain": [
       "0"
      ]
     },
     "execution_count": 153,
     "metadata": {},
     "output_type": "execute_result"
    }
   ],
   "source": [
    "sups['Weight'].isna().sum()"
   ]
  },
  {
   "cell_type": "code",
   "execution_count": 154,
   "id": "5f25018a",
   "metadata": {},
   "outputs": [
    {
     "data": {
      "text/plain": [
       "array(['82 kg • 180.78 lbs', '90.7 kg • 199.96 lbs', '-',\n",
       "       '199.58 ton • 440,000.57 lbs', '50 kg • 110.23 lbs',\n",
       "       '95 kg • 209.44 lbs', '77.1 kg • 169.98 lbs',\n",
       "       '99.8 kg • 220.02 lbs', '816.5 kg • 1,800.07 lbs',\n",
       "       '133.81 kg • 295 lbs', '79.38 kg • 175 lbs',\n",
       "       '1.68 ton • 3,700 lbs', '52.2 kg • 115.08 lbs',\n",
       "       '20,000 ton • 44,092,452.4 lbs', '12,000 ton • 26,455,471.44 lbs',\n",
       "       '170.1 kg • 375.01 lbs', '133.8 kg • 294.98 lbs',\n",
       "       '73 kg • 160.94 lbs', '81 kg • 178.57 lbs', '55.38 kg • 122.1 lbs',\n",
       "       '55 kg • 121.25 lbs', '56.7 kg • 125 lbs',\n",
       "       '43,000 ton • 94,798,772.66 lbs', '74.8 kg • 164.91 lbs',\n",
       "       '65 kg • 143.3 lbs', '424.1 kg • 934.98 lbs',\n",
       "       '102.06 kg • 225 lbs', '63 kg • 138.89 lbs', '71 kg • 156.53 lbs',\n",
       "       '2.09 ton • 4,599.99 lbs', '83.5 kg • 184.09 lbs',\n",
       "       '102 kg • 224.87 lbs', '54.43 kg • 120 lbs',\n",
       "       '134.7 kg • 296.96 lbs', '120 kg • 264.55 lbs',\n",
       "       '81.65 kg • 180.01 lbs', '62 kg • 136.69 lbs',\n",
       "       '98.88 kg • 217.99 lbs', '56 kg • 123.46 lbs',\n",
       "       '170.1 kg • 375 lbs', '95.3 kg • 210.1 lbs',\n",
       "       '122.5 kg • 270.07 lbs', '68 kg • 149.91 lbs',\n",
       "       '79.8 kg • 175.93 lbs', '160 kg • 352.74 lbs',\n",
       "       '167.8 kg • 369.94 lbs', '113 kg • 249.12 lbs',\n",
       "       '294 kg • 648.16 lbs', '76 kg • 167.55 lbs',\n",
       "       '83.9 kg • 184.97 lbs', '290.3 kg • 640 lbs',\n",
       "       '95.25 kg • 209.99 lbs', '79 kg • 174.17 lbs',\n",
       "       '76.5 kg • 168.65 lbs', '15,000 ton • 33,069,339.3 lbs',\n",
       "       '288.5 kg • 636.03 lbs', '10,000 ton • 22,046,226.2 lbs',\n",
       "       '89.8 kg • 197.98 lbs', '74 kg • 163.14 lbs',\n",
       "       '22,000 ton • 48,501,697.64 lbs', '51 kg • 112.44 lbs',\n",
       "       '57.2 kg • 126.1 lbs', '104.3 kg • 229.94 lbs',\n",
       "       '39.9 kg • 87.96 lbs', '78 kg • 171.96 lbs', '77 kg • 169.76 lbs',\n",
       "       '57 kg • 125.66 lbs', '68.9 kg • 151.9 lbs', '64 kg • 141.1 lbs',\n",
       "       '238.14 kg • 525.01 lbs', '21.3 kg • 46.96 lbs',\n",
       "       '54 kg • 119.05 lbs', '50.8 kg • 111.99 lbs',\n",
       "       '317.51 kg • 699.99 lbs', '249.48 kg • 550 lbs',\n",
       "       '240.4 kg • 529.99 lbs', '444.5 kg • 979.95 lbs',\n",
       "       '63.5 kg • 139.99 lbs', '101.2 kg • 223.11 lbs',\n",
       "       '98.9 kg • 218.04 lbs', '259.9 kg • 572.98 lbs',\n",
       "       '92 kg • 202.83 lbs', '90.72 kg • 200 lbs', '1.72 ton • 3,800 lbs',\n",
       "       '53.07 kg • 117 lbs', '280,000 ton • 617,294,333.6 lbs',\n",
       "       '33 kg • 72.75 lbs', '112 kg • 246.92 lbs', '61.2 kg • 134.92 lbs',\n",
       "       '1 ton • 2,204.62 lbs', '91 kg • 200.62 lbs',\n",
       "       '108.86 kg • 240 lbs', '108.9 kg • 240.08 lbs',\n",
       "       '82.1 kg • 181 lbs', '74.84 kg • 164.99 lbs',\n",
       "       '99.3 kg • 218.92 lbs', '90 kg • 198.42 lbs', '113.4 kg • 250 lbs',\n",
       "       '123 kg • 271.17 lbs', '75 kg • 165.35 lbs',\n",
       "       '60,000 ton • 132,277,357.2 lbs', '45.36 kg • 100 lbs',\n",
       "       '40 ton • 88,184.9 lbs', '87 kg • 191.8 lbs',\n",
       "       '65.8 kg • 145.06 lbs', '93 kg • 205.03 lbs',\n",
       "       '82.6 kg • 182.1 lbs', '88.5 kg • 195.11 lbs',\n",
       "       '86.2 kg • 190.04 lbs', '54.4 kg • 119.93 lbs',\n",
       "       '87.1 kg • 192.02 lbs', '150 kg • 330.69 lbs',\n",
       "       '200,000 ton • 440,924,524 lbs', '115.21 kg • 254 lbs',\n",
       "       '63.5 kg • 140 lbs', '725.7 kg • 1,599.89 lbs',\n",
       "       '158.8 kg • 350.09 lbs', '52 kg • 114.64 lbs',\n",
       "       '217.7 kg • 479.95 lbs', '58.1 kg • 128.09 lbs',\n",
       "       '205 kg • 451.95 lbs', '59 kg • 130.07 lbs',\n",
       "       '476.27 kg • 1,050 lbs', '308.4 kg • 679.91 lbs',\n",
       "       '210 kg • 462.97 lbs', '122 kg • 268.96 lbs',\n",
       "       '188 kg • 414.47 lbs', '2.72 ton • 6,000.1 lbs',\n",
       "       '91.2 kg • 201.06 lbs', '111.1 kg • 244.93 lbs',\n",
       "       '27.2 kg • 59.97 lbs', '81.6 kg • 179.9 lbs',\n",
       "       '104.33 kg • 230.01 lbs', '52.6 kg • 115.96 lbs',\n",
       "       '60 kg • 132.28 lbs', '226.8 kg • 500.01 lbs',\n",
       "       '131.5 kg • 289.91 lbs', '31.8 kg • 70.11 lbs',\n",
       "       '84 kg • 185.19 lbs', '64.9 kg • 143.08 lbs', '80 kg • 176.37 lbs',\n",
       "       '70,000 ton • 154,323,583.4 lbs', '85 kg • 187.39 lbs',\n",
       "       '200 kg • 440.92 lbs', '145 kg • 319.67 lbs',\n",
       "       '64.4 kg • 141.98 lbs', '89.4 kg • 197.09 lbs',\n",
       "       '79.4 kg • 175.05 lbs', '73.9 kg • 162.92 lbs',\n",
       "       '40.01 kg • 88.21 lbs', '127.01 kg • 280.01 lbs',\n",
       "       '18.14 ton • 39,999.97 lbs', '62.1 kg • 136.91 lbs',\n",
       "       '88 kg • 194.01 lbs', '60 ton • 132,277.36 lbs',\n",
       "       '90,718.47 ton • 199,999,999.83 lbs',\n",
       "       '55,000 ton • 121,254,244.1 lbs', '204.1 kg • 449.96 lbs',\n",
       "       '49.9 kg • 110.01 lbs', '70.3 kg • 154.98 lbs',\n",
       "       '69 kg • 152.12 lbs', '750 kg • 1,653.47 lbs',\n",
       "       '1,980 ton • 4,365,152.79 lbs', '2,004 ton • 4,418,063.73 lbs',\n",
       "       '97.5 kg • 214.95 lbs', '635 kg • 1,399.94 lbs',\n",
       "       '8.17 ton • 18,000.74 lbs', '25,000 ton • 55,115,565.5 lbs',\n",
       "       '78.9 kg • 173.94 lbs', '140 kg • 308.65 lbs',\n",
       "       '235.87 ton • 519,999.58 lbs', '30,000 ton • 66,138,678.6 lbs',\n",
       "       '197 kg • 434.31 lbs', '48.53 kg • 107 lbs',\n",
       "       '81.2 kg • 179.02 lbs', '88.9 kg • 195.99 lbs',\n",
       "       '45.4 kg • 100.09 lbs', '106 kg • 233.69 lbs',\n",
       "       '37.2 kg • 82.01 lbs', '326.6 kg • 720.03 lbs',\n",
       "       '55.79 kg • 123 lbs', '45.8 kg • 100.97 lbs',\n",
       "       '72.6 kg • 160.06 lbs', '128 kg • 282.19 lbs',\n",
       "       '28,000 ton • 61,729,433.36 lbs', '2,800 ton • 6,172,943.34 lbs',\n",
       "       '367.4 kg • 809.98 lbs', '67.1 kg • 147.93 lbs',\n",
       "       '130 kg • 286.6 lbs', '40.5 kg • 89.29 lbs', '129.27 kg • 285 lbs',\n",
       "       '907 kg • 1,999.59 lbs', '861.8 kg • 1,899.94 lbs',\n",
       "       '25 kg • 55.12 lbs', '86 kg • 189.6 lbs', '71.7 kg • 158.07 lbs',\n",
       "       '72 kg • 158.73 lbs', '55.8 kg • 123.02 lbs',\n",
       "       '13.6 kg • 29.98 lbs', '61 kg • 134.48 lbs', '107 kg • 235.89 lbs',\n",
       "       '102.1 kg • 225.09 lbs', '192.8 kg • 425.05 lbs',\n",
       "       '99.79 kg • 220 lbs', '58.97 kg • 130.01 lbs',\n",
       "       '8 ton • 17,636.98 lbs', '83 kg • 182.98 lbs',\n",
       "       '430.9 kg • 949.97 lbs', '104 kg • 229.28 lbs',\n",
       "       '907.2 kg • 2,000.03 lbs', '1.09 ton • 2,399.07 lbs',\n",
       "       '18.1 kg • 39.9 lbs', '48.1 kg • 106.04 lbs', '53 kg • 116.84 lbs',\n",
       "       '57.15 kg • 125.99 lbs', '142.9 kg • 315.04 lbs',\n",
       "       '303 kg • 668 lbs', '199 kg • 438.72 lbs', '48 kg • 105.82 lbs',\n",
       "       '102.97 kg • 227 lbs', '94 kg • 207.23 lbs',\n",
       "       '14.33 ton • 31,599.96 lbs', '71.2 kg • 156.97 lbs',\n",
       "       '226.8 kg • 500 lbs', '146.1 kg • 322.1 lbs', '53.98 kg • 119 lbs',\n",
       "       '86.18 kg • 189.99 lbs', '238.1 kg • 524.92 lbs',\n",
       "       '290 kg • 639.34 lbs', '77.02 kg • 169.8 lbs', '94.8 kg • 209 lbs',\n",
       "       '98.4 kg • 216.93 lbs', '60.01 kg • 132.3 lbs',\n",
       "       '53.1 kg • 117.07 lbs', '57.15 kg • 126 lbs',\n",
       "       '100 kg • 220.46 lbs', '351.99 kg • 776 lbs',\n",
       "       '381 kg • 839.96 lbs', '45 kg • 99.21 lbs', '69.9 kg • 154.1 lbs',\n",
       "       '67 kg • 147.71 lbs', '41.3 kg • 91.05 lbs', '1 kg • 2.2 lbs',\n",
       "       '408.2 kg • 899.93 lbs', '40.8 kg • 89.95 lbs',\n",
       "       '136.1 kg • 300.05 lbs', '40,000 ton • 88,184,904.8 lbs',\n",
       "       '129.3 kg • 285.06 lbs', '544.31 kg • 1,200 lbs',\n",
       "       '135,000 ton • 297,624,053.7 lbs', '45.81 kg • 100.99 lbs',\n",
       "       '103 kg • 227.08 lbs', '510.3 kg • 1,125.02 lbs',\n",
       "       '357 kg • 787.05 lbs', '81.65 kg • 180 lbs', '72.58 kg • 160 lbs',\n",
       "       '62.2 kg • 137.13 lbs', '3,000 ton • 6,613,867.86 lbs',\n",
       "       '106.6 kg • 235.01 lbs', '80.3 kg • 177.03 lbs',\n",
       "       '51.9 kg • 114.42 lbs', '42.4 kg • 93.48 lbs',\n",
       "       '78.47 kg • 173 lbs', '41 kg • 90.39 lbs', '58.06 kg • 128 lbs',\n",
       "       '76.7 kg • 169.09 lbs', '44.9 kg • 98.99 lbs',\n",
       "       '301 kg • 663.59 lbs', '20.87 ton • 45,999.89 lbs',\n",
       "       '24,000 ton • 52,910,942.88 lbs', '1.13 ton • 2,500 lbs',\n",
       "       '7,775 ton • 17,140,940.87 lbs', '240 kg • 529.11 lbs',\n",
       "       '39,043 ton • 86,075,080.95 lbs', '124 kg • 273.37 lbs',\n",
       "       '317.51 kg • 700 lbs', '564.7 ton • 1,244,950.39 lbs',\n",
       "       '45.99 kg • 101.39 lbs', '206.48 kg • 455.2 lbs',\n",
       "       '54.9 kg • 121.03 lbs', '140.61 kg • 310 lbs',\n",
       "       '46.72 kg • 103 lbs', '70 kg • 154.32 lbs', '46.7 kg • 102.96 lbs',\n",
       "       '74.84 kg • 165 lbs', '521.6 kg • 1,149.93 lbs',\n",
       "       '999.7 kg • 2,203.96 lbs', '1.27 ton • 2,806.48 lbs',\n",
       "       '2 ton • 4,409.25 lbs', '243.13 ton • 536,000.64 lbs',\n",
       "       '114 kg • 251.33 lbs', '65,000 ton • 143,300,470.3 lbs',\n",
       "       '143.8 kg • 317.02 lbs', '293 kg • 645.95 lbs',\n",
       "       '57.61 kg • 127.01 lbs', '250 kg • 551.16 lbs',\n",
       "       '12 ton • 26,454.99 lbs', '295.02 kg • 650.41 lbs',\n",
       "       '49 kg • 108.03 lbs', '185 kg • 407.86 lbs',\n",
       "       '58.01 kg • 127.89 lbs', '52.16 kg • 114.99 lbs',\n",
       "       '75.7 kg • 166.89 lbs', '6 ton • 13,227.74 lbs',\n",
       "       '15.88 kg • 35.01 lbs', '87.09 kg • 192 lbs', '98.43 kg • 217 lbs',\n",
       "       '446.8 kg • 985.03 lbs', '1.27 ton • 2,804.28 lbs',\n",
       "       '117.9 kg • 259.93 lbs', '58 kg • 127.87 lbs',\n",
       "       '235 kg • 518.09 lbs', '47.7 kg • 105.16 lbs',\n",
       "       '7,450 ton • 16,424,438.52 lbs', '176.9 kg • 390 lbs',\n",
       "       '147.4 kg • 324.96 lbs', '62.14 kg • 137 lbs',\n",
       "       '47.3 kg • 104.28 lbs', '158 kg • 348.33 lbs',\n",
       "       '106.59 kg • 234.99 lbs', '40 kg • 88.18 lbs',\n",
       "       '96.16 kg • 212 lbs', '172 kg • 379.2 lbs', '106.59 kg • 235 lbs',\n",
       "       '47.2 kg • 104.06 lbs', '10.43 kg • 22.99 lbs',\n",
       "       '64.86 kg • 143 lbs', '55.62 kg • 122.63 lbs',\n",
       "       '28.12 kg • 61.99 lbs', '34.9 kg • 76.94 lbs',\n",
       "       '149.7 kg • 330.03 lbs', '3.08 ton • 6,800 lbs',\n",
       "       '95.2 kg • 209.88 lbs', '181.4 kg • 399.92 lbs',\n",
       "       '80,000 ton • 176,369,809.6 lbs', '38 kg • 83.78 lbs',\n",
       "       '38.6 kg • 85.1 lbs', '147.9 kg • 326.06 lbs',\n",
       "       '100 ton • 220,462.26 lbs', '190 kg • 418.88 lbs',\n",
       "       '46.3 kg • 102.07 lbs', '85.7 kg • 188.94 lbs',\n",
       "       '35 kg • 77.16 lbs', '163.3 kg • 360.01 lbs',\n",
       "       '249.5 kg • 550.05 lbs', '42 kg • 92.59 lbs',\n",
       "       '82,000 ton • 180,779,054.84 lbs', '67.5 kg • 148.81 lbs',\n",
       "       '44.45 kg • 98 lbs', '92.99 kg • 205.01 lbs', '68.04 kg • 150 lbs',\n",
       "       '77.11 kg • 170 lbs', '646.37 kg • 1,425 lbs', '44 kg • 97 lbs',\n",
       "       '34.93 kg • 77.01 lbs', '463.54 kg • 1,021.93 lbs',\n",
       "       '107.96 kg • 238 lbs', '682 kg • 1,503.55 lbs',\n",
       "       '204.12 kg • 450.01 lbs', '179.62 kg • 395.99 lbs',\n",
       "       '84.8 kg • 186.95 lbs', '136.08 ton • 300,000.64 lbs',\n",
       "       '213.2 kg • 470.03 lbs', '310 kg • 683.43 lbs',\n",
       "       '20 kg • 44.09 lbs', '100.7 kg • 222.01 lbs',\n",
       "       '174.6 kg • 384.93 lbs', '52.21 kg • 115.1 lbs',\n",
       "       '100.2 kg • 220.9 lbs', '55.3 kg • 121.92 lbs',\n",
       "       '310.7 kg • 684.98 lbs', '85,000 ton • 187,392,922.7 lbs',\n",
       "       '39,000 ton • 85,980,282.18 lbs', '32 kg • 70.55 lbs',\n",
       "       '43 kg • 94.8 lbs', '35.8 kg • 78.93 lbs',\n",
       "       '49,000 ton • 108,026,508.38 lbs', '202.8 kg • 447.1 lbs',\n",
       "       '325 kg • 716.5 lbs', '75.8 kg • 167.11 lbs',\n",
       "       '243.1 kg • 535.94 lbs', '161.03 kg • 355.01 lbs',\n",
       "       '83.92 kg • 185.01 lbs', '300,000 ton • 661,386,786 lbs',\n",
       "       '15.01 kg • 33.09 lbs', '118.8 kg • 261.91 lbs',\n",
       "       '117.93 kg • 260 lbs', '222.99 kg • 491.6 lbs',\n",
       "       '140.6 kg • 309.97 lbs', '27.22 kg • 60 lbs',\n",
       "       '244.94 kg • 540 lbs', '18,000 ton • 39,683,207.16 lbs',\n",
       "       '95.25 kg • 210 lbs', '78.5 kg • 173.06 lbs',\n",
       "       '929.9 kg • 2,050.08 lbs', '47.17 kg • 103.99 lbs',\n",
       "       '12.7 kg • 28 lbs', '2,412 ton • 5,317,549.76 lbs',\n",
       "       '2.27 ton • 5,000 lbs', '19 kg • 41.89 lbs', '6.9 kg • 15.21 lbs',\n",
       "       '10 kg • 22.05 lbs', '8.5 kg • 18.74 lbs', '3.2 kg • 7.05 lbs',\n",
       "       '79.83 kg • 176 lbs', '24.77 ton • 54,597.81 lbs',\n",
       "       '7.35 kg • 16.2 lbs', '17,700 ton • 39,021,820.37 lbs',\n",
       "       '149.23 kg • 329 lbs', '7,000 ton • 15,432,358.34 lbs',\n",
       "       '2,312 ton • 5,097,087.5 lbs', '45.81 kg • 101 lbs',\n",
       "       '51.3 kg • 113.1 lbs', '96.2 kg • 212.08 lbs',\n",
       "       '36.6 kg • 80.69 lbs', '430 kg • 947.99 lbs', '39 kg • 85.98 lbs',\n",
       "       '385.6 kg • 850.1 lbs', '415 kg • 914.92 lbs',\n",
       "       '823 kg • 1,814.4 lbs', '823.3 kg • 1,815.07 lbs',\n",
       "       '34.5 kg • 76.06 lbs', '172.37 kg • 380 lbs', '66 kg • 145.51 lbs',\n",
       "       '83.92 kg • 185 lbs', '362.87 kg • 799.99 lbs',\n",
       "       '163.29 kg • 359.99 lbs', '188.2 kg • 414.91 lbs',\n",
       "       '907.18 kg • 2,000 lbs', '104.8 kg • 231.04 lbs',\n",
       "       '405.1 kg • 893.09 lbs', '683 kg • 1,505.76 lbs',\n",
       "       '855.48 kg • 1,886.01 lbs', '6.49 kg • 14.3 lbs',\n",
       "       '63.1 kg • 139.11 lbs', '66.2 kg • 145.95 lbs',\n",
       "       '752.1 kg • 1,658.1 lbs', '36 kg • 79.37 lbs',\n",
       "       '50,000 ton • 110,231,131 lbs', '136 kg • 299.83 lbs',\n",
       "       '426.38 kg • 940 lbs', '499 kg • 1,100.11 lbs',\n",
       "       '18.14 ton • 40,000.01 lbs', '23,000 ton • 50,706,320.26 lbs',\n",
       "       '59.87 kg • 132 lbs', '60.78 kg • 134 lbs',\n",
       "       '56.25 kg • 124.01 lbs', '98 kg • 216.05 lbs',\n",
       "       '362.9 kg • 800.06 lbs', '73.03 kg • 161 lbs',\n",
       "       '89.36 kg • 197 lbs', '217.72 kg • 479.99 lbs',\n",
       "       '24 kg • 52.91 lbs', '81.65 ton • 179,999.85 lbs',\n",
       "       '88.45 kg • 195 lbs', '132 kg • 291.01 lbs',\n",
       "       '76.2 kg • 167.99 lbs', '650 kg • 1,433 lbs',\n",
       "       '148 kg • 326.28 lbs', '288 kg • 634.93 lbs',\n",
       "       '8,000 ton • 17,636,980.96 lbs', '500 ton • 1,102,311.31 lbs',\n",
       "       '1.09 ton • 2,399.95 lbs', '84.4 kg • 186.07 lbs',\n",
       "       '1.96 ton • 4,315.99 lbs', '115.2 kg • 253.97 lbs',\n",
       "       '101 kg • 222.67 lbs', '99 kg • 218.26 lbs',\n",
       "       '950 kg • 2,094.39 lbs', '167.83 kg • 370 lbs',\n",
       "       '3.72 ton • 8,200.09 lbs', '340.19 kg • 749.99 lbs',\n",
       "       '7,890 ton • 17,394,472.47 lbs', '115.21 kg • 253.99 lbs',\n",
       "       '521.63 kg • 1,150 lbs', '89.81 kg • 198 lbs',\n",
       "       '97.52 kg • 214.99 lbs', '208.55 kg • 459.77 lbs',\n",
       "       '120.2 kg • 265 lbs', '112.49 kg • 248 lbs',\n",
       "       '447.2 kg • 985.91 lbs', '142.88 kg • 315 lbs',\n",
       "       '67.6 kg • 149.03 lbs', '294.84 kg • 650.01 lbs',\n",
       "       '201 kg • 443.13 lbs', '92.99 kg • 205 lbs',\n",
       "       '273.5 kg • 602.96 lbs', '100,000 ton • 220,462,262 lbs',\n",
       "       '47.63 kg • 105.01 lbs', '59.87 kg • 131.99 lbs',\n",
       "       '166 kg • 365.97 lbs', '87.5 kg • 192.9 lbs',\n",
       "       '116 kg • 255.74 lbs', '49.4 kg • 108.91 lbs',\n",
       "       '68.4 kg • 150.8 lbs', '16,000 ton • 35,273,961.92 lbs',\n",
       "       '295 kg • 650.36 lbs', '180 kg • 396.83 lbs',\n",
       "       '20,500 ton • 45,194,763.71 lbs',\n",
       "       '2,147.48 ton • 4,734,390.92 lbs',\n",
       "       '480,000 ton • 1,058,218,857.6 lbs', '562 kg • 1,239 lbs',\n",
       "       '244.94 ton • 539,999.6 lbs', '48.5 kg • 106.92 lbs',\n",
       "       '231.3 kg • 509.93 lbs', '138.35 kg • 305.01 lbs',\n",
       "       '5,900 ton • 13,007,273.46 lbs', '60.33 kg • 133 lbs',\n",
       "       '160,000 ton • 352,739,619.2 lbs', '154.2 kg • 339.95 lbs',\n",
       "       '74.98 kg • 165.3 lbs', '61.24 kg • 135 lbs',\n",
       "       '110.7 kg • 244.05 lbs', '10 ton • 22,046.23 lbs',\n",
       "       '49.9 kg • 110 lbs', '7,864 ton • 17,337,152.28 lbs',\n",
       "       '50.5 kg • 111.33 lbs', '127 kg • 279.99 lbs',\n",
       "       '150,000 ton • 330,693,393 lbs', '306 kg • 674.61 lbs',\n",
       "       '4.1 kg • 9.04 lbs', '92.1 kg • 203.05 lbs',\n",
       "       '70.8 kg • 156.09 lbs', '32,000 ton • 70,547,923.84 lbs',\n",
       "       '408 kg • 899.49 lbs', '153 kg • 337.31 lbs',\n",
       "       '54.89 kg • 121.01 lbs', '165.1 kg • 363.98 lbs',\n",
       "       '8 kg • 17.64 lbs', '42.2 kg • 93.04 lbs', '126.1 kg • 278 lbs',\n",
       "       '52.16 kg • 115 lbs', '130.2 kg • 287.04 lbs',\n",
       "       '47.6 kg • 104.94 lbs', '680.4 kg • 1,500.03 lbs',\n",
       "       '80.7 kg • 177.91 lbs', '145.15 kg • 320 lbs',\n",
       "       '39.5 kg • 87.08 lbs', '116.1 kg • 255.96 lbs',\n",
       "       '105 kg • 231.49 lbs', '235.9 kg • 520.07 lbs',\n",
       "       '30 kg • 66.14 lbs', '89 kg • 196.21 lbs',\n",
       "       '274.42 ton • 604,999.59 lbs', '395 ton • 870,825.93 lbs',\n",
       "       '72.1 kg • 158.95 lbs', '204.12 kg • 450 lbs',\n",
       "       '83.01 kg • 183 lbs', '62.6 kg • 138.01 lbs',\n",
       "       '158.76 kg • 350.01 lbs', '24.9 kg • 54.9 lbs',\n",
       "       '453.59 ton • 999,999.18 lbs', '67.99 kg • 149.89 lbs',\n",
       "       '108 kg • 238.1 lbs', '47 kg • 103.62 lbs',\n",
       "       '231.01 kg • 509.29 lbs', '59.9 kg • 132.06 lbs',\n",
       "       '31.75 kg • 70 lbs', '71.67 kg • 158 lbs', '53.52 kg • 118 lbs',\n",
       "       '75.75 kg • 167 lbs', '294.84 kg • 650 lbs', '329.31 kg • 726 lbs',\n",
       "       '107.5 kg • 237 lbs', '2.2 ton • 4,850.17 lbs',\n",
       "       '3.72 ton • 8,193.04 lbs', '1,850 ton • 4,078,551.85 lbs',\n",
       "       '44.91 kg • 99.01 lbs', '181.44 kg • 400 lbs',\n",
       "       '207.3 kg • 457.02 lbs', '43.1 kg • 95.02 lbs',\n",
       "       '5.67 ton • 12,499.99 lbs', '170 kg • 374.79 lbs',\n",
       "       '28 kg • 61.73 lbs', '446.79 kg • 985 lbs',\n",
       "       '120,000 ton • 264,554,714.4 lbs', '65.3 kg • 143.96 lbs',\n",
       "       '147 kg • 324.08 lbs', '158.76 kg • 350 lbs',\n",
       "       '179.17 kg • 395 lbs', '58.97 kg • 130 lbs', '353.8 kg • 780 lbs',\n",
       "       '6.35 ton • 13,999.99 lbs', '208 kg • 458.56 lbs',\n",
       "       '66.3 kg • 146.17 lbs', '500 g • 1.1 lbs', '215.46 kg • 475 lbs',\n",
       "       '93.9 kg • 207.01 lbs', '111 kg • 244.71 lbs',\n",
       "       '1.43 ton • 3,141.59 lbs', '139.7 kg • 307.99 lbs',\n",
       "       '34 kg • 74.96 lbs', '65.32 kg • 144 lbs', '500 kg • 1,102.31 lbs',\n",
       "       '67.59 kg • 149 lbs', '52.62 kg • 116 lbs', '65.77 kg • 145 lbs',\n",
       "       '165 kg • 363.76 lbs', '233.1 kg • 513.9 lbs',\n",
       "       '9.07 ton • 19,999.9 lbs', '272.2 kg • 600.1 lbs',\n",
       "       '43.55 kg • 96.01 lbs', '125 kg • 275.58 lbs',\n",
       "       '129.73 kg • 286 lbs', '61.69 kg • 136 lbs', '29.48 kg • 65 lbs',\n",
       "       '105.2 kg • 231.93 lbs', '46 kg • 101.41 lbs', '900 g • 1.98 lbs',\n",
       "       '2.58 ton • 5,696.74 lbs', '109 kg • 240.3 lbs',\n",
       "       '2.9 kg • 6.39 lbs', '1.01 ton • 2,216.09 lbs',\n",
       "       '10.9 kg • 24.03 lbs', '908 kg • 2,001.8 lbs',\n",
       "       '58.06 ton • 127,999.9 lbs', '294.8 kg • 649.92 lbs',\n",
       "       '156 kg • 343.92 lbs', '137 kg • 302.03 lbs',\n",
       "       '139 kg • 306.44 lbs', '129 kg • 284.4 lbs', '110 kg • 242.51 lbs',\n",
       "       '88 kg • 194 lbs', '816 g • 1.8 lbs',\n",
       "       '343.96 ton • 758,292.27 lbs', '257 kg • 566.59 lbs',\n",
       "       '165.56 kg • 365 lbs', '301.6 kg • 664.91 lbs',\n",
       "       '700 kg • 1,543.24 lbs', '26,000 ton • 57,320,188.12 lbs',\n",
       "       '61,000 ton • 134,481,979.82 lbs', '155 kg • 341.72 lbs',\n",
       "       '75,000 ton • 165,346,696.5 lbs', '171.5 kg • 378.09 lbs',\n",
       "       '77.4 kg • 170.64 lbs', '85.3 kg • 188.05 lbs',\n",
       "       '9,071.85 ton • 19,999,998.88 lbs', '5,000 ton • 11,023,113.1 lbs',\n",
       "       '191 kg • 421.08 lbs', '164.02 kg • 361.6 lbs',\n",
       "       '154 kg • 339.51 lbs', '74.25 kg • 163.69 lbs',\n",
       "       '96 kg • 211.64 lbs', '83.01 kg • 183.01 lbs',\n",
       "       '70.31 kg • 155 lbs', '141,056 ton • 310,975,248.29 lbs',\n",
       "       '56.2 kg • 123.9 lbs', '131.1 kg • 289.03 lbs',\n",
       "       '69.8 kg • 153.88 lbs', '58.5 kg • 128.97 lbs',\n",
       "       '13 kg • 28.66 lbs', '340.2 kg • 750.01 lbs',\n",
       "       '44.3 kg • 97.66 lbs', '68.7 kg • 151.46 lbs',\n",
       "       '12.7 ton • 27,999.98 lbs', '9.9 kg • 21.83 lbs',\n",
       "       '125.2 kg • 276.02 lbs', '51.7 kg • 113.98 lbs',\n",
       "       '22 kg • 48.5 lbs', '19.5 kg • 42.99 lbs', '145.1 kg • 319.89 lbs',\n",
       "       '36.3 kg • 80.03 lbs', '3.34 ton • 7,361.19 lbs',\n",
       "       '28 g • 0.06 lbs', '22.68 kg • 50 lbs', '24.95 kg • 55.01 lbs',\n",
       "       '1.8 kg • 3.97 lbs', '115.7 kg • 255.07 lbs', '2.3 kg • 5.07 lbs',\n",
       "       '121.1 kg • 266.98 lbs', '68,000 ton • 149,914,338.16 lbs',\n",
       "       '336 kg • 740.75 lbs', '43.2 kg • 95.24 lbs', '69.4 kg • 153 lbs',\n",
       "       '179.99 kg • 396.8 lbs', '225.4 kg • 496.92 lbs',\n",
       "       '108.41 kg • 239 lbs', '61.24 kg • 135.01 lbs',\n",
       "       '283.5 kg • 625 lbs', '71.25 kg • 157.08 lbs',\n",
       "       '29.9 kg • 65.92 lbs', '4 kg • 8.82 lbs', '72.5 kg • 159.84 lbs',\n",
       "       '100.7 kg • 222 lbs', '3.5 kg • 7.72 lbs', '18.5 kg • 40.79 lbs',\n",
       "       '51.15 kg • 112.77 lbs', '544.3 kg • 1,199.98 lbs',\n",
       "       '133.99 kg • 295.4 lbs', '115 kg • 253.53 lbs',\n",
       "       '97 kg • 213.85 lbs', '66.1 kg • 145.73 lbs',\n",
       "       '1.65 ton • 3,637.63 lbs', '42.6 kg • 93.92 lbs',\n",
       "       '26.8 kg • 59.08 lbs', '408.23 kg • 900 lbs', '38.1 kg • 84 lbs',\n",
       "       '199.6 kg • 440.04 lbs', '72.57 kg • 159.99 lbs',\n",
       "       '5.9 kg • 13.01 lbs', '89.9 kg • 198.2 lbs', '2 kg • 4.41 lbs',\n",
       "       '243.81 kg • 537.51 lbs', '3.99 ton • 8,799.97 lbs',\n",
       "       '172.4 kg • 380.08 lbs', '136.08 kg • 300.01 lbs',\n",
       "       '135.6 kg • 298.95 lbs', '206.8 kg • 455.92 lbs',\n",
       "       '140.2 kg • 309.09 lbs', '453.59 kg • 999.99 lbs',\n",
       "       '35,000 ton • 77,161,791.7 lbs', '45,000 ton • 99,208,017.9 lbs',\n",
       "       '58,000 ton • 127,868,111.96 lbs',\n",
       "       '48,000 ton • 105,821,885.76 lbs',\n",
       "       '56,000 ton • 123,458,866.72 lbs',\n",
       "       '44,000 ton • 97,003,395.28 lbs', '9.98 ton • 21,999.93 lbs'],\n",
       "      dtype=object)"
      ]
     },
     "execution_count": 154,
     "metadata": {},
     "output_type": "execute_result"
    }
   ],
   "source": [
    "sups['Weight'].unique()"
   ]
  },
  {
   "cell_type": "code",
   "execution_count": 155,
   "id": "559fe1a1",
   "metadata": {},
   "outputs": [],
   "source": [
    "sups['weight_str'] = sups['Weight'].str.replace('lbs','')\n",
    "sups['weight_str'] = sups['weight_str'].str.replace('-','0')"
   ]
  },
  {
   "cell_type": "code",
   "execution_count": 156,
   "id": "98cebbb7",
   "metadata": {},
   "outputs": [],
   "source": [
    "sups['weight_str'] = sups['weight_str'].str.split('•').apply(lambda x: x[1].strip() if len(x)>1 else x[0].strip())"
   ]
  },
  {
   "cell_type": "code",
   "execution_count": 157,
   "id": "5a5a105b",
   "metadata": {},
   "outputs": [],
   "source": [
    "sups['weight_str'] = sups['weight_str'].str.split('.').apply(lambda x: x[0].strip())"
   ]
  },
  {
   "cell_type": "code",
   "execution_count": 158,
   "id": "c2910faf",
   "metadata": {},
   "outputs": [
    {
     "data": {
      "text/plain": [
       "dtype('O')"
      ]
     },
     "execution_count": 158,
     "metadata": {},
     "output_type": "execute_result"
    }
   ],
   "source": [
    "sups['weight_str'].dtype"
   ]
  },
  {
   "cell_type": "code",
   "execution_count": 159,
   "id": "727638ba",
   "metadata": {},
   "outputs": [],
   "source": [
    "sups['weight_str'] = sups['weight_str'].str.replace(',','')"
   ]
  },
  {
   "cell_type": "code",
   "execution_count": 160,
   "id": "43f24edd",
   "metadata": {},
   "outputs": [],
   "source": [
    "sups['weight_str'] = sups['weight_str'].astype(int)"
   ]
  },
  {
   "cell_type": "code",
   "execution_count": 161,
   "id": "f816e1ce",
   "metadata": {},
   "outputs": [
    {
     "data": {
      "text/plain": [
       "0"
      ]
     },
     "execution_count": 161,
     "metadata": {},
     "output_type": "execute_result"
    }
   ],
   "source": [
    "sups['weight_str'].min()"
   ]
  },
  {
   "cell_type": "code",
   "execution_count": 162,
   "id": "234e56ff",
   "metadata": {},
   "outputs": [
    {
     "data": {
      "text/plain": [
       "1058218857"
      ]
     },
     "execution_count": 162,
     "metadata": {},
     "output_type": "execute_result"
    }
   ],
   "source": [
    "sups['weight_str'].max()"
   ]
  },
  {
   "cell_type": "code",
   "execution_count": 163,
   "id": "9206d97b",
   "metadata": {},
   "outputs": [],
   "source": [
    "def process_weight(value):\n",
    "    if value <= 0:\n",
    "        return 'weightunknown'\n",
    "    elif 1 <= value <= 1000:\n",
    "        return \"weight1-1000\"\n",
    "    elif 1001 <= value <= 5000:\n",
    "        return \"weight1001-5000\"\n",
    "    \n",
    "    elif 5001 <= value <= 10000:\n",
    "        return \"weight5001-10000\"\n",
    "    \n",
    "    elif 10001 <= value <= 100000:\n",
    "        return \"weight10001-100000\"\n",
    "    elif 100001 <= value <= 1000000:\n",
    "        return \"weight100001-1000000\"\n",
    "    elif 1000001 <= value <= 10000000:\n",
    "        return \"weight1000001-10000000\"\n",
    "    \n",
    "    elif 10000001 <= value <= 100000000:\n",
    "        return \"weight10000001-100000000\"\n",
    "    elif 100000001 <= value <= 1000000000:\n",
    "        return \"weight100000001-1000000000\"\n",
    "    else:\n",
    "        return \"weightoutofrange\""
   ]
  },
  {
   "cell_type": "code",
   "execution_count": 164,
   "id": "3b35fa5a",
   "metadata": {},
   "outputs": [],
   "source": [
    "sups.weight_str = sups.weight_str.apply(process_weight)"
   ]
  },
  {
   "cell_type": "code",
   "execution_count": 165,
   "id": "b53c791b",
   "metadata": {},
   "outputs": [
    {
     "data": {
      "text/plain": [
       "array(['weight1-1000', 'weightunknown', 'weight100001-1000000',\n",
       "       'weight1001-5000', 'weight10000001-100000000',\n",
       "       'weight100000001-1000000000', 'weight10001-100000',\n",
       "       'weight5001-10000', 'weight1000001-10000000', 'weightoutofrange'],\n",
       "      dtype=object)"
      ]
     },
     "execution_count": 165,
     "metadata": {},
     "output_type": "execute_result"
    }
   ],
   "source": [
    "sups.weight_str.unique()"
   ]
  },
  {
   "cell_type": "code",
   "execution_count": 166,
   "id": "7d17ffe1",
   "metadata": {},
   "outputs": [
    {
     "data": {
      "text/html": [
       "<div>\n",
       "<style scoped>\n",
       "    .dataframe tbody tr th:only-of-type {\n",
       "        vertical-align: middle;\n",
       "    }\n",
       "\n",
       "    .dataframe tbody tr th {\n",
       "        vertical-align: top;\n",
       "    }\n",
       "\n",
       "    .dataframe thead th {\n",
       "        text-align: right;\n",
       "    }\n",
       "</style>\n",
       "<table border=\"1\" class=\"dataframe\">\n",
       "  <thead>\n",
       "    <tr style=\"text-align: right;\">\n",
       "      <th></th>\n",
       "      <th>Alignment</th>\n",
       "      <th>Character</th>\n",
       "      <th>Combat</th>\n",
       "      <th>Creator</th>\n",
       "      <th>Durability</th>\n",
       "      <th>Gender</th>\n",
       "      <th>Height</th>\n",
       "      <th>IQ</th>\n",
       "      <th>Intelligence</th>\n",
       "      <th>Level</th>\n",
       "      <th>Place_of_birth</th>\n",
       "      <th>Power</th>\n",
       "      <th>Species</th>\n",
       "      <th>Speed</th>\n",
       "      <th>Speed_velocity</th>\n",
       "      <th>Strength</th>\n",
       "      <th>Strength_force</th>\n",
       "      <th>Super_powers</th>\n",
       "      <th>Tier</th>\n",
       "      <th>Universe</th>\n",
       "      <th>Weight</th>\n",
       "      <th>combat_str</th>\n",
       "      <th>durability_str</th>\n",
       "      <th>height_str</th>\n",
       "      <th>IQ_str</th>\n",
       "      <th>intelligence_str</th>\n",
       "      <th>level_str</th>\n",
       "      <th>power_str</th>\n",
       "      <th>speed_str</th>\n",
       "      <th>speed_velocity_str</th>\n",
       "      <th>strength_str</th>\n",
       "      <th>strength_force</th>\n",
       "      <th>tier_str</th>\n",
       "      <th>weight_str</th>\n",
       "    </tr>\n",
       "  </thead>\n",
       "  <tbody>\n",
       "    <tr>\n",
       "      <th>0</th>\n",
       "      <td>Good</td>\n",
       "      <td>Alucard</td>\n",
       "      <td>80</td>\n",
       "      <td>Konami</td>\n",
       "      <td>35</td>\n",
       "      <td>Male</td>\n",
       "      <td>191 cm • 6'3.2\"</td>\n",
       "      <td>140</td>\n",
       "      <td>70</td>\n",
       "      <td>3</td>\n",
       "      <td>Unknown</td>\n",
       "      <td>60</td>\n",
       "      <td>Human</td>\n",
       "      <td>30</td>\n",
       "      <td>2000</td>\n",
       "      <td>30</td>\n",
       "      <td>100000</td>\n",
       "      <td>acceleratedhealing,agility,berserkmode,bloodlu...</td>\n",
       "      <td>2</td>\n",
       "      <td>C17S</td>\n",
       "      <td>82 kg • 180.78 lbs</td>\n",
       "      <td>combat76to80</td>\n",
       "      <td>durability35</td>\n",
       "      <td>height0-5</td>\n",
       "      <td>140</td>\n",
       "      <td>intelligence66to70</td>\n",
       "      <td>level3</td>\n",
       "      <td>power56to60</td>\n",
       "      <td>speed26to30</td>\n",
       "      <td>sv1001-5000</td>\n",
       "      <td>strength26to30</td>\n",
       "      <td>sf10001-100000</td>\n",
       "      <td>tier2</td>\n",
       "      <td>weight1-1000</td>\n",
       "    </tr>\n",
       "    <tr>\n",
       "      <th>6</th>\n",
       "      <td>Neutral</td>\n",
       "      <td>Bayonetta</td>\n",
       "      <td>90</td>\n",
       "      <td>Sega</td>\n",
       "      <td>75</td>\n",
       "      <td>Female</td>\n",
       "      <td>231.1 cm • 7'7\"</td>\n",
       "      <td>155</td>\n",
       "      <td>80</td>\n",
       "      <td>5</td>\n",
       "      <td>Unknown</td>\n",
       "      <td>100</td>\n",
       "      <td>Human</td>\n",
       "      <td>50</td>\n",
       "      <td>2997925</td>\n",
       "      <td>55</td>\n",
       "      <td>1000000</td>\n",
       "      <td>agility,chainmanipulation,durability,energyabs...</td>\n",
       "      <td>4</td>\n",
       "      <td>Bayonetta</td>\n",
       "      <td>90.7 kg • 199.96 lbs</td>\n",
       "      <td>combat86to90</td>\n",
       "      <td>durability75</td>\n",
       "      <td>height0-5</td>\n",
       "      <td>155</td>\n",
       "      <td>intelligence76to80</td>\n",
       "      <td>level5</td>\n",
       "      <td>power96to100</td>\n",
       "      <td>speed46to50</td>\n",
       "      <td>sv1000001-10000000</td>\n",
       "      <td>strength51to55</td>\n",
       "      <td>sf100001-1000000</td>\n",
       "      <td>tier4</td>\n",
       "      <td>weight1-1000</td>\n",
       "    </tr>\n",
       "    <tr>\n",
       "      <th>8</th>\n",
       "      <td>Good</td>\n",
       "      <td>Adam</td>\n",
       "      <td>40</td>\n",
       "      <td>None</td>\n",
       "      <td>15</td>\n",
       "      <td>Male</td>\n",
       "      <td>-</td>\n",
       "      <td>110</td>\n",
       "      <td>55</td>\n",
       "      <td>1</td>\n",
       "      <td>Unknown</td>\n",
       "      <td>35</td>\n",
       "      <td>Human</td>\n",
       "      <td>10</td>\n",
       "      <td>18</td>\n",
       "      <td>25</td>\n",
       "      <td>8000</td>\n",
       "      <td>acrobatics,agility,durability,jump,stamina,sup...</td>\n",
       "      <td>1</td>\n",
       "      <td>The Hollow</td>\n",
       "      <td>-</td>\n",
       "      <td>combat36to40</td>\n",
       "      <td>durability15</td>\n",
       "      <td>heighthuge</td>\n",
       "      <td>110</td>\n",
       "      <td>intelligence51to55</td>\n",
       "      <td>level1</td>\n",
       "      <td>power31to35</td>\n",
       "      <td>speed6to10</td>\n",
       "      <td>sv1-1000</td>\n",
       "      <td>strength21to25</td>\n",
       "      <td>sf5001-10000</td>\n",
       "      <td>tier1</td>\n",
       "      <td>weightunknown</td>\n",
       "    </tr>\n",
       "    <tr>\n",
       "      <th>10</th>\n",
       "      <td>Bad</td>\n",
       "      <td>Alessi</td>\n",
       "      <td>11</td>\n",
       "      <td>None</td>\n",
       "      <td>5</td>\n",
       "      <td>Male</td>\n",
       "      <td>-</td>\n",
       "      <td>98</td>\n",
       "      <td>50</td>\n",
       "      <td>1</td>\n",
       "      <td>Unknown</td>\n",
       "      <td>35</td>\n",
       "      <td>Human</td>\n",
       "      <td>1</td>\n",
       "      <td>2</td>\n",
       "      <td>1</td>\n",
       "      <td>83</td>\n",
       "      <td>agemanipulation,animatedshadow,powernullifier,...</td>\n",
       "      <td>1</td>\n",
       "      <td>JJBA</td>\n",
       "      <td>-</td>\n",
       "      <td>combat11to15</td>\n",
       "      <td>durability5</td>\n",
       "      <td>heighthuge</td>\n",
       "      <td>98</td>\n",
       "      <td>intelligence46to50</td>\n",
       "      <td>level1</td>\n",
       "      <td>power31to35</td>\n",
       "      <td>speed1to5</td>\n",
       "      <td>sv1-1000</td>\n",
       "      <td>strength1to5</td>\n",
       "      <td>sf1-1000</td>\n",
       "      <td>tier1</td>\n",
       "      <td>weightunknown</td>\n",
       "    </tr>\n",
       "    <tr>\n",
       "      <th>13</th>\n",
       "      <td>Bad</td>\n",
       "      <td>Bad Ben</td>\n",
       "      <td>60</td>\n",
       "      <td>Cartoon Network</td>\n",
       "      <td>60</td>\n",
       "      <td>Male</td>\n",
       "      <td>-</td>\n",
       "      <td>130</td>\n",
       "      <td>65</td>\n",
       "      <td>3</td>\n",
       "      <td>Unknown</td>\n",
       "      <td>70</td>\n",
       "      <td>None</td>\n",
       "      <td>80</td>\n",
       "      <td>290000000</td>\n",
       "      <td>50</td>\n",
       "      <td>400000</td>\n",
       "      <td>blackholemanipulation,durability,intangibility...</td>\n",
       "      <td>4</td>\n",
       "      <td>Earth-616</td>\n",
       "      <td>-</td>\n",
       "      <td>combat56to60</td>\n",
       "      <td>durability60</td>\n",
       "      <td>heighthuge</td>\n",
       "      <td>130</td>\n",
       "      <td>intelligence61to65</td>\n",
       "      <td>level3</td>\n",
       "      <td>power66to70</td>\n",
       "      <td>speed76to80</td>\n",
       "      <td>sv100000001-1000000000</td>\n",
       "      <td>strength46to50</td>\n",
       "      <td>sf100001-1000000</td>\n",
       "      <td>tier4</td>\n",
       "      <td>weightunknown</td>\n",
       "    </tr>\n",
       "  </tbody>\n",
       "</table>\n",
       "</div>"
      ],
      "text/plain": [
       "   Alignment  Character  Combat          Creator  Durability  Gender  \\\n",
       "0       Good    Alucard      80           Konami          35    Male   \n",
       "6    Neutral  Bayonetta      90             Sega          75  Female   \n",
       "8       Good       Adam      40             None          15    Male   \n",
       "10       Bad     Alessi      11             None           5    Male   \n",
       "13       Bad    Bad Ben      60  Cartoon Network          60    Male   \n",
       "\n",
       "             Height   IQ  Intelligence  Level Place_of_birth  Power Species  \\\n",
       "0   191 cm • 6'3.2\"  140            70      3        Unknown     60   Human   \n",
       "6   231.1 cm • 7'7\"  155            80      5        Unknown    100   Human   \n",
       "8                 -  110            55      1        Unknown     35   Human   \n",
       "10                -   98            50      1        Unknown     35   Human   \n",
       "13                -  130            65      3        Unknown     70    None   \n",
       "\n",
       "    Speed  Speed_velocity  Strength  Strength_force  \\\n",
       "0      30            2000        30          100000   \n",
       "6      50         2997925        55         1000000   \n",
       "8      10              18        25            8000   \n",
       "10      1               2         1              83   \n",
       "13     80       290000000        50          400000   \n",
       "\n",
       "                                         Super_powers  Tier    Universe  \\\n",
       "0   acceleratedhealing,agility,berserkmode,bloodlu...     2        C17S   \n",
       "6   agility,chainmanipulation,durability,energyabs...     4   Bayonetta   \n",
       "8   acrobatics,agility,durability,jump,stamina,sup...     1  The Hollow   \n",
       "10  agemanipulation,animatedshadow,powernullifier,...     1        JJBA   \n",
       "13  blackholemanipulation,durability,intangibility...     4   Earth-616   \n",
       "\n",
       "                  Weight    combat_str durability_str  height_str  IQ_str  \\\n",
       "0     82 kg • 180.78 lbs  combat76to80   durability35   height0-5     140   \n",
       "6   90.7 kg • 199.96 lbs  combat86to90   durability75   height0-5     155   \n",
       "8                      -  combat36to40   durability15  heighthuge     110   \n",
       "10                     -  combat11to15    durability5  heighthuge      98   \n",
       "13                     -  combat56to60   durability60  heighthuge     130   \n",
       "\n",
       "      intelligence_str level_str     power_str    speed_str  \\\n",
       "0   intelligence66to70    level3   power56to60  speed26to30   \n",
       "6   intelligence76to80    level5  power96to100  speed46to50   \n",
       "8   intelligence51to55    level1   power31to35   speed6to10   \n",
       "10  intelligence46to50    level1   power31to35    speed1to5   \n",
       "13  intelligence61to65    level3   power66to70  speed76to80   \n",
       "\n",
       "        speed_velocity_str    strength_str    strength_force tier_str  \\\n",
       "0              sv1001-5000  strength26to30    sf10001-100000    tier2   \n",
       "6       sv1000001-10000000  strength51to55  sf100001-1000000    tier4   \n",
       "8                 sv1-1000  strength21to25      sf5001-10000    tier1   \n",
       "10                sv1-1000    strength1to5          sf1-1000    tier1   \n",
       "13  sv100000001-1000000000  strength46to50  sf100001-1000000    tier4   \n",
       "\n",
       "       weight_str  \n",
       "0    weight1-1000  \n",
       "6    weight1-1000  \n",
       "8   weightunknown  \n",
       "10  weightunknown  \n",
       "13  weightunknown  "
      ]
     },
     "execution_count": 166,
     "metadata": {},
     "output_type": "execute_result"
    }
   ],
   "source": [
    "sups.head()"
   ]
  },
  {
   "cell_type": "code",
   "execution_count": 167,
   "id": "15ddfa96",
   "metadata": {},
   "outputs": [],
   "source": [
    "#sups = sups.reset_index()"
   ]
  },
  {
   "cell_type": "code",
   "execution_count": 169,
   "id": "d07bcac0",
   "metadata": {},
   "outputs": [],
   "source": [
    "#sups.drop(columns=['index'],inplace=True)"
   ]
  },
  {
   "cell_type": "markdown",
   "id": "376b5092",
   "metadata": {},
   "source": [
    "### Cleaning completed"
   ]
  },
  {
   "cell_type": "code",
   "execution_count": 170,
   "id": "14ee4d12",
   "metadata": {},
   "outputs": [
    {
     "data": {
      "text/plain": [
       "['Alucard',\n",
       " 'Bayonetta',\n",
       " 'Adam',\n",
       " 'Alessi',\n",
       " 'Bad Ben',\n",
       " 'Aldrich Killian',\n",
       " 'Alpha-Hydranoid',\n",
       " 'Alphonse Elric',\n",
       " 'Batwoman',\n",
       " 'Android 16',\n",
       " 'Android 17',\n",
       " 'Anton (Cosmoball)',\n",
       " 'Archangel',\n",
       " 'Asaka Narumi',\n",
       " 'Augusto Gaez',\n",
       " 'Augustus Rookwood',\n",
       " 'Alduin',\n",
       " 'Alea',\n",
       " 'Alec',\n",
       " 'Alrund (God of the Cosmos)',\n",
       " 'Altaïr',\n",
       " 'Altair (Military Uniform Princess)',\n",
       " 'Batzarro',\n",
       " 'Android 18',\n",
       " 'Android 19',\n",
       " 'Actrise',\n",
       " 'Ad-W4',\n",
       " 'Ada Wong',\n",
       " 'Agony (Carnage-Infested)',\n",
       " 'Antonin Dolohov',\n",
       " 'Archelus (EDF5)',\n",
       " 'Aule The Toolsmith (True Form)',\n",
       " 'Badrock',\n",
       " 'Alter Ego',\n",
       " 'Agrus Kos',\n",
       " 'Arya Shadeslayer',\n",
       " 'Arya Stark',\n",
       " 'Augus',\n",
       " 'Artume',\n",
       " 'Arvin Sloane',\n",
       " 'Atum (The Slayer of Gods)',\n",
       " 'Aldamon',\n",
       " 'Alpha Vampire',\n",
       " 'Acnologia',\n",
       " 'Antlar',\n",
       " 'Arch Illager',\n",
       " 'Barret',\n",
       " 'Barrin',\n",
       " 'Arwen',\n",
       " 'Attack Titan',\n",
       " 'Alcatraz',\n",
       " 'Alcina Dimitrescu',\n",
       " 'Acid Breath',\n",
       " 'Aggregor',\n",
       " 'Agira (Capsule Monster)',\n",
       " 'Arceus',\n",
       " 'Battra',\n",
       " 'Batwing',\n",
       " 'Agent Zero',\n",
       " 'Anti-Venom (Klyntar Symbiote)',\n",
       " 'Anti-Venom II (Klyntar Symbiote)',\n",
       " 'Anti-Vision',\n",
       " 'Battlestar',\n",
       " 'Agent Venom',\n",
       " 'Arcadia',\n",
       " 'Baron Zemo',\n",
       " 'Articuno',\n",
       " 'Atsushi Nakajima',\n",
       " 'Ace Ventura',\n",
       " 'Anti-Spiral',\n",
       " 'Baroness Blood',\n",
       " 'Albus',\n",
       " 'Anti-Monitor (Death Metal)',\n",
       " 'Anti-Monitor (Reversion)',\n",
       " 'Anti-Monitor (Sixth Dimension)',\n",
       " 'Arcades Sabboth',\n",
       " 'Alatreon',\n",
       " 'Battle Fire',\n",
       " 'Ace Killer',\n",
       " 'Agent Smith',\n",
       " 'Anti-Monitor',\n",
       " 'Arbok',\n",
       " 'Arc',\n",
       " 'Albedo',\n",
       " 'Atomix',\n",
       " \"Atraxa, Praetors' Voice\",\n",
       " 'Baal (Lord Of Destruction)',\n",
       " 'Alastor',\n",
       " 'Battle Beast',\n",
       " 'Ancient One',\n",
       " 'Agent Saito (Commander)',\n",
       " 'Anti-Man (Herald Of Galactus Life Bringer)',\n",
       " 'Atreus',\n",
       " 'Atrocitus',\n",
       " 'Baron Strucker',\n",
       " 'Atomic X',\n",
       " 'B.O.B.',\n",
       " 'Ancalagon',\n",
       " 'Ancano',\n",
       " 'Ace',\n",
       " 'Agent Of Source Wall',\n",
       " 'Araquel',\n",
       " 'Baron Nashor',\n",
       " 'Artemis Entreri (Forgotten Realms)',\n",
       " 'Atomic Samurai',\n",
       " 'Alan Sylvasta',\n",
       " 'Allura In-Ze',\n",
       " 'Acacius',\n",
       " 'Accelerator',\n",
       " 'Anti Null',\n",
       " 'Allosaurus',\n",
       " 'Batroc The Leaper',\n",
       " 'Anastasia Ainsworth',\n",
       " 'Anthony Stark (Third A.I.)',\n",
       " 'Batroc',\n",
       " 'Abyss (Ex Nihilo)',\n",
       " 'Abyss Watchers',\n",
       " 'Anthony Haden-Scott (EVO Form)',\n",
       " 'Araji',\n",
       " 'Arakko',\n",
       " 'Baron Mordo',\n",
       " 'Ant-Venom',\n",
       " 'Aragog',\n",
       " 'Atom Smasher',\n",
       " 'Anakin Skywalker',\n",
       " 'Agent Greta III',\n",
       " 'Agent Greta IV',\n",
       " 'Baron Draxum',\n",
       " 'Baron Dreadbane',\n",
       " 'Atom Eve',\n",
       " 'Alan Albright',\n",
       " 'Baron Blade',\n",
       " 'Ōetsu Nimaiya',\n",
       " \"Allen O'Neil\",\n",
       " 'Allen Walker',\n",
       " 'Batman The Silenced',\n",
       " 'Batman Who Frags',\n",
       " 'Allegra Garcia',\n",
       " 'Allen',\n",
       " \"Batman (Superman's Powers)\",\n",
       " 'Anais Watterson',\n",
       " 'Agent Greta I',\n",
       " 'Agent Greta II',\n",
       " 'Arachne Gorgon',\n",
       " 'Batman (Mobius Chair)',\n",
       " 'Batman (Stealth Suit)',\n",
       " 'Arachne',\n",
       " 'Batman (Final Batsuit)',\n",
       " 'Absolute Zero',\n",
       " 'Absorbing Man',\n",
       " 'Agent Coulson',\n",
       " 'Barney Ross',\n",
       " 'Batman (2022)',\n",
       " 'Atom',\n",
       " 'Akuma',\n",
       " 'Batman (Battle-Suit)',\n",
       " 'Ant-Man',\n",
       " 'Barlowe',\n",
       " 'Atli',\n",
       " 'Azulongmon',\n",
       " 'Akshan',\n",
       " 'Aksis, Archon Prime',\n",
       " 'All-Mother Frigga',\n",
       " 'Amy',\n",
       " 'Agent 47 (2015)',\n",
       " 'Anos Voldigoad',\n",
       " 'Atlas',\n",
       " 'All-Black',\n",
       " 'All-Father Bor',\n",
       " 'Aquarius Camus',\n",
       " 'Barley Lightfoot',\n",
       " 'Arsenal',\n",
       " 'Akroma',\n",
       " 'All-Father Thor',\n",
       " 'Batman',\n",
       " 'Abraxas',\n",
       " 'Bardock (Super Saiyan)',\n",
       " 'Atlanna',\n",
       " 'Atlantiades',\n",
       " 'Andromeda Tonks',\n",
       " 'Amuro Ray (RX-78-2 Gundam)',\n",
       " 'Bardock',\n",
       " 'Arnim Zola (What If..?)',\n",
       " 'Barbatos',\n",
       " 'Annus (The End)',\n",
       " 'Above All Others',\n",
       " 'Alito',\n",
       " 'Arnim Zola',\n",
       " 'Annihilus',\n",
       " 'Aboras',\n",
       " 'Azir',\n",
       " 'Aziraphale',\n",
       " 'Annihilation',\n",
       " 'Azelf',\n",
       " 'Azazel',\n",
       " 'Annie',\n",
       " 'Barbara Kean',\n",
       " 'Azashiro Kenpachi',\n",
       " 'Barbamon',\n",
       " 'Alien Zetton',\n",
       " 'Asura',\n",
       " 'Baragon (GMK)',\n",
       " 'Aqualad',\n",
       " 'Baraggan',\n",
       " 'Anna Wu',\n",
       " 'Aeturnum',\n",
       " 'Ayo',\n",
       " 'Baphomet',\n",
       " 'Alien Mefilas',\n",
       " 'Akaza (Kimetsu No Yaiba)',\n",
       " 'Astronomer',\n",
       " 'Abernathy',\n",
       " 'Amira',\n",
       " 'Alien Magma',\n",
       " \"Akash'bhuta\",\n",
       " 'Astro Boy',\n",
       " 'Astrodactyl',\n",
       " 'Ayato Kirishima',\n",
       " 'Arkea',\n",
       " 'Alien',\n",
       " 'Astrid',\n",
       " 'Ayanami',\n",
       " 'Banshee',\n",
       " 'Astral',\n",
       " 'Bane-mite',\n",
       " 'Ames White',\n",
       " 'Aya Shameimaru',\n",
       " 'Ayame',\n",
       " 'Bane (Origins)',\n",
       " 'Aeon',\n",
       " 'Arishem The Judge',\n",
       " 'Aniraza',\n",
       " 'Axel Stone',\n",
       " 'Bane',\n",
       " 'Aegis',\n",
       " 'Bathound',\n",
       " 'Asterix',\n",
       " 'Axel',\n",
       " 'Appa',\n",
       " 'Animal Man',\n",
       " 'Ajak',\n",
       " 'Aries Shion',\n",
       " 'Asta',\n",
       " 'Astaroth',\n",
       " 'Bandanna Waddle Dee',\n",
       " 'Apollonir',\n",
       " 'BanchouLeomon',\n",
       " 'Adonis Creed',\n",
       " 'Alibaba',\n",
       " 'Aizen (Muken)',\n",
       " 'Aviva',\n",
       " 'Avos Dilhevia',\n",
       " 'Angrath (Post-Mending)',\n",
       " 'Ambush Bug',\n",
       " 'Aspirant',\n",
       " 'Asriel Dreemurr',\n",
       " 'Avenger X',\n",
       " 'Aviendha',\n",
       " 'Bambietta',\n",
       " 'Aatrox (Sealed)',\n",
       " 'Batcow',\n",
       " 'Apollo',\n",
       " 'Bat-Mite',\n",
       " 'Argus',\n",
       " 'Avatar Of The White',\n",
       " 'Avatar Roku',\n",
       " 'Avatar Korra',\n",
       " 'Avatar Of Evil',\n",
       " 'Balrog',\n",
       " 'Argit',\n",
       " 'Apocalypse',\n",
       " 'Angela',\n",
       " 'Askin Nakk Le Vaar',\n",
       " 'Avar Kriss',\n",
       " 'Angel Salvadore',\n",
       " 'Air Raider (EDF5)',\n",
       " 'Air Elementor',\n",
       " 'Avalon',\n",
       " 'Ball Weevil',\n",
       " 'Asia',\n",
       " 'Bastion',\n",
       " 'Baldur',\n",
       " 'Balerion',\n",
       " 'Angel Dust',\n",
       " 'Ava Sharpe',\n",
       " 'Avacyn',\n",
       " 'Apocalymon',\n",
       " 'Balder',\n",
       " 'A.M.A.Z.O',\n",
       " 'A.G.O.T.I',\n",
       " 'A.I.M. Agent',\n",
       " 'Aiger Akabane',\n",
       " 'Bast',\n",
       " 'Ares',\n",
       " 'Adel',\n",
       " 'A-Qing (Sword of the Yue Maiden)',\n",
       " 'A-Train',\n",
       " 'Ashiok (Post-Mending)',\n",
       " 'Aphrodite',\n",
       " 'Bakugo(One For All)',\n",
       " 'A Capella',\n",
       " 'A-Bomb',\n",
       " 'Aurora De Martel',\n",
       " 'Aphelios',\n",
       " 'Apex Predator',\n",
       " 'Baki',\n",
       " 'Adamai',\n",
       " 'Amanda',\n",
       " 'Aurora',\n",
       " 'A (Fourth Raikage)',\n",
       " 'Angel',\n",
       " 'Amalia (sadida goddes)',\n",
       " 'Ahura Mazda',\n",
       " 'Basil',\n",
       " 'Ash-Greninja',\n",
       " 'Aurelion Sol',\n",
       " \"Ap'lek\",\n",
       " 'Bai Xiaochun',\n",
       " 'Baihumon',\n",
       " 'Ahsoka Tano',\n",
       " 'Bash',\n",
       " 'Ardina',\n",
       " 'Ardeth Bay',\n",
       " 'Aokiji',\n",
       " 'Aoi Todo',\n",
       " '3-D Man',\n",
       " \"Alex O'Connell\",\n",
       " 'Ahriman',\n",
       " 'Baryonyx',\n",
       " 'Bagramon',\n",
       " 'Bahamut',\n",
       " 'Adam Smasher',\n",
       " 'Amadeus Cho',\n",
       " '2B',\n",
       " 'Barty Crouch Sr',\n",
       " 'Alucard (Post-Schrodinger)',\n",
       " 'Andromeda Shun',\n",
       " 'Bagalore',\n",
       " 'Bagan (SNES)',\n",
       " 'Andvari',\n",
       " 'Adam Jensen',\n",
       " '10,000 Volt Ghost',\n",
       " 'Alex',\n",
       " 'Agunimon',\n",
       " 'Aguja',\n",
       " 'Aguilar',\n",
       " 'Biggy Man',\n",
       " 'Bucky Barnes',\n",
       " 'Chilled',\n",
       " 'Chihiro Yoshioka (Fused w/Shuichi)',\n",
       " 'Chiaotzu',\n",
       " 'Chewbacca',\n",
       " 'Cheshire',\n",
       " 'Chat Blanc (Alternate Future)',\n",
       " 'Charmcaster',\n",
       " 'Charlie Weasley',\n",
       " 'Chara',\n",
       " 'Casey',\n",
       " 'Carter Kane',\n",
       " 'Caroline Forbes',\n",
       " 'Carol Rhodes',\n",
       " 'Carnotaurus',\n",
       " 'Carnom',\n",
       " 'Carnage (Klyntar Symbiote)',\n",
       " 'Carnage (Cubed)',\n",
       " 'Carnage',\n",
       " 'Cardo',\n",
       " 'Carcharoth',\n",
       " 'Carapace',\n",
       " 'Caranthir',\n",
       " 'Cara Dune',\n",
       " 'Captain Viktor Reznov',\n",
       " 'Captain Universe',\n",
       " 'Captain Thomas A. Merrick',\n",
       " 'Captain Marvel',\n",
       " 'Captain Mar-vell',\n",
       " 'Captain Man',\n",
       " 'Captain Luthor',\n",
       " 'Captain Hindsight',\n",
       " 'Captain Ginyu',\n",
       " 'Captain Gantu',\n",
       " 'Captain Cosmic',\n",
       " 'Captain Cold',\n",
       " 'Captain Carter (What If...?)',\n",
       " 'Captain Carter (Earth 838)',\n",
       " 'Captain Britain',\n",
       " 'Captain Awesome',\n",
       " 'Captain Atom (Fused with Void)',\n",
       " 'Captain Atom',\n",
       " 'Captain America (Worthy)',\n",
       " 'Captain America (Phoenix Force)',\n",
       " 'Captain America (Infinity Gauntlet)',\n",
       " 'Captain America',\n",
       " 'Camazotz',\n",
       " 'Callus The Void',\n",
       " 'Callum',\n",
       " 'Callisto',\n",
       " 'Cal Kestis',\n",
       " 'Cal',\n",
       " 'Caitlyn',\n",
       " 'Caiera',\n",
       " 'Cad Bane',\n",
       " 'Cable',\n",
       " 'Cabba',\n",
       " 'C.Y.T.R.O.',\n",
       " 'C-3PO',\n",
       " 'Buuhan',\n",
       " 'Buu (Grand Supreme Kai Manifested)',\n",
       " 'Buu (Good)',\n",
       " 'Buttercup',\n",
       " 'Bushman',\n",
       " 'Burning Godzilla',\n",
       " 'Burke',\n",
       " 'Bunker',\n",
       " 'Bumi',\n",
       " 'Bumblebee',\n",
       " 'Bullton',\n",
       " 'Bullseye',\n",
       " 'Bullfrag',\n",
       " 'Buggy The Clown',\n",
       " \"Bucky O'Hare\",\n",
       " 'BT-7274',\n",
       " 'Bryce Larkin',\n",
       " 'Brutalight Sparcake',\n",
       " 'Bruno',\n",
       " 'Bruce Almighty',\n",
       " 'Brother Blood (Cyborg)',\n",
       " 'Bronn',\n",
       " 'Broly (Super Saiyan)',\n",
       " 'Broly (Dragon Ball Super)',\n",
       " 'Broly',\n",
       " 'Brin',\n",
       " 'Brian Banner',\n",
       " 'Brand',\n",
       " 'Brainstorm',\n",
       " 'Brainiac 5',\n",
       " 'Black Siren (Earth Two)',\n",
       " 'Black Priests',\n",
       " 'Black Panther (1,000,000 B.C.)',\n",
       " 'Black Panther',\n",
       " 'Black Mask',\n",
       " 'Black Manta',\n",
       " 'Black Lightning',\n",
       " 'Black Lantern',\n",
       " 'Black Knight',\n",
       " 'Black Goliath',\n",
       " 'Black Cat (Yggdrasil Staff)',\n",
       " 'Black Cat',\n",
       " 'Black Canary II',\n",
       " 'Black Bolt (Earth 838)',\n",
       " 'Black Alice',\n",
       " 'Black Adam',\n",
       " 'BITT',\n",
       " 'Bishop Heahmund',\n",
       " 'Bishop',\n",
       " 'Biscuit Oliva',\n",
       " 'Biscuit',\n",
       " 'Biollante (Heisei)',\n",
       " 'Binary',\n",
       " 'Billy Butcher (V24)',\n",
       " 'Billy Butcher',\n",
       " 'Bill Rizer',\n",
       " 'Bill Cipher',\n",
       " 'Bigby Wolf',\n",
       " 'Big Wheel',\n",
       " 'Big Mother',\n",
       " 'Big Mom',\n",
       " 'Big M (Earth-5423)',\n",
       " 'Big Chill',\n",
       " 'Bi-Beast',\n",
       " 'Beyond Birthday',\n",
       " 'Beta Ray Bill',\n",
       " 'Death Of Death',\n",
       " 'Edo Nagato',\n",
       " 'Exar Kun',\n",
       " 'Ex Nihila',\n",
       " 'Evil Queen',\n",
       " 'Evie Frye',\n",
       " 'Evangelene',\n",
       " 'Etrigan',\n",
       " 'Ethari',\n",
       " 'Eternamax Eternatus',\n",
       " 'Etemon',\n",
       " 'Eson The Searcher',\n",
       " 'Esdeath',\n",
       " 'Erza Scarlet',\n",
       " 'Eruptor',\n",
       " 'Ertai The Corrupted',\n",
       " 'Ermes Costello',\n",
       " 'Erginus',\n",
       " 'Equinox',\n",
       " 'Eon',\n",
       " 'Envy',\n",
       " 'Edgeshot',\n",
       " 'Eddie Morra',\n",
       " 'Echo',\n",
       " 'Ebonwumon',\n",
       " 'Eatle',\n",
       " 'Dyspo',\n",
       " 'Dweller-in-Darkness',\n",
       " 'Duncan Idaho',\n",
       " 'Dumon',\n",
       " 'Dual Hydranoid',\n",
       " 'Dryoid',\n",
       " 'Druig',\n",
       " 'Dream Girl',\n",
       " 'Drax The Destroyer (Classic)',\n",
       " 'Drax the Destroyer',\n",
       " 'Draken',\n",
       " 'Drahmin',\n",
       " 'Dragonite',\n",
       " 'Dragon',\n",
       " 'Dragan',\n",
       " 'Dracula',\n",
       " 'Dr. Mundo',\n",
       " 'Dr. Linda',\n",
       " 'Dr. King Schultz',\n",
       " 'Doug Hadderstorm',\n",
       " 'Dormammu',\n",
       " 'Doop',\n",
       " 'Doctor Strangefate',\n",
       " 'Doctor Fate',\n",
       " 'Doctor Facilier',\n",
       " 'Doctor Doom (Cosmic Cube)',\n",
       " 'Doctor Doom (2015)',\n",
       " 'Doctor Doom',\n",
       " 'Dinobot',\n",
       " 'Dino-Rang',\n",
       " 'Dinnerbone',\n",
       " 'Diego',\n",
       " 'Diane',\n",
       " 'Devil Hulk',\n",
       " 'Devil Dinosaur',\n",
       " 'Detective Pikachu',\n",
       " 'Death',\n",
       " 'Deadpool',\n",
       " 'Deadman',\n",
       " 'Davos Seaworth',\n",
       " 'David Cain',\n",
       " 'David',\n",
       " 'Dash',\n",
       " 'Daryl Dixon',\n",
       " 'Dartz',\n",
       " 'Darth Vader',\n",
       " 'Darth Sidious',\n",
       " 'Darth Revan',\n",
       " 'Darth Plagueis',\n",
       " 'Darth Momin',\n",
       " 'Darth Maul',\n",
       " 'Darth Desolous',\n",
       " 'Darth Caedus',\n",
       " 'Darren Shan',\n",
       " 'Darkseid (True Form)',\n",
       " 'Darkseid (Revision Mechanism)',\n",
       " 'Darkseid (Other Box)',\n",
       " 'Darkseid',\n",
       " 'Darkness Blade',\n",
       " 'Dark Schneider',\n",
       " 'Dark Kahn',\n",
       " 'Daredevil',\n",
       " 'Daphne',\n",
       " 'Danzō',\n",
       " 'Dante Koryu',\n",
       " 'Danny Phantom',\n",
       " 'Danielle Moonstar',\n",
       " 'Dally (possesd by rubilax)',\n",
       " 'Dagon',\n",
       " 'Dagger',\n",
       " 'Daffy Duck',\n",
       " 'D.R.A.G.M.A.',\n",
       " \"D'Void\",\n",
       " 'Cythonna',\n",
       " 'Cypher',\n",
       " 'Cygnus Hyoga',\n",
       " 'Cyclops',\n",
       " 'CyBoris',\n",
       " 'Cyborg Superman',\n",
       " 'Cyborg Overman',\n",
       " 'Cyborg Helios',\n",
       " 'Cyberdramon',\n",
       " 'Cyber Godzilla',\n",
       " 'Cuttlas',\n",
       " 'Cupid',\n",
       " 'Cuphead',\n",
       " 'Cthulhu',\n",
       " 'Crypto-137',\n",
       " 'Crypto',\n",
       " 'Crustaceous Rex',\n",
       " 'Crusader (Brave New World)',\n",
       " 'Crunch',\n",
       " 'Crown Princess Stella',\n",
       " 'Crow Hogan',\n",
       " 'Crossbones',\n",
       " 'Cross Dragonoid',\n",
       " 'Crona',\n",
       " 'Crisis',\n",
       " 'Crimson Dynamo',\n",
       " 'Crimson Chin',\n",
       " 'Count Nefaria',\n",
       " 'Count Dracula',\n",
       " 'Cosmo The Spacedog',\n",
       " 'Cosmo',\n",
       " 'Cosmic Negator',\n",
       " 'Cosmic King Thor',\n",
       " 'Frau',\n",
       " 'Gladiator',\n",
       " 'Hawkwoman',\n",
       " 'Heimdall',\n",
       " 'Heihachi Mishima',\n",
       " 'Heidi',\n",
       " 'Hedorah',\n",
       " 'Hector Doyle',\n",
       " 'Hector',\n",
       " 'Heavy',\n",
       " 'Heat Lizard',\n",
       " 'Hearts (Universe Seed)',\n",
       " 'Headhunter',\n",
       " 'He-Man',\n",
       " 'Hazel Levesque',\n",
       " 'Hawlucha',\n",
       " 'Hawks',\n",
       " 'Hawkman',\n",
       " 'Hawkgirl',\n",
       " 'Hawkeye',\n",
       " 'Hawk Moth',\n",
       " 'Hawk',\n",
       " 'Havok',\n",
       " 'Havik',\n",
       " 'Hauptmann Deutschland',\n",
       " 'Hastur',\n",
       " 'Hashirama Senju',\n",
       " 'Haruka Kaminogi',\n",
       " 'Harry Potter',\n",
       " 'Grey',\n",
       " 'Greven Il-Vec',\n",
       " 'Greninja',\n",
       " 'Grendel',\n",
       " 'Green/Blue Lantern',\n",
       " 'Green Lantern (God-Storm)',\n",
       " 'Green Lantern (God Of Light)',\n",
       " 'Green Lantern',\n",
       " 'Green Canary',\n",
       " 'Green Arrow',\n",
       " 'Greedling',\n",
       " 'Great Kung Lao',\n",
       " 'Great Evil Beast',\n",
       " 'Gray Fullbuster',\n",
       " 'Gray Fox',\n",
       " 'Grawp',\n",
       " 'Gravity',\n",
       " 'Graviton',\n",
       " 'Graves (Sentinel of Light)',\n",
       " 'Gravattack',\n",
       " 'Grand Warlord Voss',\n",
       " 'Grand Supreme Kai',\n",
       " 'Grand Priest',\n",
       " 'Grand Master Skywalker',\n",
       " 'Grail',\n",
       " 'Grace',\n",
       " 'Graboid (American)',\n",
       " 'Graboid (African)',\n",
       " 'Gouki Shibukawa',\n",
       " 'Gothmog',\n",
       " 'Gotenks (Super Saiyan 3)',\n",
       " 'Gotenks',\n",
       " 'Gorr The God Butcher',\n",
       " 'Gorilla Rider',\n",
       " 'Gorgrog',\n",
       " 'Gong Strong',\n",
       " 'Gone Gal',\n",
       " 'Gomora',\n",
       " 'Golden Frieza',\n",
       " 'Goku Black (Super Saiyan Rosé)',\n",
       " 'Goku Black',\n",
       " 'Goku (Ultra Instinct)',\n",
       " 'Goku (Super Saiyan God)',\n",
       " 'Goku (Super Saiyan Blue)',\n",
       " 'Goku (Super Saiyan 3)',\n",
       " 'Goku (Super Saiyan 2)',\n",
       " 'Goku (Super Saiyan)',\n",
       " 'Goku (SSBKK X20)',\n",
       " 'Goku (Mastered Ultra Instinct)',\n",
       " 'Goku (GT, Super Saiyan 3)',\n",
       " 'Goku (GT, Super Saiyan)',\n",
       " 'Goku',\n",
       " 'Gohan (Super Saiyan)',\n",
       " 'Gohan (Manga)',\n",
       " 'Gogeta (Super Saiyan Blue)',\n",
       " 'Gogeta (Super Saiyan)',\n",
       " 'Gogeta (Dragon Ball Super)',\n",
       " 'Gogeta (Dragon Ball GT)',\n",
       " 'Gogeta',\n",
       " 'Goenitz',\n",
       " 'Godzillasaurus (Heisei)',\n",
       " 'Godzilla Ultima (Singular Point)',\n",
       " 'Godzilla Earth',\n",
       " 'Godzilla (Showa)',\n",
       " 'Godzilla (Millennium)',\n",
       " 'Godzilla',\n",
       " 'Godstalker',\n",
       " 'Godspeed',\n",
       " 'Godhead',\n",
       " 'Goddess Of War',\n",
       " 'Goddess Of All Creation',\n",
       " 'God Tempest',\n",
       " 'God Spawn',\n",
       " 'God Serena',\n",
       " 'God Of Gods Shazam',\n",
       " 'God Enel',\n",
       " 'God Emperor Doom',\n",
       " 'God (Bruce Almighty)',\n",
       " 'Goblin Queen',\n",
       " 'Goblin King (Infinity Gauntlet)',\n",
       " 'Gluttony',\n",
       " 'Glory',\n",
       " 'Glorian',\n",
       " 'Glorfindel',\n",
       " 'Glissa, The Traitor',\n",
       " 'Gladiator Silver Surfer',\n",
       " 'Giyu Tomioka',\n",
       " 'Giratina (Altered Form)',\n",
       " 'Girag',\n",
       " 'Gipsy Danger',\n",
       " 'Gipsy Avenger',\n",
       " 'Giovanni',\n",
       " 'Gintoki Sakata',\n",
       " 'Ginny Weasley',\n",
       " 'Ging',\n",
       " 'Gilthunder',\n",
       " 'Gilotina',\n",
       " 'Gill Grunt',\n",
       " 'Gilgamesh',\n",
       " 'Gilderoy Lockhart',\n",
       " 'Gildarts Clive',\n",
       " 'Gil-galad',\n",
       " 'Gigasmon',\n",
       " 'Gigantomachia',\n",
       " 'Giganta',\n",
       " 'Giganotosaurus',\n",
       " 'Gigan (Showa)',\n",
       " 'Gideon Jura (Post-Mending)',\n",
       " 'Gideon',\n",
       " 'Gibraltar',\n",
       " 'Giant Turtle',\n",
       " 'Giant Of Living Stone',\n",
       " 'GI Bunker (WW2)',\n",
       " 'Ghroth',\n",
       " 'Ghostfreak',\n",
       " 'Ghostface',\n",
       " 'Ghost-Spider',\n",
       " 'Ghost Roaster',\n",
       " 'Ghost Rider II',\n",
       " 'Ghost Rider (Venomized)',\n",
       " 'Ghost Rider (Union Soldier)',\n",
       " 'Ghost Rider (Undead G-Man)',\n",
       " 'Ghost Rider (Texas Ranger)',\n",
       " 'Ghost Rider (Spring-Heeled Jack)',\n",
       " 'Ghost Rider (Samurai)',\n",
       " 'Ghost Rider (Samburu)',\n",
       " 'Ghost Rider (Russian)',\n",
       " 'Ghost Rider (Phoenix Force)',\n",
       " 'Ghost Rider (Ninja)',\n",
       " 'Ghost Rider (Matador)',\n",
       " 'Ghost Rider (Maori)',\n",
       " 'Ghost Rider (King Of Hell)',\n",
       " 'Ghost Rider (Frontier Era)',\n",
       " 'Ghost Rider (Druid)',\n",
       " 'Ghost Rider (Cowboy)',\n",
       " 'Ghost Rider (Celestial body)',\n",
       " 'Ghost Rider',\n",
       " 'Ghost Godzilla (GMK)',\n",
       " 'Ghost (2019)',\n",
       " 'Ghetsis',\n",
       " 'Geyadrone Dihada (Pre-Mending)',\n",
       " 'Geth, Lord Of The Vault',\n",
       " 'Garr',\n",
       " 'Garou (Cosmic Fear)',\n",
       " 'Garou',\n",
       " 'Gargomon',\n",
       " 'Garen',\n",
       " 'Gardevoir',\n",
       " 'Gardener',\n",
       " 'Ganthet',\n",
       " 'Ganos',\n",
       " 'Ganimes (Showa)',\n",
       " 'Gangplank (Ruined)',\n",
       " 'Gangplank',\n",
       " 'Gandalf The White',\n",
       " 'Gandalf',\n",
       " 'Gamora',\n",
       " 'Gamiel The Manipulator',\n",
       " 'Gamera',\n",
       " 'Gambit',\n",
       " 'Galvatron',\n",
       " 'Gallantmon (Crimson mode)',\n",
       " 'Galio',\n",
       " 'Galgo',\n",
       " 'Galamoth',\n",
       " 'Galadriel',\n",
       " 'Galactus (World Butcher)',\n",
       " 'Galactus (Well Fed)',\n",
       " 'Galactus (Ultimate Nullifier)',\n",
       " 'Galactus (Herald Supreme)',\n",
       " 'Galactus',\n",
       " 'Galactic Golem',\n",
       " 'Gajeel Redfox',\n",
       " 'Gaea',\n",
       " 'Gabriel The Warrior (Story Mode)',\n",
       " 'Franklin Richards (Adult)',\n",
       " 'Franklin Richards',\n",
       " 'Frankenstrike',\n",
       " 'Fourmungousaur',\n",
       " 'Founding Titan',\n",
       " 'Forrest Gump',\n",
       " 'Forager',\n",
       " 'Foetodon',\n",
       " 'Flora',\n",
       " 'Floki',\n",
       " 'Flaw',\n",
       " 'Flash Dr Manhattan',\n",
       " 'Flash',\n",
       " 'Flag-Smasher',\n",
       " 'Fisk Brantner (Upgrade)',\n",
       " 'Firenze The Centaur',\n",
       " 'Firelord',\n",
       " 'Fire Fist Ace',\n",
       " 'Finral Roulacase',\n",
       " 'Fiddlesticks',\n",
       " 'Fenris',\n",
       " 'Fencer (EDF5)',\n",
       " 'Felix Faust',\n",
       " 'Iris',\n",
       " 'King Bob-omb',\n",
       " 'Kim Possible',\n",
       " 'Kilowog',\n",
       " 'Killian',\n",
       " 'Killer Bee',\n",
       " 'Kikoru Shinomiya',\n",
       " 'Kid Gohan',\n",
       " 'Kid Flash',\n",
       " 'Kid Cable',\n",
       " 'Kid',\n",
       " 'Khyber',\n",
       " 'Khonshu',\n",
       " 'Khameleon',\n",
       " 'Khal Drogo',\n",
       " 'KGBeast',\n",
       " 'Kevin Wendell Crumb',\n",
       " 'Kevin 11,000',\n",
       " 'Kevin 11 (Original Mutation)',\n",
       " 'Kevin 11 (Omniverse Mutation)',\n",
       " 'Kevin 11',\n",
       " 'Ketsu Onyo',\n",
       " 'Karnak',\n",
       " 'Karn (Pre-Mending)',\n",
       " 'Karma (Ruined)',\n",
       " 'Karma',\n",
       " 'Karl Fritz',\n",
       " 'Karin',\n",
       " 'Karen',\n",
       " 'Karathen',\n",
       " 'Karate Kid',\n",
       " 'Kanoh Agito',\n",
       " 'Kano',\n",
       " 'Kang',\n",
       " 'Kamui',\n",
       " 'Kamoebas (Showa)',\n",
       " 'Kamioren (Universe Seed)',\n",
       " 'Kamioren',\n",
       " 'Kamin',\n",
       " 'Kami Tenchi',\n",
       " 'Kami',\n",
       " 'Kamacuras',\n",
       " 'Kalin Kessler',\n",
       " 'Kalibak',\n",
       " 'Kale',\n",
       " 'Kakashi',\n",
       " 'Kaito',\n",
       " 'Kaiou Dorian',\n",
       " 'Kaiju-Jaeger Hybrid Drone',\n",
       " 'Kaiju No. 9',\n",
       " \"Kai'sa\",\n",
       " 'Kaguya',\n",
       " 'Kagome Higurashi (InuYasha)',\n",
       " 'Kagami',\n",
       " 'Kafka Hibino',\n",
       " 'Kaeya',\n",
       " 'Kaecilius',\n",
       " 'Kabutops',\n",
       " 'Kabuto Yakushi',\n",
       " 'Kabal',\n",
       " 'Kaal',\n",
       " 'Ka-Zar',\n",
       " 'K.O',\n",
       " 'K. Rool',\n",
       " 'K-2SO',\n",
       " \"K'rrik, Son Of Yawgmoth\",\n",
       " \"K'arkh\",\n",
       " 'Jyn Erso',\n",
       " 'Juvia',\n",
       " 'Juuzou Suzuya',\n",
       " 'Justin Law',\n",
       " 'Justimon',\n",
       " 'Juste Belmont',\n",
       " 'Jury Rigg',\n",
       " 'Junko Hattori',\n",
       " 'Julius Belmont',\n",
       " 'Julie Yamamoto',\n",
       " 'Julia Chang',\n",
       " 'Jugram Haschwalth',\n",
       " 'Juggernaut (Trion)',\n",
       " 'Juggernaut (Living Monolith)',\n",
       " 'Juggernaut (Classic)',\n",
       " 'Juggernaut',\n",
       " 'Judicator',\n",
       " 'Judge Dredd (1995)',\n",
       " 'Judge',\n",
       " 'Jubileus',\n",
       " 'Jubilee',\n",
       " 'Jubidara',\n",
       " 'Jubei A.Mercury',\n",
       " 'Joy',\n",
       " 'Joujirou Takajou',\n",
       " 'Jotaro Kujo',\n",
       " 'Joshua',\n",
       " 'Jordan Kent',\n",
       " 'Jon Snow',\n",
       " 'Joker Beyond',\n",
       " 'Jojo',\n",
       " 'Johnny Volt',\n",
       " 'Johnny Cage',\n",
       " 'John Wraith',\n",
       " 'John Wick',\n",
       " 'John Smith',\n",
       " 'John Reese',\n",
       " 'John McClane',\n",
       " 'John Hartley',\n",
       " 'John Constantine (Power Of Shazam)',\n",
       " 'John Constantine',\n",
       " 'Johan Liebert',\n",
       " 'Jogo',\n",
       " 'Joel',\n",
       " 'Jiren',\n",
       " 'Jiraiya',\n",
       " 'Jinx',\n",
       " 'Jinora',\n",
       " 'Jindiao (True Form)',\n",
       " 'Jindiao',\n",
       " 'Jinbe',\n",
       " 'Jin-Gitaxias, Core Augur',\n",
       " 'Jin Kazama (Devil Form)',\n",
       " 'Jin Kazama',\n",
       " 'Jimmy Woo',\n",
       " 'Jim Gordon',\n",
       " 'Jill Presto',\n",
       " 'Jiger',\n",
       " 'Jigen',\n",
       " 'Jhu',\n",
       " 'Jhoira Of The Ghitu',\n",
       " 'Jevil',\n",
       " 'Jet Bean',\n",
       " 'Jet',\n",
       " 'Jessica Jones',\n",
       " 'Jeska (Pre-Mending)',\n",
       " 'Jericho Turbo',\n",
       " 'Jericho',\n",
       " 'JagerLoweemon',\n",
       " 'Jaden',\n",
       " 'Jade',\n",
       " 'Jacob Lessio',\n",
       " 'Jacob Frye',\n",
       " 'Jacob Black',\n",
       " 'Jackal (Fairy Tail)',\n",
       " 'Jackal',\n",
       " 'Jack-Jack',\n",
       " 'Jack The Ripper',\n",
       " 'Jack Krauser',\n",
       " 'Jack Horner',\n",
       " 'Jack Hawksmoor',\n",
       " 'Jack Frost',\n",
       " 'Jack Flag',\n",
       " 'Jack Bauer',\n",
       " 'Jack Atlas',\n",
       " 'Jace Beleren (Post-Mending)',\n",
       " 'Jabberwocky',\n",
       " \"Ja'em Mk'rah\",\n",
       " 'J. Geil',\n",
       " 'Izo Motobe',\n",
       " 'Iwan',\n",
       " 'Iwa Kunoichi',\n",
       " 'Ivis Necron',\n",
       " 'Ivern',\n",
       " 'Ithaqua',\n",
       " 'Itachi Uchiha',\n",
       " 'Issei Hyoudou',\n",
       " 'Isis',\n",
       " 'Ishmael',\n",
       " 'Isaac Clarke',\n",
       " 'Isaac',\n",
       " 'Irvine The Arcane Archer',\n",
       " ...]"
      ]
     },
     "execution_count": 170,
     "metadata": {},
     "output_type": "execute_result"
    }
   ],
   "source": [
    "list(sups.Character.unique())"
   ]
  },
  {
   "cell_type": "code",
   "execution_count": 171,
   "id": "18ca84b6",
   "metadata": {},
   "outputs": [],
   "source": [
    "def process_names(s):\n",
    "    # Remove content inside parentheses\n",
    "    s = re.sub(r'\\([^)]*\\)', '', s)\n",
    "    # Remove roman characters after a word\n",
    "    s = re.sub(r'\\b[IVXLCDM]+\\b', '', s)\n",
    "    # Remove non-alphabetic characters and spaces\n",
    "    s = re.sub(r'[^a-zA-Z]+', '', s)\n",
    "    # Convert to lowercase and remove spaces\n",
    "    s = s.lower()\n",
    "    return s"
   ]
  },
  {
   "cell_type": "code",
   "execution_count": 172,
   "id": "0accc906",
   "metadata": {},
   "outputs": [],
   "source": [
    "sups['name'] = sups['Character']"
   ]
  },
  {
   "cell_type": "code",
   "execution_count": 173,
   "id": "d774fbfb",
   "metadata": {},
   "outputs": [],
   "source": [
    "sups['Character'] = sups.Character.apply(process_names)"
   ]
  },
  {
   "cell_type": "markdown",
   "id": "1a2833a3",
   "metadata": {},
   "source": [
    "#### Uploading scraped data to merge with our cleaned data"
   ]
  },
  {
   "cell_type": "code",
   "execution_count": 174,
   "id": "149555cc",
   "metadata": {},
   "outputs": [],
   "source": [
    "scraped_data = pd.read_csv('D:\\\\Study\\\\ML-Projects\\\\Project-3(Recommending_system)\\\\data\\\\metahumans.csv')"
   ]
  },
  {
   "cell_type": "code",
   "execution_count": 175,
   "id": "7c101110",
   "metadata": {},
   "outputs": [
    {
     "data": {
      "text/html": [
       "<div>\n",
       "<style scoped>\n",
       "    .dataframe tbody tr th:only-of-type {\n",
       "        vertical-align: middle;\n",
       "    }\n",
       "\n",
       "    .dataframe tbody tr th {\n",
       "        vertical-align: top;\n",
       "    }\n",
       "\n",
       "    .dataframe thead th {\n",
       "        text-align: right;\n",
       "    }\n",
       "</style>\n",
       "<table border=\"1\" class=\"dataframe\">\n",
       "  <thead>\n",
       "    <tr style=\"text-align: right;\">\n",
       "      <th></th>\n",
       "      <th>name</th>\n",
       "      <th>img_links</th>\n",
       "    </tr>\n",
       "  </thead>\n",
       "  <tbody>\n",
       "    <tr>\n",
       "      <th>0</th>\n",
       "      <td>A.R.G.U.S.</td>\n",
       "      <td>https://static.wikia.nocookie.net/superheroes/...</td>\n",
       "    </tr>\n",
       "    <tr>\n",
       "      <th>1</th>\n",
       "      <td>Abigail Brand</td>\n",
       "      <td>https://static.wikia.nocookie.net/superheroes/...</td>\n",
       "    </tr>\n",
       "    <tr>\n",
       "      <th>2</th>\n",
       "      <td>Abin Sur</td>\n",
       "      <td>https://static.wikia.nocookie.net/superheroes/...</td>\n",
       "    </tr>\n",
       "    <tr>\n",
       "      <th>3</th>\n",
       "      <td>Abnermal</td>\n",
       "      <td>https://static.wikia.nocookie.net/superheroes/...</td>\n",
       "    </tr>\n",
       "    <tr>\n",
       "      <th>4</th>\n",
       "      <td>Acroyear</td>\n",
       "      <td>https://static.wikia.nocookie.net/superheroes/...</td>\n",
       "    </tr>\n",
       "  </tbody>\n",
       "</table>\n",
       "</div>"
      ],
      "text/plain": [
       "            name                                          img_links\n",
       "0     A.R.G.U.S.  https://static.wikia.nocookie.net/superheroes/...\n",
       "1  Abigail Brand  https://static.wikia.nocookie.net/superheroes/...\n",
       "2       Abin Sur  https://static.wikia.nocookie.net/superheroes/...\n",
       "3       Abnermal  https://static.wikia.nocookie.net/superheroes/...\n",
       "4       Acroyear  https://static.wikia.nocookie.net/superheroes/..."
      ]
     },
     "execution_count": 175,
     "metadata": {},
     "output_type": "execute_result"
    }
   ],
   "source": [
    "scraped_data.head()"
   ]
  },
  {
   "cell_type": "code",
   "execution_count": 176,
   "id": "6a716685",
   "metadata": {},
   "outputs": [],
   "source": [
    "scraped_data.name = scraped_data.name.apply(process_names)"
   ]
  },
  {
   "cell_type": "code",
   "execution_count": 177,
   "id": "6ce1dcd4",
   "metadata": {},
   "outputs": [],
   "source": [
    "scraped_data = scraped_data.drop_duplicates()"
   ]
  },
  {
   "cell_type": "code",
   "execution_count": 178,
   "id": "71ec5575",
   "metadata": {},
   "outputs": [
    {
     "data": {
      "text/plain": [
       "0"
      ]
     },
     "execution_count": 178,
     "metadata": {},
     "output_type": "execute_result"
    }
   ],
   "source": [
    "scraped_data.duplicated().sum()"
   ]
  },
  {
   "cell_type": "code",
   "execution_count": 179,
   "id": "eac95f85",
   "metadata": {},
   "outputs": [
    {
     "data": {
      "text/plain": [
       "(4939, 2)"
      ]
     },
     "execution_count": 179,
     "metadata": {},
     "output_type": "execute_result"
    }
   ],
   "source": [
    "scraped_data.shape"
   ]
  },
  {
   "cell_type": "code",
   "execution_count": 180,
   "id": "b61c6e62",
   "metadata": {},
   "outputs": [],
   "source": [
    "scraped_data.rename(columns={'name':'Character'},inplace=True)"
   ]
  },
  {
   "cell_type": "code",
   "execution_count": 181,
   "id": "b793d4c7",
   "metadata": {},
   "outputs": [],
   "source": [
    "scraped_data.drop_duplicates(subset='Character',inplace=True)"
   ]
  },
  {
   "cell_type": "code",
   "execution_count": 182,
   "id": "c042d667",
   "metadata": {},
   "outputs": [
    {
     "data": {
      "text/plain": [
       "(4402, 2)"
      ]
     },
     "execution_count": 182,
     "metadata": {},
     "output_type": "execute_result"
    }
   ],
   "source": [
    "scraped_data.shape"
   ]
  },
  {
   "cell_type": "code",
   "execution_count": 183,
   "id": "f440d9eb",
   "metadata": {},
   "outputs": [],
   "source": [
    "new_df =  pd.merge(sups, scraped_data, on='Character', how='inner')"
   ]
  },
  {
   "cell_type": "code",
   "execution_count": 184,
   "id": "4fb35627",
   "metadata": {},
   "outputs": [
    {
     "data": {
      "text/plain": [
       "(1016, 36)"
      ]
     },
     "execution_count": 184,
     "metadata": {},
     "output_type": "execute_result"
    }
   ],
   "source": [
    "new_df.shape"
   ]
  },
  {
   "cell_type": "code",
   "execution_count": 185,
   "id": "85694eaa",
   "metadata": {},
   "outputs": [
    {
     "name": "stdout",
     "output_type": "stream",
     "text": [
      "['adam', 'badben', 'aldrichkillian', 'batwoman', 'agony', 'agony', 'acnologia', 'aggregor', 'batwing', 'agentzero', 'baronzemo', 'acekiller', 'albedo', 'bob', 'ace', 'abyss', 'abyss', 'baronmordo', 'barondraxum', 'atomeve', 'batman', 'batman', 'batman', 'batman', 'batman', 'batman', 'batman', 'absorbingman', 'absorbingman', 'atom', 'antman', 'arsenal', 'abraxas', 'bardock', 'bardock', 'baragon', 'aqualad', 'aqualad', 'baphomet', 'akaza', 'astroboy', 'banshee', 'bane', 'bane', 'aatrox', 'aatrox', 'apollo', 'batmite', 'argus', 'airelementor', 'baldur', 'adel', 'atrain', 'a', 'a', 'angel', 'man', 'man', 'carnom', 'carnage', 'carnage', 'carnage', 'captainmarvel', 'captainmarvel', 'captainmarvel', 'captainmarvel', 'captainmarvel', 'captainman', 'captainginyu', 'captaincold', 'captainamerica', 'captainamerica', 'captainamerica', 'captainamerica', 'captainamerica', 'captainamerica', 'captainamerica', 'captainamerica', 'camazotz', 'callisto', 'cadbane', 'buttercup', 'bumblebee', 'blackcat', 'blackcat', 'blackcat', 'blackcanary', 'bishop', 'equinox', 'envy', 'echo', 'dracula', 'dracula', 'doctorfate', 'dartz', 'darthvader', 'darthvader', 'darthmaul', 'darkseid', 'darkseid', 'darkseid', 'darkseid', 'darkseid', 'darkseid', 'darkseid', 'darkseid', 'darkseid', 'darkseid', 'darkseid', 'darkseid', 'darkseid', 'darkseid', 'darkkahn', 'daredevil', 'dagon', 'daffyduck', 'cyclops', 'cyclops', 'cyclops', 'crimsonchin', 'heihachimishima', 'hedorah', 'hearts', 'headhunter', 'heman', 'hawkman', 'hawkman', 'hawkgirl', 'hawkeye', 'hawkeye', 'hawk', 'havok', 'hastur', 'greenlantern', 'greenlantern', 'greenlantern', 'greenlantern', 'greenarrow', 'goku', 'goku', 'goku', 'goku', 'goku', 'goku', 'goku', 'goku', 'goku', 'goku', 'goku', 'goku', 'goku', 'goku', 'goku', 'goku', 'goku', 'goku', 'goku', 'godzilla', 'godzilla', 'godzilla', 'godzilla', 'godzilla', 'glory', 'ghostrider', 'ghostrider', 'ghostrider', 'ghostrider', 'ghostrider', 'ghostrider', 'ghostrider', 'ghostrider', 'ghostrider', 'ghostrider', 'ghostrider', 'ghostrider', 'ghostrider', 'ghostrider', 'ghostrider', 'ghostrider', 'ghostrider', 'ghostrider', 'ghostrider', 'ghostrider', 'ghostrider', 'ghostrider', 'ghostrider', 'ghostrider', 'ghost', 'gamera', 'gamera', 'gamera', 'gambit', 'galvatron', 'galactus', 'galactus', 'galactus', 'galactus', 'galactus', 'galactus', 'galactus', 'galactus', 'galacticgolem', 'franklinrichards', 'franklinrichards', 'flash', 'flagsmasher', 'felixfaust', 'iris', 'kidflash', 'khyber', 'khonshu', 'kgbeast', 'karma', 'karma', 'karatekid', 'kano', 'kalibak', 'kaecilius', 'kabal', 'kaal', 'kazar', 'johnsmith', 'johnconstantine', 'johnconstantine', 'jinx', 'jindiao', 'jindiao', 'jade', 'jackal', 'jackal', 'jackjack', 'jacktheripper', 'jacktheripper', 'jackfrost', 'ironmonger', 'ironman', 'ironman', 'ironman', 'ironman', 'ironman', 'ironman', 'ironman', 'ironman', 'ironman', 'ironman', 'ironman', 'ironman', 'ironman', 'ironman', 'ironman', 'ironman', 'ironman', 'ironman', 'ironfist', 'ironfist', 'ironfist', 'ion', 'invisiblewoman', 'invisiblewoman', 'invisibleboy', 'invincible', 'invaderking', 'inque', 'infinitor', 'impossibleman', 'immortus', 'huntress', 'humantorch', 'humantorch', 'hulk', 'hulk', 'hulk', 'hulk', 'hulk', 'hulk', 'hulk', 'hulk', 'hulk', 'hulk', 'hourman', 'hourman', 'hourman', 'horus', 'hitgirl', 'maxsteel', 'madamemasque', 'madhatter', 'lobo', 'lobo', 'liukang', 'lexluthor', 'lexluthor', 'lexluthor', 'legion', 'legion', 'ladyshiva', 'ladydeathstrike', 'krypto', 'phoenix', 'phoenix', 'phoenix', 'phage', 'phage', 'phage', 'peteypiranha', 'petshop', 'perpetua', 'penguin', 'penguin', 'onslaught', 'onikage', 'omegared', 'odin', 'odin', 'odin', 'odin', 'nicolbolas', 'nicolbolas', 'nicominoru', 'neron', 'nergalmeslamstea', 'nebula', 'nebula', 'sif', 'sentry', 'sentry', 'sentry', 'scp', 'scp', 'scp', 'scp', 'scp', 'scp', 'scp', 'scp', 'scorpion', 'scarletwitch', 'scarletwitch', 'scarletwitch', 'scarletwitch', 'scarletwitch', 'scarletspider', 'scarletspider', 'scarletoverkill', 'scar', 'savitar', 'sauron', 'sauron', 'satan', 'sarge', 'sandman', 'salamander', 'sailorvenus', 'sailormoon', 'sailormars', 'saganbo', 'sabretooth', 'rorschach', 'rorschach', 'ronin', 'rogue', 'rogue', 'red', 'red', 'red', 'redtornado', 'redskull', 'redskull', 'redskull', 'redestro', 'razorfist', 'raze', 'raze', 'ray', 'raven', 'raven', 'ravager', 'raditz', 'radioactiveman', 'quitela', 'quintessa', 'quicksilver', 'quicksilver', 'question', 'queensectonia', 'queenmaeve', 'queenbee', 'puck', 'psylocke', 'psylocke', 'professor', 'professor', 'professor', 'powergirl', 'spidergirl', 'titan', 'thor', 'thor', 'thor', 'thor', 'thor', 'thor', 'thor', 'thor', 'thor', 'thor', 'thor', 'thebastard', 'thing', 'thing', 'thing', 'theangelus', 'tempest', 'thanoseid', 'thanos', 'thanos', 'thanos', 'thanos', 'thanos', 'thanos', 'thanos', 'thanos', 'thanos', 'thanos', 'thedeep', 'thanatos', 'tailung', 'tabuu', 'taskmaster', 'terraxthetamer', 't', 't', 't', 't', 't', 't', 'tarn', 'tarantula', 'surge', 'thebeast', 'thebeast', 'superwoman', 'superwoman', 'superman', 'superman', 'superman', 'superman', 'superman', 'superman', 'superman', 'superman', 'superman', 'superman', 'talostheuntamed', 'talon', 'taliaalghul', 'supergirl', 'supergirl', 'superboyprime', 'superboyprime', 'stinger', 'stormfront', 'static', 'starsapphire', 'spectre', 'spectre', 'spectre', 'spectre', 'sonicthehedgehog', 'sonicthehedgehog', 'skylarstorm', 'silversurfer', 'silversurfer', 'silversurfer', 'wildebeest', 'zuko', 'zorro', 'zom', 'zod', 'zeus', 'zeus', 'zero', 'zavok', 'zatanna', 'zatanna', 'zatanna', 'zatanna', 'zaheer', 'ymir', 'yhwach', 'yellowjacket', 'yellowjacket', 'yellowjacket', 'yawgmoth', 'yapool', 'xs', '', '', '', '', '', '', '', '', '', '', '', '', 'wrecker', 'wrath', 'wraith', 'wong', 'wonderwoman', 'wonderwoman', 'wonderwoman', 'wonderwoman', 'wonderwoman', 'wonderwoman', 'wonderwoman', 'widowmaker', 'weatherwizard', 'wasp', 'warpath', 'warpdarkmatter', 'warlock', 'warlock', 'warlock', 'warmachine', 'warmachine', 'walter', 'voidtermina', 'voidtermina', 'vladimir', 'vixen', 'vilgax', 'vilgax', 'vigilante', 'ventriloquist', 'venom', 'venom', 'venom', 'vegeta', 'vegeta', 'vegeta', 'vegeta', 'vegeta', 'vegeta', 'vegeta', 'vecna', 'vapor', 'vandalsavage', 'vampirella', 'valkyrie', 'valkyrie', 'valeriarichards', 'ursula', 'uranos', 'unity', 'unicron', 'blade', 'engineer', 'happy', 'hellboy', 'hellboy', 'hellboy', 'robocop', 'robocop', 'ruby', 'rhino', 'sargeras', 'bartycrouchjr', 'camille', 'bubbles', 'adolfhitler', 'alfred', 'caseyjones', 'captainplanet', 'akainu', 'abomination', 'buzzlightyear', 'agathaharkness', 'abnermal', 'allmight', 'blacknoir', 'cackletta', 'captainboomerang', 'aquagirl', 'breakdown', 'aaravos', 'blackbeetle', 'chameleon', 'catwoman', 'catman', 'chaos', 'chaos', 'cetrion', 'colossus', 'copperhead', 'spayre', 'reaper', 'reaper', 'dabi', 'dabura', 'daken', 'cloak', 'darkphoenix', 'dazzler', 'deadgirl', 'darkstar', 'darkstar', 'darthmalgus', 'dantezogratis', 'davidrichards', 'divinity', 'detectivechimp', 'docsamson', 'dolphin', 'donatello', 'doctorstrange', 'doctorstrange', 'doctorstrange', 'doctorstrange', 'doctorstrange', 'doctorstrange', 'doctorstrange', 'doctorstrange', 'earthelementor', 'ebonymaw', 'ebirah', 'elixir', 'electro', 'elastigirl', 'elastigirl', 'eldiablo', 'eighthbrother', 'falcon', 'fixer', 'frankenstein', 'father', 'firefly', 'fox', 'fireelementor', 'foreverninja', 'flux', 'finfangfoom', 'generalgrievous', 'frozone', 'gellertgrindelwald', 'flandrescarlet', 'ganondorf', 'geckomoria', 'garzooka', 'galactaknight', 'harleyquinn', 'herobrine', 'herobrine', 'happyhogan', 'hellcat', 'hela', 'heatwave', 'homelander', 'hecate', 'hectorhammond', 'iceman', 'incubus', 'jeice', 'janemba', 'husk', 'ironclad', 'ironpatriot', 'infinite', 'jetjaguar', 'kai', 'kefkapalazzo', 'kefkapalazzo', 'kazuyamishima', 'kazuyamishima', 'kavaxas', 'justice', 'jessequick', 'ken', 'kiddanger', 'kingkong', 'kingkong', 'labrava', 'kickass', 'kidinvincible', 'laufey', 'leviathan', 'kidomniman', 'ladydeath', 'lockjaw', 'lionheart', 'lavos', 'lash', 'leo', 'larfleeze', 'madben', 'lukecage', 'madamerouge', 'madjimjaspers', 'madameweb', 'majorforce', 'magus', 'magolor', 'magneto', 'magneto', 'magik', 'magik', 'mantis', 'magenta', 'malebolgia', 'magnus', 'maestro', 'michelangelo', 'metroman', 'metamorpho', 'megamind', 'malekith', 'malekith', 'megaman', 'mera', 'maleficent', 'moonstar', 'mockingbird', 'mogo', 'moonknight', 'moonknight', 'niteowl', 'niteowl', 'oryxthetakenking', 'mrincredible', 'mothra', 'mothra', 'mothra', 'mothra', 'orochi', 'namora', 'orga', 'nightwing', 'nova', 'namek', 'nightshroud', 'nightmare', 'nightmare', 'optimusprime', 'opalkoboi', 'nightcrawler', 'non', 'morbius', 'nomad', 'nocturne', 'nappa', 'obnixilis', 'orochimaru', 'phantomvirus', 'orphan', 'omniman', 'pharaoh', 'nero', 'oliver', 'namor', 'neo', 'multipleman', 'nekron', 'noobsaibot', 'neodio', 'percival', 'nemesis', 'plasticman', 'planetina', 'piedmon', 'piedpiper', 'prowler', 'raphael', 'ragnarok', 'redking', 'quake', 'richarddragon', 'redrobin', 'rexgoodwin', 'robotboy', 'reign', 'satannish', 'salza', 'sakurakinomoto', 'saturngirl', 'sailorchibimoon', 'sailorgalaxia', 'sailorjupiter', 'saintwalker', 'saruman', 'spiderwoman', 'spiderwoman', 'spiderman', 'spiderman', 'spiderman', 'spiderman', 'spiderman', 'spiderman', 'spiderman', 'shera', 'screech', 'shatterstar', 'spiderham', 'shadowlass', 'silk', 'steel', 'siryn', 'tahomaru', 'starlight', 'shirouogami', 'teveshszat', 'ultimus', 'ultimecia', 'ultimateelementor', 'ulik', 'vaati', 'vector', 'waluigi', 'viego', 'viego', 'veigar', 'voyd', 'wolfman', 'wolfman', 'wolf', 'wintersoldier', 'willstronghold', 'whitewidow', 'waterelementor', 'whiplash', 'whirlwind', 'zor', 'zarbon', 'xemnu', 'zeena', 'blackterror', 'agentorange', 'achilles', 'acheron', 'acererak', 'agentbishop', 'aspenmatthews', 'ben', 'ben', 'ben', 'ben', 'ben', 'ben', 'ben', 'aero', 'baby', 'baroness', 'baroness', 'alfie', 'bwanabeast', 'bigdaddy', 'aida', 'adammonroe', 'acronix', 'bluebeetle', 'bluebeetle', 'blossom', 'blink', 'comet', 'charlie', 'chancellorcole', 'cellmax', 'carnagekabuto', 'captainsnowball', 'captainpollution', 'camael', 'bug', 'boomboom', 'boomboom', 'emilia', 'emeraldempress', 'ember', 'elsa', 'egghead', 'dove', 'darkwingduck', 'darkman', 'fluidman', 'eternalwarrior', 'hanz', 'hammerhead', 'haljordan', 'generalcryptor', 'beastboy', 'beast', 'cosmicboy', 'emmafrost', 'feral', 'fawful', 'fishface', 'enmu', 'enchantress', 'francis', 'forgottenone', 'gargantua', 'ganon', 'gallaxhar', 'inferno', 'indratsutsuki', 'impulse', 'ikki', 'ikaris', 'hitoshishinso', 'hephaestus', 'he', 'jackpot', 'ladybullseye', 'krista', 'kendorappa', 'kane', 'johnnyquick', 'jin', 'jetthehawk', 'jenova', 'jasper', 'jadeite', 'jackolantern', 'moonboy', 'malachite', 'makino', 'makima', 'magma', 'longshot', 'lizsherman', 'livingmummy', 'livewire', 'life', 'leatherback', 'phantom', 'peekaboo', 'peacemaker', 'paulserene', 'patriot', 'pariah', 'pariah', 'parasite', 'parallax', 'parallax', 'paradox', 'pandora', 'ozymandias', 'owlman', 'overman', 'orca', 'omnidroid', 'omegaspawn', 'omega', 'octopus', 'oceanmaster', 'obsidianfury', 'obsidian', 'obliterator', 'nix', 'nine', 'nightnurse', 'negaduck', 'mumenrider', 'silkspectre', 'scottevil', 'scorponok', 'samael', 'ratcatcher', 'rango', 'recoome', 'ramattra', 'queenmetalia', 'reverseflash', 'reverseflash', 'queenberyl', 'ravage', 'sabbac', 'tick', 'stupendousman', 'storm', 'spoiler', 'spitfire', 'slapstick', 'zzzax', 'zombie', 'zera', 'yellowdiamond', 'yamcha', 'wondergirl', 'wolverine', 'wolverine', 'witch', 'wiseman', 'williamdunbar', 'wildknuckles', 'wilddog', 'widow', 'widow', 'whiterabbit', 'whitediamond', 'waspinator', 'wamuu', 'vorinclex', 'voltar', 'violator', 'victorianeuman', 'valtor', 'underdog', 'ultron', 'ultron', 'ultron', 'ultron', 'ultraseven', 'ultraman', 'ultraman']\n"
     ]
    }
   ],
   "source": [
    "print(list(new_df['Character']))"
   ]
  },
  {
   "cell_type": "code",
   "execution_count": null,
   "id": "84c7b950",
   "metadata": {},
   "outputs": [],
   "source": []
  },
  {
   "cell_type": "code",
   "execution_count": 186,
   "id": "b3572d7e",
   "metadata": {},
   "outputs": [
    {
     "data": {
      "text/html": [
       "<div>\n",
       "<style scoped>\n",
       "    .dataframe tbody tr th:only-of-type {\n",
       "        vertical-align: middle;\n",
       "    }\n",
       "\n",
       "    .dataframe tbody tr th {\n",
       "        vertical-align: top;\n",
       "    }\n",
       "\n",
       "    .dataframe thead th {\n",
       "        text-align: right;\n",
       "    }\n",
       "</style>\n",
       "<table border=\"1\" class=\"dataframe\">\n",
       "  <thead>\n",
       "    <tr style=\"text-align: right;\">\n",
       "      <th></th>\n",
       "      <th>Alignment</th>\n",
       "      <th>Character</th>\n",
       "      <th>Combat</th>\n",
       "      <th>Creator</th>\n",
       "      <th>Durability</th>\n",
       "      <th>Gender</th>\n",
       "      <th>Height</th>\n",
       "      <th>IQ</th>\n",
       "      <th>Intelligence</th>\n",
       "      <th>Level</th>\n",
       "      <th>Place_of_birth</th>\n",
       "      <th>Power</th>\n",
       "      <th>Species</th>\n",
       "      <th>Speed</th>\n",
       "      <th>Speed_velocity</th>\n",
       "      <th>Strength</th>\n",
       "      <th>Strength_force</th>\n",
       "      <th>Super_powers</th>\n",
       "      <th>Tier</th>\n",
       "      <th>Universe</th>\n",
       "      <th>Weight</th>\n",
       "      <th>combat_str</th>\n",
       "      <th>durability_str</th>\n",
       "      <th>height_str</th>\n",
       "      <th>IQ_str</th>\n",
       "      <th>intelligence_str</th>\n",
       "      <th>level_str</th>\n",
       "      <th>power_str</th>\n",
       "      <th>speed_str</th>\n",
       "      <th>speed_velocity_str</th>\n",
       "      <th>strength_str</th>\n",
       "      <th>strength_force</th>\n",
       "      <th>tier_str</th>\n",
       "      <th>weight_str</th>\n",
       "      <th>name</th>\n",
       "      <th>img_links</th>\n",
       "    </tr>\n",
       "  </thead>\n",
       "  <tbody>\n",
       "    <tr>\n",
       "      <th>1009</th>\n",
       "      <td>Bad</td>\n",
       "      <td>ultron</td>\n",
       "      <td>50</td>\n",
       "      <td>Marvel Comics</td>\n",
       "      <td>65</td>\n",
       "      <td>Other</td>\n",
       "      <td>-</td>\n",
       "      <td>120</td>\n",
       "      <td>60</td>\n",
       "      <td>3</td>\n",
       "      <td>Unknown</td>\n",
       "      <td>70</td>\n",
       "      <td>Robot</td>\n",
       "      <td>30</td>\n",
       "      <td>3000</td>\n",
       "      <td>80</td>\n",
       "      <td>140000000</td>\n",
       "      <td>apathy,coldresistance,duplication,electricityr...</td>\n",
       "      <td>4</td>\n",
       "      <td>Earth-41252</td>\n",
       "      <td>-</td>\n",
       "      <td>combat46to50</td>\n",
       "      <td>durability65</td>\n",
       "      <td>heighthuge</td>\n",
       "      <td>120</td>\n",
       "      <td>intelligence56to60</td>\n",
       "      <td>level3</td>\n",
       "      <td>power66to70</td>\n",
       "      <td>speed26to30</td>\n",
       "      <td>sv1001-5000</td>\n",
       "      <td>strength76to80</td>\n",
       "      <td>sf100000001-1000000000</td>\n",
       "      <td>tier4</td>\n",
       "      <td>weightunknown</td>\n",
       "      <td>Ultron-I</td>\n",
       "      <td>https://static.wikia.nocookie.net/villains/ima...</td>\n",
       "    </tr>\n",
       "    <tr>\n",
       "      <th>1010</th>\n",
       "      <td>Bad</td>\n",
       "      <td>ultron</td>\n",
       "      <td>100</td>\n",
       "      <td>Marvel Comics</td>\n",
       "      <td>100</td>\n",
       "      <td>Male</td>\n",
       "      <td>205.8 cm • 6'9\"</td>\n",
       "      <td>200</td>\n",
       "      <td>100</td>\n",
       "      <td>6</td>\n",
       "      <td>Earth</td>\n",
       "      <td>100</td>\n",
       "      <td>Android</td>\n",
       "      <td>100</td>\n",
       "      <td>999999999</td>\n",
       "      <td>100</td>\n",
       "      <td>999999999</td>\n",
       "      <td>accelerateddevelopment,acceleratedhealing,acro...</td>\n",
       "      <td>6</td>\n",
       "      <td>Earth-616</td>\n",
       "      <td>453.59 kg • 999.99 lbs</td>\n",
       "      <td>combat96to100</td>\n",
       "      <td>durability100</td>\n",
       "      <td>height0-5</td>\n",
       "      <td>200</td>\n",
       "      <td>intelligence96to100</td>\n",
       "      <td>level6</td>\n",
       "      <td>power96to100</td>\n",
       "      <td>speed96to100</td>\n",
       "      <td>sv100000001-1000000000</td>\n",
       "      <td>strength96to100</td>\n",
       "      <td>sf100000001-1000000000</td>\n",
       "      <td>tier6</td>\n",
       "      <td>weight1-1000</td>\n",
       "      <td>Ultron (Phalanx)</td>\n",
       "      <td>https://static.wikia.nocookie.net/villains/ima...</td>\n",
       "    </tr>\n",
       "    <tr>\n",
       "      <th>1011</th>\n",
       "      <td>Bad</td>\n",
       "      <td>ultron</td>\n",
       "      <td>100</td>\n",
       "      <td>Marvel Comics</td>\n",
       "      <td>100</td>\n",
       "      <td>None</td>\n",
       "      <td>-</td>\n",
       "      <td>200</td>\n",
       "      <td>100</td>\n",
       "      <td>6</td>\n",
       "      <td>Cresskill, New Jersey</td>\n",
       "      <td>100</td>\n",
       "      <td>Android</td>\n",
       "      <td>100</td>\n",
       "      <td>1000000000</td>\n",
       "      <td>100</td>\n",
       "      <td>1000000000</td>\n",
       "      <td>none</td>\n",
       "      <td>8</td>\n",
       "      <td>Earth-616</td>\n",
       "      <td>-</td>\n",
       "      <td>combat96to100</td>\n",
       "      <td>durability100</td>\n",
       "      <td>heighthuge</td>\n",
       "      <td>200</td>\n",
       "      <td>intelligence96to100</td>\n",
       "      <td>level6</td>\n",
       "      <td>power96to100</td>\n",
       "      <td>speed96to100</td>\n",
       "      <td>sv100000001-1000000000</td>\n",
       "      <td>strength96to100</td>\n",
       "      <td>sf100000001-1000000000</td>\n",
       "      <td>tier8</td>\n",
       "      <td>weightunknown</td>\n",
       "      <td>Ultron (Final Form)</td>\n",
       "      <td>https://static.wikia.nocookie.net/villains/ima...</td>\n",
       "    </tr>\n",
       "    <tr>\n",
       "      <th>1012</th>\n",
       "      <td>Bad</td>\n",
       "      <td>ultron</td>\n",
       "      <td>80</td>\n",
       "      <td>Marvel Comics</td>\n",
       "      <td>35</td>\n",
       "      <td>Male</td>\n",
       "      <td>-</td>\n",
       "      <td>170</td>\n",
       "      <td>85</td>\n",
       "      <td>3</td>\n",
       "      <td>Unknown</td>\n",
       "      <td>45</td>\n",
       "      <td>Robot</td>\n",
       "      <td>25</td>\n",
       "      <td>255</td>\n",
       "      <td>30</td>\n",
       "      <td>62000</td>\n",
       "      <td>none</td>\n",
       "      <td>2</td>\n",
       "      <td>Earth-8096</td>\n",
       "      <td>-</td>\n",
       "      <td>combat76to80</td>\n",
       "      <td>durability35</td>\n",
       "      <td>heighthuge</td>\n",
       "      <td>170</td>\n",
       "      <td>intelligence81to85</td>\n",
       "      <td>level3</td>\n",
       "      <td>power41to45</td>\n",
       "      <td>speed21to25</td>\n",
       "      <td>sv1-1000</td>\n",
       "      <td>strength26to30</td>\n",
       "      <td>sf10001-100000</td>\n",
       "      <td>tier2</td>\n",
       "      <td>weightunknown</td>\n",
       "      <td>Ultron</td>\n",
       "      <td>https://static.wikia.nocookie.net/villains/ima...</td>\n",
       "    </tr>\n",
       "  </tbody>\n",
       "</table>\n",
       "</div>"
      ],
      "text/plain": [
       "     Alignment Character  Combat        Creator  Durability Gender  \\\n",
       "1009       Bad    ultron      50  Marvel Comics          65  Other   \n",
       "1010       Bad    ultron     100  Marvel Comics         100   Male   \n",
       "1011       Bad    ultron     100  Marvel Comics         100   None   \n",
       "1012       Bad    ultron      80  Marvel Comics          35   Male   \n",
       "\n",
       "               Height   IQ  Intelligence  Level         Place_of_birth  Power  \\\n",
       "1009                -  120            60      3                Unknown     70   \n",
       "1010  205.8 cm • 6'9\"  200           100      6                  Earth    100   \n",
       "1011                -  200           100      6  Cresskill, New Jersey    100   \n",
       "1012                -  170            85      3                Unknown     45   \n",
       "\n",
       "      Species  Speed  Speed_velocity  Strength  Strength_force  \\\n",
       "1009    Robot     30            3000        80       140000000   \n",
       "1010  Android    100       999999999       100       999999999   \n",
       "1011  Android    100      1000000000       100      1000000000   \n",
       "1012    Robot     25             255        30           62000   \n",
       "\n",
       "                                           Super_powers  Tier     Universe  \\\n",
       "1009  apathy,coldresistance,duplication,electricityr...     4  Earth-41252   \n",
       "1010  accelerateddevelopment,acceleratedhealing,acro...     6    Earth-616   \n",
       "1011                                               none     8    Earth-616   \n",
       "1012                                               none     2   Earth-8096   \n",
       "\n",
       "                      Weight     combat_str durability_str  height_str  \\\n",
       "1009                       -   combat46to50   durability65  heighthuge   \n",
       "1010  453.59 kg • 999.99 lbs  combat96to100  durability100   height0-5   \n",
       "1011                       -  combat96to100  durability100  heighthuge   \n",
       "1012                       -   combat76to80   durability35  heighthuge   \n",
       "\n",
       "      IQ_str     intelligence_str level_str     power_str     speed_str  \\\n",
       "1009     120   intelligence56to60    level3   power66to70   speed26to30   \n",
       "1010     200  intelligence96to100    level6  power96to100  speed96to100   \n",
       "1011     200  intelligence96to100    level6  power96to100  speed96to100   \n",
       "1012     170   intelligence81to85    level3   power41to45   speed21to25   \n",
       "\n",
       "          speed_velocity_str     strength_str          strength_force  \\\n",
       "1009             sv1001-5000   strength76to80  sf100000001-1000000000   \n",
       "1010  sv100000001-1000000000  strength96to100  sf100000001-1000000000   \n",
       "1011  sv100000001-1000000000  strength96to100  sf100000001-1000000000   \n",
       "1012                sv1-1000   strength26to30          sf10001-100000   \n",
       "\n",
       "     tier_str     weight_str                 name  \\\n",
       "1009    tier4  weightunknown             Ultron-I   \n",
       "1010    tier6   weight1-1000     Ultron (Phalanx)   \n",
       "1011    tier8  weightunknown  Ultron (Final Form)   \n",
       "1012    tier2  weightunknown               Ultron   \n",
       "\n",
       "                                              img_links  \n",
       "1009  https://static.wikia.nocookie.net/villains/ima...  \n",
       "1010  https://static.wikia.nocookie.net/villains/ima...  \n",
       "1011  https://static.wikia.nocookie.net/villains/ima...  \n",
       "1012  https://static.wikia.nocookie.net/villains/ima...  "
      ]
     },
     "execution_count": 186,
     "metadata": {},
     "output_type": "execute_result"
    }
   ],
   "source": [
    "new_df[new_df['Character'] == 'ultron']"
   ]
  },
  {
   "cell_type": "code",
   "execution_count": 188,
   "id": "d4808107",
   "metadata": {},
   "outputs": [
    {
     "data": {
      "text/plain": [
       "(1016, 36)"
      ]
     },
     "execution_count": 188,
     "metadata": {},
     "output_type": "execute_result"
    }
   ],
   "source": [
    "new_df.shape"
   ]
  },
  {
   "cell_type": "code",
   "execution_count": 196,
   "id": "ea428e4c",
   "metadata": {},
   "outputs": [
    {
     "data": {
      "text/html": [
       "<div>\n",
       "<style scoped>\n",
       "    .dataframe tbody tr th:only-of-type {\n",
       "        vertical-align: middle;\n",
       "    }\n",
       "\n",
       "    .dataframe tbody tr th {\n",
       "        vertical-align: top;\n",
       "    }\n",
       "\n",
       "    .dataframe thead th {\n",
       "        text-align: right;\n",
       "    }\n",
       "</style>\n",
       "<table border=\"1\" class=\"dataframe\">\n",
       "  <thead>\n",
       "    <tr style=\"text-align: right;\">\n",
       "      <th></th>\n",
       "      <th>Character</th>\n",
       "      <th>img_links</th>\n",
       "    </tr>\n",
       "  </thead>\n",
       "  <tbody>\n",
       "    <tr>\n",
       "      <th>2809</th>\n",
       "      <td>kabal</td>\n",
       "      <td>https://static.wikia.nocookie.net/villains/ima...</td>\n",
       "    </tr>\n",
       "  </tbody>\n",
       "</table>\n",
       "</div>"
      ],
      "text/plain": [
       "     Character                                          img_links\n",
       "2809     kabal  https://static.wikia.nocookie.net/villains/ima..."
      ]
     },
     "execution_count": 196,
     "metadata": {},
     "output_type": "execute_result"
    }
   ],
   "source": [
    "scraped_data[scraped_data['Character'] =='kabal']"
   ]
  },
  {
   "cell_type": "code",
   "execution_count": 198,
   "id": "f4ec96d4",
   "metadata": {},
   "outputs": [
    {
     "data": {
      "text/plain": [
       "['https://static.wikia.nocookie.net/superheroes/images/e/ec/Ben_10.png/revision/latest/scale-to-width-down/250?cb=20201028085014',\n",
       " 'https://static.wikia.nocookie.net/superheroes/images/e/ec/Ben_10.png/revision/latest/scale-to-width-down/250?cb=20201028085014',\n",
       " 'https://static.wikia.nocookie.net/superheroes/images/e/ec/Ben_10.png/revision/latest/scale-to-width-down/250?cb=20201028085014',\n",
       " 'https://static.wikia.nocookie.net/superheroes/images/e/ec/Ben_10.png/revision/latest/scale-to-width-down/250?cb=20201028085014',\n",
       " 'https://static.wikia.nocookie.net/superheroes/images/e/ec/Ben_10.png/revision/latest/scale-to-width-down/250?cb=20201028085014',\n",
       " 'https://static.wikia.nocookie.net/superheroes/images/e/ec/Ben_10.png/revision/latest/scale-to-width-down/250?cb=20201028085014',\n",
       " 'https://static.wikia.nocookie.net/superheroes/images/e/ec/Ben_10.png/revision/latest/scale-to-width-down/250?cb=20201028085014']"
      ]
     },
     "execution_count": 198,
     "metadata": {},
     "output_type": "execute_result"
    }
   ],
   "source": [
    "new_df[new_df['Character']=='ben'].img_links.tolist()"
   ]
  },
  {
   "cell_type": "code",
   "execution_count": 189,
   "id": "d8a96459",
   "metadata": {},
   "outputs": [],
   "source": [
    "#new_df.to_csv('D:\\\\Study\\\\ML-Projects\\\\Project-3(Recommending_system)\\\\data\\\\final_metahumans_data.csv')"
   ]
  },
  {
   "cell_type": "markdown",
   "id": "466b7cd1",
   "metadata": {},
   "source": [
    "### Cleaning,wrangling and Feature engineering completed."
   ]
  },
  {
   "cell_type": "code",
   "execution_count": null,
   "id": "d310737f",
   "metadata": {},
   "outputs": [],
   "source": []
  }
 ],
 "metadata": {
  "kernelspec": {
   "display_name": "Python 3 (ipykernel)",
   "language": "python",
   "name": "python3"
  },
  "language_info": {
   "codemirror_mode": {
    "name": "ipython",
    "version": 3
   },
   "file_extension": ".py",
   "mimetype": "text/x-python",
   "name": "python",
   "nbconvert_exporter": "python",
   "pygments_lexer": "ipython3",
   "version": "3.9.13"
  }
 },
 "nbformat": 4,
 "nbformat_minor": 5
}
