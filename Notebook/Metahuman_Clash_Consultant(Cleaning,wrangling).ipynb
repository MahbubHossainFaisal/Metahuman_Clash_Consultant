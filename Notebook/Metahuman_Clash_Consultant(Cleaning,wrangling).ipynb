{
 "cells": [
  {
   "cell_type": "code",
   "execution_count": 1,
   "id": "49a426da",
   "metadata": {},
   "outputs": [],
   "source": [
    "import numpy as np\n",
    "import pandas as pd\n",
    "import matplotlib.pyplot as plt\n",
    "import seaborn as sns"
   ]
  },
  {
   "cell_type": "markdown",
   "id": "d5c1657b",
   "metadata": {},
   "source": [
    "#### Importing kaggle dataset"
   ]
  },
  {
   "cell_type": "code",
   "execution_count": 2,
   "id": "9e266888",
   "metadata": {},
   "outputs": [
    {
     "name": "stderr",
     "output_type": "stream",
     "text": [
      "C:\\Users\\Mahbub\\AppData\\Local\\Temp\\ipykernel_6840\\3393436495.py:2: DtypeWarning: Columns (4,6,8,16,17,19,23,24,25,27,30,31,32,33,35) have mixed types. Specify dtype option on import or set low_memory=False.\n",
      "  temp = pd.read_csv('D:\\\\Study\\\\Datasets\\\\Superheroes\\\\Sups\\\\Superheroes.csv')\n"
     ]
    }
   ],
   "source": [
    "pd.set_option('display.max_columns', None)\n",
    "temp = pd.read_csv('D:\\\\Study\\\\Datasets\\\\Superheroes\\\\Sups\\\\Superheroes.csv')\n",
    "\n",
    "sups = temp.copy()"
   ]
  },
  {
   "cell_type": "markdown",
   "id": "b4363be4",
   "metadata": {},
   "source": [
    "#### First 5 rows of the dataset"
   ]
  },
  {
   "cell_type": "code",
   "execution_count": 3,
   "id": "09fdaafd",
   "metadata": {},
   "outputs": [
    {
     "data": {
      "text/html": [
       "<div>\n",
       "<style scoped>\n",
       "    .dataframe tbody tr th:only-of-type {\n",
       "        vertical-align: middle;\n",
       "    }\n",
       "\n",
       "    .dataframe tbody tr th {\n",
       "        vertical-align: top;\n",
       "    }\n",
       "\n",
       "    .dataframe thead th {\n",
       "        text-align: right;\n",
       "    }\n",
       "</style>\n",
       "<table border=\"1\" class=\"dataframe\">\n",
       "  <thead>\n",
       "    <tr style=\"text-align: right;\">\n",
       "      <th></th>\n",
       "      <th>Alignment</th>\n",
       "      <th>Alter_Egos</th>\n",
       "      <th>Base</th>\n",
       "      <th>Character</th>\n",
       "      <th>Class_value</th>\n",
       "      <th>Collections</th>\n",
       "      <th>Combat</th>\n",
       "      <th>Creator</th>\n",
       "      <th>Durability</th>\n",
       "      <th>Equipment</th>\n",
       "      <th>Eye_color</th>\n",
       "      <th>Formerly</th>\n",
       "      <th>Full_name</th>\n",
       "      <th>Gender</th>\n",
       "      <th>Hair_color</th>\n",
       "      <th>Height</th>\n",
       "      <th>IQ</th>\n",
       "      <th>Intelligence</th>\n",
       "      <th>Leader</th>\n",
       "      <th>Level</th>\n",
       "      <th>Member</th>\n",
       "      <th>Name</th>\n",
       "      <th>Occupation</th>\n",
       "      <th>Omnipotent</th>\n",
       "      <th>Omnipresent</th>\n",
       "      <th>Omniscient</th>\n",
       "      <th>Place_of_birth</th>\n",
       "      <th>Power</th>\n",
       "      <th>Relatives</th>\n",
       "      <th>Species</th>\n",
       "      <th>Speed</th>\n",
       "      <th>Speed_velocity</th>\n",
       "      <th>Strength</th>\n",
       "      <th>Strength_force</th>\n",
       "      <th>Super_powers</th>\n",
       "      <th>Tier</th>\n",
       "      <th>Universe</th>\n",
       "      <th>Weight</th>\n",
       "      <th>History</th>\n",
       "    </tr>\n",
       "  </thead>\n",
       "  <tbody>\n",
       "    <tr>\n",
       "      <th>0</th>\n",
       "      <td>Good</td>\n",
       "      <td>None</td>\n",
       "      <td>None</td>\n",
       "      <td>Alucard</td>\n",
       "      <td>5471.0</td>\n",
       "      <td>None</td>\n",
       "      <td>80</td>\n",
       "      <td>Konami</td>\n",
       "      <td>35</td>\n",
       "      <td>NaN</td>\n",
       "      <td>Red</td>\n",
       "      <td>None</td>\n",
       "      <td>None</td>\n",
       "      <td>Male</td>\n",
       "      <td>Blond</td>\n",
       "      <td>191 cm • 6'3.2\"</td>\n",
       "      <td>140</td>\n",
       "      <td>70</td>\n",
       "      <td>NaN</td>\n",
       "      <td>3</td>\n",
       "      <td>None</td>\n",
       "      <td>Alucard</td>\n",
       "      <td>None</td>\n",
       "      <td>0</td>\n",
       "      <td>0</td>\n",
       "      <td>0</td>\n",
       "      <td>None</td>\n",
       "      <td>60</td>\n",
       "      <td>Vlad Ţepeş (father)\\nLisa Ţepeş (mother)</td>\n",
       "      <td>Human</td>\n",
       "      <td>30</td>\n",
       "      <td>2000</td>\n",
       "      <td>30</td>\n",
       "      <td>100000</td>\n",
       "      <td>Accelerated Healing,Agility,Berserk Mode,Blood...</td>\n",
       "      <td>2</td>\n",
       "      <td>C17S</td>\n",
       "      <td>82 kg • 180.78 lbs</td>\n",
       "      <td>NaN</td>\n",
       "    </tr>\n",
       "    <tr>\n",
       "      <th>1</th>\n",
       "      <td>Good</td>\n",
       "      <td>None</td>\n",
       "      <td>None</td>\n",
       "      <td>Alucard</td>\n",
       "      <td>5876.0</td>\n",
       "      <td>None</td>\n",
       "      <td>80</td>\n",
       "      <td>Konami</td>\n",
       "      <td>35</td>\n",
       "      <td>NaN</td>\n",
       "      <td>Red</td>\n",
       "      <td>None</td>\n",
       "      <td>None</td>\n",
       "      <td>Male</td>\n",
       "      <td>Blond</td>\n",
       "      <td>191 cm • 6'3.2\"</td>\n",
       "      <td>140</td>\n",
       "      <td>70</td>\n",
       "      <td>NaN</td>\n",
       "      <td>3</td>\n",
       "      <td>None</td>\n",
       "      <td>Alucard</td>\n",
       "      <td>None</td>\n",
       "      <td>0</td>\n",
       "      <td>0</td>\n",
       "      <td>0</td>\n",
       "      <td>None</td>\n",
       "      <td>60</td>\n",
       "      <td>Vlad Ţepeş (father)\\nLisa Ţepeş (mother)</td>\n",
       "      <td>Human</td>\n",
       "      <td>30</td>\n",
       "      <td>2000</td>\n",
       "      <td>30</td>\n",
       "      <td>100000</td>\n",
       "      <td>Accelerated Healing,Agility,Berserk Mode,Blood...</td>\n",
       "      <td>2</td>\n",
       "      <td>C17S</td>\n",
       "      <td>82 kg • 180.78 lbs</td>\n",
       "      <td>NaN</td>\n",
       "    </tr>\n",
       "    <tr>\n",
       "      <th>2</th>\n",
       "      <td>Good</td>\n",
       "      <td>None</td>\n",
       "      <td>None</td>\n",
       "      <td>Alucard</td>\n",
       "      <td>2586011.0</td>\n",
       "      <td>None</td>\n",
       "      <td>90</td>\n",
       "      <td>Konami</td>\n",
       "      <td>100</td>\n",
       "      <td>NaN</td>\n",
       "      <td>Gold</td>\n",
       "      <td>None</td>\n",
       "      <td>None</td>\n",
       "      <td>Male</td>\n",
       "      <td>White</td>\n",
       "      <td>-</td>\n",
       "      <td>160</td>\n",
       "      <td>80</td>\n",
       "      <td>NaN</td>\n",
       "      <td>6</td>\n",
       "      <td>None</td>\n",
       "      <td>NaN</td>\n",
       "      <td>Vampire Hunter</td>\n",
       "      <td>0</td>\n",
       "      <td>0</td>\n",
       "      <td>0</td>\n",
       "      <td>None</td>\n",
       "      <td>100</td>\n",
       "      <td>Dracula Vlad ?epe? (father)\\nLisa (mother)\\nEl...</td>\n",
       "      <td>Vampire</td>\n",
       "      <td>100</td>\n",
       "      <td>1000000000</td>\n",
       "      <td>100</td>\n",
       "      <td>1000000000</td>\n",
       "      <td>Accelerated Healing,Acrobatics,Agility,Blood M...</td>\n",
       "      <td>7</td>\n",
       "      <td>Castlevania</td>\n",
       "      <td>-</td>\n",
       "      <td>NaN</td>\n",
       "    </tr>\n",
       "    <tr>\n",
       "      <th>3</th>\n",
       "      <td>Good</td>\n",
       "      <td>None</td>\n",
       "      <td>None</td>\n",
       "      <td>Alucard</td>\n",
       "      <td>3380098.0</td>\n",
       "      <td>None</td>\n",
       "      <td>90</td>\n",
       "      <td>Konami</td>\n",
       "      <td>100</td>\n",
       "      <td>NaN</td>\n",
       "      <td>Gold</td>\n",
       "      <td>None</td>\n",
       "      <td>None</td>\n",
       "      <td>Male</td>\n",
       "      <td>White</td>\n",
       "      <td>-</td>\n",
       "      <td>160</td>\n",
       "      <td>80</td>\n",
       "      <td>NaN</td>\n",
       "      <td>6</td>\n",
       "      <td>None</td>\n",
       "      <td>NaN</td>\n",
       "      <td>Vampire Hunter</td>\n",
       "      <td>0</td>\n",
       "      <td>0</td>\n",
       "      <td>0</td>\n",
       "      <td>None</td>\n",
       "      <td>100</td>\n",
       "      <td>Dracula Vlad ?epe? (father)\\nLisa (mother)\\nEl...</td>\n",
       "      <td>Vampire</td>\n",
       "      <td>100</td>\n",
       "      <td>1000000000</td>\n",
       "      <td>100</td>\n",
       "      <td>1000000000</td>\n",
       "      <td>Accelerated Healing,Acrobatics,Agility,Blood M...</td>\n",
       "      <td>7</td>\n",
       "      <td>Castlevania</td>\n",
       "      <td>-</td>\n",
       "      <td>NaN</td>\n",
       "    </tr>\n",
       "    <tr>\n",
       "      <th>4</th>\n",
       "      <td>Good</td>\n",
       "      <td>None</td>\n",
       "      <td>None</td>\n",
       "      <td>Alucard</td>\n",
       "      <td>1170.0</td>\n",
       "      <td>None</td>\n",
       "      <td>100</td>\n",
       "      <td>None</td>\n",
       "      <td>45</td>\n",
       "      <td>NaN</td>\n",
       "      <td>Blue</td>\n",
       "      <td>None</td>\n",
       "      <td>None</td>\n",
       "      <td>Male</td>\n",
       "      <td>Blond</td>\n",
       "      <td>-</td>\n",
       "      <td>140</td>\n",
       "      <td>70</td>\n",
       "      <td>NaN</td>\n",
       "      <td>3</td>\n",
       "      <td>None</td>\n",
       "      <td>Alucard</td>\n",
       "      <td>None</td>\n",
       "      <td>0</td>\n",
       "      <td>0</td>\n",
       "      <td>0</td>\n",
       "      <td>None</td>\n",
       "      <td>80</td>\n",
       "      <td>None</td>\n",
       "      <td>None</td>\n",
       "      <td>50</td>\n",
       "      <td>10000</td>\n",
       "      <td>50</td>\n",
       "      <td>400000</td>\n",
       "      <td>Accelerated Healing,Acrobatics,Agility,Berserk...</td>\n",
       "      <td>2</td>\n",
       "      <td>ML</td>\n",
       "      <td>-</td>\n",
       "      <td>NaN</td>\n",
       "    </tr>\n",
       "  </tbody>\n",
       "</table>\n",
       "</div>"
      ],
      "text/plain": [
       "  Alignment Alter_Egos  Base Character Class_value Collections Combat Creator  \\\n",
       "0      Good       None  None   Alucard      5471.0        None     80  Konami   \n",
       "1      Good       None  None   Alucard      5876.0        None     80  Konami   \n",
       "2      Good       None  None   Alucard   2586011.0        None     90  Konami   \n",
       "3      Good       None  None   Alucard   3380098.0        None     90  Konami   \n",
       "4      Good       None  None   Alucard      1170.0        None    100    None   \n",
       "\n",
       "  Durability Equipment Eye_color Formerly Full_name Gender Hair_color  \\\n",
       "0         35       NaN       Red     None      None   Male      Blond   \n",
       "1         35       NaN       Red     None      None   Male      Blond   \n",
       "2        100       NaN      Gold     None      None   Male      White   \n",
       "3        100       NaN      Gold     None      None   Male      White   \n",
       "4         45       NaN      Blue     None      None   Male      Blond   \n",
       "\n",
       "            Height   IQ Intelligence Leader Level Member     Name  \\\n",
       "0  191 cm • 6'3.2\"  140           70    NaN     3   None  Alucard   \n",
       "1  191 cm • 6'3.2\"  140           70    NaN     3   None  Alucard   \n",
       "2                -  160           80    NaN     6   None      NaN   \n",
       "3                -  160           80    NaN     6   None      NaN   \n",
       "4                -  140           70    NaN     3   None  Alucard   \n",
       "\n",
       "       Occupation Omnipotent Omnipresent Omniscient Place_of_birth Power  \\\n",
       "0            None          0           0          0           None    60   \n",
       "1            None          0           0          0           None    60   \n",
       "2  Vampire Hunter          0           0          0           None   100   \n",
       "3  Vampire Hunter          0           0          0           None   100   \n",
       "4            None          0           0          0           None    80   \n",
       "\n",
       "                                           Relatives  Species Speed  \\\n",
       "0           Vlad Ţepeş (father)\\nLisa Ţepeş (mother)    Human    30   \n",
       "1           Vlad Ţepeş (father)\\nLisa Ţepeş (mother)    Human    30   \n",
       "2  Dracula Vlad ?epe? (father)\\nLisa (mother)\\nEl...  Vampire   100   \n",
       "3  Dracula Vlad ?epe? (father)\\nLisa (mother)\\nEl...  Vampire   100   \n",
       "4                                               None     None    50   \n",
       "\n",
       "  Speed_velocity Strength Strength_force  \\\n",
       "0           2000       30         100000   \n",
       "1           2000       30         100000   \n",
       "2     1000000000      100     1000000000   \n",
       "3     1000000000      100     1000000000   \n",
       "4          10000       50         400000   \n",
       "\n",
       "                                        Super_powers Tier     Universe  \\\n",
       "0  Accelerated Healing,Agility,Berserk Mode,Blood...    2         C17S   \n",
       "1  Accelerated Healing,Agility,Berserk Mode,Blood...    2         C17S   \n",
       "2  Accelerated Healing,Acrobatics,Agility,Blood M...    7  Castlevania   \n",
       "3  Accelerated Healing,Acrobatics,Agility,Blood M...    7  Castlevania   \n",
       "4  Accelerated Healing,Acrobatics,Agility,Berserk...    2           ML   \n",
       "\n",
       "               Weight History  \n",
       "0  82 kg • 180.78 lbs     NaN  \n",
       "1  82 kg • 180.78 lbs     NaN  \n",
       "2                   -     NaN  \n",
       "3                   -     NaN  \n",
       "4                   -     NaN  "
      ]
     },
     "execution_count": 3,
     "metadata": {},
     "output_type": "execute_result"
    }
   ],
   "source": [
    "sups.head(5)"
   ]
  },
  {
   "cell_type": "code",
   "execution_count": 4,
   "id": "d0d4fc60",
   "metadata": {},
   "outputs": [
    {
     "data": {
      "text/plain": [
       "(28118, 39)"
      ]
     },
     "execution_count": 4,
     "metadata": {},
     "output_type": "execute_result"
    }
   ],
   "source": [
    "sups.shape"
   ]
  },
  {
   "cell_type": "markdown",
   "id": "d383141d",
   "metadata": {},
   "source": [
    "#### Checking for duplicated data"
   ]
  },
  {
   "cell_type": "code",
   "execution_count": 5,
   "id": "4670e30b",
   "metadata": {},
   "outputs": [
    {
     "data": {
      "text/plain": [
       "3448"
      ]
     },
     "execution_count": 5,
     "metadata": {},
     "output_type": "execute_result"
    }
   ],
   "source": [
    "sups.duplicated().sum()"
   ]
  },
  {
   "cell_type": "code",
   "execution_count": 6,
   "id": "8f5b7b7c",
   "metadata": {},
   "outputs": [],
   "source": [
    "sups = sups.drop_duplicates()"
   ]
  },
  {
   "cell_type": "code",
   "execution_count": 7,
   "id": "989f8f44",
   "metadata": {},
   "outputs": [
    {
     "data": {
      "text/plain": [
       "(24670, 39)"
      ]
     },
     "execution_count": 7,
     "metadata": {},
     "output_type": "execute_result"
    }
   ],
   "source": [
    "sups.shape"
   ]
  },
  {
   "cell_type": "markdown",
   "id": "f77fc562",
   "metadata": {},
   "source": [
    "#### Deleting the columns that are not required for the analysis and model creation"
   ]
  },
  {
   "cell_type": "code",
   "execution_count": 8,
   "id": "8acd0215",
   "metadata": {},
   "outputs": [
    {
     "data": {
      "text/plain": [
       "Index(['Alignment', 'Alter_Egos', 'Base', 'Character', 'Class_value',\n",
       "       'Collections', 'Combat', 'Creator', 'Durability', 'Equipment',\n",
       "       'Eye_color', 'Formerly', 'Full_name', 'Gender', 'Hair_color', 'Height',\n",
       "       'IQ', 'Intelligence', 'Leader', 'Level', 'Member', 'Name', 'Occupation',\n",
       "       'Omnipotent', 'Omnipresent', 'Omniscient', 'Place_of_birth', 'Power',\n",
       "       'Relatives', 'Species', 'Speed', 'Speed_velocity', 'Strength',\n",
       "       'Strength_force', 'Super_powers', 'Tier', 'Universe', 'Weight',\n",
       "       'History'],\n",
       "      dtype='object')"
      ]
     },
     "execution_count": 8,
     "metadata": {},
     "output_type": "execute_result"
    }
   ],
   "source": [
    "sups.columns"
   ]
  },
  {
   "cell_type": "code",
   "execution_count": 9,
   "id": "6692752d",
   "metadata": {},
   "outputs": [],
   "source": [
    "not_needed_columns = ['Alter_Egos','Base','Collections','Full_name','Omnipotent','Omnipresent','Omniscient','Class_value','Eye_color','Equipment','Formerly','Hair_color',\n",
    "                      'Leader','Member','Name','Occupation','Relatives','History']"
   ]
  },
  {
   "cell_type": "code",
   "execution_count": 10,
   "id": "e63aead2",
   "metadata": {},
   "outputs": [],
   "source": [
    "sups.drop(columns=not_needed_columns,inplace=True)"
   ]
  },
  {
   "cell_type": "code",
   "execution_count": 11,
   "id": "27ecbc13",
   "metadata": {},
   "outputs": [
    {
     "data": {
      "text/plain": [
       "(24670, 21)"
      ]
     },
     "execution_count": 11,
     "metadata": {},
     "output_type": "execute_result"
    }
   ],
   "source": [
    "sups.shape"
   ]
  },
  {
   "cell_type": "code",
   "execution_count": 12,
   "id": "780d2144",
   "metadata": {},
   "outputs": [
    {
     "name": "stdout",
     "output_type": "stream",
     "text": [
      "<class 'pandas.core.frame.DataFrame'>\n",
      "Int64Index: 24670 entries, 0 to 28117\n",
      "Data columns (total 21 columns):\n",
      " #   Column          Non-Null Count  Dtype \n",
      "---  ------          --------------  ----- \n",
      " 0   Alignment       24492 non-null  object\n",
      " 1   Character       24670 non-null  object\n",
      " 2   Combat          24492 non-null  object\n",
      " 3   Creator         24492 non-null  object\n",
      " 4   Durability      24492 non-null  object\n",
      " 5   Gender          24492 non-null  object\n",
      " 6   Height          24492 non-null  object\n",
      " 7   IQ              24492 non-null  object\n",
      " 8   Intelligence    24492 non-null  object\n",
      " 9   Level           24492 non-null  object\n",
      " 10  Place_of_birth  24472 non-null  object\n",
      " 11  Power           24492 non-null  object\n",
      " 12  Species         24492 non-null  object\n",
      " 13  Speed           24492 non-null  object\n",
      " 14  Speed_velocity  24492 non-null  object\n",
      " 15  Strength        24492 non-null  object\n",
      " 16  Strength_force  24492 non-null  object\n",
      " 17  Super_powers    24492 non-null  object\n",
      " 18  Tier            24492 non-null  object\n",
      " 19  Universe        21786 non-null  object\n",
      " 20  Weight          24492 non-null  object\n",
      "dtypes: object(21)\n",
      "memory usage: 4.1+ MB\n"
     ]
    }
   ],
   "source": [
    "sups.info()"
   ]
  },
  {
   "cell_type": "code",
   "execution_count": 13,
   "id": "134eea12",
   "metadata": {},
   "outputs": [],
   "source": [
    "sups_ui = sups.copy()"
   ]
  },
  {
   "cell_type": "markdown",
   "id": "a50e08c7",
   "metadata": {},
   "source": [
    "#### Duplicates"
   ]
  },
  {
   "cell_type": "code",
   "execution_count": 14,
   "id": "087e302d",
   "metadata": {},
   "outputs": [
    {
     "data": {
      "text/html": [
       "<div>\n",
       "<style scoped>\n",
       "    .dataframe tbody tr th:only-of-type {\n",
       "        vertical-align: middle;\n",
       "    }\n",
       "\n",
       "    .dataframe tbody tr th {\n",
       "        vertical-align: top;\n",
       "    }\n",
       "\n",
       "    .dataframe thead th {\n",
       "        text-align: right;\n",
       "    }\n",
       "</style>\n",
       "<table border=\"1\" class=\"dataframe\">\n",
       "  <thead>\n",
       "    <tr style=\"text-align: right;\">\n",
       "      <th></th>\n",
       "      <th>Alignment</th>\n",
       "      <th>Character</th>\n",
       "      <th>Combat</th>\n",
       "      <th>Creator</th>\n",
       "      <th>Durability</th>\n",
       "      <th>Gender</th>\n",
       "      <th>Height</th>\n",
       "      <th>IQ</th>\n",
       "      <th>Intelligence</th>\n",
       "      <th>Level</th>\n",
       "      <th>Place_of_birth</th>\n",
       "      <th>Power</th>\n",
       "      <th>Species</th>\n",
       "      <th>Speed</th>\n",
       "      <th>Speed_velocity</th>\n",
       "      <th>Strength</th>\n",
       "      <th>Strength_force</th>\n",
       "      <th>Super_powers</th>\n",
       "      <th>Tier</th>\n",
       "      <th>Universe</th>\n",
       "      <th>Weight</th>\n",
       "    </tr>\n",
       "  </thead>\n",
       "  <tbody>\n",
       "    <tr>\n",
       "      <th>1</th>\n",
       "      <td>Good</td>\n",
       "      <td>Alucard</td>\n",
       "      <td>80</td>\n",
       "      <td>Konami</td>\n",
       "      <td>35</td>\n",
       "      <td>Male</td>\n",
       "      <td>191 cm • 6'3.2\"</td>\n",
       "      <td>140</td>\n",
       "      <td>70</td>\n",
       "      <td>3</td>\n",
       "      <td>None</td>\n",
       "      <td>60</td>\n",
       "      <td>Human</td>\n",
       "      <td>30</td>\n",
       "      <td>2000</td>\n",
       "      <td>30</td>\n",
       "      <td>100000</td>\n",
       "      <td>Accelerated Healing,Agility,Berserk Mode,Blood...</td>\n",
       "      <td>2</td>\n",
       "      <td>C17S</td>\n",
       "      <td>82 kg • 180.78 lbs</td>\n",
       "    </tr>\n",
       "    <tr>\n",
       "      <th>2</th>\n",
       "      <td>Good</td>\n",
       "      <td>Alucard</td>\n",
       "      <td>90</td>\n",
       "      <td>Konami</td>\n",
       "      <td>100</td>\n",
       "      <td>Male</td>\n",
       "      <td>-</td>\n",
       "      <td>160</td>\n",
       "      <td>80</td>\n",
       "      <td>6</td>\n",
       "      <td>None</td>\n",
       "      <td>100</td>\n",
       "      <td>Vampire</td>\n",
       "      <td>100</td>\n",
       "      <td>1000000000</td>\n",
       "      <td>100</td>\n",
       "      <td>1000000000</td>\n",
       "      <td>Accelerated Healing,Acrobatics,Agility,Blood M...</td>\n",
       "      <td>7</td>\n",
       "      <td>Castlevania</td>\n",
       "      <td>-</td>\n",
       "    </tr>\n",
       "    <tr>\n",
       "      <th>3</th>\n",
       "      <td>Good</td>\n",
       "      <td>Alucard</td>\n",
       "      <td>90</td>\n",
       "      <td>Konami</td>\n",
       "      <td>100</td>\n",
       "      <td>Male</td>\n",
       "      <td>-</td>\n",
       "      <td>160</td>\n",
       "      <td>80</td>\n",
       "      <td>6</td>\n",
       "      <td>None</td>\n",
       "      <td>100</td>\n",
       "      <td>Vampire</td>\n",
       "      <td>100</td>\n",
       "      <td>1000000000</td>\n",
       "      <td>100</td>\n",
       "      <td>1000000000</td>\n",
       "      <td>Accelerated Healing,Acrobatics,Agility,Blood M...</td>\n",
       "      <td>7</td>\n",
       "      <td>Castlevania</td>\n",
       "      <td>-</td>\n",
       "    </tr>\n",
       "    <tr>\n",
       "      <th>4</th>\n",
       "      <td>Good</td>\n",
       "      <td>Alucard</td>\n",
       "      <td>100</td>\n",
       "      <td>None</td>\n",
       "      <td>45</td>\n",
       "      <td>Male</td>\n",
       "      <td>-</td>\n",
       "      <td>140</td>\n",
       "      <td>70</td>\n",
       "      <td>3</td>\n",
       "      <td>None</td>\n",
       "      <td>80</td>\n",
       "      <td>None</td>\n",
       "      <td>50</td>\n",
       "      <td>10000</td>\n",
       "      <td>50</td>\n",
       "      <td>400000</td>\n",
       "      <td>Accelerated Healing,Acrobatics,Agility,Berserk...</td>\n",
       "      <td>2</td>\n",
       "      <td>ML</td>\n",
       "      <td>-</td>\n",
       "    </tr>\n",
       "    <tr>\n",
       "      <th>5</th>\n",
       "      <td>Good</td>\n",
       "      <td>Alucard</td>\n",
       "      <td>100</td>\n",
       "      <td>None</td>\n",
       "      <td>45</td>\n",
       "      <td>Male</td>\n",
       "      <td>-</td>\n",
       "      <td>140</td>\n",
       "      <td>70</td>\n",
       "      <td>3</td>\n",
       "      <td>None</td>\n",
       "      <td>80</td>\n",
       "      <td>None</td>\n",
       "      <td>50</td>\n",
       "      <td>10000</td>\n",
       "      <td>50</td>\n",
       "      <td>400000</td>\n",
       "      <td>Accelerated Healing,Acrobatics,Agility,Berserk...</td>\n",
       "      <td>2</td>\n",
       "      <td>ML</td>\n",
       "      <td>-</td>\n",
       "    </tr>\n",
       "    <tr>\n",
       "      <th>...</th>\n",
       "      <td>...</td>\n",
       "      <td>...</td>\n",
       "      <td>...</td>\n",
       "      <td>...</td>\n",
       "      <td>...</td>\n",
       "      <td>...</td>\n",
       "      <td>...</td>\n",
       "      <td>...</td>\n",
       "      <td>...</td>\n",
       "      <td>...</td>\n",
       "      <td>...</td>\n",
       "      <td>...</td>\n",
       "      <td>...</td>\n",
       "      <td>...</td>\n",
       "      <td>...</td>\n",
       "      <td>...</td>\n",
       "      <td>...</td>\n",
       "      <td>...</td>\n",
       "      <td>...</td>\n",
       "      <td>...</td>\n",
       "      <td>...</td>\n",
       "    </tr>\n",
       "    <tr>\n",
       "      <th>28110</th>\n",
       "      <td>NaN</td>\n",
       "      <td>Wonder Man</td>\n",
       "      <td>NaN</td>\n",
       "      <td>NaN</td>\n",
       "      <td>NaN</td>\n",
       "      <td>NaN</td>\n",
       "      <td>NaN</td>\n",
       "      <td>NaN</td>\n",
       "      <td>NaN</td>\n",
       "      <td>NaN</td>\n",
       "      <td>NaN</td>\n",
       "      <td>NaN</td>\n",
       "      <td>NaN</td>\n",
       "      <td>NaN</td>\n",
       "      <td>NaN</td>\n",
       "      <td>NaN</td>\n",
       "      <td>NaN</td>\n",
       "      <td>NaN</td>\n",
       "      <td>NaN</td>\n",
       "      <td>Earth-2149</td>\n",
       "      <td>NaN</td>\n",
       "    </tr>\n",
       "    <tr>\n",
       "      <th>28111</th>\n",
       "      <td>NaN</td>\n",
       "      <td>Wonder Girl</td>\n",
       "      <td>NaN</td>\n",
       "      <td>NaN</td>\n",
       "      <td>NaN</td>\n",
       "      <td>NaN</td>\n",
       "      <td>NaN</td>\n",
       "      <td>NaN</td>\n",
       "      <td>NaN</td>\n",
       "      <td>NaN</td>\n",
       "      <td>NaN</td>\n",
       "      <td>NaN</td>\n",
       "      <td>NaN</td>\n",
       "      <td>NaN</td>\n",
       "      <td>NaN</td>\n",
       "      <td>NaN</td>\n",
       "      <td>NaN</td>\n",
       "      <td>NaN</td>\n",
       "      <td>NaN</td>\n",
       "      <td>New 52</td>\n",
       "      <td>NaN</td>\n",
       "    </tr>\n",
       "    <tr>\n",
       "      <th>28112</th>\n",
       "      <td>NaN</td>\n",
       "      <td>Wonder Girl</td>\n",
       "      <td>NaN</td>\n",
       "      <td>NaN</td>\n",
       "      <td>NaN</td>\n",
       "      <td>NaN</td>\n",
       "      <td>NaN</td>\n",
       "      <td>NaN</td>\n",
       "      <td>NaN</td>\n",
       "      <td>NaN</td>\n",
       "      <td>NaN</td>\n",
       "      <td>NaN</td>\n",
       "      <td>NaN</td>\n",
       "      <td>NaN</td>\n",
       "      <td>NaN</td>\n",
       "      <td>NaN</td>\n",
       "      <td>NaN</td>\n",
       "      <td>NaN</td>\n",
       "      <td>NaN</td>\n",
       "      <td>Prime Earth</td>\n",
       "      <td>NaN</td>\n",
       "    </tr>\n",
       "    <tr>\n",
       "      <th>28114</th>\n",
       "      <td>NaN</td>\n",
       "      <td>Watcher</td>\n",
       "      <td>NaN</td>\n",
       "      <td>NaN</td>\n",
       "      <td>NaN</td>\n",
       "      <td>NaN</td>\n",
       "      <td>NaN</td>\n",
       "      <td>NaN</td>\n",
       "      <td>NaN</td>\n",
       "      <td>NaN</td>\n",
       "      <td>NaN</td>\n",
       "      <td>NaN</td>\n",
       "      <td>NaN</td>\n",
       "      <td>NaN</td>\n",
       "      <td>NaN</td>\n",
       "      <td>NaN</td>\n",
       "      <td>NaN</td>\n",
       "      <td>NaN</td>\n",
       "      <td>NaN</td>\n",
       "      <td>TLFFS</td>\n",
       "      <td>NaN</td>\n",
       "    </tr>\n",
       "    <tr>\n",
       "      <th>28116</th>\n",
       "      <td>NaN</td>\n",
       "      <td>Yellow Lantern</td>\n",
       "      <td>NaN</td>\n",
       "      <td>NaN</td>\n",
       "      <td>NaN</td>\n",
       "      <td>NaN</td>\n",
       "      <td>NaN</td>\n",
       "      <td>NaN</td>\n",
       "      <td>NaN</td>\n",
       "      <td>NaN</td>\n",
       "      <td>NaN</td>\n",
       "      <td>NaN</td>\n",
       "      <td>NaN</td>\n",
       "      <td>NaN</td>\n",
       "      <td>NaN</td>\n",
       "      <td>NaN</td>\n",
       "      <td>NaN</td>\n",
       "      <td>NaN</td>\n",
       "      <td>NaN</td>\n",
       "      <td>New 52</td>\n",
       "      <td>NaN</td>\n",
       "    </tr>\n",
       "  </tbody>\n",
       "</table>\n",
       "<p>13408 rows × 21 columns</p>\n",
       "</div>"
      ],
      "text/plain": [
       "      Alignment       Character Combat Creator Durability Gender  \\\n",
       "1          Good         Alucard     80  Konami         35   Male   \n",
       "2          Good         Alucard     90  Konami        100   Male   \n",
       "3          Good         Alucard     90  Konami        100   Male   \n",
       "4          Good         Alucard    100    None         45   Male   \n",
       "5          Good         Alucard    100    None         45   Male   \n",
       "...         ...             ...    ...     ...        ...    ...   \n",
       "28110       NaN      Wonder Man    NaN     NaN        NaN    NaN   \n",
       "28111       NaN     Wonder Girl    NaN     NaN        NaN    NaN   \n",
       "28112       NaN     Wonder Girl    NaN     NaN        NaN    NaN   \n",
       "28114       NaN         Watcher    NaN     NaN        NaN    NaN   \n",
       "28116       NaN  Yellow Lantern    NaN     NaN        NaN    NaN   \n",
       "\n",
       "                Height   IQ Intelligence Level Place_of_birth Power  Species  \\\n",
       "1      191 cm • 6'3.2\"  140           70     3           None    60    Human   \n",
       "2                    -  160           80     6           None   100  Vampire   \n",
       "3                    -  160           80     6           None   100  Vampire   \n",
       "4                    -  140           70     3           None    80     None   \n",
       "5                    -  140           70     3           None    80     None   \n",
       "...                ...  ...          ...   ...            ...   ...      ...   \n",
       "28110              NaN  NaN          NaN   NaN            NaN   NaN      NaN   \n",
       "28111              NaN  NaN          NaN   NaN            NaN   NaN      NaN   \n",
       "28112              NaN  NaN          NaN   NaN            NaN   NaN      NaN   \n",
       "28114              NaN  NaN          NaN   NaN            NaN   NaN      NaN   \n",
       "28116              NaN  NaN          NaN   NaN            NaN   NaN      NaN   \n",
       "\n",
       "      Speed Speed_velocity Strength Strength_force  \\\n",
       "1        30           2000       30         100000   \n",
       "2       100     1000000000      100     1000000000   \n",
       "3       100     1000000000      100     1000000000   \n",
       "4        50          10000       50         400000   \n",
       "5        50          10000       50         400000   \n",
       "...     ...            ...      ...            ...   \n",
       "28110   NaN            NaN      NaN            NaN   \n",
       "28111   NaN            NaN      NaN            NaN   \n",
       "28112   NaN            NaN      NaN            NaN   \n",
       "28114   NaN            NaN      NaN            NaN   \n",
       "28116   NaN            NaN      NaN            NaN   \n",
       "\n",
       "                                            Super_powers Tier     Universe  \\\n",
       "1      Accelerated Healing,Agility,Berserk Mode,Blood...    2         C17S   \n",
       "2      Accelerated Healing,Acrobatics,Agility,Blood M...    7  Castlevania   \n",
       "3      Accelerated Healing,Acrobatics,Agility,Blood M...    7  Castlevania   \n",
       "4      Accelerated Healing,Acrobatics,Agility,Berserk...    2           ML   \n",
       "5      Accelerated Healing,Acrobatics,Agility,Berserk...    2           ML   \n",
       "...                                                  ...  ...          ...   \n",
       "28110                                                NaN  NaN   Earth-2149   \n",
       "28111                                                NaN  NaN       New 52   \n",
       "28112                                                NaN  NaN  Prime Earth   \n",
       "28114                                                NaN  NaN        TLFFS   \n",
       "28116                                                NaN  NaN       New 52   \n",
       "\n",
       "                   Weight  \n",
       "1      82 kg • 180.78 lbs  \n",
       "2                       -  \n",
       "3                       -  \n",
       "4                       -  \n",
       "5                       -  \n",
       "...                   ...  \n",
       "28110                 NaN  \n",
       "28111                 NaN  \n",
       "28112                 NaN  \n",
       "28114                 NaN  \n",
       "28116                 NaN  \n",
       "\n",
       "[13408 rows x 21 columns]"
      ]
     },
     "execution_count": 14,
     "metadata": {},
     "output_type": "execute_result"
    }
   ],
   "source": [
    "sups[sups['Character'].duplicated()]"
   ]
  },
  {
   "cell_type": "code",
   "execution_count": 15,
   "id": "e842a001",
   "metadata": {},
   "outputs": [],
   "source": [
    "sups = sups.drop_duplicates(subset=['Character'])"
   ]
  },
  {
   "cell_type": "code",
   "execution_count": 16,
   "id": "e8a77f2e",
   "metadata": {},
   "outputs": [
    {
     "data": {
      "text/plain": [
       "(11262, 21)"
      ]
     },
     "execution_count": 16,
     "metadata": {},
     "output_type": "execute_result"
    }
   ],
   "source": [
    "sups.shape"
   ]
  },
  {
   "cell_type": "markdown",
   "id": "b1f9cdc2",
   "metadata": {},
   "source": [
    "#### Checking NAN rows"
   ]
  },
  {
   "cell_type": "code",
   "execution_count": 17,
   "id": "5f3659dd",
   "metadata": {},
   "outputs": [],
   "source": [
    "threshold = 11\n",
    "\n",
    "# Filter rows with most NaN values\n",
    "rows_with_most_nan = sups[sups.isna().sum(axis=1) >= threshold]"
   ]
  },
  {
   "cell_type": "code",
   "execution_count": 18,
   "id": "976c178f",
   "metadata": {},
   "outputs": [
    {
     "data": {
      "text/plain": [
       "56"
      ]
     },
     "execution_count": 18,
     "metadata": {},
     "output_type": "execute_result"
    }
   ],
   "source": [
    "len(rows_with_most_nan)"
   ]
  },
  {
   "cell_type": "code",
   "execution_count": 19,
   "id": "af9c4a83",
   "metadata": {},
   "outputs": [],
   "source": [
    "sups = sups.dropna(thresh = threshold)"
   ]
  },
  {
   "cell_type": "code",
   "execution_count": 20,
   "id": "5d6a0dda",
   "metadata": {},
   "outputs": [
    {
     "data": {
      "text/plain": [
       "(11206, 21)"
      ]
     },
     "execution_count": 20,
     "metadata": {},
     "output_type": "execute_result"
    }
   ],
   "source": [
    "sups.shape"
   ]
  },
  {
   "cell_type": "code",
   "execution_count": 21,
   "id": "eeca1fa3",
   "metadata": {},
   "outputs": [
    {
     "data": {
      "text/plain": [
       "Index(['Alignment', 'Character', 'Combat', 'Creator', 'Durability', 'Gender',\n",
       "       'Height', 'IQ', 'Intelligence', 'Level', 'Place_of_birth', 'Power',\n",
       "       'Species', 'Speed', 'Speed_velocity', 'Strength', 'Strength_force',\n",
       "       'Super_powers', 'Tier', 'Universe', 'Weight'],\n",
       "      dtype='object')"
      ]
     },
     "execution_count": 21,
     "metadata": {},
     "output_type": "execute_result"
    }
   ],
   "source": [
    "sups.columns"
   ]
  },
  {
   "cell_type": "markdown",
   "id": "1ecfb00e",
   "metadata": {},
   "source": [
    "#### Alignment column"
   ]
  },
  {
   "cell_type": "code",
   "execution_count": 22,
   "id": "b6c48a3f",
   "metadata": {},
   "outputs": [
    {
     "data": {
      "text/html": [
       "<div>\n",
       "<style scoped>\n",
       "    .dataframe tbody tr th:only-of-type {\n",
       "        vertical-align: middle;\n",
       "    }\n",
       "\n",
       "    .dataframe tbody tr th {\n",
       "        vertical-align: top;\n",
       "    }\n",
       "\n",
       "    .dataframe thead th {\n",
       "        text-align: right;\n",
       "    }\n",
       "</style>\n",
       "<table border=\"1\" class=\"dataframe\">\n",
       "  <thead>\n",
       "    <tr style=\"text-align: right;\">\n",
       "      <th></th>\n",
       "      <th>Alignment</th>\n",
       "      <th>Character</th>\n",
       "      <th>Combat</th>\n",
       "      <th>Creator</th>\n",
       "      <th>Durability</th>\n",
       "      <th>Gender</th>\n",
       "      <th>Height</th>\n",
       "      <th>IQ</th>\n",
       "      <th>Intelligence</th>\n",
       "      <th>Level</th>\n",
       "      <th>Place_of_birth</th>\n",
       "      <th>Power</th>\n",
       "      <th>Species</th>\n",
       "      <th>Speed</th>\n",
       "      <th>Speed_velocity</th>\n",
       "      <th>Strength</th>\n",
       "      <th>Strength_force</th>\n",
       "      <th>Super_powers</th>\n",
       "      <th>Tier</th>\n",
       "      <th>Universe</th>\n",
       "      <th>Weight</th>\n",
       "    </tr>\n",
       "  </thead>\n",
       "  <tbody>\n",
       "  </tbody>\n",
       "</table>\n",
       "</div>"
      ],
      "text/plain": [
       "Empty DataFrame\n",
       "Columns: [Alignment, Character, Combat, Creator, Durability, Gender, Height, IQ, Intelligence, Level, Place_of_birth, Power, Species, Speed, Speed_velocity, Strength, Strength_force, Super_powers, Tier, Universe, Weight]\n",
       "Index: []"
      ]
     },
     "execution_count": 22,
     "metadata": {},
     "output_type": "execute_result"
    }
   ],
   "source": [
    "sups[sups.Alignment.isna()]"
   ]
  },
  {
   "cell_type": "code",
   "execution_count": 23,
   "id": "5b409b05",
   "metadata": {},
   "outputs": [
    {
     "data": {
      "text/plain": [
       "array(['Good', 'Neutral', 'Bad', 'None', '-', 'Alignment'], dtype=object)"
      ]
     },
     "execution_count": 23,
     "metadata": {},
     "output_type": "execute_result"
    }
   ],
   "source": [
    "sups.Alignment.unique()"
   ]
  },
  {
   "cell_type": "markdown",
   "id": "e2fb0568",
   "metadata": {},
   "source": [
    "#### Good, Bad, and neutral value rows will be taken"
   ]
  },
  {
   "cell_type": "code",
   "execution_count": 24,
   "id": "0a47da4a",
   "metadata": {},
   "outputs": [],
   "source": [
    "sups = sups[(sups['Alignment'] == 'Good') | (sups['Alignment'] == 'Bad') | (sups['Alignment'] == 'Neutral')]"
   ]
  },
  {
   "cell_type": "code",
   "execution_count": 25,
   "id": "4131add9",
   "metadata": {},
   "outputs": [
    {
     "data": {
      "text/plain": [
       "(7667, 21)"
      ]
     },
     "execution_count": 25,
     "metadata": {},
     "output_type": "execute_result"
    }
   ],
   "source": [
    "sups.shape"
   ]
  },
  {
   "cell_type": "code",
   "execution_count": 26,
   "id": "0e6a0fb6",
   "metadata": {},
   "outputs": [
    {
     "data": {
      "text/plain": [
       "array(['Good', 'Neutral', 'Bad'], dtype=object)"
      ]
     },
     "execution_count": 26,
     "metadata": {},
     "output_type": "execute_result"
    }
   ],
   "source": [
    "# verify\n",
    "sups.Alignment.unique()"
   ]
  },
  {
   "cell_type": "markdown",
   "id": "77305c8e",
   "metadata": {},
   "source": [
    "#### Character column"
   ]
  },
  {
   "cell_type": "code",
   "execution_count": 27,
   "id": "448c2a2f",
   "metadata": {},
   "outputs": [
    {
     "data": {
      "text/plain": [
       "0"
      ]
     },
     "execution_count": 27,
     "metadata": {},
     "output_type": "execute_result"
    }
   ],
   "source": [
    "sups['Character'].duplicated().sum()"
   ]
  },
  {
   "cell_type": "code",
   "execution_count": 28,
   "id": "5a4372a1",
   "metadata": {},
   "outputs": [
    {
     "data": {
      "text/plain": [
       "0"
      ]
     },
     "execution_count": 28,
     "metadata": {},
     "output_type": "execute_result"
    }
   ],
   "source": [
    "sups['Character'].isna().sum()"
   ]
  },
  {
   "cell_type": "markdown",
   "id": "735e436a",
   "metadata": {},
   "source": [
    "#### Cobmat columns"
   ]
  },
  {
   "cell_type": "code",
   "execution_count": 29,
   "id": "ba726be7",
   "metadata": {},
   "outputs": [],
   "source": [
    "def process_powers(val):\n",
    "    if val <= 0:\n",
    "        return '0'\n",
    "    for i in range(0, 21): \n",
    "        if i * 5 + 1 <= val <= (i + 1) * 5:\n",
    "            return f'{i * 5 + 1}to{(i + 1) * 5}'\n",
    "    return 'outofrange'"
   ]
  },
  {
   "cell_type": "code",
   "execution_count": 30,
   "id": "bdb6784d",
   "metadata": {},
   "outputs": [],
   "source": [
    "# data type\n",
    "sups['Combat'] = sups['Combat'].astype(int)"
   ]
  },
  {
   "cell_type": "code",
   "execution_count": 31,
   "id": "2aa1e96e",
   "metadata": {},
   "outputs": [],
   "source": [
    "sups['Combat'] = sups['Combat'].apply(process_powers)"
   ]
  },
  {
   "cell_type": "code",
   "execution_count": 32,
   "id": "5db570dd",
   "metadata": {},
   "outputs": [
    {
     "data": {
      "text/plain": [
       "0"
      ]
     },
     "execution_count": 32,
     "metadata": {},
     "output_type": "execute_result"
    }
   ],
   "source": [
    "sups['Combat'].isna().sum()"
   ]
  },
  {
   "cell_type": "code",
   "execution_count": 33,
   "id": "4ec26092",
   "metadata": {},
   "outputs": [
    {
     "data": {
      "text/plain": [
       "7646"
      ]
     },
     "execution_count": 33,
     "metadata": {},
     "output_type": "execute_result"
    }
   ],
   "source": [
    "sups.Combat.duplicated().sum()"
   ]
  },
  {
   "cell_type": "code",
   "execution_count": 34,
   "id": "bd196690",
   "metadata": {},
   "outputs": [],
   "source": [
    "sups['Combat'] = 'combat' + sups['Combat'].astype(str)"
   ]
  },
  {
   "cell_type": "code",
   "execution_count": 35,
   "id": "a48c90b8",
   "metadata": {},
   "outputs": [
    {
     "data": {
      "text/plain": [
       "array(['combat76to80', 'combat86to90', 'combat36to40', 'combat11to15',\n",
       "       'combat56to60', 'combat96to100', 'combat41to45', 'combat46to50',\n",
       "       'combat71to75', 'combat91to95', 'combat16to20', 'combat61to65',\n",
       "       'combat66to70', 'combat51to55', 'combat26to30', 'combat1to5',\n",
       "       'combat31to35', 'combat21to25', 'combat81to85', 'combat6to10',\n",
       "       'combat0'], dtype=object)"
      ]
     },
     "execution_count": 35,
     "metadata": {},
     "output_type": "execute_result"
    }
   ],
   "source": [
    "sups.Combat.unique()"
   ]
  },
  {
   "cell_type": "markdown",
   "id": "152993b5",
   "metadata": {},
   "source": [
    "#### Creator Column"
   ]
  },
  {
   "cell_type": "code",
   "execution_count": 36,
   "id": "904a729f",
   "metadata": {},
   "outputs": [
    {
     "data": {
      "text/plain": [
       "array(['Konami', 'Sega', 'None', 'Cartoon Network', 'Marvel Comics',\n",
       "       'Square Enix', 'DC Comics', 'Shueisha', 'Warner Brothers',\n",
       "       'J. K. Rowling', 'James Cameron', 'Hasbro', 'Ubisoft',\n",
       "       'Shogakukan', 'George Lucas', 'Capcom', 'J. R. R. Tolkien',\n",
       "       'Image Comics', 'George R. R. Martin', 'ABC Studios', 'Wildstorm',\n",
       "       'Kodansha', 'Microsoft', 'Nintendo', 'IDW Publishing',\n",
       "       'Nickelodeon', 'Kadokawa', 'Activision Blizzard', 'Skybound',\n",
       "       'Dreamworks', 'Riot Games', 'Universal Studios', 'Namco', 'SNK',\n",
       "       'Toei Animation', 'Pixar', 'Dark Horse Comics', 'Dargaud',\n",
       "       'Mortal Kombat', 'Mattel', 'Dynamite Entertainment',\n",
       "       'Team Epic TV', 'Netflix', 'CD Projekt Red', 'Hanna-Barbera',\n",
       "       'Disney', 'Rick Riordan', 'South Park', 'Sony Pictures',\n",
       "       'Amalgam Comics', 'AMC', 'H.P. Lovecraft', 'SyFy',\n",
       "       'Kevin Williamson', 'Rebellion', 'Viz Media', 'Naughty Dog',\n",
       "       'Top Cow Productions', 'Studio Ghibli', 'Matt Groening', 'Lego',\n",
       "       'SCP Foundation', 'NBC', 'Stephen King', 'Valiant Comics',\n",
       "       'Tui T. Sutherland', 'Gene Roddenberry', 'Herg�',\n",
       "       'Insomniac Games', 'Newgrounds', 'Stephen McCranie',\n",
       "       'Valve Corporation', 'Bonelli', 'Ian Fleming', 'Rockstar Games',\n",
       "       '2K', 'Electronic Arts', 'Boom! Studios', 'Rooster Teeth Games',\n",
       "       'Clive Barker', 'Guerrilla Games', 'Epic', 'Arkane Studios',\n",
       "       '07th Expansion', 'Type-Moon', 'Warhammer 40K',\n",
       "       'Absolute Comics Group', 'Power Rangers', 'AC Comics', 'MGM',\n",
       "       'Le Lombard', 'The CW', 'Games Workshop', 'CoroCoro Comic',\n",
       "       'Thomas Harris', 'Tokuma Shoten', 'John Conroe', 'Dupuis',\n",
       "       'Mark Jones', 'Koei Tecmo'], dtype=object)"
      ]
     },
     "execution_count": 36,
     "metadata": {},
     "output_type": "execute_result"
    }
   ],
   "source": [
    "sups.Creator.unique()"
   ]
  },
  {
   "cell_type": "code",
   "execution_count": 37,
   "id": "3b7c2ad1",
   "metadata": {},
   "outputs": [
    {
     "data": {
      "text/plain": [
       "0"
      ]
     },
     "execution_count": 37,
     "metadata": {},
     "output_type": "execute_result"
    }
   ],
   "source": [
    "sups.Creator.isna().sum()"
   ]
  },
  {
   "cell_type": "markdown",
   "id": "4a1b499c",
   "metadata": {},
   "source": [
    "#### Durability column"
   ]
  },
  {
   "cell_type": "code",
   "execution_count": 38,
   "id": "08ede9ee",
   "metadata": {},
   "outputs": [
    {
     "data": {
      "text/plain": [
       "dtype('O')"
      ]
     },
     "execution_count": 38,
     "metadata": {},
     "output_type": "execute_result"
    }
   ],
   "source": [
    "sups.Durability.dtype"
   ]
  },
  {
   "cell_type": "code",
   "execution_count": 39,
   "id": "931829d6",
   "metadata": {},
   "outputs": [],
   "source": [
    "# data type\n",
    "sups['Durability'] = sups['Durability'].astype(int)"
   ]
  },
  {
   "cell_type": "code",
   "execution_count": 40,
   "id": "86c8f3a6",
   "metadata": {},
   "outputs": [
    {
     "data": {
      "text/plain": [
       "0"
      ]
     },
     "execution_count": 40,
     "metadata": {},
     "output_type": "execute_result"
    }
   ],
   "source": [
    "sups.Durability.min()"
   ]
  },
  {
   "cell_type": "code",
   "execution_count": 41,
   "id": "b0043dff",
   "metadata": {},
   "outputs": [
    {
     "data": {
      "text/plain": [
       "100"
      ]
     },
     "execution_count": 41,
     "metadata": {},
     "output_type": "execute_result"
    }
   ],
   "source": [
    "sups.Durability.max()"
   ]
  },
  {
   "cell_type": "code",
   "execution_count": 42,
   "id": "b43a38a9",
   "metadata": {},
   "outputs": [],
   "source": [
    "sups['Durability'] = sups['Durability'].apply(process_powers)"
   ]
  },
  {
   "cell_type": "code",
   "execution_count": 43,
   "id": "9505228b",
   "metadata": {},
   "outputs": [
    {
     "data": {
      "text/plain": [
       "0"
      ]
     },
     "execution_count": 43,
     "metadata": {},
     "output_type": "execute_result"
    }
   ],
   "source": [
    "sups.Durability.isna().sum()"
   ]
  },
  {
   "cell_type": "code",
   "execution_count": 44,
   "id": "efbfde68",
   "metadata": {},
   "outputs": [
    {
     "data": {
      "text/plain": [
       "7646"
      ]
     },
     "execution_count": 44,
     "metadata": {},
     "output_type": "execute_result"
    }
   ],
   "source": [
    "sups.Durability.duplicated().sum()"
   ]
  },
  {
   "cell_type": "code",
   "execution_count": 45,
   "id": "6861725b",
   "metadata": {},
   "outputs": [],
   "source": [
    "sups['Durability'] = 'durability' + sups['Durability'].astype(str)"
   ]
  },
  {
   "cell_type": "code",
   "execution_count": 46,
   "id": "24a73b86",
   "metadata": {},
   "outputs": [
    {
     "data": {
      "text/plain": [
       "array(['durability31to35', 'durability71to75', 'durability11to15',\n",
       "       'durability1to5', 'durability56to60', 'durability21to25',\n",
       "       'durability96to100', 'durability6to10', 'durability16to20',\n",
       "       'durability66to70', 'durability81to85', 'durability26to30',\n",
       "       'durability46to50', 'durability91to95', 'durability76to80',\n",
       "       'durability51to55', 'durability86to90', 'durability36to40',\n",
       "       'durability41to45', 'durability61to65', 'durability0'],\n",
       "      dtype=object)"
      ]
     },
     "execution_count": 46,
     "metadata": {},
     "output_type": "execute_result"
    }
   ],
   "source": [
    "sups.Durability.unique()"
   ]
  },
  {
   "cell_type": "markdown",
   "id": "f6016d92",
   "metadata": {},
   "source": [
    "#### Gender column"
   ]
  },
  {
   "cell_type": "code",
   "execution_count": 47,
   "id": "e7775964",
   "metadata": {},
   "outputs": [
    {
     "data": {
      "text/plain": [
       "dtype('O')"
      ]
     },
     "execution_count": 47,
     "metadata": {},
     "output_type": "execute_result"
    }
   ],
   "source": [
    "sups.Gender.dtype"
   ]
  },
  {
   "cell_type": "code",
   "execution_count": 48,
   "id": "a90a9d00",
   "metadata": {},
   "outputs": [
    {
     "data": {
      "text/plain": [
       "0"
      ]
     },
     "execution_count": 48,
     "metadata": {},
     "output_type": "execute_result"
    }
   ],
   "source": [
    "sups.Gender.isna().sum()"
   ]
  },
  {
   "cell_type": "code",
   "execution_count": 49,
   "id": "9a375d18",
   "metadata": {},
   "outputs": [
    {
     "data": {
      "text/plain": [
       "array(['Male', 'Female', '-', 'Other', 'None'], dtype=object)"
      ]
     },
     "execution_count": 49,
     "metadata": {},
     "output_type": "execute_result"
    }
   ],
   "source": [
    "sups.Gender.unique()"
   ]
  },
  {
   "cell_type": "code",
   "execution_count": 50,
   "id": "b8847ae7",
   "metadata": {},
   "outputs": [],
   "source": [
    "sups['Gender'] = sups['Gender'].replace('-','Unknown')"
   ]
  },
  {
   "cell_type": "code",
   "execution_count": 51,
   "id": "734fe620",
   "metadata": {},
   "outputs": [
    {
     "data": {
      "text/plain": [
       "array(['Male', 'Female', 'Unknown', 'Other', 'None'], dtype=object)"
      ]
     },
     "execution_count": 51,
     "metadata": {},
     "output_type": "execute_result"
    }
   ],
   "source": [
    "sups.Gender.unique()"
   ]
  },
  {
   "cell_type": "markdown",
   "id": "d78eeed0",
   "metadata": {},
   "source": [
    "#### Height Column"
   ]
  },
  {
   "cell_type": "code",
   "execution_count": 52,
   "id": "0a41796e",
   "metadata": {},
   "outputs": [
    {
     "data": {
      "text/plain": [
       "0"
      ]
     },
     "execution_count": 52,
     "metadata": {},
     "output_type": "execute_result"
    }
   ],
   "source": [
    "sups['Height'].isna().sum()"
   ]
  },
  {
   "cell_type": "code",
   "execution_count": 53,
   "id": "52c9d2c4",
   "metadata": {
    "scrolled": false
   },
   "outputs": [
    {
     "data": {
      "text/plain": [
       "array(['191 cm • 6\\'3.2\"', '231.1 cm • 7\\'7\"', '-', '18 m • 59\\'0.7\"',\n",
       "       '165.1 cm • 5\\'5\"', '182.9 cm • 6\\'0\"', '185.4 cm • 6\\'1\"',\n",
       "       '167.6 cm • 5\\'6\"', '170 cm • 5\\'6.9\"', '69 m • 226\\'4.5\"',\n",
       "       '243.8 cm • 7\\'12\"', '183 cm • 6\\'0\"', '210.8 cm • 6\\'11\"',\n",
       "       '177.8 cm • 5\\'10\"', '304.8 cm • 10\\'0\"', '162.6 cm • 5\\'4\"',\n",
       "       '40 m • 131\\'2.8\"', '193 cm • 6\\'4\"', '15 m • 49\\'2.6\"',\n",
       "       '290 cm • 9\\'6.2\"', '45 m • 147\\'7.7\"', '73 m • 239\\'6\"',\n",
       "       '175.3 cm • 5\\'9\"', '198.1 cm • 6\\'6\"', '121.9 cm • 3\\'12\"',\n",
       "       '175 cm • 5\\'8.9\"', '170.2 cm • 5\\'7\"', '180.3 cm • 5\\'11\"',\n",
       "       '188 cm • 6\\'2\"', '60.96 m • 200\\'0\"', '350 cm • 11\\'5.8\"',\n",
       "       '200.7 cm • 6\\'7\"', '165 cm • 5\\'5\"', '177 cm • 5\\'9.7\"',\n",
       "       '222.5 cm • 7\\'3.6\"', '168 cm • 5\\'6.1\"', '380 cm • 12\\'5.6\"',\n",
       "       '228.6 cm • 7\\'6\"', '195.6 cm • 6\\'5\"', '174 cm • 5\\'8.5\"',\n",
       "       '193.1 cm • 6\\'4\"', '86.4 cm • 2\\'10\"', '172.7 cm • 5\\'8\"',\n",
       "       '20 mm • 0.79 inch', '198 cm • 6\\'6\"', '196 cm • 6\\'5.2\"',\n",
       "       '184 cm • 6\\'0.4\"', '159 cm • 5\\'2.6\"', '60 m • 196\\'10.2\"',\n",
       "       '30 m • 98\\'5.1\"', '173 cm • 5\\'8.1\"', '190.5 cm • 6\\'3\"',\n",
       "       '57 m • 187\\'0.1\"', '162 cm • 5\\'3.8\"', '109.2 cm • 3\\'7\"',\n",
       "       '185 cm • 6\\'0.8\"', '155 cm • 5\\'1\"', '183.4 cm • 6\\'0.2\"',\n",
       "       '127 cm • 4\\'2\"', '178 cm • 5\\'10.1\"', '88.9 cm • 2\\'11\"',\n",
       "       '87.78 m • 287\\'12\"', '157.5 cm • 5\\'2\"', '221 cm • 7\\'3\"',\n",
       "       '203.2 cm • 6\\'8\"', '160 cm • 5\\'3\"', '187 cm • 6\\'1.6\"',\n",
       "       '297.2 cm • 9\\'9\"', '250 cm • 8\\'2.4\"', '150 m • 492\\'1.5\"',\n",
       "       '138 cm • 4\\'6.3\"', '226.1 cm • 7\\'5\"', '147.3 cm • 4\\'10\"',\n",
       "       '172 cm • 5\\'7.7\"', '365.8 cm • 12\\'0\"', '189 cm • 6\\'2.4\"',\n",
       "       '180 cm • 5\\'10.9\"', '200 cm • 6\\'6.7\"', '187.8 cm • 6\\'1.9\"',\n",
       "       '49.99 m • 163\\'12\"', '214 cm • 7\\'0.3\"', '213 cm • 6\\'11.9\"',\n",
       "       '144.8 cm • 4\\'9\"', '192 cm • 6\\'3.6\"', '149.8 cm • 4\\'11\"',\n",
       "       '199 cm • 6\\'6.3\"', '186.7 cm • 6\\'1.5\"', '299.7 cm • 9\\'10\"',\n",
       "       '274.3 cm • 8\\'12\"', '120 m • 393\\'8.4\"', '487.7 cm • 16\\'0\"',\n",
       "       '880 cm • 28\\'10.5\"', '72 m • 236\\'2.6\"', '16 mm • 0.63 inch',\n",
       "       '220 cm • 7\\'2.6\"', '201 cm • 6\\'7.1\"', '9.14 m • 30\\'0\"',\n",
       "       '609.6 cm • 20\\'0\"', '203 cm • 6\\'7.9\"', '164 cm • 5\\'4.6\"',\n",
       "       '22.86 m • 75\\'0\"', '54.86 m • 180\\'0\"', '50 m • 164\\'0.5\"',\n",
       "       '58.4 cm • 1\\'11\"', '179 cm • 5\\'10.5\"', '210 cm • 6\\'10.7\"',\n",
       "       '181 cm • 5\\'11.3\"', '132.1 cm • 4\\'4\"', '15.24 m • 50\\'0\"',\n",
       "       '12 m • 39\\'4.4\"', '100 m • 328\\'1\"', '300 m • 1.86 miles',\n",
       "       '266 cm • 8\\'8.7\"', '176 cm • 5\\'9.3\"', '449.6 cm • 14\\'9\"',\n",
       "       '79.25 m • 260\\'0\"', '81.77 m • 268\\'3.3\"', '61.98 m • 203\\'4\"',\n",
       "       '548.6 cm • 17\\'12\"', '65 m • 213\\'3.1\"', '10 km • 62.14 mile',\n",
       "       '61 cm • 2\\'0\"', '104.1 cm • 3\\'5\"', '609.6 m • 3.79 miles',\n",
       "       '80 m • 262\\'5.6\"', '25 m • 82\\'0.3\"', '200 mm • 7.87 inch',\n",
       "       '142.2 cm • 4\\'8\"', '420 m • 2.61 miles', '701 cm • 22\\'12\"',\n",
       "       '99 m • 324\\'9.6\"', '233.7 cm • 7\\'8\"', '157 cm • 5\\'1.8\"',\n",
       "       '236.2 cm • 7\\'9\"', '204 cm • 6\\'8.3\"', '153 cm • 5\\'0.2\"',\n",
       "       '130 cm • 4\\'3.2\"', '213.4 cm • 7\\'0\"', '30 m • 98\\'5\"',\n",
       "       '287 cm • 9\\'5\"', '324517 km • 2016455.15 mile',\n",
       "       '123 cm • 4\\'0.4\"', '61 mm • 2.4 inch', '140 cm • 4\\'7.1\"',\n",
       "       '182 cm • 5\\'11.7\"', '301 cm • 9\\'10.5\"', '71.1 cm • 2\\'4\"',\n",
       "       '335.3 cm • 11\\'0\"', '152 cm • 4\\'11.8\"', '152.4 cm • 5\\'0\"',\n",
       "       '610 cm • 20\\'0.2\"', '368.3 cm • 12\\'1\"', '264.2 cm • 8\\'8\"',\n",
       "       '78.7 cm • 2\\'7\"', '158 cm • 5\\'2.2\"', '91.5 cm • 3\\'0\"',\n",
       "       '190 cm • 6\\'2.8\"', '264.1 cm • 8\\'8\"', '762 cm • 25\\'0\"',\n",
       "       '65 cm • 2\\'1.6\"', '119.3 cm • 3\\'11\"', '218.5 cm • 7\\'2\"',\n",
       "       '147 cm • 4\\'9.9\"', '154.9 cm • 5\\'1\"', '186 cm • 6\\'1.2\"',\n",
       "       '223.5 cm • 7\\'4\"', '116 cm • 3\\'9.7\"', '167 cm • 5\\'5.7\"',\n",
       "       '171 cm • 5\\'7.3\"', '63.5 cm • 2\\'1\"', '156.2 cm • 5\\'1.5\"',\n",
       "       '388.7 cm • 12\\'9\"', '43.2 cm • 1\\'5\"', '150 cm • 4\\'11.1\"',\n",
       "       '57.3 m • 187\\'12\"', '85 cm • 2\\'9.5\"', '218.4 cm • 7\\'2\"',\n",
       "       '246.3 cm • 8\\'1\"', '103.63 m • 340\\'0\"', '89.92 m • 295\\'0\"',\n",
       "       '236 cm • 7\\'8.9\"', '161 cm • 5\\'3.4\"', '108 cm • 3\\'6.5\"',\n",
       "       '170.8 cm • 5\\'7.2\"', '91.81 m • 301\\'2.6\"', '164.2 cm • 5\\'4.6\"',\n",
       "       '153.3 cm • 5\\'0.4\"', '300 cm • 9\\'10.1\"', '288 cm • 9\\'5.4\"',\n",
       "       '149.9 cm • 4\\'11\"', '146 cm • 4\\'9.5\"', '23.95 m • 78\\'7\"',\n",
       "       '222 cm • 7\\'3.4\"', '238.8 cm • 7\\'10\"', '77.72 m • 255\\'0\"',\n",
       "       '500 cm • 16\\'4.9\"', '47 m • 154\\'2.4\"', '114.3 cm • 3\\'9\"',\n",
       "       '133.43 m • 437\\'9\"', '166.9 cm • 5\\'5.7\"', '500.4 cm • 16\\'5\"',\n",
       "       '365 cm • 11\\'11.7\"', '100 mm • 3.94 inch', '31.32 m • 102\\'9\"',\n",
       "       '30 mm • 1.18 inch', '160.02 km • 994.32 mile',\n",
       "       '60 mm • 2.36 inch', '168.4 cm • 5\\'6.3\"', '248 cm • 8\\'1.6\"',\n",
       "       '600 cm • 19\\'8.2\"', '96.5 cm • 3\\'2\"', '166.4 cm • 5\\'5.5\"',\n",
       "       '251 cm • 8\\'2.8\"', '176.5 cm • 5\\'9.5\"', '215 cm • 7\\'0.6\"',\n",
       "       '457.2 cm • 15\\'0\"', '161.4 cm • 5\\'3.5\"', '74.37 m • 243\\'12\"',\n",
       "       '230 cm • 7\\'6.6\"', '78 cm • 2\\'6.7\"', '135 cm • 4\\'5.1\"',\n",
       "       '68.6 cm • 2\\'3\"', '853.4 cm • 27\\'12\"', '48 m • 157\\'5.8\"',\n",
       "       '235 cm • 7\\'8.5\"', '29 mm • 1.14 inch', '91.4 cm • 2\\'12\"',\n",
       "       '99.1 cm • 3\\'3\"', '400 cm • 13\\'1.5\"', '93.9 cm • 3\\'1\"',\n",
       "       '137.1 cm • 4\\'6\"', '513.1 cm • 16\\'10\"', '59.9 cm • 1\\'11.6\"',\n",
       "       '12.5 m • 41\\'0\"', '28 m • 91\\'10.4\"', '199.9 cm • 6\\'6.7\"',\n",
       "       '100 cm • 3\\'3.4\"', '17 mm • 0.67 inch', '169 cm • 5\\'6.5\"',\n",
       "       '156 cm • 5\\'1.4\"', '25.4 m • 83\\'4\"', '178.8 cm • 5\\'10.4\"',\n",
       "       '271.7 cm • 8\\'11\"', '130.45 m • 427\\'12\"', '139.7 cm • 4\\'7\"',\n",
       "       '96 m • 314\\'11.5\"', '305 cm • 10\\'0.1\"', '244 cm • 8\\'0.1\"',\n",
       "       '182.88 m • 1.14 miles', '234 cm • 7\\'8.1\"', '18.47 m • 60\\'7\"',\n",
       "       '120 cm • 3\\'11.2\"', '27.9 cm • 0\\'11\"', '256.5 cm • 8\\'5\"',\n",
       "       '163 cm • 5\\'4.2\"', '55 m • 180\\'5.4\"', '208.3 cm • 6\\'10\"',\n",
       "       '75 m • 246\\'0.8\"', '62 m • 203\\'4.9\"', '11 m • 36\\'1.1\"',\n",
       "       '124 cm • 4\\'0.8\"', '129.5 cm • 4\\'3\"', '56 m • 183\\'8.7\"',\n",
       "       '248.9 cm • 8\\'2\"', '330.2 cm • 10\\'10\"', '277 cm • 9\\'1.1\"',\n",
       "       '43 m • 141\\'0.9\"', '792.5 cm • 26\\'0\"', '109.73 m • 360\\'0\"',\n",
       "       '11.99 m • 39\\'4\"', '20 m • 65\\'7.4\"', '279.4 cm • 9\\'2\"',\n",
       "       '111.7 cm • 3\\'8\"', '231 mm • 9.09 inch', '85.34 m • 280\\'0\"',\n",
       "       '482.6 cm • 15\\'10\"', '110 cm • 3\\'7.3\"', '142 cm • 4\\'7.9\"',\n",
       "       '70 cm • 2\\'3.6\"', '60 cm • 1\\'11.6\"', '170.9 cm • 5\\'7.3\"',\n",
       "       '497.8 cm • 16\\'4\"', '58 m • 190\\'3.5\"',\n",
       "       '3474.8 km • 21591.41 mile', '253 cm • 8\\'3.6\"',\n",
       "       '76.2 m • 250\\'0\"', '10.67 m • 35\\'0\"', '410 cm • 13\\'5.4\"',\n",
       "       '166 cm • 5\\'5.4\"', '307.3 cm • 10\\'1\"', '289.5 cm • 9\\'6\"',\n",
       "       '266.7 cm • 8\\'9\"', '289.6 cm • 9\\'6\"', '145 cm • 4\\'9.1\"',\n",
       "       '194 cm • 6\\'4.4\"', '541.1 cm • 17\\'9\"', '80 cm • 2\\'7.5\"',\n",
       "       '30.5 cm • 1\\'0\"', '325.1 cm • 10\\'8\"', '205.8 cm • 6\\'9\"',\n",
       "       '34.24 m • 112\\'3.9\"', '76.2 cm • 2\\'6\"', '14 m • 45\\'11.2\"',\n",
       "       '9.75 m • 32\\'0\"', '166.7 cm • 5\\'5.6\"', '260.4 cm • 8\\'6.5\"',\n",
       "       '126 cm • 4\\'1.6\"', '692 cm • 22\\'8.4\"', '690.9 cm • 22\\'8\"',\n",
       "       '51 mm • 2.01 inch', '215.9 cm • 7\\'1\"', '35 m • 114\\'10\"',\n",
       "       '154 cm • 5\\'0.6\"', '46 m • 150\\'11\"', '551.1 cm • 18\\'1\"',\n",
       "       '204.5 cm • 6\\'8.5\"', '85 m • 278\\'10.5\"', '134.6 cm • 4\\'5\"',\n",
       "       '72.54 m • 237\\'12\"', '88 m • 288\\'8.6\"', '33.3 cm • 1\\'1.1\"',\n",
       "       '121 cm • 3\\'11.6\"', '52.49 m • 172\\'2.5\"', '217.2 cm • 7\\'1.5\"',\n",
       "       '197 cm • 6\\'5.6\"', '165.7 cm • 5\\'5.2\"', '243 cm • 7\\'11.7\"',\n",
       "       '828 cm • 27\\'2\"', '140 m • 459\\'3.8\"', '191.2 cm • 6\\'3.3\"',\n",
       "       '188.3 cm • 6\\'2.1\"', '203 mm • 7.99 inch', '30.48 m • 100\\'0\"',\n",
       "       '20 km • 124.27 mile', '37.41 m • 122\\'9\"', '195 cm • 6\\'4.8\"',\n",
       "       '100.1 cm • 3\\'3.4\"', '500 m • 3.11 miles', '212 cm • 6\\'11.5\"',\n",
       "       '30 cm • 0\\'11.8\"', '128 m • 419\\'11.4\"', '231.2 cm • 7\\'7\"',\n",
       "       '16.5 m • 54\\'1.6\"', '98.15 m • 322\\'0\"', '313 cm • 10\\'3.2\"',\n",
       "       '40.6 cm • 1\\'4\"', '76 mm • 2.99 inch', '151 cm • 4\\'11.4\"',\n",
       "       '19 mm • 0.75 inch', '731.5 cm • 23\\'12\"', '154.5 cm • 5\\'0.8\"',\n",
       "       '50 mm • 1.97 inch', '650 cm • 21\\'3.9\"', '249 cm • 8\\'2\"',\n",
       "       '260 cm • 8\\'6.4\"', '36.58 m • 120\\'0\"', '11.61 m • 38\\'1\"',\n",
       "       '176.78 m • 1.1 miles', '208 cm • 6\\'9.9\"', '63.09 m • 207\\'0\"',\n",
       "       '24 m • 78\\'8.9\"', '91.44 m • 300\\'0\"', '17.07 m • 56\\'0\"',\n",
       "       '205.7 cm • 6\\'9\"', '245 cm • 8\\'0.5\"', '9.81 m • 32\\'2\"',\n",
       "       '38.51 m • 126\\'4\"', '106.83 m • 350\\'5.9\"', '109.12 m • 357\\'12\"',\n",
       "       '181.6 cm • 5\\'11.5\"', '179.1 cm • 5\\'10.5\"', '243.9 cm • 8\\'0\"',\n",
       "       '144 cm • 4\\'8.7\"', '21 m • 68\\'10.8\"', '76.91 m • 252\\'4\"',\n",
       "       '103.94 m • 341\\'0\"', '134.42 m • 441\\'0\"', '12.07 m • 39\\'7.2\"',\n",
       "       '13.72 m • 45\\'0\"', '218 cm • 7\\'1.8\"', '12.19 m • 40\\'0\"',\n",
       "       '19.81 m • 65\\'0\"', '274 cm • 8\\'11.9\"', '10 m • 32\\'9.7\"',\n",
       "       '360 cm • 11\\'9.7\"', '10 mm • 0.39 inch', '181.66 m • 1.13 miles',\n",
       "       '133 cm • 4\\'4.4\"', '79 m • 259\\'2.2\"', '180.6 cm • 5\\'11.1\"',\n",
       "       '137.2 cm • 4\\'6\"', '36.6 m • 120\\'1\"', '665.5 cm • 21\\'10\"',\n",
       "       '330 cm • 10\\'9.9\"', '820 cm • 26\\'10.8\"', '263 cm • 8\\'7.5\"',\n",
       "       '167.9 cm • 5\\'6.1\"', '689 cm • 22\\'7.3\"', '205 cm • 6\\'8.7\"',\n",
       "       '39.98 m • 131\\'2\"', '259.1 cm • 8\\'6\"', '22 m • 72\\'2.1\"',\n",
       "       '99 cm • 3\\'3\"', '270 cm • 8\\'10.3\"', '9.98 m • 32\\'9\"',\n",
       "       '238 cm • 7\\'9.7\"', '45.7 cm • 1\\'6\"', '509 cm • 16\\'8.4\"',\n",
       "       '402 cm • 13\\'2.3\"', '309 cm • 10\\'1.7\"', '302.3 cm • 9\\'11\"',\n",
       "       '102 mm • 4.02 inch', '275 cm • 9\\'0.3\"', '70.92 m • 232\\'8\"',\n",
       "       '201 mm • 7.91 inch', '261.6 cm • 8\\'7\"', '54 cm • 1\\'9.3\"',\n",
       "       '211 cm • 6\\'11.1\"', '400 m • 2.49 miles', '129.3 cm • 4\\'2.9\"',\n",
       "       '269.2 cm • 8\\'10\"', '152 mm • 5.98 inch', '73.2 m • 240\\'2\"',\n",
       "       '32.3 m • 105\\'11.7\"', '240 cm • 7\\'10.5\"', '40.2 m • 131\\'10.7\"',\n",
       "       '599.4 cm • 19\\'8\"', '69.98 m • 229\\'7\"', '335.4 cm • 11\\'0\"',\n",
       "       '17 m • 55\\'9.3\"', '4 km • 24.85 mile', '366 cm • 12\\'0.1\"',\n",
       "       '18 mm • 0.71 inch', '1000 m • 6.21 miles', '181.8 cm • 5\\'11.6\"',\n",
       "       '67.1 cm • 2\\'2.4\"', '34.6 m • 113\\'6.2\"', '96.01 m • 315\\'0\"',\n",
       "       '49 m • 160\\'9.1\"', '158 m • 518\\'4.5\"', '202 cm • 6\\'7.5\"',\n",
       "       '174.5 cm • 5\\'8.7\"', '134 cm • 4\\'4.8\"', '157.7 cm • 5\\'2.1\"',\n",
       "       '181.2 cm • 5\\'11.3\"', '81.38 m • 267\\'0\"', '241.3 cm • 7\\'11\"',\n",
       "       '36.4 m • 119\\'5.1\"', '63 m • 206\\'8.3\"', '419.1 cm • 13\\'9\"',\n",
       "       '191.6 cm • 6\\'3.4\"', '249.9 cm • 8\\'2.4\"', '376 cm • 12\\'4\"',\n",
       "       '143 cm • 4\\'8.3\"', '276.9 cm • 9\\'1\"', '97.6 cm • 3\\'2.4\"',\n",
       "       '127 mm • 5 inch', '119.4 cm • 3\\'11\"', '43 cm • 1\\'4.9\"',\n",
       "       '167.74 m • 1.04 miles', '118.49 m • 388\\'9\"', '278 cm • 9\\'1.4\"',\n",
       "       '149 cm • 4\\'10.7\"', '163.6 cm • 5\\'4.4\"', '223 cm • 7\\'3.8\"',\n",
       "       '115 cm • 3\\'9.3\"', '420 cm • 13\\'9.4\"', '159.4 cm • 5\\'2.8\"',\n",
       "       '42.7 m • 140\\'1.1\"', '45.3 m • 148\\'7.5\"', '612.1 cm • 20\\'1\"',\n",
       "       '40.7 m • 133\\'6.4\"', '106.7 cm • 3\\'6\"', '259 cm • 8\\'6\"',\n",
       "       '137 cm • 4\\'5.9\"', '32.1 m • 105\\'3.8\"', '13 mm • 0.51 inch',\n",
       "       '184.7 cm • 6\\'0.7\"', '31.1 m • 102\\'0.4\"', '53 m • 173\\'10.6\"',\n",
       "       '52 m • 170\\'7.2\"', '16.76 m • 55\\'0\"', '92.05 m • 302\\'0\"'],\n",
       "      dtype=object)"
      ]
     },
     "execution_count": 53,
     "metadata": {},
     "output_type": "execute_result"
    }
   ],
   "source": [
    "sups['Height'].unique()"
   ]
  },
  {
   "cell_type": "code",
   "execution_count": 54,
   "id": "5191de82",
   "metadata": {},
   "outputs": [],
   "source": [
    "def convert_to_meters(value):\n",
    "    # Split the input using '•' as the delimiter\n",
    "    parts = value.split('•')\n",
    "\n",
    "    if len(parts) == 2:\n",
    "        left_part = parts[0].strip()\n",
    "        value, unit = left_part.split()\n",
    "\n",
    "        # Convert value to float for calculation\n",
    "        value = float(value)\n",
    "\n",
    "        # Convert unit to meters\n",
    "        if unit == 'mm':\n",
    "            value *= 1000\n",
    "        elif unit == 'cm':\n",
    "            value *= 100\n",
    "        elif unit == 'm':\n",
    "            # Already in meters\n",
    "            pass\n",
    "        elif unit == 'km':\n",
    "            value /= 1000\n",
    "        else:\n",
    "            raise ValueError(f\"Unsupported unit: {unit}\")\n",
    "\n",
    "        return int(value)\n",
    "    else:\n",
    "        return 0"
   ]
  },
  {
   "cell_type": "code",
   "execution_count": 55,
   "id": "92b3a983",
   "metadata": {},
   "outputs": [],
   "source": [
    "sups['Height'] = sups['Height'].apply(convert_to_meters)"
   ]
  },
  {
   "cell_type": "code",
   "execution_count": null,
   "id": "3e0d428f",
   "metadata": {},
   "outputs": [],
   "source": []
  },
  {
   "cell_type": "code",
   "execution_count": 56,
   "id": "69d089f2",
   "metadata": {},
   "outputs": [
    {
     "data": {
      "text/plain": [
       "array([ 19100,  23110,      0,     18,  16510,  18290,  18540,  16760,\n",
       "        17000,     69,  24380,  18300,  21080,  17780,  30480,  16260,\n",
       "           40,  19300,     15,  29000,     45,     73,  17530,  19810,\n",
       "        12190,  17500,  17020,  18030,  18800,     60,  35000,  20070,\n",
       "        16500,  17700,  22250,  16800,  38000,  22860,  19560,  17400,\n",
       "        19310,   8640,  17270,  20000,  19800,  19600,  18400,  15900,\n",
       "           30,  17300,  19050,     57,  16200,  10920,  18500,  15500,\n",
       "        18340,  12700,  17800,   8890,     87,  15750,  22100,  20320,\n",
       "        16000,  18700,  29720,  25000,    150,  13800,  22610,  14730,\n",
       "        17200,  36580,  18900,  18000,  18780,     49,  21400,  21300,\n",
       "        14480,  19200,  14980,  19900,  18670,  29970,  27430,    120,\n",
       "        48770,  88000,     72,  22000,  20100,      9,  60960,  20300,\n",
       "        16400,     22,     54,     50,   5840,  17900,  21000,  18100,\n",
       "        13210,     12,    100,    300,  26600,  17600,  44960,     79,\n",
       "           81,     61,  54860,     65,   6100,  10410,    609,     80,\n",
       "           25, 200000,  14219,    420,  70100,     99,  23370,  15700,\n",
       "        23620,  20400,  15300,  13000,  21340,  28700,    324,  12300,\n",
       "        61000,  14000,  18200,  30100,   7109,  33530,  15200,  15240,\n",
       "        36830,  26420,   7870,  15800,   9150,  19000,  26410,  76200,\n",
       "         6500,  11930,  21850,  14700,  15490,  18600,  22350,  11600,\n",
       "        16700,  17100,   6350,  15619,  38870,   4320,  15000,   8500,\n",
       "        21840,  24630,    103,     89,  23600,  16100,  10800,  17080,\n",
       "           91,  16420,  15330,  30000,  28800,  14990,  14600,     23,\n",
       "        22200,  23880,     77,  50000,     47,  11430,    133,  16690,\n",
       "        50040,  36500, 100000,     31,  60000,  16840,  24800,   9650,\n",
       "        16640,  25100,  17650,  21500,  45720,  16140,     74,  23000,\n",
       "         7800,  13500,   6859,  85340,     48,  23500,   9140,   9910,\n",
       "        40000,   9390,  13710,  51310,   5990,     28,  19990,  10000,\n",
       "        16900,  15600,  17880,  27170,    130,  13969,     96,  30500,\n",
       "        24400,    182,  23400,  12000,   2790,  25650,  16300,     55,\n",
       "        20830,     75,     62,     11,  12400,  12950,     56,  24890,\n",
       "        33020,  27700,     43,  79250,    109,     20,  27939,  11170,\n",
       "       231000,     85,  48260,  11000,  14200,   7000,   6000,  17090,\n",
       "        49780,     58,      3,  25300,     76,     10,  41000,  16600,\n",
       "        30730,  28950,  26670,  28960,  14500,  19400,  54110,   8000,\n",
       "         3050,  32510,  20580,     34,   7620,     14,  16670,  26039,\n",
       "        12600,  69200,  69090,  51000,  21590,     35,  15400,     46,\n",
       "        55110,  20450,  13460,     88,   3329,  12100,     52,  21720,\n",
       "        19700,  16570,  24300,  82800,    140,  19120,  18830, 203000,\n",
       "           37,  19500,  10010,    500,  21200,   3000,    128,  23120,\n",
       "           16,     98,  31300,   4060,  76000,  15100,  73150,  15450,\n",
       "        65000,  24900,  26000,     36,    176,  20800,     63,     24,\n",
       "           17,  20570,  24500,     38,    106,  18160,  17910,  24390,\n",
       "        14400,     21,    134,     13,  21800,     19,  27400,  36000,\n",
       "          181,  13300,  18060,  13719,  66550,  33000,  82000,  26300,\n",
       "        16790,  68900,  20500,     39,  25910,   9900,  27000,  23800,\n",
       "         4570,  50900,  40200,  30900,  30230, 102000,  27500,     70,\n",
       "       201000,  26160,   5400,  21100,    400,  12930,  26920, 152000,\n",
       "           32,  24000,  59940,  33540,  36600,   1000,  18180,   6709,\n",
       "          158,  20200,  17450,  13400,  15769,  18120,  24130,  41910,\n",
       "        19160,  24990,  37600,  14300,  27689,   9760, 127000,  11940,\n",
       "         4300,    167,    118,  27800,  14900,  16360,  22300,  11500,\n",
       "        42000,  15940,     42,  61210,  10670,  25900,  13700,  18470,\n",
       "           53,     92], dtype=int64)"
      ]
     },
     "execution_count": 56,
     "metadata": {},
     "output_type": "execute_result"
    }
   ],
   "source": [
    "sups['Height'].unique()"
   ]
  },
  {
   "cell_type": "code",
   "execution_count": 57,
   "id": "12baa7d5",
   "metadata": {},
   "outputs": [],
   "source": [
    "sups['Height'] = sups['Height'].replace(0,int(sups['Height'].mean()))"
   ]
  },
  {
   "cell_type": "code",
   "execution_count": 58,
   "id": "05f4650c",
   "metadata": {},
   "outputs": [
    {
     "data": {
      "text/plain": [
       "array([ 19100,  23110,   6635,     18,  16510,  18290,  18540,  16760,\n",
       "        17000,     69,  24380,  18300,  21080,  17780,  30480,  16260,\n",
       "           40,  19300,     15,  29000,     45,     73,  17530,  19810,\n",
       "        12190,  17500,  17020,  18030,  18800,     60,  35000,  20070,\n",
       "        16500,  17700,  22250,  16800,  38000,  22860,  19560,  17400,\n",
       "        19310,   8640,  17270,  20000,  19800,  19600,  18400,  15900,\n",
       "           30,  17300,  19050,     57,  16200,  10920,  18500,  15500,\n",
       "        18340,  12700,  17800,   8890,     87,  15750,  22100,  20320,\n",
       "        16000,  18700,  29720,  25000,    150,  13800,  22610,  14730,\n",
       "        17200,  36580,  18900,  18000,  18780,     49,  21400,  21300,\n",
       "        14480,  19200,  14980,  19900,  18670,  29970,  27430,    120,\n",
       "        48770,  88000,     72,  22000,  20100,      9,  60960,  20300,\n",
       "        16400,     22,     54,     50,   5840,  17900,  21000,  18100,\n",
       "        13210,     12,    100,    300,  26600,  17600,  44960,     79,\n",
       "           81,     61,  54860,     65,   6100,  10410,    609,     80,\n",
       "           25, 200000,  14219,    420,  70100,     99,  23370,  15700,\n",
       "        23620,  20400,  15300,  13000,  21340,  28700,    324,  12300,\n",
       "        61000,  14000,  18200,  30100,   7109,  33530,  15200,  15240,\n",
       "        36830,  26420,   7870,  15800,   9150,  19000,  26410,  76200,\n",
       "         6500,  11930,  21850,  14700,  15490,  18600,  22350,  11600,\n",
       "        16700,  17100,   6350,  15619,  38870,   4320,  15000,   8500,\n",
       "        21840,  24630,    103,     89,  23600,  16100,  10800,  17080,\n",
       "           91,  16420,  15330,  30000,  28800,  14990,  14600,     23,\n",
       "        22200,  23880,     77,  50000,     47,  11430,    133,  16690,\n",
       "        50040,  36500, 100000,     31,  60000,  16840,  24800,   9650,\n",
       "        16640,  25100,  17650,  21500,  45720,  16140,     74,  23000,\n",
       "         7800,  13500,   6859,  85340,     48,  23500,   9140,   9910,\n",
       "        40000,   9390,  13710,  51310,   5990,     28,  19990,  10000,\n",
       "        16900,  15600,  17880,  27170,    130,  13969,     96,  30500,\n",
       "        24400,    182,  23400,  12000,   2790,  25650,  16300,     55,\n",
       "        20830,     75,     62,     11,  12400,  12950,     56,  24890,\n",
       "        33020,  27700,     43,  79250,    109,     20,  27939,  11170,\n",
       "       231000,     85,  48260,  11000,  14200,   7000,   6000,  17090,\n",
       "        49780,     58,      3,  25300,     76,     10,  41000,  16600,\n",
       "        30730,  28950,  26670,  28960,  14500,  19400,  54110,   8000,\n",
       "         3050,  32510,  20580,     34,   7620,     14,  16670,  26039,\n",
       "        12600,  69200,  69090,  51000,  21590,     35,  15400,     46,\n",
       "        55110,  20450,  13460,     88,   3329,  12100,     52,  21720,\n",
       "        19700,  16570,  24300,  82800,    140,  19120,  18830, 203000,\n",
       "           37,  19500,  10010,    500,  21200,   3000,    128,  23120,\n",
       "           16,     98,  31300,   4060,  76000,  15100,  73150,  15450,\n",
       "        65000,  24900,  26000,     36,    176,  20800,     63,     24,\n",
       "           17,  20570,  24500,     38,    106,  18160,  17910,  24390,\n",
       "        14400,     21,    134,     13,  21800,     19,  27400,  36000,\n",
       "          181,  13300,  18060,  13719,  66550,  33000,  82000,  26300,\n",
       "        16790,  68900,  20500,     39,  25910,   9900,  27000,  23800,\n",
       "         4570,  50900,  40200,  30900,  30230, 102000,  27500,     70,\n",
       "       201000,  26160,   5400,  21100,    400,  12930,  26920, 152000,\n",
       "           32,  24000,  59940,  33540,  36600,   1000,  18180,   6709,\n",
       "          158,  20200,  17450,  13400,  15769,  18120,  24130,  41910,\n",
       "        19160,  24990,  37600,  14300,  27689,   9760, 127000,  11940,\n",
       "         4300,    167,    118,  27800,  14900,  16360,  22300,  11500,\n",
       "        42000,  15940,     42,  61210,  10670,  25900,  13700,  18470,\n",
       "           53,     92], dtype=int64)"
      ]
     },
     "execution_count": 58,
     "metadata": {},
     "output_type": "execute_result"
    }
   ],
   "source": [
    "sups['Height'].unique()"
   ]
  },
  {
   "cell_type": "code",
   "execution_count": 59,
   "id": "6d345ab9",
   "metadata": {},
   "outputs": [
    {
     "data": {
      "text/plain": [
       "3"
      ]
     },
     "execution_count": 59,
     "metadata": {},
     "output_type": "execute_result"
    }
   ],
   "source": [
    "sups.Height.min()"
   ]
  },
  {
   "cell_type": "code",
   "execution_count": 60,
   "id": "1f5fc909",
   "metadata": {},
   "outputs": [
    {
     "data": {
      "text/plain": [
       "231000"
      ]
     },
     "execution_count": 60,
     "metadata": {},
     "output_type": "execute_result"
    }
   ],
   "source": [
    "sups.Height.max()"
   ]
  },
  {
   "cell_type": "code",
   "execution_count": 61,
   "id": "c44749ba",
   "metadata": {},
   "outputs": [],
   "source": [
    "def height_process(val):\n",
    "    if  1<= val <= 5:\n",
    "        return 'height0-5'\n",
    "    elif 6<= val <=10:\n",
    "        return 'height6-10'\n",
    "    elif 11<=val<=100:\n",
    "        return 'height11-100'\n",
    "    elif 101<=val<=500:\n",
    "        return 'height101-500'\n",
    "    elif 501<=val<=1000:\n",
    "        return 'height501-1000'\n",
    "    elif 1001 <= val <= 10000:\n",
    "        return 'height1001-10000'\n",
    "    else:\n",
    "        return 'heighthuge'"
   ]
  },
  {
   "cell_type": "code",
   "execution_count": 62,
   "id": "6eafe400",
   "metadata": {},
   "outputs": [],
   "source": [
    "sups['Height'] = sups['Height'].apply(height_process)"
   ]
  },
  {
   "cell_type": "code",
   "execution_count": 63,
   "id": "35a74422",
   "metadata": {},
   "outputs": [
    {
     "data": {
      "text/plain": [
       "array(['heighthuge', 'height1001-10000', 'height11-100', 'height101-500',\n",
       "       'height6-10', 'height501-1000', 'height0-5'], dtype=object)"
      ]
     },
     "execution_count": 63,
     "metadata": {},
     "output_type": "execute_result"
    }
   ],
   "source": [
    "sups.Height.unique()"
   ]
  },
  {
   "cell_type": "code",
   "execution_count": null,
   "id": "7dc92591",
   "metadata": {},
   "outputs": [],
   "source": []
  },
  {
   "cell_type": "code",
   "execution_count": null,
   "id": "aadebc2e",
   "metadata": {},
   "outputs": [],
   "source": []
  },
  {
   "cell_type": "code",
   "execution_count": null,
   "id": "2685523c",
   "metadata": {},
   "outputs": [],
   "source": []
  },
  {
   "cell_type": "code",
   "execution_count": 64,
   "id": "fa1bbaa4",
   "metadata": {},
   "outputs": [
    {
     "data": {
      "text/plain": [
       "array(['heighthuge', 'height1001-10000', 'height11-100', 'height101-500',\n",
       "       'height6-10', 'height501-1000', 'height0-5'], dtype=object)"
      ]
     },
     "execution_count": 64,
     "metadata": {},
     "output_type": "execute_result"
    }
   ],
   "source": [
    "sups['Height'].unique()"
   ]
  },
  {
   "cell_type": "markdown",
   "id": "c26da72a",
   "metadata": {},
   "source": [
    "#### IQ column"
   ]
  },
  {
   "cell_type": "code",
   "execution_count": 65,
   "id": "bd382bbf",
   "metadata": {},
   "outputs": [],
   "source": [
    "def iq_process(val):\n",
    "    if val <= 0:\n",
    "        return 'iq0'\n",
    "    for i in range(0, 41):\n",
    "        if i * 5 + 1 <= val <= (i + 1) * 5:\n",
    "            return f'iq{i * 5 + 1}to{(i + 1) * 5}'\n",
    "    return 'iqoutofrange'"
   ]
  },
  {
   "cell_type": "code",
   "execution_count": 66,
   "id": "6a8603a6",
   "metadata": {},
   "outputs": [
    {
     "data": {
      "text/plain": [
       "dtype('O')"
      ]
     },
     "execution_count": 66,
     "metadata": {},
     "output_type": "execute_result"
    }
   ],
   "source": [
    "sups['IQ'].dtype"
   ]
  },
  {
   "cell_type": "code",
   "execution_count": 67,
   "id": "99f172bd",
   "metadata": {},
   "outputs": [],
   "source": [
    "sups.IQ = sups.IQ.astype(int)"
   ]
  },
  {
   "cell_type": "code",
   "execution_count": 68,
   "id": "a893dd35",
   "metadata": {},
   "outputs": [
    {
     "data": {
      "text/plain": [
       "0"
      ]
     },
     "execution_count": 68,
     "metadata": {},
     "output_type": "execute_result"
    }
   ],
   "source": [
    "sups.IQ.isna().sum()"
   ]
  },
  {
   "cell_type": "code",
   "execution_count": 69,
   "id": "836d68b5",
   "metadata": {},
   "outputs": [
    {
     "data": {
      "text/plain": [
       "0"
      ]
     },
     "execution_count": 69,
     "metadata": {},
     "output_type": "execute_result"
    }
   ],
   "source": [
    "sups.IQ.min()"
   ]
  },
  {
   "cell_type": "code",
   "execution_count": 70,
   "id": "455f11db",
   "metadata": {},
   "outputs": [
    {
     "data": {
      "text/plain": [
       "200"
      ]
     },
     "execution_count": 70,
     "metadata": {},
     "output_type": "execute_result"
    }
   ],
   "source": [
    "sups.IQ.max()"
   ]
  },
  {
   "cell_type": "code",
   "execution_count": 71,
   "id": "38c7d793",
   "metadata": {},
   "outputs": [],
   "source": [
    "sups.IQ = sups.IQ.apply(iq_process)"
   ]
  },
  {
   "cell_type": "code",
   "execution_count": 72,
   "id": "846b3fac",
   "metadata": {},
   "outputs": [
    {
     "data": {
      "text/plain": [
       "array(['iq136to140', 'iq151to155', 'iq106to110', 'iq96to100',\n",
       "       'iq126to130', 'iq146to150', 'iq156to160', 'iq176to180',\n",
       "       'iq116to120', 'iq196to200', 'iq166to170', 'iq36to40', 'iq111to115',\n",
       "       'iq131to135', 'iq86to90', 'iq181to185', 'iq186to190', 'iq141to145',\n",
       "       'iq46to50', 'iq6to10', 'iq76to80', 'iq66to70', 'iq161to165',\n",
       "       'iq171to175', 'iq91to95', 'iq41to45', 'iq101to105', 'iq56to60',\n",
       "       'iq51to55', 'iq121to125', 'iq81to85', 'iq71to75', 'iq191to195',\n",
       "       'iq61to65', 'iq16to20', 'iq21to25', 'iq26to30', 'iq31to35', 'iq0',\n",
       "       'iq11to15', 'iq1to5'], dtype=object)"
      ]
     },
     "execution_count": 72,
     "metadata": {},
     "output_type": "execute_result"
    }
   ],
   "source": [
    "sups.IQ.unique()"
   ]
  },
  {
   "cell_type": "markdown",
   "id": "87efb55d",
   "metadata": {},
   "source": [
    "#### Intelligence column"
   ]
  },
  {
   "cell_type": "code",
   "execution_count": 73,
   "id": "5bcd91c3",
   "metadata": {},
   "outputs": [],
   "source": [
    "def process_intelligence(val):\n",
    "    if val == 0:\n",
    "        return 'intelligence0'\n",
    "    for i in range(0, 21): \n",
    "        if i * 5 + 1 <= val <= (i + 1) * 5:\n",
    "            return f'intelligence{i * 5 + 1}to{(i + 1) * 5}'\n",
    "    return 'intelligenceoutofrange'"
   ]
  },
  {
   "cell_type": "code",
   "execution_count": 74,
   "id": "5a630491",
   "metadata": {},
   "outputs": [
    {
     "data": {
      "text/plain": [
       "dtype('O')"
      ]
     },
     "execution_count": 74,
     "metadata": {},
     "output_type": "execute_result"
    }
   ],
   "source": [
    "sups.Intelligence.dtype"
   ]
  },
  {
   "cell_type": "code",
   "execution_count": 75,
   "id": "070a4993",
   "metadata": {},
   "outputs": [],
   "source": [
    "sups.Intelligence = sups.Intelligence.astype(int)"
   ]
  },
  {
   "cell_type": "code",
   "execution_count": 76,
   "id": "c19505db",
   "metadata": {},
   "outputs": [],
   "source": [
    "sups['Intelligence'] = sups['Intelligence'].apply(process_intelligence)"
   ]
  },
  {
   "cell_type": "code",
   "execution_count": 77,
   "id": "71fde5da",
   "metadata": {},
   "outputs": [
    {
     "data": {
      "text/plain": [
       "0"
      ]
     },
     "execution_count": 77,
     "metadata": {},
     "output_type": "execute_result"
    }
   ],
   "source": [
    "sups['Intelligence'].isna().sum()"
   ]
  },
  {
   "cell_type": "code",
   "execution_count": 78,
   "id": "3c1f96f8",
   "metadata": {},
   "outputs": [
    {
     "data": {
      "text/plain": [
       "array(['intelligence66to70', 'intelligence76to80', 'intelligence51to55',\n",
       "       'intelligence46to50', 'intelligence61to65', 'intelligence71to75',\n",
       "       'intelligence86to90', 'intelligence56to60', 'intelligence96to100',\n",
       "       'intelligence81to85', 'intelligence16to20', 'intelligence41to45',\n",
       "       'intelligence91to95', 'intelligence21to25', 'intelligence1to5',\n",
       "       'intelligence36to40', 'intelligence31to35', 'intelligence26to30',\n",
       "       'intelligence6to10', 'intelligence11to15', 'intelligence0'],\n",
       "      dtype=object)"
      ]
     },
     "execution_count": 78,
     "metadata": {},
     "output_type": "execute_result"
    }
   ],
   "source": [
    "sups.Intelligence.unique()"
   ]
  },
  {
   "cell_type": "markdown",
   "id": "8d3c7ea2",
   "metadata": {},
   "source": [
    "#### Level column"
   ]
  },
  {
   "cell_type": "code",
   "execution_count": 79,
   "id": "6accc808",
   "metadata": {},
   "outputs": [],
   "source": [
    "def process_level(val): \n",
    "    return f'level{val}'"
   ]
  },
  {
   "cell_type": "code",
   "execution_count": 80,
   "id": "056819b0",
   "metadata": {},
   "outputs": [
    {
     "data": {
      "text/plain": [
       "dtype('O')"
      ]
     },
     "execution_count": 80,
     "metadata": {},
     "output_type": "execute_result"
    }
   ],
   "source": [
    "sups.Level.dtype"
   ]
  },
  {
   "cell_type": "code",
   "execution_count": 81,
   "id": "1a6a114a",
   "metadata": {},
   "outputs": [
    {
     "data": {
      "text/plain": [
       "array([3, 5, 1, 2, 6, 4, '3', '2', '6', '4', '5', '1'], dtype=object)"
      ]
     },
     "execution_count": 81,
     "metadata": {},
     "output_type": "execute_result"
    }
   ],
   "source": [
    "sups.Level.unique()"
   ]
  },
  {
   "cell_type": "code",
   "execution_count": 82,
   "id": "cda3ce02",
   "metadata": {},
   "outputs": [],
   "source": [
    "sups.Level = sups.Level.astype(int)"
   ]
  },
  {
   "cell_type": "code",
   "execution_count": 83,
   "id": "e6d50337",
   "metadata": {},
   "outputs": [
    {
     "data": {
      "text/plain": [
       "0"
      ]
     },
     "execution_count": 83,
     "metadata": {},
     "output_type": "execute_result"
    }
   ],
   "source": [
    "sups.Level.isna().sum()"
   ]
  },
  {
   "cell_type": "code",
   "execution_count": 84,
   "id": "07123b06",
   "metadata": {},
   "outputs": [],
   "source": [
    "sups.Level = sups.Level.apply(process_level)"
   ]
  },
  {
   "cell_type": "code",
   "execution_count": 85,
   "id": "bd8f74ff",
   "metadata": {},
   "outputs": [
    {
     "data": {
      "text/plain": [
       "array(['level3', 'level5', 'level1', 'level2', 'level6', 'level4'],\n",
       "      dtype=object)"
      ]
     },
     "execution_count": 85,
     "metadata": {},
     "output_type": "execute_result"
    }
   ],
   "source": [
    "sups.Level.unique()"
   ]
  },
  {
   "cell_type": "markdown",
   "id": "9a1e798d",
   "metadata": {},
   "source": [
    "#### Place_of_birth column"
   ]
  },
  {
   "cell_type": "code",
   "execution_count": 86,
   "id": "daa3391b",
   "metadata": {},
   "outputs": [
    {
     "data": {
      "text/plain": [
       "1217"
      ]
     },
     "execution_count": 86,
     "metadata": {},
     "output_type": "execute_result"
    }
   ],
   "source": [
    "len(sups.Place_of_birth.unique())"
   ]
  },
  {
   "cell_type": "code",
   "execution_count": 87,
   "id": "fd70d8cf",
   "metadata": {},
   "outputs": [
    {
     "data": {
      "text/plain": [
       "9"
      ]
     },
     "execution_count": 87,
     "metadata": {},
     "output_type": "execute_result"
    }
   ],
   "source": [
    "sups.Place_of_birth.isna().sum()"
   ]
  },
  {
   "cell_type": "code",
   "execution_count": 88,
   "id": "d4718f17",
   "metadata": {},
   "outputs": [
    {
     "data": {
      "text/plain": [
       "0    None\n",
       "Name: Place_of_birth, dtype: object"
      ]
     },
     "execution_count": 88,
     "metadata": {},
     "output_type": "execute_result"
    }
   ],
   "source": [
    "sups.Place_of_birth.mode()"
   ]
  },
  {
   "cell_type": "code",
   "execution_count": 89,
   "id": "9c901b0c",
   "metadata": {},
   "outputs": [],
   "source": [
    "sups.Place_of_birth = sups.Place_of_birth.fillna('Unknown')"
   ]
  },
  {
   "cell_type": "code",
   "execution_count": 90,
   "id": "218d4c86",
   "metadata": {},
   "outputs": [],
   "source": [
    "sups.Place_of_birth = sups.Place_of_birth.replace('None','Unknown')"
   ]
  },
  {
   "cell_type": "code",
   "execution_count": 91,
   "id": "ef13de43",
   "metadata": {},
   "outputs": [
    {
     "data": {
      "text/plain": [
       "0"
      ]
     },
     "execution_count": 91,
     "metadata": {},
     "output_type": "execute_result"
    }
   ],
   "source": [
    "sups.Place_of_birth.isna().sum()"
   ]
  },
  {
   "cell_type": "markdown",
   "id": "f6541a45",
   "metadata": {},
   "source": [
    "#### Power column"
   ]
  },
  {
   "cell_type": "code",
   "execution_count": null,
   "id": "25f46b64",
   "metadata": {},
   "outputs": [],
   "source": []
  },
  {
   "cell_type": "code",
   "execution_count": 92,
   "id": "aad7cffa",
   "metadata": {},
   "outputs": [
    {
     "data": {
      "text/plain": [
       "dtype('O')"
      ]
     },
     "execution_count": 92,
     "metadata": {},
     "output_type": "execute_result"
    }
   ],
   "source": [
    "sups.Power.dtype"
   ]
  },
  {
   "cell_type": "code",
   "execution_count": 93,
   "id": "e3b8ea36",
   "metadata": {},
   "outputs": [
    {
     "data": {
      "text/plain": [
       "0"
      ]
     },
     "execution_count": 93,
     "metadata": {},
     "output_type": "execute_result"
    }
   ],
   "source": [
    "sups.Power.isna().sum()"
   ]
  },
  {
   "cell_type": "code",
   "execution_count": 94,
   "id": "00e16bd9",
   "metadata": {},
   "outputs": [],
   "source": [
    "sups.Power = sups.Power.astype(int)"
   ]
  },
  {
   "cell_type": "code",
   "execution_count": 95,
   "id": "84910858",
   "metadata": {},
   "outputs": [
    {
     "data": {
      "text/plain": [
       "0"
      ]
     },
     "execution_count": 95,
     "metadata": {},
     "output_type": "execute_result"
    }
   ],
   "source": [
    "sups.Power.min()"
   ]
  },
  {
   "cell_type": "code",
   "execution_count": 96,
   "id": "29ef6573",
   "metadata": {},
   "outputs": [
    {
     "data": {
      "text/plain": [
       "100"
      ]
     },
     "execution_count": 96,
     "metadata": {},
     "output_type": "execute_result"
    }
   ],
   "source": [
    "sups.Power.max()"
   ]
  },
  {
   "cell_type": "code",
   "execution_count": 97,
   "id": "88b3adad",
   "metadata": {},
   "outputs": [],
   "source": [
    "def process_power(val):\n",
    "    if val <= 0:\n",
    "        return 'power0'\n",
    "    for i in range(0, 21): \n",
    "        if i * 5 + 1 <= val <= (i + 1) * 5:\n",
    "            return f'power{i * 5 + 1}to{(i + 1) * 5}'\n",
    "    return 'poweroutofrange'"
   ]
  },
  {
   "cell_type": "code",
   "execution_count": 98,
   "id": "9b740f3d",
   "metadata": {},
   "outputs": [],
   "source": [
    "sups.Power = sups.Power.apply(process_power)"
   ]
  },
  {
   "cell_type": "code",
   "execution_count": 99,
   "id": "660bf4ab",
   "metadata": {},
   "outputs": [
    {
     "data": {
      "text/plain": [
       "array(['power56to60', 'power96to100', 'power31to35', 'power66to70',\n",
       "       'power46to50', 'power11to15', 'power51to55', 'power81to85',\n",
       "       'power1to5', 'power36to40', 'power26to30', 'power86to90',\n",
       "       'power91to95', 'power41to45', 'power21to25', 'power6to10',\n",
       "       'power76to80', 'power61to65', 'power71to75', 'power16to20',\n",
       "       'power0'], dtype=object)"
      ]
     },
     "execution_count": 99,
     "metadata": {},
     "output_type": "execute_result"
    }
   ],
   "source": [
    "sups.Power.unique()"
   ]
  },
  {
   "cell_type": "markdown",
   "id": "cde7294c",
   "metadata": {},
   "source": [
    "#### Species column"
   ]
  },
  {
   "cell_type": "code",
   "execution_count": 100,
   "id": "90e646b7",
   "metadata": {},
   "outputs": [
    {
     "data": {
      "text/plain": [
       "0"
      ]
     },
     "execution_count": 100,
     "metadata": {},
     "output_type": "execute_result"
    }
   ],
   "source": [
    "sups.Species.isna().sum()"
   ]
  },
  {
   "cell_type": "code",
   "execution_count": 101,
   "id": "f0b4a6df",
   "metadata": {},
   "outputs": [
    {
     "data": {
      "text/plain": [
       "array(['Human', 'None', 'Metahuman', 'Alien', 'Android', 'Dragon',\n",
       "       'Deity', 'Bizarro', 'Robot', 'Kaiju', 'God / Eternal', 'Elf',\n",
       "       'Demi-God', 'Amazon', 'Cosmic Entity', 'Vampire', 'Mutant',\n",
       "       'Spirit', 'Pok�mon', 'Demon', 'Animal', 'Czarnian', 'Cyborg',\n",
       "       'Asgardian', 'Symbiote', 'Elder', 'Saiyan', 'Atlantean',\n",
       "       'Olympian', 'Inhuman', 'Xenomorph XX121', 'Imp', 'Celestials',\n",
       "       'Eternal', 'Wookiee', 'Kree', 'Human-Kree', 'Korbinite',\n",
       "       'Dathomirian Zabrak', 'New God', 'Kryptonian', 'Human-Inhuman',\n",
       "       'Strontian', 'Maiar', 'Zen-Whoberian', 'Golem', 'Bolovaxian',\n",
       "       'Altered', 'Daxamite', 'Energy', 'Titanian', 'Alpha', 'Spartoi',\n",
       "       'Zombie', 'Titan', 'Cosmic', 'Lego', 'Flora Colossus', 'Yautja',\n",
       "       'Arachnid', 'Clone', 'Skrull', 'Ent', 'Human-Spartoi',\n",
       "       'Frost Giant', 'Icthyo Sapien', 'Martian', 'Werewolf',\n",
       "       'Kakarantharaian', 'Hobbit', 'Korugaran', 'Planet', 'Centaurian',\n",
       "       'Luphomoid', 'Talokite', 'Radiation', 'Vulcan', 'Pokémon', 'Angel',\n",
       "       'Tamaranean', 'Kaliklakian', \"Yoda's species\", 'Smurf', 'Witch',\n",
       "       'Neyaphem', 'Parademon', 'Leprechaun', 'Human-Vulcan'],\n",
       "      dtype=object)"
      ]
     },
     "execution_count": 101,
     "metadata": {},
     "output_type": "execute_result"
    }
   ],
   "source": [
    "sups.Species.unique()"
   ]
  },
  {
   "cell_type": "markdown",
   "id": "50815487",
   "metadata": {},
   "source": [
    "#### Speed column"
   ]
  },
  {
   "cell_type": "code",
   "execution_count": 102,
   "id": "4d0f67d2",
   "metadata": {},
   "outputs": [
    {
     "data": {
      "text/plain": [
       "0"
      ]
     },
     "execution_count": 102,
     "metadata": {},
     "output_type": "execute_result"
    }
   ],
   "source": [
    "sups.Speed.isna().sum()"
   ]
  },
  {
   "cell_type": "code",
   "execution_count": 103,
   "id": "6f984a20",
   "metadata": {},
   "outputs": [
    {
     "data": {
      "text/plain": [
       "array([30, 50, 10, 1, 80, 6, 100, 25, 11, 20, 75, 13, 7, 8, 55, 85, 17,\n",
       "       15, 45, 35, 14, 95, 9, 5, 90, 65, 40, 12, 70, 60, 19, 18, 16, '25',\n",
       "       '100', '30', '45', '85', '6', '75', '50', '7', '90', '40', '11',\n",
       "       '14', '80', '5', '8', '10', '17', '20', '1', '35', '19', '95',\n",
       "       '55', '15', '65', '70', '60', '0', '9', '18', '12', '13', '16'],\n",
       "      dtype=object)"
      ]
     },
     "execution_count": 103,
     "metadata": {},
     "output_type": "execute_result"
    }
   ],
   "source": [
    "sups.Speed.unique()"
   ]
  },
  {
   "cell_type": "code",
   "execution_count": 104,
   "id": "bae24297",
   "metadata": {},
   "outputs": [],
   "source": [
    "sups.Speed = sups.Speed.astype(int)"
   ]
  },
  {
   "cell_type": "code",
   "execution_count": 105,
   "id": "7c61f217",
   "metadata": {},
   "outputs": [
    {
     "data": {
      "text/plain": [
       "array([ 30,  50,  10,   1,  80,   6, 100,  25,  11,  20,  75,  13,   7,\n",
       "         8,  55,  85,  17,  15,  45,  35,  14,  95,   9,   5,  90,  65,\n",
       "        40,  12,  70,  60,  19,  18,  16,   0])"
      ]
     },
     "execution_count": 105,
     "metadata": {},
     "output_type": "execute_result"
    }
   ],
   "source": [
    "sups.Speed.unique()"
   ]
  },
  {
   "cell_type": "code",
   "execution_count": 106,
   "id": "724638ea",
   "metadata": {},
   "outputs": [
    {
     "data": {
      "text/plain": [
       "0"
      ]
     },
     "execution_count": 106,
     "metadata": {},
     "output_type": "execute_result"
    }
   ],
   "source": [
    "sups.Speed.min()"
   ]
  },
  {
   "cell_type": "code",
   "execution_count": 107,
   "id": "f65a5669",
   "metadata": {},
   "outputs": [
    {
     "data": {
      "text/plain": [
       "100"
      ]
     },
     "execution_count": 107,
     "metadata": {},
     "output_type": "execute_result"
    }
   ],
   "source": [
    "sups.Speed.max()"
   ]
  },
  {
   "cell_type": "code",
   "execution_count": 108,
   "id": "415ce219",
   "metadata": {},
   "outputs": [],
   "source": [
    "def process_speed(val):\n",
    "    if val <= 0:\n",
    "        return 'speed0'\n",
    "    for i in range(0, 21): \n",
    "        if i * 5 + 1 <= val <= (i + 1) * 5:\n",
    "            return f'speed{i * 5 + 1}to{(i + 1) * 5}'\n",
    "    return 'speedoutofrange'"
   ]
  },
  {
   "cell_type": "code",
   "execution_count": 109,
   "id": "bbafc422",
   "metadata": {},
   "outputs": [],
   "source": [
    "sups.Speed = sups.Speed.apply(process_speed)"
   ]
  },
  {
   "cell_type": "code",
   "execution_count": 110,
   "id": "eeb09007",
   "metadata": {},
   "outputs": [
    {
     "data": {
      "text/plain": [
       "array(['speed26to30', 'speed46to50', 'speed6to10', 'speed1to5',\n",
       "       'speed76to80', 'speed96to100', 'speed21to25', 'speed11to15',\n",
       "       'speed16to20', 'speed71to75', 'speed51to55', 'speed81to85',\n",
       "       'speed41to45', 'speed31to35', 'speed91to95', 'speed86to90',\n",
       "       'speed61to65', 'speed36to40', 'speed66to70', 'speed56to60',\n",
       "       'speed0'], dtype=object)"
      ]
     },
     "execution_count": 110,
     "metadata": {},
     "output_type": "execute_result"
    }
   ],
   "source": [
    "sups.Speed.unique()"
   ]
  },
  {
   "cell_type": "markdown",
   "id": "dc76097f",
   "metadata": {},
   "source": [
    "#### Speed_velocity column"
   ]
  },
  {
   "cell_type": "code",
   "execution_count": 111,
   "id": "d4b92a9d",
   "metadata": {},
   "outputs": [
    {
     "data": {
      "text/plain": [
       "0"
      ]
     },
     "execution_count": 111,
     "metadata": {},
     "output_type": "execute_result"
    }
   ],
   "source": [
    "sups.Speed_velocity.isna().sum()"
   ]
  },
  {
   "cell_type": "code",
   "execution_count": 112,
   "id": "9cc3cb15",
   "metadata": {},
   "outputs": [
    {
     "data": {
      "text/plain": [
       "array([2000, 2997925, 18, 2, 290000000, 10, 1000000000, 500, 265000000,\n",
       "       300000000, 343, 7, 20, 50, 40, 321000232, 999990000, 117500000, 57,\n",
       "       23, 313, 12, 10000, 15, 750, 15000000, 2500, 8, 858, 500000000,\n",
       "       100, 14, 5, 1029, 30, 35869, 27, 100000000, 8575, 80, 1372, 3400,\n",
       "       1715, 12000, 25, 100000, 999999999, 150, 200, 21212111, 3000000,\n",
       "       895, 830000000, 16, 350, 70, 9, 12121, 18008200, 36, 60, 20000,\n",
       "       6985296, 1000, 5000, 43, 11662, 640000000, 262000000, 17142, 244,\n",
       "       4200, 6, 171, 800000000, 700000000, 13, 1000000, 300, 62000000,\n",
       "       400000000, 60000000, 22007700, 10000003, 550, 400000, 1989, 171500,\n",
       "       12401, 300000, 240, 370, 90, 1500, 800000, 1837, 6000, 22, 200000,\n",
       "       78535872, 150000000, 400, 22007750, 330, 2009700, 10000000,\n",
       "       30000000, 45, 80000000, 230, 299792458, 17, 3900, 11, 210, 15435,\n",
       "       900, 340, 12312, 20000000, 40000000, 120, 20000015, 515, 98000200,\n",
       "       280, 3, 655000000, 3000, 9900, 55, 450000000, 170000000, 250000,\n",
       "       514500, 1, 250, 35, 200000000, 874030, 472588, 7555555, 88888,\n",
       "       343000, 160000, 2100, 4000, 470000000, 224, 123345420, 33, 472586,\n",
       "       2235, 62, 179, 3430, 8000, 650000000, 350000000, 2000000, 50000000,\n",
       "       140, 9000000, 556823639, 686, 99450000, 26, 1028, 480, 220,\n",
       "       900000000, 120000, 5145, 90000, 600000000, 235, 363288547,\n",
       "       580369085, 463528883, 905852889, 400695147, 309285800, 477777777,\n",
       "       863258740, 65802365, 99995285, 665236960, 7692887, 29, 75, 42,\n",
       "       475866, 1250, 3087, 58004200, 20116, 297000000, 50000, 2744, 25000,\n",
       "       55000, 123580000, 17150, 111111111, 630000000, 1900, 33000, 40000,\n",
       "       4500, 83, 6215, 170, 820000000, 555888, 46, 3500, 12005, 358858000,\n",
       "       7642, 102, 45000, 308, 117999999, 646, 1700, 2009799, 82700, 110,\n",
       "       28, 4225, 4, 270000000, 30000, 309, 29978392, 263000000, 2200,\n",
       "       6393, 90000000, 325, 442000000, 900000, 24, 100212121, 37, 700,\n",
       "       78500000, 5800, 442556996, 511312313, 1111, 777777777, 89586,\n",
       "       68030, 661, 857, 478528, 2760, 100200, 360, 7823, 363, 286, 5500,\n",
       "       6860, 158, 1100, 375, 89, 1550, 180, 849500000, 67777, 5820, 95,\n",
       "       56, 280000000, 320, 3830, 800, 399000000, 9000, 86, 965, 1212121,\n",
       "       64, 34, 255, 14989621, 197, 2121, 600, 1341082, 5555, 192, 475823,\n",
       "       54, 2121212, 763258741, 760000, 475000000, 111, 1715000, 105, 19,\n",
       "       52, 85000000, 5000000, 122, 14990000, 70000000, 660000000, 125000,\n",
       "       1200, 39, 23000, 101, 260, 87500, 38500000, 5660, 240100000,\n",
       "       690000000, 4116, 59000000, 84, 9850, 275, 29000000, 82000000, 450,\n",
       "       514, 110352147, 375000006, 5011, 850000000, 254, 3773, 1450,\n",
       "       99000000, 1850, 44, 792458, 250000000, 34300, 11000, 3250, 6839,\n",
       "       42000000, 190, 11155, 81000000, 78002200, 2230, 117900000, 38,\n",
       "       2807425, 657500000, 60000, 1840, 80000, 6174, 442500000, 6934, 175,\n",
       "       289700000, 10075, 34050609, 4220, 13720, 2300, 2112, 6210, 98098,\n",
       "       9999999, 49, 19955, 299782000, 44000, 62650000, 8200, 500000005,\n",
       "       110000000, 273, 39000000, 3816029, 580000000, 5008, 134108180,\n",
       "       810000000, 4350, 2058, 8575000, 625000000, 502085693, 582479981,\n",
       "       2222, 78100000, 225, 2401, 799999999, 1201, 67, 333333335, 3800,\n",
       "       268, 101010111, 489, 935802, 657999999, 12122, 1544, 99999999, 377,\n",
       "       2984, 2997869, 3021744, 16986732, 18000, 4166701, 200002002,\n",
       "       300005, 32, 344, 18539800, 79000000, 55000000, 295000000, 83147,\n",
       "       1656, 622000000, 96040, 130, 116000000, 9157, 7000, 860, 1876,\n",
       "       68600, 125, 153, 41, 356888888, 2350, 62003799, 34000, 9785809,\n",
       "       8000000, 875969, 5496939, 98, 7340000, 139, 472506, 63960000, 79,\n",
       "       478520, 19999, 624999999, 530, 22000000, 460000000, 65, 65000,\n",
       "       83499, 760, 8941, 788800111, 4120, 160, 85, 135, 7500, 155, 80465,\n",
       "       37700, 77500000, 76, '260', '343', '1000000000', '50', '2500',\n",
       "       '8000', '400000000', '10', '1900', '149900000', '1029', '343000',\n",
       "       '1000', '12', '600000000', '7000', '100', '180', '20', '25',\n",
       "       '267325615', '1372', '300000000', '900', '2000', '100000000', '9',\n",
       "       '15', '140', '18', '72', '200', '340', '30', '1715', '5072509',\n",
       "       '60', '40', '80', '5', '657000000', '4519', '3430', '238', '14',\n",
       "       '230', '1', '36', '35', '8', '240', '86', '150', '6200', '300000',\n",
       "       '10000', '200000000', '37', '1500', '299792458', '5000', '2997925',\n",
       "       '1715000', '170', '250000000', '313', '5145', '300', '90000',\n",
       "       '800000000', '11', '250', '265000000', '290000000', '45', '59',\n",
       "       '450000000', '93040000', '300000001', '999999999', '34300',\n",
       "       '100000', '20000000', '297999999', '640000000', '2', '10000000',\n",
       "       '4000', '500', '2000000', '385000000', '6860', '3', '200000',\n",
       "       '725000000', '27', '13', '7', '220', '6174', '244', '60000000',\n",
       "       '80000000', '1840', '39', '70', '160000', '280000000', '344',\n",
       "       '82000000', '4', '99999999', '50000000', '90', '32800000',\n",
       "       '650000000', '3830', '500000050', '50000', '35000', '40000000',\n",
       "       '366667000', '40000', '440171500', '515', '3685', '1041', '42',\n",
       "       '3075', '5800', '599', '0', '33527', '1000000', '150000000', '6',\n",
       "       '250008226', '6010', '400000003', '455555553', '61211',\n",
       "       '500000003', '350', '5007', '126285556', '16', '400', '630000000',\n",
       "       '225', '21212', '213', '1111', '700000000', '550000', '416666683',\n",
       "       '266672', '576980', '20000', '33', '500000000', '380000000', '105',\n",
       "       '200000015', '65', '333333336', '7505', '104', '22', '880', '858',\n",
       "       '3000', '46949700', '125', '800000062', '346666967', '99', '50014',\n",
       "       '32', '333333333', '44444479', '2033', '97000', '6000',\n",
       "       '900000000', '22000000', '987', '15829235', '500000001', '212',\n",
       "       '6819488', '631819094', '120000', '24', '15000', '420000', '8200',\n",
       "       '17052', '255', '110000000', '310', '130', '350000000', '81000000',\n",
       "       '275', '500000008', '3337', '100000009', '471264800', '500002500',\n",
       "       '78900', '1450', '75', '222', '21312', '985214', '6900', '83',\n",
       "       '500000', '600', '75005000', '34', '393', '10250000', '1544',\n",
       "       '2200', '30000000', '850000000', '660000000', '12000', '120',\n",
       "       '70000000', '830000000', '550000000', '1028', '333345',\n",
       "       '500500250', '10644700', '686', '7889', '30000', '23', '38146',\n",
       "       '50000018', '85', '55', '4225', '464144198', '2550', '501', '62',\n",
       "       '450', '8575', '754335665', '850', '1201', '7645', '54948',\n",
       "       '880000000', '228000', '335000000', '156692357', '262000000',\n",
       "       '8232', '66600', '365', '666686790', '500000172', '111',\n",
       "       '15000000', '150000128', '700', '500025000', '883333333',\n",
       "       '100002334', '505000000', '19', '56', '342990', '330000000', '149',\n",
       "       '270000000', '1648963', '17150', '702507500', '447', '5805',\n",
       "       '588000000', '698269358', '3850', '93', '385848361', '29979245',\n",
       "       '101', '210', '608', '50350', '911151111', '17', '295000000',\n",
       "       '36963147', '88000000', '580000000', '470000000', '139698550',\n",
       "       '78', '750000250', '336700', '880000', '29', '31', '59888560',\n",
       "       '440', '58963666', '66667333', '500007500', '2230', '96',\n",
       "       '500000750', '340000', '1000050', '2235', '17777', '125000018',\n",
       "       '58966', '825000000', '428614303', '114412', '333666675',\n",
       "       '500000013', '122', '4676', '60000', '750020', '326', '857',\n",
       "       '6859', '14989621', '69866', '250019', '78491335', '1212', '588',\n",
       "       '211', '12010', '33974', '14990000', '34945', '46', '820000000',\n",
       "       '33333524', '3380000', '468944', '115', '52', '299999974', '503',\n",
       "       '461539854', '13720', '500000005', '50025000', '246', '150000032',\n",
       "       '280', '333341750', '190', '25800', '181', '325', '506',\n",
       "       '98963580', '200000208', '250000100', '369852', '134', '4841',\n",
       "       '1018', '24999', '414860382', '500015000', '518', '343000000',\n",
       "       '90000000', '67', '265', '98500000', '3400', '45013', '698555000',\n",
       "       '64682500', '150000004', '2401', '9261', '8918', '7546', '7718',\n",
       "       '3087', '800024691', '89', '21', '56898566'], dtype=object)"
      ]
     },
     "execution_count": 112,
     "metadata": {},
     "output_type": "execute_result"
    }
   ],
   "source": [
    "sups.Speed_velocity.unique()"
   ]
  },
  {
   "cell_type": "code",
   "execution_count": 113,
   "id": "13be1f21",
   "metadata": {},
   "outputs": [],
   "source": [
    "sups.Speed_velocity = sups.Speed_velocity.astype(int)"
   ]
  },
  {
   "cell_type": "code",
   "execution_count": 114,
   "id": "ba2ace4b",
   "metadata": {},
   "outputs": [
    {
     "data": {
      "text/plain": [
       "0"
      ]
     },
     "execution_count": 114,
     "metadata": {},
     "output_type": "execute_result"
    }
   ],
   "source": [
    "sups.Speed_velocity.min()"
   ]
  },
  {
   "cell_type": "code",
   "execution_count": 115,
   "id": "9e2c8420",
   "metadata": {},
   "outputs": [
    {
     "data": {
      "text/plain": [
       "1000000000"
      ]
     },
     "execution_count": 115,
     "metadata": {},
     "output_type": "execute_result"
    }
   ],
   "source": [
    "sups.Speed_velocity.max()"
   ]
  },
  {
   "cell_type": "code",
   "execution_count": 116,
   "id": "4ea0926e",
   "metadata": {},
   "outputs": [],
   "source": [
    "def process_sv(value):\n",
    "    if value <= 0:\n",
    "        return 'sv0'\n",
    "    elif 1 <= value <= 1000:\n",
    "        return \"sv1-1000\"\n",
    "    elif 1001 <= value <= 5000:\n",
    "        return \"sv1001-5000\"\n",
    "    \n",
    "    elif 5001 <= value <= 10000:\n",
    "        return \"sv5001-10000\"\n",
    "    \n",
    "    elif 10001 <= value <= 100000:\n",
    "        return \"sv10001-100000\"\n",
    "    elif 100001 <= value <= 1000000:\n",
    "        return \"sv100001-1000000\"\n",
    "    elif 1000001 <= value <= 10000000:\n",
    "        return \"sv1000001-10000000\"\n",
    "    \n",
    "    elif 10000001 <= value <= 100000000:\n",
    "        return \"sv10000001-100000000\"\n",
    "    elif 100000001 <= value <= 1000000000:\n",
    "        return \"sv100000001-1000000000\"\n",
    "    else:\n",
    "        return \"svoutofrange\""
   ]
  },
  {
   "cell_type": "code",
   "execution_count": 117,
   "id": "94f5bb00",
   "metadata": {},
   "outputs": [],
   "source": [
    "sups.Speed_velocity = sups.Speed_velocity.apply(process_sv)"
   ]
  },
  {
   "cell_type": "code",
   "execution_count": 118,
   "id": "1e362fd8",
   "metadata": {},
   "outputs": [
    {
     "data": {
      "text/plain": [
       "array(['sv1001-5000', 'sv1000001-10000000', 'sv1-1000',\n",
       "       'sv100000001-1000000000', 'sv5001-10000', 'sv10000001-100000000',\n",
       "       'sv10001-100000', 'sv100001-1000000', 'sv0'], dtype=object)"
      ]
     },
     "execution_count": 118,
     "metadata": {},
     "output_type": "execute_result"
    }
   ],
   "source": [
    "sups.Speed_velocity.unique()"
   ]
  },
  {
   "cell_type": "code",
   "execution_count": 119,
   "id": "d219870f",
   "metadata": {},
   "outputs": [
    {
     "data": {
      "text/plain": [
       "Index(['Alignment', 'Character', 'Combat', 'Creator', 'Durability', 'Gender',\n",
       "       'Height', 'IQ', 'Intelligence', 'Level', 'Place_of_birth', 'Power',\n",
       "       'Species', 'Speed', 'Speed_velocity', 'Strength', 'Strength_force',\n",
       "       'Super_powers', 'Tier', 'Universe', 'Weight'],\n",
       "      dtype='object')"
      ]
     },
     "execution_count": 119,
     "metadata": {},
     "output_type": "execute_result"
    }
   ],
   "source": [
    "sups.columns"
   ]
  },
  {
   "cell_type": "markdown",
   "id": "0466afa5",
   "metadata": {},
   "source": [
    "#### Strength column"
   ]
  },
  {
   "cell_type": "code",
   "execution_count": 120,
   "id": "860cd111",
   "metadata": {},
   "outputs": [
    {
     "data": {
      "text/plain": [
       "0"
      ]
     },
     "execution_count": 120,
     "metadata": {},
     "output_type": "execute_result"
    }
   ],
   "source": [
    "sups.Strength.isna().sum()"
   ]
  },
  {
   "cell_type": "code",
   "execution_count": 121,
   "id": "0789a6a2",
   "metadata": {},
   "outputs": [
    {
     "data": {
      "text/plain": [
       "array([30, 55, 25, 1, 50, 5, 100, 6, 75, 95, 60, 9, 8, 80, 35, 20, 90, 65,\n",
       "       13, 45, 19, 10, 85, 15, 70, 40, 18, 17, 14, 11, 7, '50', '1',\n",
       "       '100', '6', '55', '25', '75', '10', '20', '45', '5', '30', '85',\n",
       "       '13', '70', '35', '95', '80', '90', '60', '8', '16', '15', '18',\n",
       "       '65', '0', '11', '14', '7', '17', '19', '40', '9'], dtype=object)"
      ]
     },
     "execution_count": 121,
     "metadata": {},
     "output_type": "execute_result"
    }
   ],
   "source": [
    "sups.Strength.unique()"
   ]
  },
  {
   "cell_type": "code",
   "execution_count": 122,
   "id": "f8803eaa",
   "metadata": {},
   "outputs": [],
   "source": [
    "sups.Strength = sups.Strength.astype(int)"
   ]
  },
  {
   "cell_type": "code",
   "execution_count": 123,
   "id": "093b2518",
   "metadata": {},
   "outputs": [
    {
     "data": {
      "text/plain": [
       "0"
      ]
     },
     "execution_count": 123,
     "metadata": {},
     "output_type": "execute_result"
    }
   ],
   "source": [
    "sups.Strength.min()"
   ]
  },
  {
   "cell_type": "code",
   "execution_count": 124,
   "id": "98fa4873",
   "metadata": {},
   "outputs": [
    {
     "data": {
      "text/plain": [
       "100"
      ]
     },
     "execution_count": 124,
     "metadata": {},
     "output_type": "execute_result"
    }
   ],
   "source": [
    "sups.Strength.max()"
   ]
  },
  {
   "cell_type": "code",
   "execution_count": 125,
   "id": "84edc4e4",
   "metadata": {},
   "outputs": [],
   "source": [
    "def process_strength(val):\n",
    "    if val <= 0:\n",
    "        return 'strength0'\n",
    "    for i in range(0, 21): \n",
    "        if i * 5 + 1 <= val <= (i + 1) * 5:\n",
    "            return f'strength{i * 5 + 1}to{(i + 1) * 5}'\n",
    "    return 'strengthoutofrange'"
   ]
  },
  {
   "cell_type": "code",
   "execution_count": 126,
   "id": "f8e16b6e",
   "metadata": {},
   "outputs": [],
   "source": [
    "sups.Strength = sups.Strength.apply(process_strength)"
   ]
  },
  {
   "cell_type": "code",
   "execution_count": 127,
   "id": "11e346de",
   "metadata": {},
   "outputs": [
    {
     "data": {
      "text/plain": [
       "array(['strength26to30', 'strength51to55', 'strength21to25',\n",
       "       'strength1to5', 'strength46to50', 'strength96to100',\n",
       "       'strength6to10', 'strength71to75', 'strength91to95',\n",
       "       'strength56to60', 'strength76to80', 'strength31to35',\n",
       "       'strength16to20', 'strength86to90', 'strength61to65',\n",
       "       'strength11to15', 'strength41to45', 'strength81to85',\n",
       "       'strength66to70', 'strength36to40', 'strength0'], dtype=object)"
      ]
     },
     "execution_count": 127,
     "metadata": {},
     "output_type": "execute_result"
    }
   ],
   "source": [
    "sups.Strength.unique()"
   ]
  },
  {
   "cell_type": "markdown",
   "id": "2c5cf969",
   "metadata": {},
   "source": [
    "#### Strength_force column"
   ]
  },
  {
   "cell_type": "code",
   "execution_count": 128,
   "id": "115a380e",
   "metadata": {},
   "outputs": [
    {
     "data": {
      "text/plain": [
       "0"
      ]
     },
     "execution_count": 128,
     "metadata": {},
     "output_type": "execute_result"
    }
   ],
   "source": [
    "sups.Strength_force.isna().sum()"
   ]
  },
  {
   "cell_type": "code",
   "execution_count": 129,
   "id": "c32bc9d7",
   "metadata": {},
   "outputs": [
    {
     "data": {
      "text/plain": [
       "array([100000, 1000000, 8000, 83, 400000, 200, 1000000000, 1000, 120, 250,\n",
       "       100, 150, 10000, 2000, 5000000, 880443342, 880000000, 2400, 23000,\n",
       "       40000000, 1500, 40, 1800000, 7500000, 5000, 800000000, 80000000,\n",
       "       75, 350, 1100000, 80000, 25000000, 30000000, 300, 63500, 1800,\n",
       "       653985, 200000000, 310, 40000, 180, 1500000, 130000000, 3000,\n",
       "       130000, 125, 212121212, 100000000, 190, 50000, 20000, 800, 601011,\n",
       "       581680000, 500000, 385553, 8000000, 160000, 2500000, 9085969,\n",
       "       85000, 200000, 900000000, 88779, 1875, 10000000, 500, 1200000,\n",
       "       300000, 62000, 140, 60000000, 70, 750, 25, 50, 20000000, 22000000,\n",
       "       401511, 110, 3200, 150000000, 815, 999999999, 130, 15000, 150000,\n",
       "       7700, 380, 999, 420000000, 600000, 10, 400, 90000000, 35000, 2700,\n",
       "       22600, 375, 300000000, 88775, 600, 350000, 900, 180000, 99, 30000,\n",
       "       75000, 721212, 80, 60000, 88000, 25000, 85000000, 1200, 820000000,\n",
       "       50000000, 45, 70000, 4500, 160, 6000, 600000000, 2100, 210,\n",
       "       65000000, 400000000, 2000000, 60, 90, 88888888, 20, 4000000, 55,\n",
       "       720000, 70000000, 3300000, 98, 220000000, 2178, 472586, 8975, 907,\n",
       "       135, 9000000, 9000, 580000000, 750000000, 120000000, 1257000,\n",
       "       240000, 550000000, 620000000, 6500, 155, 165712, 369852380,\n",
       "       665807250, 563258741, 500695147, 303000000, 588888888, 863258740,\n",
       "       65369082, 99996396, 676852361, 9559639, 700000, 125000, 2500,\n",
       "       11000000, 230, 990000000, 145, 350000000, 15000000, 475586, 181,\n",
       "       250000, 12000000, 175, 153, 750000, 220000, 386000000, 100010551,\n",
       "       450000000, 908880, 247000, 328175, 985, 420000, 4000, 120081, 122,\n",
       "       56000, 125000000, 800000, 24000000, 440000, 950000000, 450000,\n",
       "       3351999, 140000, 700007, 35000000, 980, 3890, 64000, 7196687, 385,\n",
       "       400001, 700, 859041, 290000, 65000, 10012121, 5500000, 45000000,\n",
       "       501, 52, 6860, 110000, 170, 81241242, 611, 6899325, 5758268, 227,\n",
       "       88000099, 16000000, 478520, 154, 621519999, 81000, 55000, 18000,\n",
       "       6200000, 61998, 2122111, 8900, 220, 470000, 7000, 75000000, 7500,\n",
       "       7676, 223000000, 9010101, 621500000, 30, 500000000, 900000,\n",
       "       55000000, 232420, 12000, 90000, 7300, 1212111, 679, 320000, 15,\n",
       "       212121, 4700000, 3000000, 111000000, 120000, 475826, 810000000,\n",
       "       2012121, 90718, 65, 7006060, 340, 6000000, 1250, 200999990, 8979,\n",
       "       320, 59000000, 181437, 95000000, 1005, 205, 21412, 8200000, 382500,\n",
       "       113, 363, 571, 537, 92, 168579, 99999, 90088000, 13000000, 1880,\n",
       "       140000000, 30405, 71, 7200000, 165000, 68000, 1700, 226706, 340000,\n",
       "       91795, 375004575, 87072, 3011, 504, 50000561, 3100, 3250000,\n",
       "       88000000, 8800000, 650000000, 1, 250000000, 45000, 3500, 1900000,\n",
       "       696, 5250000, 22000, 780000, 167500, 621510000, 612512371, 5443,\n",
       "       1191000, 8950, 3950000, 128845, 360000, 410, 646400000, 18000000,\n",
       "       13000, 32000000, 26826300, 450, 199, 8800, 22700, 12121, 275,\n",
       "       395000, 77000, 280, 9999999, 165, 124, 389000000, 390000000,\n",
       "       19000000, 95, 8500000, 500000038, 115, 545, 5200, 4800, 760000000,\n",
       "       425, 565, 89777000, 1191995, 590, 702085693, 582479981, 17000000,\n",
       "       1585, 21000000, 25886, 1814, 899999999, 1375, 333333373, 10110101,\n",
       "       754, 10586396, 8500, 1221, 360, 34, 238, 99999999, 422319000,\n",
       "       72820, 63, 136078, 200002012, 5628, 820, 100034, 780, 5, 1050000,\n",
       "       98000000, 390, 74000000, 152620, 382480000, 5247, 85, 1135, 83990,\n",
       "       460000, 28000000, 42000, 33333360, 169, 76340000, 8100, 410000000,\n",
       "       9485809, 100001010, 8759698, 80500, 240, 600405000, 58000000,\n",
       "       10249699, 550, 289665561, 472506, 325000000, 215, 12500, 785000000,\n",
       "       478525, 86, 790000, 36000000, 390000, 12460004, 700000000, 2323,\n",
       "       26000000, 235450, 5500, 674000000, 105, '500000', '168',\n",
       "       '1000000000', '244', '1100000', '50', '1000', '5000000', '400',\n",
       "       '800', '10000', '181', '250', '300000', '2000', '8500', '9000000',\n",
       "       '200', '40000', '34534150', '60', '8000000', '100000', '50000',\n",
       "       '130', '150', '460000', '50000000', '400000000', '125', '80000',\n",
       "       '500', '3075809', '90000000', '100', '780', '75', '20000', '17000',\n",
       "       '600000', '150000', '117', '140', '84', '200000', '120000',\n",
       "       '470000', '880000000', '75000', '150000000', '995000000', '400000',\n",
       "       '700000000', '800000', '200000000', '1000000', '2500', '1500000',\n",
       "       '7000', '3000', '45', '7000000', '74', '95', '70', '300', '7500',\n",
       "       '20000000', '10000000', '73', '40', '800000000', '45462', '4000',\n",
       "       '500000000', '40000000', '30000', '5000', '999999999', '120',\n",
       "       '999999000', '25000', '180', '558000000', '225', '175',\n",
       "       '900000000', '6500', '650', '8000', '1200', '88000000', '1800',\n",
       "       '123658000', '227', '57152', '160', '85000', '113398', '1500',\n",
       "       '25000000', '570000', '600000000', '36', '20', '600', '80',\n",
       "       '10100000', '170', '340000', '99999999', '700', '100000000',\n",
       "       '65000', '70307', '18000000', '2500000', '113000000', '63503',\n",
       "       '500500000', '91', '35', '0', '503817500', '7500000', '698525',\n",
       "       '528250', '10', '55800', '6802', '422', '355800', '144389',\n",
       "       '420000', '62000', '233533333', '1', '5', '230197846', '600075',\n",
       "       '78', '505000000', '400000229', '450', '590', '12122', '500000075',\n",
       "       '37750', '52000', '90', '129396156', '617114522', '8979', '60000',\n",
       "       '575', '266', '699', '85', '125000000', '250000000', '82', '12112',\n",
       "       '10101011', '121', '86', '573333333', '15000', '500500', '591',\n",
       "       '717', '30080', '420000000', '1376980', '6000', '165', '2200',\n",
       "       '310', '550000000', '713', '468000', '110', '133333375', '123',\n",
       "       '5000100', '1400', '190992000', '750', '900', '136', '2000000',\n",
       "       '1681739', '35000', '28000', '15888800', '1250000', '135', '15',\n",
       "       '600801000', '336696667', '99', '125001', '1100035', '1115000',\n",
       "       '1850', '157', '144298698', '8800000', '2586366', '32000000',\n",
       "       '500000016', '900000', '110000000', '55000', '410000', '709102734',\n",
       "       '162500', '28123', '2250', '810', '998', '6200', '127006', '15825',\n",
       "       '60000000', '480000', '810000000', '76', '500000013', '172', '30',\n",
       "       '500225000', '4560', '90000', '115', '9000', '360333333', '212312',\n",
       "       '588366', '41000', '963800', '500200000', '545', '63', '3', '55',\n",
       "       '80250', '1340', '81000', '210', '24000000', '5123', '950', '6175',\n",
       "       '33550', '75000000', '525450249', '125000', '190000', '61400',\n",
       "       '42000000', '140000000', '126', '55000000', '320000', '454',\n",
       "       '2050', '50001250', '1750', '464413677', '871428571', '7011210',\n",
       "       '3493333', '850000000', '12000', '4000000', '764357744', '8880000',\n",
       "       '295000', '3500', '588000000', '100024', '108565', '502500',\n",
       "       '240000', '236000000', '350', '666360', '255', '500100000',\n",
       "       '70000', '826', '909999', '19891030', '2025000', '733333333',\n",
       "       '780543', '8975', '400500000', '28000000', '3000000', '3500000',\n",
       "       '13000', '700000', '702000000', '960', '582636', '96325874', '98',\n",
       "       '160000', '685487369', '74000000', '34', '220', '90718', '82000',\n",
       "       '80000000', '15000000', '650000', '811000000', '95150',\n",
       "       '900001000', '401111100', '4500', '6996369', '34000000', '907',\n",
       "       '363', '6111111', '1150000', '580000000', '11111', '135698550',\n",
       "       '782', '750250000', '73000', '3667333', '555000000', '750000000',\n",
       "       '6', '2', '5443', '83', '396', '230', '1580822', '275', '3333683',\n",
       "       '92', '65', '60011', '350500000', '300000000', '193', '6315500',\n",
       "       '86000', '59', '440000500', '2586698', '4', '131', '571443019',\n",
       "       '25700', '4734000', '333366833', '500000050', '12121', '288850',\n",
       "       '6000000', '990000000', '58365', '500100', '250018000',\n",
       "       '100000001', '25', '151211', '330000', '999997077', '305', '1212',\n",
       "       '23', '620000', '4207000', '1270', '261', '369465', '89', '152700',\n",
       "       '45000', '300500000', '12', '333491667', '136311155', '102500000',\n",
       "       '522', '164', '55888', '12525', '202500', '175000000', '529230926',\n",
       "       '500000550', '405000000', '68', '235325675', '240', '380',\n",
       "       '140000', '12345678', '588000', '37000', '3324200', '999999997',\n",
       "       '500050000', '555', '200300400', '369852', '72581', '190', '375',\n",
       "       '2648', '23000', '300200000', '999000000', '364910382',\n",
       "       '504000000', '165035', '39683', '4600', '288000000', '501000',\n",
       "       '1050000', '118', '644', '500000150', '159', '12508', '12530',\n",
       "       '750000', '645000', '4649499', '7600', '656730', '4000114',\n",
       "       '160000000', '130000000', '120000000', '180000000', '260000000',\n",
       "       '758024691', '1223', '51000', '69985698'], dtype=object)"
      ]
     },
     "execution_count": 129,
     "metadata": {},
     "output_type": "execute_result"
    }
   ],
   "source": [
    "sups.Strength_force.unique()"
   ]
  },
  {
   "cell_type": "code",
   "execution_count": 130,
   "id": "34a6fc31",
   "metadata": {},
   "outputs": [],
   "source": [
    "sups.Strength_force = sups.Strength_force.astype(int)"
   ]
  },
  {
   "cell_type": "code",
   "execution_count": 131,
   "id": "5687a7ed",
   "metadata": {},
   "outputs": [
    {
     "data": {
      "text/plain": [
       "0"
      ]
     },
     "execution_count": 131,
     "metadata": {},
     "output_type": "execute_result"
    }
   ],
   "source": [
    "sups.Strength_force.min()"
   ]
  },
  {
   "cell_type": "code",
   "execution_count": 132,
   "id": "98fadff2",
   "metadata": {},
   "outputs": [
    {
     "data": {
      "text/plain": [
       "1000000000"
      ]
     },
     "execution_count": 132,
     "metadata": {},
     "output_type": "execute_result"
    }
   ],
   "source": [
    "sups.Strength_force.max()"
   ]
  },
  {
   "cell_type": "code",
   "execution_count": 133,
   "id": "2bd34859",
   "metadata": {},
   "outputs": [],
   "source": [
    "def process_sf(value):\n",
    "    if value <= 0:\n",
    "        return 'sf0'\n",
    "    elif 1 <= value <= 1000:\n",
    "        return \"sf1-1000\"\n",
    "    elif 1001 <= value <= 5000:\n",
    "        return \"sf1001-5000\"\n",
    "    \n",
    "    elif 5001 <= value <= 10000:\n",
    "        return \"sf5001-10000\"\n",
    "    \n",
    "    elif 10001 <= value <= 100000:\n",
    "        return \"sf10001-100000\"\n",
    "    elif 100001 <= value <= 1000000:\n",
    "        return \"sf100001-1000000\"\n",
    "    elif 1000001 <= value <= 10000000:\n",
    "        return \"sf1000001-10000000\"\n",
    "    \n",
    "    elif 10000001 <= value <= 100000000:\n",
    "        return \"sf10000001-100000000\"\n",
    "    elif 100000001 <= value <= 1000000000:\n",
    "        return \"sf100000001-1000000000\"\n",
    "    else:\n",
    "        return \"sfoutofrange\""
   ]
  },
  {
   "cell_type": "code",
   "execution_count": 134,
   "id": "7c35cc88",
   "metadata": {},
   "outputs": [],
   "source": [
    "sups.Strength_force = sups.Strength_force.apply(process_sf)"
   ]
  },
  {
   "cell_type": "code",
   "execution_count": 135,
   "id": "bb6c1180",
   "metadata": {},
   "outputs": [
    {
     "data": {
      "text/plain": [
       "array(['sf10001-100000', 'sf100001-1000000', 'sf5001-10000', 'sf1-1000',\n",
       "       'sf100000001-1000000000', 'sf1001-5000', 'sf1000001-10000000',\n",
       "       'sf10000001-100000000', 'sf0'], dtype=object)"
      ]
     },
     "execution_count": 135,
     "metadata": {},
     "output_type": "execute_result"
    }
   ],
   "source": [
    "sups.Strength_force.unique()"
   ]
  },
  {
   "cell_type": "markdown",
   "id": "73ae8ffe",
   "metadata": {},
   "source": [
    "#### Super_powers column"
   ]
  },
  {
   "cell_type": "code",
   "execution_count": 136,
   "id": "95a96184",
   "metadata": {},
   "outputs": [
    {
     "data": {
      "text/plain": [
       "0"
      ]
     },
     "execution_count": 136,
     "metadata": {},
     "output_type": "execute_result"
    }
   ],
   "source": [
    "sups.Super_powers.isna().sum()"
   ]
  },
  {
   "cell_type": "code",
   "execution_count": 137,
   "id": "4ee63016",
   "metadata": {},
   "outputs": [],
   "source": [
    "sups.Super_powers = sups.Super_powers.str.replace(' ','')"
   ]
  },
  {
   "cell_type": "code",
   "execution_count": 138,
   "id": "a7f6e4bf",
   "metadata": {},
   "outputs": [],
   "source": [
    "sups.Super_powers = sups.Super_powers.str.lower()"
   ]
  },
  {
   "cell_type": "markdown",
   "id": "2374025f",
   "metadata": {},
   "source": [
    "#### Tier column"
   ]
  },
  {
   "cell_type": "code",
   "execution_count": 139,
   "id": "b508dd2d",
   "metadata": {},
   "outputs": [
    {
     "data": {
      "text/plain": [
       "0"
      ]
     },
     "execution_count": 139,
     "metadata": {},
     "output_type": "execute_result"
    }
   ],
   "source": [
    "sups.Tier.isna().sum()"
   ]
  },
  {
   "cell_type": "code",
   "execution_count": 140,
   "id": "8767e6ad",
   "metadata": {},
   "outputs": [],
   "source": [
    "sups.Tier = sups.Tier.astype(int)"
   ]
  },
  {
   "cell_type": "code",
   "execution_count": 141,
   "id": "f484fcef",
   "metadata": {},
   "outputs": [
    {
     "data": {
      "text/plain": [
       "0"
      ]
     },
     "execution_count": 141,
     "metadata": {},
     "output_type": "execute_result"
    }
   ],
   "source": [
    "sups.Tier.min()"
   ]
  },
  {
   "cell_type": "code",
   "execution_count": 142,
   "id": "9fedb34f",
   "metadata": {},
   "outputs": [
    {
     "data": {
      "text/plain": [
       "10"
      ]
     },
     "execution_count": 142,
     "metadata": {},
     "output_type": "execute_result"
    }
   ],
   "source": [
    "sups.Tier.max()"
   ]
  },
  {
   "cell_type": "code",
   "execution_count": 143,
   "id": "1923ddff",
   "metadata": {},
   "outputs": [],
   "source": [
    "def process_tier(val):\n",
    "    return f'tier{val}'"
   ]
  },
  {
   "cell_type": "code",
   "execution_count": 144,
   "id": "e7926158",
   "metadata": {},
   "outputs": [],
   "source": [
    "sups.Tier = sups.Tier.apply(process_tier)"
   ]
  },
  {
   "cell_type": "code",
   "execution_count": 145,
   "id": "9003a7a7",
   "metadata": {},
   "outputs": [
    {
     "data": {
      "text/plain": [
       "array(['tier2', 'tier4', 'tier1', 'tier7', 'tier5', 'tier6', 'tier3',\n",
       "       'tier8', 'tier9', 'tier10', 'tier0'], dtype=object)"
      ]
     },
     "execution_count": 145,
     "metadata": {},
     "output_type": "execute_result"
    }
   ],
   "source": [
    "sups.Tier.unique()"
   ]
  },
  {
   "cell_type": "markdown",
   "id": "ba84a270",
   "metadata": {},
   "source": [
    "#### Universe column"
   ]
  },
  {
   "cell_type": "code",
   "execution_count": 146,
   "id": "16428c36",
   "metadata": {},
   "outputs": [
    {
     "data": {
      "text/plain": [
       "914"
      ]
     },
     "execution_count": 146,
     "metadata": {},
     "output_type": "execute_result"
    }
   ],
   "source": [
    "sups.Universe.isna().sum()"
   ]
  },
  {
   "cell_type": "code",
   "execution_count": 147,
   "id": "7d762e46",
   "metadata": {},
   "outputs": [
    {
     "data": {
      "text/plain": [
       "0    Earth-616\n",
       "Name: Universe, dtype: object"
      ]
     },
     "execution_count": 147,
     "metadata": {},
     "output_type": "execute_result"
    }
   ],
   "source": [
    "sups.Universe.mode()"
   ]
  },
  {
   "cell_type": "code",
   "execution_count": 148,
   "id": "435c19eb",
   "metadata": {},
   "outputs": [],
   "source": [
    "sups.Universe = sups.Universe.fillna('Earth-616')"
   ]
  },
  {
   "cell_type": "code",
   "execution_count": 149,
   "id": "e88bca28",
   "metadata": {},
   "outputs": [
    {
     "data": {
      "text/plain": [
       "0"
      ]
     },
     "execution_count": 149,
     "metadata": {},
     "output_type": "execute_result"
    }
   ],
   "source": [
    "sups.Universe.isna().sum()"
   ]
  },
  {
   "cell_type": "markdown",
   "id": "f58d9ffa",
   "metadata": {},
   "source": [
    "#### Weight column"
   ]
  },
  {
   "cell_type": "code",
   "execution_count": 150,
   "id": "9454e1ed",
   "metadata": {},
   "outputs": [
    {
     "data": {
      "text/plain": [
       "0"
      ]
     },
     "execution_count": 150,
     "metadata": {},
     "output_type": "execute_result"
    }
   ],
   "source": [
    "sups['Weight'].isna().sum()"
   ]
  },
  {
   "cell_type": "code",
   "execution_count": 151,
   "id": "7e9548c7",
   "metadata": {},
   "outputs": [
    {
     "data": {
      "text/plain": [
       "array(['82 kg • 180.78 lbs', '90.7 kg • 199.96 lbs', '-',\n",
       "       '199.58 ton • 440,000.57 lbs', '50 kg • 110.23 lbs',\n",
       "       '95 kg • 209.44 lbs', '77.1 kg • 169.98 lbs',\n",
       "       '99.8 kg • 220.02 lbs', '816.5 kg • 1,800.07 lbs',\n",
       "       '133.81 kg • 295 lbs', '79.38 kg • 175 lbs',\n",
       "       '1.68 ton • 3,700 lbs', '52.2 kg • 115.08 lbs',\n",
       "       '20,000 ton • 44,092,452.4 lbs', '12,000 ton • 26,455,471.44 lbs',\n",
       "       '170.1 kg • 375.01 lbs', '133.8 kg • 294.98 lbs',\n",
       "       '73 kg • 160.94 lbs', '81 kg • 178.57 lbs', '55.38 kg • 122.1 lbs',\n",
       "       '55 kg • 121.25 lbs', '56.7 kg • 125 lbs',\n",
       "       '43,000 ton • 94,798,772.66 lbs', '74.8 kg • 164.91 lbs',\n",
       "       '65 kg • 143.3 lbs', '424.1 kg • 934.98 lbs',\n",
       "       '102.06 kg • 225 lbs', '63 kg • 138.89 lbs', '71 kg • 156.53 lbs',\n",
       "       '2.09 ton • 4,599.99 lbs', '83.5 kg • 184.09 lbs',\n",
       "       '102 kg • 224.87 lbs', '54.43 kg • 120 lbs',\n",
       "       '134.7 kg • 296.96 lbs', '120 kg • 264.55 lbs',\n",
       "       '81.65 kg • 180.01 lbs', '62 kg • 136.69 lbs',\n",
       "       '98.88 kg • 217.99 lbs', '56 kg • 123.46 lbs',\n",
       "       '170.1 kg • 375 lbs', '95.3 kg • 210.1 lbs',\n",
       "       '122.5 kg • 270.07 lbs', '68 kg • 149.91 lbs',\n",
       "       '79.8 kg • 175.93 lbs', '160 kg • 352.74 lbs',\n",
       "       '167.8 kg • 369.94 lbs', '113 kg • 249.12 lbs',\n",
       "       '294 kg • 648.16 lbs', '76 kg • 167.55 lbs',\n",
       "       '83.9 kg • 184.97 lbs', '290.3 kg • 640 lbs',\n",
       "       '95.25 kg • 209.99 lbs', '79 kg • 174.17 lbs',\n",
       "       '76.5 kg • 168.65 lbs', '15,000 ton • 33,069,339.3 lbs',\n",
       "       '288.5 kg • 636.03 lbs', '10,000 ton • 22,046,226.2 lbs',\n",
       "       '89.8 kg • 197.98 lbs', '74 kg • 163.14 lbs',\n",
       "       '22,000 ton • 48,501,697.64 lbs', '51 kg • 112.44 lbs',\n",
       "       '57.2 kg • 126.1 lbs', '104.3 kg • 229.94 lbs',\n",
       "       '39.9 kg • 87.96 lbs', '78 kg • 171.96 lbs', '77 kg • 169.76 lbs',\n",
       "       '57 kg • 125.66 lbs', '68.9 kg • 151.9 lbs', '64 kg • 141.1 lbs',\n",
       "       '238.14 kg • 525.01 lbs', '21.3 kg • 46.96 lbs',\n",
       "       '54 kg • 119.05 lbs', '50.8 kg • 111.99 lbs',\n",
       "       '317.51 kg • 699.99 lbs', '249.48 kg • 550 lbs',\n",
       "       '240.4 kg • 529.99 lbs', '444.5 kg • 979.95 lbs',\n",
       "       '63.5 kg • 139.99 lbs', '101.2 kg • 223.11 lbs',\n",
       "       '98.9 kg • 218.04 lbs', '259.9 kg • 572.98 lbs',\n",
       "       '92 kg • 202.83 lbs', '90.72 kg • 200 lbs', '1.72 ton • 3,800 lbs',\n",
       "       '53.07 kg • 117 lbs', '280,000 ton • 617,294,333.6 lbs',\n",
       "       '33 kg • 72.75 lbs', '112 kg • 246.92 lbs', '61.2 kg • 134.92 lbs',\n",
       "       '1 ton • 2,204.62 lbs', '91 kg • 200.62 lbs',\n",
       "       '108.86 kg • 240 lbs', '108.9 kg • 240.08 lbs',\n",
       "       '82.1 kg • 181 lbs', '74.84 kg • 164.99 lbs',\n",
       "       '99.3 kg • 218.92 lbs', '90 kg • 198.42 lbs', '113.4 kg • 250 lbs',\n",
       "       '123 kg • 271.17 lbs', '75 kg • 165.35 lbs',\n",
       "       '60,000 ton • 132,277,357.2 lbs', '45.36 kg • 100 lbs',\n",
       "       '40 ton • 88,184.9 lbs', '87 kg • 191.8 lbs',\n",
       "       '65.8 kg • 145.06 lbs', '93 kg • 205.03 lbs',\n",
       "       '82.6 kg • 182.1 lbs', '88.5 kg • 195.11 lbs',\n",
       "       '86.2 kg • 190.04 lbs', '54.4 kg • 119.93 lbs',\n",
       "       '87.1 kg • 192.02 lbs', '150 kg • 330.69 lbs',\n",
       "       '200,000 ton • 440,924,524 lbs', '115.21 kg • 254 lbs',\n",
       "       '63.5 kg • 140 lbs', '725.7 kg • 1,599.89 lbs',\n",
       "       '158.8 kg • 350.09 lbs', '52 kg • 114.64 lbs',\n",
       "       '217.7 kg • 479.95 lbs', '58.1 kg • 128.09 lbs',\n",
       "       '205 kg • 451.95 lbs', '59 kg • 130.07 lbs',\n",
       "       '476.27 kg • 1,050 lbs', '308.4 kg • 679.91 lbs',\n",
       "       '210 kg • 462.97 lbs', '122 kg • 268.96 lbs',\n",
       "       '188 kg • 414.47 lbs', '2.72 ton • 6,000.1 lbs',\n",
       "       '91.2 kg • 201.06 lbs', '111.1 kg • 244.93 lbs',\n",
       "       '27.2 kg • 59.97 lbs', '81.6 kg • 179.9 lbs',\n",
       "       '104.33 kg • 230.01 lbs', '52.6 kg • 115.96 lbs',\n",
       "       '60 kg • 132.28 lbs', '226.8 kg • 500.01 lbs',\n",
       "       '131.5 kg • 289.91 lbs', '31.8 kg • 70.11 lbs',\n",
       "       '84 kg • 185.19 lbs', '64.9 kg • 143.08 lbs', '80 kg • 176.37 lbs',\n",
       "       '70,000 ton • 154,323,583.4 lbs', '85 kg • 187.39 lbs',\n",
       "       '200 kg • 440.92 lbs', '145 kg • 319.67 lbs',\n",
       "       '64.4 kg • 141.98 lbs', '89.4 kg • 197.09 lbs',\n",
       "       '79.4 kg • 175.05 lbs', '73.9 kg • 162.92 lbs',\n",
       "       '40.01 kg • 88.21 lbs', '127.01 kg • 280.01 lbs',\n",
       "       '18.14 ton • 39,999.97 lbs', '62.1 kg • 136.91 lbs',\n",
       "       '88 kg • 194.01 lbs', '60 ton • 132,277.36 lbs',\n",
       "       '90,718.47 ton • 199,999,999.83 lbs',\n",
       "       '55,000 ton • 121,254,244.1 lbs', '204.1 kg • 449.96 lbs',\n",
       "       '49.9 kg • 110.01 lbs', '70.3 kg • 154.98 lbs',\n",
       "       '69 kg • 152.12 lbs', '750 kg • 1,653.47 lbs',\n",
       "       '1,980 ton • 4,365,152.79 lbs', '2,004 ton • 4,418,063.73 lbs',\n",
       "       '97.5 kg • 214.95 lbs', '635 kg • 1,399.94 lbs',\n",
       "       '8.17 ton • 18,000.74 lbs', '25,000 ton • 55,115,565.5 lbs',\n",
       "       '78.9 kg • 173.94 lbs', '140 kg • 308.65 lbs',\n",
       "       '235.87 ton • 519,999.58 lbs', '30,000 ton • 66,138,678.6 lbs',\n",
       "       '197 kg • 434.31 lbs', '48.53 kg • 107 lbs',\n",
       "       '81.2 kg • 179.02 lbs', '88.9 kg • 195.99 lbs',\n",
       "       '45.4 kg • 100.09 lbs', '106 kg • 233.69 lbs',\n",
       "       '37.2 kg • 82.01 lbs', '326.6 kg • 720.03 lbs',\n",
       "       '55.79 kg • 123 lbs', '45.8 kg • 100.97 lbs',\n",
       "       '72.6 kg • 160.06 lbs', '128 kg • 282.19 lbs',\n",
       "       '28,000 ton • 61,729,433.36 lbs', '2,800 ton • 6,172,943.34 lbs',\n",
       "       '367.4 kg • 809.98 lbs', '67.1 kg • 147.93 lbs',\n",
       "       '130 kg • 286.6 lbs', '40.5 kg • 89.29 lbs', '129.27 kg • 285 lbs',\n",
       "       '907 kg • 1,999.59 lbs', '861.8 kg • 1,899.94 lbs',\n",
       "       '25 kg • 55.12 lbs', '86 kg • 189.6 lbs', '71.7 kg • 158.07 lbs',\n",
       "       '72 kg • 158.73 lbs', '55.8 kg • 123.02 lbs',\n",
       "       '13.6 kg • 29.98 lbs', '61 kg • 134.48 lbs', '107 kg • 235.89 lbs',\n",
       "       '102.1 kg • 225.09 lbs', '192.8 kg • 425.05 lbs',\n",
       "       '99.79 kg • 220 lbs', '58.97 kg • 130.01 lbs',\n",
       "       '8 ton • 17,636.98 lbs', '83 kg • 182.98 lbs',\n",
       "       '430.9 kg • 949.97 lbs', '104 kg • 229.28 lbs',\n",
       "       '907.2 kg • 2,000.03 lbs', '1.09 ton • 2,399.07 lbs',\n",
       "       '18.1 kg • 39.9 lbs', '48.1 kg • 106.04 lbs', '53 kg • 116.84 lbs',\n",
       "       '57.15 kg • 125.99 lbs', '142.9 kg • 315.04 lbs',\n",
       "       '303 kg • 668 lbs', '199 kg • 438.72 lbs', '48 kg • 105.82 lbs',\n",
       "       '102.97 kg • 227 lbs', '94 kg • 207.23 lbs',\n",
       "       '14.33 ton • 31,599.96 lbs', '71.2 kg • 156.97 lbs',\n",
       "       '226.8 kg • 500 lbs', '146.1 kg • 322.1 lbs', '53.98 kg • 119 lbs',\n",
       "       '86.18 kg • 189.99 lbs', '238.1 kg • 524.92 lbs',\n",
       "       '290 kg • 639.34 lbs', '77.02 kg • 169.8 lbs', '94.8 kg • 209 lbs',\n",
       "       '98.4 kg • 216.93 lbs', '60.01 kg • 132.3 lbs',\n",
       "       '53.1 kg • 117.07 lbs', '57.15 kg • 126 lbs',\n",
       "       '100 kg • 220.46 lbs', '351.99 kg • 776 lbs',\n",
       "       '381 kg • 839.96 lbs', '45 kg • 99.21 lbs', '69.9 kg • 154.1 lbs',\n",
       "       '67 kg • 147.71 lbs', '41.3 kg • 91.05 lbs', '1 kg • 2.2 lbs',\n",
       "       '408.2 kg • 899.93 lbs', '40.8 kg • 89.95 lbs',\n",
       "       '136.1 kg • 300.05 lbs', '40,000 ton • 88,184,904.8 lbs',\n",
       "       '129.3 kg • 285.06 lbs', '544.31 kg • 1,200 lbs',\n",
       "       '135,000 ton • 297,624,053.7 lbs', '45.81 kg • 100.99 lbs',\n",
       "       '103 kg • 227.08 lbs', '510.3 kg • 1,125.02 lbs',\n",
       "       '357 kg • 787.05 lbs', '81.65 kg • 180 lbs', '72.58 kg • 160 lbs',\n",
       "       '62.2 kg • 137.13 lbs', '3,000 ton • 6,613,867.86 lbs',\n",
       "       '106.6 kg • 235.01 lbs', '80.3 kg • 177.03 lbs',\n",
       "       '51.9 kg • 114.42 lbs', '42.4 kg • 93.48 lbs',\n",
       "       '78.47 kg • 173 lbs', '41 kg • 90.39 lbs', '58.06 kg • 128 lbs',\n",
       "       '76.7 kg • 169.09 lbs', '44.9 kg • 98.99 lbs',\n",
       "       '301 kg • 663.59 lbs', '20.87 ton • 45,999.89 lbs',\n",
       "       '24,000 ton • 52,910,942.88 lbs', '1.13 ton • 2,500 lbs',\n",
       "       '7,775 ton • 17,140,940.87 lbs', '240 kg • 529.11 lbs',\n",
       "       '39,043 ton • 86,075,080.95 lbs', '124 kg • 273.37 lbs',\n",
       "       '317.51 kg • 700 lbs', '564.7 ton • 1,244,950.39 lbs',\n",
       "       '45.99 kg • 101.39 lbs', '206.48 kg • 455.2 lbs',\n",
       "       '54.9 kg • 121.03 lbs', '140.61 kg • 310 lbs',\n",
       "       '46.72 kg • 103 lbs', '70 kg • 154.32 lbs', '46.7 kg • 102.96 lbs',\n",
       "       '74.84 kg • 165 lbs', '521.6 kg • 1,149.93 lbs',\n",
       "       '999.7 kg • 2,203.96 lbs', '1.27 ton • 2,806.48 lbs',\n",
       "       '2 ton • 4,409.25 lbs', '243.13 ton • 536,000.64 lbs',\n",
       "       '114 kg • 251.33 lbs', '65,000 ton • 143,300,470.3 lbs',\n",
       "       '143.8 kg • 317.02 lbs', '293 kg • 645.95 lbs',\n",
       "       '57.61 kg • 127.01 lbs', '250 kg • 551.16 lbs',\n",
       "       '12 ton • 26,454.99 lbs', '295.02 kg • 650.41 lbs',\n",
       "       '49 kg • 108.03 lbs', '185 kg • 407.86 lbs',\n",
       "       '58.01 kg • 127.89 lbs', '52.16 kg • 114.99 lbs',\n",
       "       '75.7 kg • 166.89 lbs', '6 ton • 13,227.74 lbs',\n",
       "       '15.88 kg • 35.01 lbs', '87.09 kg • 192 lbs', '98.43 kg • 217 lbs',\n",
       "       '446.8 kg • 985.03 lbs', '1.27 ton • 2,804.28 lbs',\n",
       "       '117.9 kg • 259.93 lbs', '58 kg • 127.87 lbs',\n",
       "       '235 kg • 518.09 lbs', '47.7 kg • 105.16 lbs',\n",
       "       '7,450 ton • 16,424,438.52 lbs', '176.9 kg • 390 lbs',\n",
       "       '147.4 kg • 324.96 lbs', '62.14 kg • 137 lbs',\n",
       "       '47.3 kg • 104.28 lbs', '158 kg • 348.33 lbs',\n",
       "       '106.59 kg • 234.99 lbs', '40 kg • 88.18 lbs',\n",
       "       '96.16 kg • 212 lbs', '172 kg • 379.2 lbs', '106.59 kg • 235 lbs',\n",
       "       '47.2 kg • 104.06 lbs', '10.43 kg • 22.99 lbs',\n",
       "       '64.86 kg • 143 lbs', '55.62 kg • 122.63 lbs',\n",
       "       '28.12 kg • 61.99 lbs', '34.9 kg • 76.94 lbs',\n",
       "       '149.7 kg • 330.03 lbs', '3.08 ton • 6,800 lbs',\n",
       "       '95.2 kg • 209.88 lbs', '181.4 kg • 399.92 lbs',\n",
       "       '80,000 ton • 176,369,809.6 lbs', '38 kg • 83.78 lbs',\n",
       "       '38.6 kg • 85.1 lbs', '147.9 kg • 326.06 lbs',\n",
       "       '100 ton • 220,462.26 lbs', '190 kg • 418.88 lbs',\n",
       "       '46.3 kg • 102.07 lbs', '85.7 kg • 188.94 lbs',\n",
       "       '35 kg • 77.16 lbs', '163.3 kg • 360.01 lbs',\n",
       "       '249.5 kg • 550.05 lbs', '42 kg • 92.59 lbs',\n",
       "       '82,000 ton • 180,779,054.84 lbs', '67.5 kg • 148.81 lbs',\n",
       "       '44.45 kg • 98 lbs', '92.99 kg • 205.01 lbs', '68.04 kg • 150 lbs',\n",
       "       '77.11 kg • 170 lbs', '646.37 kg • 1,425 lbs', '44 kg • 97 lbs',\n",
       "       '34.93 kg • 77.01 lbs', '463.54 kg • 1,021.93 lbs',\n",
       "       '107.96 kg • 238 lbs', '682 kg • 1,503.55 lbs',\n",
       "       '204.12 kg • 450.01 lbs', '179.62 kg • 395.99 lbs',\n",
       "       '84.8 kg • 186.95 lbs', '136.08 ton • 300,000.64 lbs',\n",
       "       '213.2 kg • 470.03 lbs', '310 kg • 683.43 lbs',\n",
       "       '20 kg • 44.09 lbs', '100.7 kg • 222.01 lbs',\n",
       "       '174.6 kg • 384.93 lbs', '52.21 kg • 115.1 lbs',\n",
       "       '100.2 kg • 220.9 lbs', '55.3 kg • 121.92 lbs',\n",
       "       '310.7 kg • 684.98 lbs', '85,000 ton • 187,392,922.7 lbs',\n",
       "       '39,000 ton • 85,980,282.18 lbs', '32 kg • 70.55 lbs',\n",
       "       '43 kg • 94.8 lbs', '35.8 kg • 78.93 lbs',\n",
       "       '49,000 ton • 108,026,508.38 lbs', '202.8 kg • 447.1 lbs',\n",
       "       '325 kg • 716.5 lbs', '75.8 kg • 167.11 lbs',\n",
       "       '243.1 kg • 535.94 lbs', '161.03 kg • 355.01 lbs',\n",
       "       '83.92 kg • 185.01 lbs', '300,000 ton • 661,386,786 lbs',\n",
       "       '15.01 kg • 33.09 lbs', '118.8 kg • 261.91 lbs',\n",
       "       '117.93 kg • 260 lbs', '222.99 kg • 491.6 lbs',\n",
       "       '140.6 kg • 309.97 lbs', '27.22 kg • 60 lbs',\n",
       "       '244.94 kg • 540 lbs', '18,000 ton • 39,683,207.16 lbs',\n",
       "       '95.25 kg • 210 lbs', '78.5 kg • 173.06 lbs',\n",
       "       '929.9 kg • 2,050.08 lbs', '47.17 kg • 103.99 lbs',\n",
       "       '12.7 kg • 28 lbs', '2,412 ton • 5,317,549.76 lbs',\n",
       "       '2.27 ton • 5,000 lbs', '19 kg • 41.89 lbs', '6.9 kg • 15.21 lbs',\n",
       "       '10 kg • 22.05 lbs', '8.5 kg • 18.74 lbs', '3.2 kg • 7.05 lbs',\n",
       "       '79.83 kg • 176 lbs', '24.77 ton • 54,597.81 lbs',\n",
       "       '7.35 kg • 16.2 lbs', '17,700 ton • 39,021,820.37 lbs',\n",
       "       '149.23 kg • 329 lbs', '7,000 ton • 15,432,358.34 lbs',\n",
       "       '2,312 ton • 5,097,087.5 lbs', '45.81 kg • 101 lbs',\n",
       "       '51.3 kg • 113.1 lbs', '96.2 kg • 212.08 lbs',\n",
       "       '36.6 kg • 80.69 lbs', '430 kg • 947.99 lbs', '39 kg • 85.98 lbs',\n",
       "       '385.6 kg • 850.1 lbs', '415 kg • 914.92 lbs',\n",
       "       '823 kg • 1,814.4 lbs', '823.3 kg • 1,815.07 lbs',\n",
       "       '34.5 kg • 76.06 lbs', '172.37 kg • 380 lbs', '66 kg • 145.51 lbs',\n",
       "       '83.92 kg • 185 lbs', '362.87 kg • 799.99 lbs',\n",
       "       '163.29 kg • 359.99 lbs', '188.2 kg • 414.91 lbs',\n",
       "       '907.18 kg • 2,000 lbs', '104.8 kg • 231.04 lbs',\n",
       "       '405.1 kg • 893.09 lbs', '683 kg • 1,505.76 lbs',\n",
       "       '855.48 kg • 1,886.01 lbs', '6.49 kg • 14.3 lbs',\n",
       "       '63.1 kg • 139.11 lbs', '66.2 kg • 145.95 lbs',\n",
       "       '752.1 kg • 1,658.1 lbs', '36 kg • 79.37 lbs',\n",
       "       '50,000 ton • 110,231,131 lbs', '136 kg • 299.83 lbs',\n",
       "       '426.38 kg • 940 lbs', '499 kg • 1,100.11 lbs',\n",
       "       '18.14 ton • 40,000.01 lbs', '23,000 ton • 50,706,320.26 lbs',\n",
       "       '59.87 kg • 132 lbs', '60.78 kg • 134 lbs',\n",
       "       '56.25 kg • 124.01 lbs', '98 kg • 216.05 lbs',\n",
       "       '362.9 kg • 800.06 lbs', '73.03 kg • 161 lbs',\n",
       "       '89.36 kg • 197 lbs', '217.72 kg • 479.99 lbs',\n",
       "       '24 kg • 52.91 lbs', '81.65 ton • 179,999.85 lbs',\n",
       "       '88.45 kg • 195 lbs', '132 kg • 291.01 lbs',\n",
       "       '76.2 kg • 167.99 lbs', '650 kg • 1,433 lbs',\n",
       "       '148 kg • 326.28 lbs', '288 kg • 634.93 lbs',\n",
       "       '8,000 ton • 17,636,980.96 lbs', '500 ton • 1,102,311.31 lbs',\n",
       "       '1.09 ton • 2,399.95 lbs', '84.4 kg • 186.07 lbs',\n",
       "       '1.96 ton • 4,315.99 lbs', '115.2 kg • 253.97 lbs',\n",
       "       '101 kg • 222.67 lbs', '99 kg • 218.26 lbs',\n",
       "       '950 kg • 2,094.39 lbs', '167.83 kg • 370 lbs',\n",
       "       '3.72 ton • 8,200.09 lbs', '340.19 kg • 749.99 lbs',\n",
       "       '7,890 ton • 17,394,472.47 lbs', '115.21 kg • 253.99 lbs',\n",
       "       '521.63 kg • 1,150 lbs', '89.81 kg • 198 lbs',\n",
       "       '97.52 kg • 214.99 lbs', '208.55 kg • 459.77 lbs',\n",
       "       '120.2 kg • 265 lbs', '112.49 kg • 248 lbs',\n",
       "       '447.2 kg • 985.91 lbs', '142.88 kg • 315 lbs',\n",
       "       '67.6 kg • 149.03 lbs', '294.84 kg • 650.01 lbs',\n",
       "       '201 kg • 443.13 lbs', '92.99 kg • 205 lbs',\n",
       "       '273.5 kg • 602.96 lbs', '100,000 ton • 220,462,262 lbs',\n",
       "       '47.63 kg • 105.01 lbs', '59.87 kg • 131.99 lbs',\n",
       "       '166 kg • 365.97 lbs', '87.5 kg • 192.9 lbs',\n",
       "       '116 kg • 255.74 lbs', '49.4 kg • 108.91 lbs',\n",
       "       '68.4 kg • 150.8 lbs', '16,000 ton • 35,273,961.92 lbs',\n",
       "       '295 kg • 650.36 lbs', '180 kg • 396.83 lbs',\n",
       "       '20,500 ton • 45,194,763.71 lbs',\n",
       "       '2,147.48 ton • 4,734,390.92 lbs',\n",
       "       '480,000 ton • 1,058,218,857.6 lbs', '562 kg • 1,239 lbs',\n",
       "       '244.94 ton • 539,999.6 lbs', '48.5 kg • 106.92 lbs',\n",
       "       '231.3 kg • 509.93 lbs', '138.35 kg • 305.01 lbs',\n",
       "       '5,900 ton • 13,007,273.46 lbs', '60.33 kg • 133 lbs',\n",
       "       '160,000 ton • 352,739,619.2 lbs', '154.2 kg • 339.95 lbs',\n",
       "       '74.98 kg • 165.3 lbs', '61.24 kg • 135 lbs',\n",
       "       '110.7 kg • 244.05 lbs', '10 ton • 22,046.23 lbs',\n",
       "       '49.9 kg • 110 lbs', '7,864 ton • 17,337,152.28 lbs',\n",
       "       '50.5 kg • 111.33 lbs', '127 kg • 279.99 lbs',\n",
       "       '150,000 ton • 330,693,393 lbs', '306 kg • 674.61 lbs',\n",
       "       '4.1 kg • 9.04 lbs', '92.1 kg • 203.05 lbs',\n",
       "       '70.8 kg • 156.09 lbs', '32,000 ton • 70,547,923.84 lbs',\n",
       "       '408 kg • 899.49 lbs', '153 kg • 337.31 lbs',\n",
       "       '54.89 kg • 121.01 lbs', '165.1 kg • 363.98 lbs',\n",
       "       '8 kg • 17.64 lbs', '42.2 kg • 93.04 lbs', '126.1 kg • 278 lbs',\n",
       "       '52.16 kg • 115 lbs', '130.2 kg • 287.04 lbs',\n",
       "       '47.6 kg • 104.94 lbs', '680.4 kg • 1,500.03 lbs',\n",
       "       '80.7 kg • 177.91 lbs', '145.15 kg • 320 lbs',\n",
       "       '39.5 kg • 87.08 lbs', '116.1 kg • 255.96 lbs',\n",
       "       '105 kg • 231.49 lbs', '235.9 kg • 520.07 lbs',\n",
       "       '30 kg • 66.14 lbs', '89 kg • 196.21 lbs',\n",
       "       '274.42 ton • 604,999.59 lbs', '395 ton • 870,825.93 lbs',\n",
       "       '72.1 kg • 158.95 lbs', '204.12 kg • 450 lbs',\n",
       "       '83.01 kg • 183 lbs', '62.6 kg • 138.01 lbs',\n",
       "       '158.76 kg • 350.01 lbs', '24.9 kg • 54.9 lbs',\n",
       "       '453.59 ton • 999,999.18 lbs', '67.99 kg • 149.89 lbs',\n",
       "       '108 kg • 238.1 lbs', '47 kg • 103.62 lbs',\n",
       "       '231.01 kg • 509.29 lbs', '59.9 kg • 132.06 lbs',\n",
       "       '31.75 kg • 70 lbs', '71.67 kg • 158 lbs', '53.52 kg • 118 lbs',\n",
       "       '75.75 kg • 167 lbs', '294.84 kg • 650 lbs', '329.31 kg • 726 lbs',\n",
       "       '107.5 kg • 237 lbs', '2.2 ton • 4,850.17 lbs',\n",
       "       '3.72 ton • 8,193.04 lbs', '1,850 ton • 4,078,551.85 lbs',\n",
       "       '44.91 kg • 99.01 lbs', '181.44 kg • 400 lbs',\n",
       "       '207.3 kg • 457.02 lbs', '43.1 kg • 95.02 lbs',\n",
       "       '5.67 ton • 12,499.99 lbs', '170 kg • 374.79 lbs',\n",
       "       '28 kg • 61.73 lbs', '446.79 kg • 985 lbs',\n",
       "       '120,000 ton • 264,554,714.4 lbs', '65.3 kg • 143.96 lbs',\n",
       "       '147 kg • 324.08 lbs', '158.76 kg • 350 lbs',\n",
       "       '179.17 kg • 395 lbs', '58.97 kg • 130 lbs', '353.8 kg • 780 lbs',\n",
       "       '6.35 ton • 13,999.99 lbs', '208 kg • 458.56 lbs',\n",
       "       '66.3 kg • 146.17 lbs', '500 g • 1.1 lbs', '215.46 kg • 475 lbs',\n",
       "       '93.9 kg • 207.01 lbs', '111 kg • 244.71 lbs',\n",
       "       '1.43 ton • 3,141.59 lbs', '139.7 kg • 307.99 lbs',\n",
       "       '34 kg • 74.96 lbs', '65.32 kg • 144 lbs', '500 kg • 1,102.31 lbs',\n",
       "       '67.59 kg • 149 lbs', '52.62 kg • 116 lbs', '65.77 kg • 145 lbs',\n",
       "       '165 kg • 363.76 lbs', '233.1 kg • 513.9 lbs',\n",
       "       '9.07 ton • 19,999.9 lbs', '272.2 kg • 600.1 lbs',\n",
       "       '43.55 kg • 96.01 lbs', '125 kg • 275.58 lbs',\n",
       "       '129.73 kg • 286 lbs', '61.69 kg • 136 lbs', '29.48 kg • 65 lbs',\n",
       "       '105.2 kg • 231.93 lbs', '46 kg • 101.41 lbs', '900 g • 1.98 lbs',\n",
       "       '2.58 ton • 5,696.74 lbs', '109 kg • 240.3 lbs',\n",
       "       '2.9 kg • 6.39 lbs', '1.01 ton • 2,216.09 lbs',\n",
       "       '10.9 kg • 24.03 lbs', '908 kg • 2,001.8 lbs',\n",
       "       '58.06 ton • 127,999.9 lbs', '294.8 kg • 649.92 lbs',\n",
       "       '156 kg • 343.92 lbs', '137 kg • 302.03 lbs',\n",
       "       '139 kg • 306.44 lbs', '129 kg • 284.4 lbs', '110 kg • 242.51 lbs',\n",
       "       '88 kg • 194 lbs', '816 g • 1.8 lbs',\n",
       "       '343.96 ton • 758,292.27 lbs', '257 kg • 566.59 lbs',\n",
       "       '165.56 kg • 365 lbs', '301.6 kg • 664.91 lbs',\n",
       "       '700 kg • 1,543.24 lbs', '26,000 ton • 57,320,188.12 lbs',\n",
       "       '61,000 ton • 134,481,979.82 lbs', '155 kg • 341.72 lbs',\n",
       "       '75,000 ton • 165,346,696.5 lbs', '171.5 kg • 378.09 lbs',\n",
       "       '77.4 kg • 170.64 lbs', '85.3 kg • 188.05 lbs',\n",
       "       '9,071.85 ton • 19,999,998.88 lbs', '5,000 ton • 11,023,113.1 lbs',\n",
       "       '191 kg • 421.08 lbs', '164.02 kg • 361.6 lbs',\n",
       "       '154 kg • 339.51 lbs', '74.25 kg • 163.69 lbs',\n",
       "       '96 kg • 211.64 lbs', '83.01 kg • 183.01 lbs',\n",
       "       '70.31 kg • 155 lbs', '141,056 ton • 310,975,248.29 lbs',\n",
       "       '56.2 kg • 123.9 lbs', '131.1 kg • 289.03 lbs',\n",
       "       '69.8 kg • 153.88 lbs', '58.5 kg • 128.97 lbs',\n",
       "       '13 kg • 28.66 lbs', '340.2 kg • 750.01 lbs',\n",
       "       '44.3 kg • 97.66 lbs', '68.7 kg • 151.46 lbs',\n",
       "       '12.7 ton • 27,999.98 lbs', '9.9 kg • 21.83 lbs',\n",
       "       '125.2 kg • 276.02 lbs', '51.7 kg • 113.98 lbs',\n",
       "       '22 kg • 48.5 lbs', '19.5 kg • 42.99 lbs', '145.1 kg • 319.89 lbs',\n",
       "       '36.3 kg • 80.03 lbs', '3.34 ton • 7,361.19 lbs',\n",
       "       '28 g • 0.06 lbs', '22.68 kg • 50 lbs', '24.95 kg • 55.01 lbs',\n",
       "       '1.8 kg • 3.97 lbs', '115.7 kg • 255.07 lbs', '2.3 kg • 5.07 lbs',\n",
       "       '121.1 kg • 266.98 lbs', '68,000 ton • 149,914,338.16 lbs',\n",
       "       '336 kg • 740.75 lbs', '43.2 kg • 95.24 lbs', '69.4 kg • 153 lbs',\n",
       "       '179.99 kg • 396.8 lbs', '225.4 kg • 496.92 lbs',\n",
       "       '108.41 kg • 239 lbs', '61.24 kg • 135.01 lbs',\n",
       "       '283.5 kg • 625 lbs', '71.25 kg • 157.08 lbs',\n",
       "       '29.9 kg • 65.92 lbs', '4 kg • 8.82 lbs', '72.5 kg • 159.84 lbs',\n",
       "       '100.7 kg • 222 lbs', '3.5 kg • 7.72 lbs', '18.5 kg • 40.79 lbs',\n",
       "       '51.15 kg • 112.77 lbs', '544.3 kg • 1,199.98 lbs',\n",
       "       '133.99 kg • 295.4 lbs', '115 kg • 253.53 lbs',\n",
       "       '97 kg • 213.85 lbs', '66.1 kg • 145.73 lbs',\n",
       "       '1.65 ton • 3,637.63 lbs', '42.6 kg • 93.92 lbs',\n",
       "       '26.8 kg • 59.08 lbs', '408.23 kg • 900 lbs', '38.1 kg • 84 lbs',\n",
       "       '199.6 kg • 440.04 lbs', '72.57 kg • 159.99 lbs',\n",
       "       '5.9 kg • 13.01 lbs', '89.9 kg • 198.2 lbs', '2 kg • 4.41 lbs',\n",
       "       '243.81 kg • 537.51 lbs', '3.99 ton • 8,799.97 lbs',\n",
       "       '172.4 kg • 380.08 lbs', '136.08 kg • 300.01 lbs',\n",
       "       '135.6 kg • 298.95 lbs', '206.8 kg • 455.92 lbs',\n",
       "       '140.2 kg • 309.09 lbs', '453.59 kg • 999.99 lbs',\n",
       "       '35,000 ton • 77,161,791.7 lbs', '45,000 ton • 99,208,017.9 lbs',\n",
       "       '58,000 ton • 127,868,111.96 lbs',\n",
       "       '48,000 ton • 105,821,885.76 lbs',\n",
       "       '56,000 ton • 123,458,866.72 lbs',\n",
       "       '44,000 ton • 97,003,395.28 lbs', '9.98 ton • 21,999.93 lbs'],\n",
       "      dtype=object)"
      ]
     },
     "execution_count": 151,
     "metadata": {},
     "output_type": "execute_result"
    }
   ],
   "source": [
    "sups['Weight'].unique()"
   ]
  },
  {
   "cell_type": "code",
   "execution_count": 152,
   "id": "97e0abd8",
   "metadata": {},
   "outputs": [],
   "source": [
    "sups['Weight'] = sups['Weight'].str.replace('lbs','')\n",
    "sups['Weight'] = sups['Weight'].str.replace('-','0')"
   ]
  },
  {
   "cell_type": "code",
   "execution_count": 153,
   "id": "770c45e6",
   "metadata": {},
   "outputs": [],
   "source": [
    "sups['Weight'] = sups['Weight'].str.split('•').apply(lambda x: x[1].strip() if len(x)>1 else x[0].strip())"
   ]
  },
  {
   "cell_type": "code",
   "execution_count": 154,
   "id": "6252b1d6",
   "metadata": {},
   "outputs": [],
   "source": [
    "sups['Weight'] = sups['Weight'].str.split('.').apply(lambda x: x[0].strip())"
   ]
  },
  {
   "cell_type": "code",
   "execution_count": 155,
   "id": "f19e49f9",
   "metadata": {},
   "outputs": [
    {
     "data": {
      "text/plain": [
       "dtype('O')"
      ]
     },
     "execution_count": 155,
     "metadata": {},
     "output_type": "execute_result"
    }
   ],
   "source": [
    "sups['Weight'].dtype"
   ]
  },
  {
   "cell_type": "code",
   "execution_count": 156,
   "id": "5781cf2c",
   "metadata": {},
   "outputs": [],
   "source": [
    "sups['Weight'] = sups['Weight'].str.replace(',','')"
   ]
  },
  {
   "cell_type": "code",
   "execution_count": 157,
   "id": "775f3f2d",
   "metadata": {},
   "outputs": [],
   "source": [
    "sups['Weight'] = sups['Weight'].astype(int)"
   ]
  },
  {
   "cell_type": "code",
   "execution_count": 158,
   "id": "72fc2309",
   "metadata": {},
   "outputs": [
    {
     "data": {
      "text/plain": [
       "0"
      ]
     },
     "execution_count": 158,
     "metadata": {},
     "output_type": "execute_result"
    }
   ],
   "source": [
    "sups['Weight'].min()"
   ]
  },
  {
   "cell_type": "code",
   "execution_count": 159,
   "id": "a5dc4feb",
   "metadata": {},
   "outputs": [
    {
     "data": {
      "text/plain": [
       "1058218857"
      ]
     },
     "execution_count": 159,
     "metadata": {},
     "output_type": "execute_result"
    }
   ],
   "source": [
    "sups['Weight'].max()"
   ]
  },
  {
   "cell_type": "code",
   "execution_count": 160,
   "id": "ffc5c533",
   "metadata": {},
   "outputs": [],
   "source": [
    "def process_weight(value):\n",
    "    if value <= 0:\n",
    "        return 'weight0'\n",
    "    elif 1 <= value <= 1000:\n",
    "        return \"weight1-1000\"\n",
    "    elif 1001 <= value <= 5000:\n",
    "        return \"weight1001-5000\"\n",
    "    \n",
    "    elif 5001 <= value <= 10000:\n",
    "        return \"weight5001-10000\"\n",
    "    \n",
    "    elif 10001 <= value <= 100000:\n",
    "        return \"weight10001-100000\"\n",
    "    elif 100001 <= value <= 1000000:\n",
    "        return \"weight100001-1000000\"\n",
    "    elif 1000001 <= value <= 10000000:\n",
    "        return \"weight1000001-10000000\"\n",
    "    \n",
    "    elif 10000001 <= value <= 100000000:\n",
    "        return \"weight10000001-100000000\"\n",
    "    elif 100000001 <= value <= 1000000000:\n",
    "        return \"weight100000001-1000000000\"\n",
    "    else:\n",
    "        return \"weightoutofrange\""
   ]
  },
  {
   "cell_type": "code",
   "execution_count": 161,
   "id": "831541c8",
   "metadata": {},
   "outputs": [],
   "source": [
    "sups.Weight = sups.Weight.apply(process_weight)"
   ]
  },
  {
   "cell_type": "code",
   "execution_count": 162,
   "id": "437caaf1",
   "metadata": {},
   "outputs": [
    {
     "data": {
      "text/plain": [
       "array(['weight1-1000', 'weight0', 'weight100001-1000000',\n",
       "       'weight1001-5000', 'weight10000001-100000000',\n",
       "       'weight100000001-1000000000', 'weight10001-100000',\n",
       "       'weight5001-10000', 'weight1000001-10000000', 'weightoutofrange'],\n",
       "      dtype=object)"
      ]
     },
     "execution_count": 162,
     "metadata": {},
     "output_type": "execute_result"
    }
   ],
   "source": [
    "sups.Weight.unique()"
   ]
  },
  {
   "cell_type": "code",
   "execution_count": 163,
   "id": "6f2e0206",
   "metadata": {},
   "outputs": [
    {
     "data": {
      "text/html": [
       "<div>\n",
       "<style scoped>\n",
       "    .dataframe tbody tr th:only-of-type {\n",
       "        vertical-align: middle;\n",
       "    }\n",
       "\n",
       "    .dataframe tbody tr th {\n",
       "        vertical-align: top;\n",
       "    }\n",
       "\n",
       "    .dataframe thead th {\n",
       "        text-align: right;\n",
       "    }\n",
       "</style>\n",
       "<table border=\"1\" class=\"dataframe\">\n",
       "  <thead>\n",
       "    <tr style=\"text-align: right;\">\n",
       "      <th></th>\n",
       "      <th>Alignment</th>\n",
       "      <th>Character</th>\n",
       "      <th>Combat</th>\n",
       "      <th>Creator</th>\n",
       "      <th>Durability</th>\n",
       "      <th>Gender</th>\n",
       "      <th>Height</th>\n",
       "      <th>IQ</th>\n",
       "      <th>Intelligence</th>\n",
       "      <th>Level</th>\n",
       "      <th>Place_of_birth</th>\n",
       "      <th>Power</th>\n",
       "      <th>Species</th>\n",
       "      <th>Speed</th>\n",
       "      <th>Speed_velocity</th>\n",
       "      <th>Strength</th>\n",
       "      <th>Strength_force</th>\n",
       "      <th>Super_powers</th>\n",
       "      <th>Tier</th>\n",
       "      <th>Universe</th>\n",
       "      <th>Weight</th>\n",
       "    </tr>\n",
       "  </thead>\n",
       "  <tbody>\n",
       "    <tr>\n",
       "      <th>0</th>\n",
       "      <td>Good</td>\n",
       "      <td>Alucard</td>\n",
       "      <td>combat76to80</td>\n",
       "      <td>Konami</td>\n",
       "      <td>durability31to35</td>\n",
       "      <td>Male</td>\n",
       "      <td>heighthuge</td>\n",
       "      <td>iq136to140</td>\n",
       "      <td>intelligence66to70</td>\n",
       "      <td>level3</td>\n",
       "      <td>Unknown</td>\n",
       "      <td>power56to60</td>\n",
       "      <td>Human</td>\n",
       "      <td>speed26to30</td>\n",
       "      <td>sv1001-5000</td>\n",
       "      <td>strength26to30</td>\n",
       "      <td>sf10001-100000</td>\n",
       "      <td>acceleratedhealing,agility,berserkmode,bloodlu...</td>\n",
       "      <td>tier2</td>\n",
       "      <td>C17S</td>\n",
       "      <td>weight1-1000</td>\n",
       "    </tr>\n",
       "    <tr>\n",
       "      <th>6</th>\n",
       "      <td>Neutral</td>\n",
       "      <td>Bayonetta</td>\n",
       "      <td>combat86to90</td>\n",
       "      <td>Sega</td>\n",
       "      <td>durability71to75</td>\n",
       "      <td>Female</td>\n",
       "      <td>heighthuge</td>\n",
       "      <td>iq151to155</td>\n",
       "      <td>intelligence76to80</td>\n",
       "      <td>level5</td>\n",
       "      <td>Unknown</td>\n",
       "      <td>power96to100</td>\n",
       "      <td>Human</td>\n",
       "      <td>speed46to50</td>\n",
       "      <td>sv1000001-10000000</td>\n",
       "      <td>strength51to55</td>\n",
       "      <td>sf100001-1000000</td>\n",
       "      <td>agility,chainmanipulation,durability,energyabs...</td>\n",
       "      <td>tier4</td>\n",
       "      <td>Bayonetta</td>\n",
       "      <td>weight1-1000</td>\n",
       "    </tr>\n",
       "    <tr>\n",
       "      <th>8</th>\n",
       "      <td>Good</td>\n",
       "      <td>Adam</td>\n",
       "      <td>combat36to40</td>\n",
       "      <td>None</td>\n",
       "      <td>durability11to15</td>\n",
       "      <td>Male</td>\n",
       "      <td>height1001-10000</td>\n",
       "      <td>iq106to110</td>\n",
       "      <td>intelligence51to55</td>\n",
       "      <td>level1</td>\n",
       "      <td>Unknown</td>\n",
       "      <td>power31to35</td>\n",
       "      <td>Human</td>\n",
       "      <td>speed6to10</td>\n",
       "      <td>sv1-1000</td>\n",
       "      <td>strength21to25</td>\n",
       "      <td>sf5001-10000</td>\n",
       "      <td>acrobatics,agility,durability,jump,stamina,sup...</td>\n",
       "      <td>tier1</td>\n",
       "      <td>The Hollow</td>\n",
       "      <td>weight0</td>\n",
       "    </tr>\n",
       "    <tr>\n",
       "      <th>10</th>\n",
       "      <td>Bad</td>\n",
       "      <td>Alessi</td>\n",
       "      <td>combat11to15</td>\n",
       "      <td>None</td>\n",
       "      <td>durability1to5</td>\n",
       "      <td>Male</td>\n",
       "      <td>height1001-10000</td>\n",
       "      <td>iq96to100</td>\n",
       "      <td>intelligence46to50</td>\n",
       "      <td>level1</td>\n",
       "      <td>Unknown</td>\n",
       "      <td>power31to35</td>\n",
       "      <td>Human</td>\n",
       "      <td>speed1to5</td>\n",
       "      <td>sv1-1000</td>\n",
       "      <td>strength1to5</td>\n",
       "      <td>sf1-1000</td>\n",
       "      <td>agemanipulation,animatedshadow,powernullifier,...</td>\n",
       "      <td>tier1</td>\n",
       "      <td>JJBA</td>\n",
       "      <td>weight0</td>\n",
       "    </tr>\n",
       "    <tr>\n",
       "      <th>13</th>\n",
       "      <td>Bad</td>\n",
       "      <td>Bad Ben</td>\n",
       "      <td>combat56to60</td>\n",
       "      <td>Cartoon Network</td>\n",
       "      <td>durability56to60</td>\n",
       "      <td>Male</td>\n",
       "      <td>height1001-10000</td>\n",
       "      <td>iq126to130</td>\n",
       "      <td>intelligence61to65</td>\n",
       "      <td>level3</td>\n",
       "      <td>Unknown</td>\n",
       "      <td>power66to70</td>\n",
       "      <td>None</td>\n",
       "      <td>speed76to80</td>\n",
       "      <td>sv100000001-1000000000</td>\n",
       "      <td>strength46to50</td>\n",
       "      <td>sf100001-1000000</td>\n",
       "      <td>blackholemanipulation,durability,intangibility...</td>\n",
       "      <td>tier4</td>\n",
       "      <td>Earth-616</td>\n",
       "      <td>weight0</td>\n",
       "    </tr>\n",
       "  </tbody>\n",
       "</table>\n",
       "</div>"
      ],
      "text/plain": [
       "   Alignment  Character        Combat          Creator        Durability  \\\n",
       "0       Good    Alucard  combat76to80           Konami  durability31to35   \n",
       "6    Neutral  Bayonetta  combat86to90             Sega  durability71to75   \n",
       "8       Good       Adam  combat36to40             None  durability11to15   \n",
       "10       Bad     Alessi  combat11to15             None    durability1to5   \n",
       "13       Bad    Bad Ben  combat56to60  Cartoon Network  durability56to60   \n",
       "\n",
       "    Gender            Height          IQ        Intelligence   Level  \\\n",
       "0     Male        heighthuge  iq136to140  intelligence66to70  level3   \n",
       "6   Female        heighthuge  iq151to155  intelligence76to80  level5   \n",
       "8     Male  height1001-10000  iq106to110  intelligence51to55  level1   \n",
       "10    Male  height1001-10000   iq96to100  intelligence46to50  level1   \n",
       "13    Male  height1001-10000  iq126to130  intelligence61to65  level3   \n",
       "\n",
       "   Place_of_birth         Power Species        Speed          Speed_velocity  \\\n",
       "0         Unknown   power56to60   Human  speed26to30             sv1001-5000   \n",
       "6         Unknown  power96to100   Human  speed46to50      sv1000001-10000000   \n",
       "8         Unknown   power31to35   Human   speed6to10                sv1-1000   \n",
       "10        Unknown   power31to35   Human    speed1to5                sv1-1000   \n",
       "13        Unknown   power66to70    None  speed76to80  sv100000001-1000000000   \n",
       "\n",
       "          Strength    Strength_force  \\\n",
       "0   strength26to30    sf10001-100000   \n",
       "6   strength51to55  sf100001-1000000   \n",
       "8   strength21to25      sf5001-10000   \n",
       "10    strength1to5          sf1-1000   \n",
       "13  strength46to50  sf100001-1000000   \n",
       "\n",
       "                                         Super_powers   Tier    Universe  \\\n",
       "0   acceleratedhealing,agility,berserkmode,bloodlu...  tier2        C17S   \n",
       "6   agility,chainmanipulation,durability,energyabs...  tier4   Bayonetta   \n",
       "8   acrobatics,agility,durability,jump,stamina,sup...  tier1  The Hollow   \n",
       "10  agemanipulation,animatedshadow,powernullifier,...  tier1        JJBA   \n",
       "13  blackholemanipulation,durability,intangibility...  tier4   Earth-616   \n",
       "\n",
       "          Weight  \n",
       "0   weight1-1000  \n",
       "6   weight1-1000  \n",
       "8        weight0  \n",
       "10       weight0  \n",
       "13       weight0  "
      ]
     },
     "execution_count": 163,
     "metadata": {},
     "output_type": "execute_result"
    }
   ],
   "source": [
    "sups.head()"
   ]
  },
  {
   "cell_type": "code",
   "execution_count": 164,
   "id": "c47bc786",
   "metadata": {},
   "outputs": [],
   "source": [
    "#sups = sups.reset_index()"
   ]
  },
  {
   "cell_type": "code",
   "execution_count": 165,
   "id": "9619d67e",
   "metadata": {},
   "outputs": [],
   "source": [
    "#sups.drop(columns=['index'],inplace=True)"
   ]
  },
  {
   "cell_type": "code",
   "execution_count": 166,
   "id": "7fcfce63",
   "metadata": {},
   "outputs": [
    {
     "data": {
      "text/html": [
       "<div>\n",
       "<style scoped>\n",
       "    .dataframe tbody tr th:only-of-type {\n",
       "        vertical-align: middle;\n",
       "    }\n",
       "\n",
       "    .dataframe tbody tr th {\n",
       "        vertical-align: top;\n",
       "    }\n",
       "\n",
       "    .dataframe thead th {\n",
       "        text-align: right;\n",
       "    }\n",
       "</style>\n",
       "<table border=\"1\" class=\"dataframe\">\n",
       "  <thead>\n",
       "    <tr style=\"text-align: right;\">\n",
       "      <th></th>\n",
       "      <th>Alignment</th>\n",
       "      <th>Character</th>\n",
       "      <th>Combat</th>\n",
       "      <th>Creator</th>\n",
       "      <th>Durability</th>\n",
       "      <th>Gender</th>\n",
       "      <th>Height</th>\n",
       "      <th>IQ</th>\n",
       "      <th>Intelligence</th>\n",
       "      <th>Level</th>\n",
       "      <th>Place_of_birth</th>\n",
       "      <th>Power</th>\n",
       "      <th>Species</th>\n",
       "      <th>Speed</th>\n",
       "      <th>Speed_velocity</th>\n",
       "      <th>Strength</th>\n",
       "      <th>Strength_force</th>\n",
       "      <th>Super_powers</th>\n",
       "      <th>Tier</th>\n",
       "      <th>Universe</th>\n",
       "      <th>Weight</th>\n",
       "    </tr>\n",
       "  </thead>\n",
       "  <tbody>\n",
       "    <tr>\n",
       "      <th>0</th>\n",
       "      <td>Good</td>\n",
       "      <td>Alucard</td>\n",
       "      <td>combat76to80</td>\n",
       "      <td>Konami</td>\n",
       "      <td>durability31to35</td>\n",
       "      <td>Male</td>\n",
       "      <td>heighthuge</td>\n",
       "      <td>iq136to140</td>\n",
       "      <td>intelligence66to70</td>\n",
       "      <td>level3</td>\n",
       "      <td>Unknown</td>\n",
       "      <td>power56to60</td>\n",
       "      <td>Human</td>\n",
       "      <td>speed26to30</td>\n",
       "      <td>sv1001-5000</td>\n",
       "      <td>strength26to30</td>\n",
       "      <td>sf10001-100000</td>\n",
       "      <td>acceleratedhealing,agility,berserkmode,bloodlu...</td>\n",
       "      <td>tier2</td>\n",
       "      <td>C17S</td>\n",
       "      <td>weight1-1000</td>\n",
       "    </tr>\n",
       "    <tr>\n",
       "      <th>6</th>\n",
       "      <td>Neutral</td>\n",
       "      <td>Bayonetta</td>\n",
       "      <td>combat86to90</td>\n",
       "      <td>Sega</td>\n",
       "      <td>durability71to75</td>\n",
       "      <td>Female</td>\n",
       "      <td>heighthuge</td>\n",
       "      <td>iq151to155</td>\n",
       "      <td>intelligence76to80</td>\n",
       "      <td>level5</td>\n",
       "      <td>Unknown</td>\n",
       "      <td>power96to100</td>\n",
       "      <td>Human</td>\n",
       "      <td>speed46to50</td>\n",
       "      <td>sv1000001-10000000</td>\n",
       "      <td>strength51to55</td>\n",
       "      <td>sf100001-1000000</td>\n",
       "      <td>agility,chainmanipulation,durability,energyabs...</td>\n",
       "      <td>tier4</td>\n",
       "      <td>Bayonetta</td>\n",
       "      <td>weight1-1000</td>\n",
       "    </tr>\n",
       "    <tr>\n",
       "      <th>8</th>\n",
       "      <td>Good</td>\n",
       "      <td>Adam</td>\n",
       "      <td>combat36to40</td>\n",
       "      <td>None</td>\n",
       "      <td>durability11to15</td>\n",
       "      <td>Male</td>\n",
       "      <td>height1001-10000</td>\n",
       "      <td>iq106to110</td>\n",
       "      <td>intelligence51to55</td>\n",
       "      <td>level1</td>\n",
       "      <td>Unknown</td>\n",
       "      <td>power31to35</td>\n",
       "      <td>Human</td>\n",
       "      <td>speed6to10</td>\n",
       "      <td>sv1-1000</td>\n",
       "      <td>strength21to25</td>\n",
       "      <td>sf5001-10000</td>\n",
       "      <td>acrobatics,agility,durability,jump,stamina,sup...</td>\n",
       "      <td>tier1</td>\n",
       "      <td>The Hollow</td>\n",
       "      <td>weight0</td>\n",
       "    </tr>\n",
       "    <tr>\n",
       "      <th>10</th>\n",
       "      <td>Bad</td>\n",
       "      <td>Alessi</td>\n",
       "      <td>combat11to15</td>\n",
       "      <td>None</td>\n",
       "      <td>durability1to5</td>\n",
       "      <td>Male</td>\n",
       "      <td>height1001-10000</td>\n",
       "      <td>iq96to100</td>\n",
       "      <td>intelligence46to50</td>\n",
       "      <td>level1</td>\n",
       "      <td>Unknown</td>\n",
       "      <td>power31to35</td>\n",
       "      <td>Human</td>\n",
       "      <td>speed1to5</td>\n",
       "      <td>sv1-1000</td>\n",
       "      <td>strength1to5</td>\n",
       "      <td>sf1-1000</td>\n",
       "      <td>agemanipulation,animatedshadow,powernullifier,...</td>\n",
       "      <td>tier1</td>\n",
       "      <td>JJBA</td>\n",
       "      <td>weight0</td>\n",
       "    </tr>\n",
       "    <tr>\n",
       "      <th>13</th>\n",
       "      <td>Bad</td>\n",
       "      <td>Bad Ben</td>\n",
       "      <td>combat56to60</td>\n",
       "      <td>Cartoon Network</td>\n",
       "      <td>durability56to60</td>\n",
       "      <td>Male</td>\n",
       "      <td>height1001-10000</td>\n",
       "      <td>iq126to130</td>\n",
       "      <td>intelligence61to65</td>\n",
       "      <td>level3</td>\n",
       "      <td>Unknown</td>\n",
       "      <td>power66to70</td>\n",
       "      <td>None</td>\n",
       "      <td>speed76to80</td>\n",
       "      <td>sv100000001-1000000000</td>\n",
       "      <td>strength46to50</td>\n",
       "      <td>sf100001-1000000</td>\n",
       "      <td>blackholemanipulation,durability,intangibility...</td>\n",
       "      <td>tier4</td>\n",
       "      <td>Earth-616</td>\n",
       "      <td>weight0</td>\n",
       "    </tr>\n",
       "  </tbody>\n",
       "</table>\n",
       "</div>"
      ],
      "text/plain": [
       "   Alignment  Character        Combat          Creator        Durability  \\\n",
       "0       Good    Alucard  combat76to80           Konami  durability31to35   \n",
       "6    Neutral  Bayonetta  combat86to90             Sega  durability71to75   \n",
       "8       Good       Adam  combat36to40             None  durability11to15   \n",
       "10       Bad     Alessi  combat11to15             None    durability1to5   \n",
       "13       Bad    Bad Ben  combat56to60  Cartoon Network  durability56to60   \n",
       "\n",
       "    Gender            Height          IQ        Intelligence   Level  \\\n",
       "0     Male        heighthuge  iq136to140  intelligence66to70  level3   \n",
       "6   Female        heighthuge  iq151to155  intelligence76to80  level5   \n",
       "8     Male  height1001-10000  iq106to110  intelligence51to55  level1   \n",
       "10    Male  height1001-10000   iq96to100  intelligence46to50  level1   \n",
       "13    Male  height1001-10000  iq126to130  intelligence61to65  level3   \n",
       "\n",
       "   Place_of_birth         Power Species        Speed          Speed_velocity  \\\n",
       "0         Unknown   power56to60   Human  speed26to30             sv1001-5000   \n",
       "6         Unknown  power96to100   Human  speed46to50      sv1000001-10000000   \n",
       "8         Unknown   power31to35   Human   speed6to10                sv1-1000   \n",
       "10        Unknown   power31to35   Human    speed1to5                sv1-1000   \n",
       "13        Unknown   power66to70    None  speed76to80  sv100000001-1000000000   \n",
       "\n",
       "          Strength    Strength_force  \\\n",
       "0   strength26to30    sf10001-100000   \n",
       "6   strength51to55  sf100001-1000000   \n",
       "8   strength21to25      sf5001-10000   \n",
       "10    strength1to5          sf1-1000   \n",
       "13  strength46to50  sf100001-1000000   \n",
       "\n",
       "                                         Super_powers   Tier    Universe  \\\n",
       "0   acceleratedhealing,agility,berserkmode,bloodlu...  tier2        C17S   \n",
       "6   agility,chainmanipulation,durability,energyabs...  tier4   Bayonetta   \n",
       "8   acrobatics,agility,durability,jump,stamina,sup...  tier1  The Hollow   \n",
       "10  agemanipulation,animatedshadow,powernullifier,...  tier1        JJBA   \n",
       "13  blackholemanipulation,durability,intangibility...  tier4   Earth-616   \n",
       "\n",
       "          Weight  \n",
       "0   weight1-1000  \n",
       "6   weight1-1000  \n",
       "8        weight0  \n",
       "10       weight0  \n",
       "13       weight0  "
      ]
     },
     "execution_count": 166,
     "metadata": {},
     "output_type": "execute_result"
    }
   ],
   "source": [
    "sups.head()"
   ]
  },
  {
   "cell_type": "code",
   "execution_count": 167,
   "id": "ac5d3105",
   "metadata": {},
   "outputs": [
    {
     "data": {
      "text/plain": [
       "(7667, 21)"
      ]
     },
     "execution_count": 167,
     "metadata": {},
     "output_type": "execute_result"
    }
   ],
   "source": [
    "sups.shape"
   ]
  },
  {
   "cell_type": "code",
   "execution_count": 168,
   "id": "0c833420",
   "metadata": {},
   "outputs": [
    {
     "data": {
      "text/plain": [
       "(24670, 21)"
      ]
     },
     "execution_count": 168,
     "metadata": {},
     "output_type": "execute_result"
    }
   ],
   "source": [
    "sups_ui.shape"
   ]
  },
  {
   "cell_type": "code",
   "execution_count": 169,
   "id": "ddc2a61c",
   "metadata": {},
   "outputs": [],
   "source": [
    "sups_ui = sups_ui[sups_ui.index.isin(sups.index)]"
   ]
  },
  {
   "cell_type": "code",
   "execution_count": 170,
   "id": "4003e120",
   "metadata": {},
   "outputs": [
    {
     "data": {
      "text/plain": [
       "(7667, 21)"
      ]
     },
     "execution_count": 170,
     "metadata": {},
     "output_type": "execute_result"
    }
   ],
   "source": [
    "sups_ui.shape"
   ]
  },
  {
   "cell_type": "markdown",
   "id": "0d032d68",
   "metadata": {},
   "source": [
    "### Cleaning completed"
   ]
  },
  {
   "cell_type": "code",
   "execution_count": 176,
   "id": "2b6edb9a",
   "metadata": {},
   "outputs": [
    {
     "data": {
      "text/plain": [
       "0              Alucard\n",
       "6            Bayonetta\n",
       "8                 Adam\n",
       "10              Alessi\n",
       "13             Bad Ben\n",
       "             ...      \n",
       "26979       Trespasser\n",
       "26981           Trench\n",
       "27596            Radha\n",
       "27637             Riku\n",
       "27656    Riku Kumatori\n",
       "Name: Character, Length: 7667, dtype: object"
      ]
     },
     "execution_count": 176,
     "metadata": {},
     "output_type": "execute_result"
    }
   ],
   "source": []
  },
  {
   "cell_type": "code",
   "execution_count": null,
   "id": "95d5dab0",
   "metadata": {},
   "outputs": [],
   "source": []
  }
 ],
 "metadata": {
  "kernelspec": {
   "display_name": "Python 3 (ipykernel)",
   "language": "python",
   "name": "python3"
  },
  "language_info": {
   "codemirror_mode": {
    "name": "ipython",
    "version": 3
   },
   "file_extension": ".py",
   "mimetype": "text/x-python",
   "name": "python",
   "nbconvert_exporter": "python",
   "pygments_lexer": "ipython3",
   "version": "3.9.13"
  }
 },
 "nbformat": 4,
 "nbformat_minor": 5
}
