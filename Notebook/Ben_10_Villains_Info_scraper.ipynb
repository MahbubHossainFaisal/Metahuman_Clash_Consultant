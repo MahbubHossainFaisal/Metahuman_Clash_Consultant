{
 "cells": [
  {
   "cell_type": "code",
   "execution_count": 1,
   "id": "fc99029e",
   "metadata": {},
   "outputs": [],
   "source": [
    "from bs4 import BeautifulSoup\n",
    "import os\n",
    "import requests\n",
    "import numpy as np\n",
    "import pandas as pd"
   ]
  },
  {
   "cell_type": "code",
   "execution_count": 2,
   "id": "20f42af3",
   "metadata": {},
   "outputs": [],
   "source": [
    "url = 'https://ben10.fandom.com/wiki/Category:Villains'\n",
    "response = requests.get(url)\n",
    "page_contents = response.text\n",
    "doc = BeautifulSoup(page_contents, 'html.parser')"
   ]
  },
  {
   "cell_type": "code",
   "execution_count": 3,
   "id": "a6858ad0",
   "metadata": {},
   "outputs": [],
   "source": [
    "li_tags = doc.find_all('li', {'class': 'category-page__member'})"
   ]
  },
  {
   "cell_type": "code",
   "execution_count": 4,
   "id": "7f6d6e00",
   "metadata": {},
   "outputs": [],
   "source": [
    "# Getting title names\n",
    "titles = []\n",
    "for i in range(1,len(li_tags)):\n",
    "    div_tag = li_tags[i].find('div')\n",
    "    if div_tag and div_tag.a and div_tag.a.get('title'):\n",
    "        titles.append(div_tag.a.get('title'))\n",
    "    elif li_tags[i].a and li_tags[i].a.get('title'):\n",
    "        titles.append(li_tags[i].a.get('title'))\n"
   ]
  },
  {
   "cell_type": "code",
   "execution_count": 6,
   "id": "50addc72",
   "metadata": {},
   "outputs": [
    {
     "data": {
      "text/plain": [
       "199"
      ]
     },
     "execution_count": 6,
     "metadata": {},
     "output_type": "execute_result"
    }
   ],
   "source": [
    "len(titles)"
   ]
  },
  {
   "cell_type": "code",
   "execution_count": 7,
   "id": "c0f551af",
   "metadata": {},
   "outputs": [],
   "source": [
    "vallain_urls = []\n",
    "for i in range(1,len(li_tags)):\n",
    "    try:\n",
    "        vallain_urls.append(\"https://ben10.fandom.com/\" + li_tags[i].a.get('href'))\n",
    "    except requests.exceptions.RequestException as e:\n",
    "        print(f\"Failed to get alien data: {e}\")\n",
    "        vallain_urls = []"
   ]
  },
  {
   "cell_type": "code",
   "execution_count": 9,
   "id": "de36f845",
   "metadata": {},
   "outputs": [
    {
     "data": {
      "text/plain": [
       "199"
      ]
     },
     "execution_count": 9,
     "metadata": {},
     "output_type": "execute_result"
    }
   ],
   "source": [
    "len(vallain_urls)"
   ]
  },
  {
   "cell_type": "code",
   "execution_count": 10,
   "id": "8f191af3",
   "metadata": {},
   "outputs": [
    {
     "data": {
      "text/plain": [
       "'https://ben10.fandom.com//wiki/Albedo'"
      ]
     },
     "execution_count": 10,
     "metadata": {},
     "output_type": "execute_result"
    }
   ],
   "source": [
    "vallain_urls[5]"
   ]
  },
  {
   "cell_type": "code",
   "execution_count": 12,
   "id": "4d4816e5",
   "metadata": {},
   "outputs": [
    {
     "name": "stdout",
     "output_type": "stream",
     "text": [
      "Request successful!\n"
     ]
    }
   ],
   "source": [
    "alien_page_url = vallain_urls[0]\n",
    "response = requests.get(alien_page_url)\n",
    "\n",
    "# Check if the request was successful (status code 200)\n",
    "if response.status_code == 200:\n",
    "    print(\"Request successful!\")\n",
    "else:\n",
    "    print(f\"Request failed with status code {response.status_code}\")\n"
   ]
  },
  {
   "cell_type": "markdown",
   "id": "5e14bf90",
   "metadata": {},
   "source": [
    "### Image url scrapping"
   ]
  },
  {
   "cell_type": "code",
   "execution_count": 14,
   "id": "195db345",
   "metadata": {},
   "outputs": [
    {
     "name": "stdout",
     "output_type": "stream",
     "text": [
      "0\n",
      "1\n",
      "2\n",
      "3\n",
      "4\n",
      "5\n",
      "6\n",
      "7\n",
      "8\n",
      "9\n",
      "10\n",
      "11\n",
      "12\n",
      "13\n",
      "14\n",
      "15\n",
      "16\n",
      "17\n",
      "18\n",
      "19\n",
      "20\n",
      "21\n",
      "22\n",
      "23\n",
      "24\n",
      "25\n",
      "26\n",
      "27\n",
      "28\n",
      "29\n",
      "30\n",
      "31\n",
      "32\n",
      "33\n",
      "34\n",
      "35\n",
      "36\n",
      "37\n",
      "38\n",
      "39\n",
      "40\n",
      "41\n",
      "42\n",
      "43\n",
      "44\n",
      "45\n",
      "46\n",
      "47\n",
      "48\n",
      "49\n",
      "50\n",
      "51\n",
      "52\n",
      "53\n",
      "54\n",
      "55\n",
      "56\n",
      "57\n",
      "58\n",
      "59\n",
      "60\n",
      "61\n",
      "62\n",
      "63\n",
      "64\n",
      "65\n",
      "66\n",
      "67\n",
      "68\n",
      "69\n",
      "70\n",
      "71\n",
      "72\n",
      "73\n",
      "74\n",
      "75\n",
      "76\n",
      "77\n",
      "78\n",
      "79\n",
      "80\n",
      "81\n",
      "82\n",
      "83\n",
      "84\n",
      "85\n",
      "86\n",
      "87\n",
      "88\n",
      "89\n",
      "90\n",
      "91\n",
      "92\n",
      "93\n",
      "94\n",
      "95\n",
      "96\n",
      "97\n",
      "98\n",
      "99\n",
      "100\n",
      "101\n",
      "102\n",
      "103\n",
      "104\n",
      "105\n",
      "106\n",
      "107\n",
      "108\n",
      "109\n",
      "110\n",
      "111\n",
      "112\n",
      "113\n",
      "114\n",
      "115\n",
      "116\n",
      "117\n",
      "118\n",
      "119\n",
      "120\n",
      "121\n",
      "122\n",
      "123\n",
      "124\n",
      "125\n",
      "126\n",
      "127\n",
      "128\n",
      "129\n",
      "130\n",
      "131\n",
      "132\n",
      "133\n",
      "134\n",
      "135\n",
      "136\n",
      "137\n",
      "138\n",
      "139\n",
      "140\n",
      "141\n",
      "142\n",
      "143\n",
      "144\n",
      "145\n",
      "146\n",
      "147\n",
      "148\n",
      "149\n",
      "150\n",
      "151\n",
      "152\n",
      "153\n",
      "154\n",
      "155\n",
      "156\n",
      "157\n",
      "158\n",
      "159\n",
      "160\n",
      "161\n",
      "162\n",
      "163\n",
      "164\n",
      "165\n",
      "166\n",
      "167\n",
      "168\n",
      "169\n",
      "170\n",
      "171\n",
      "172\n",
      "173\n",
      "174\n",
      "175\n",
      "176\n",
      "177\n",
      "178\n",
      "179\n",
      "180\n",
      "181\n",
      "182\n",
      "183\n",
      "184\n",
      "185\n",
      "186\n",
      "187\n",
      "188\n",
      "189\n",
      "190\n",
      "191\n",
      "192\n",
      "193\n",
      "194\n",
      "195\n",
      "196\n",
      "197\n",
      "198\n"
     ]
    }
   ],
   "source": [
    "images = []\n",
    "for i in range(len(vallain_urls)):\n",
    "    print(i)\n",
    "    alien_page_url = vallain_urls[i]\n",
    "    response = requests.get(alien_page_url)\n",
    "    alien_doc = BeautifulSoup(response.text, 'html.parser')\n",
    "    try:\n",
    "        section = alien_doc.find('figure', class_='pi-item pi-image')\n",
    "        if section:\n",
    "            img_url = section.a.get('href')\n",
    "            images.append(img_url)\n",
    "        else:\n",
    "            images.append('No Image')\n",
    "        \n",
    "        \n",
    "    except Exception as e:\n",
    "        print(titles[i],e)\n"
   ]
  },
  {
   "cell_type": "code",
   "execution_count": 20,
   "id": "958735ed",
   "metadata": {},
   "outputs": [
    {
     "data": {
      "text/plain": [
       "199"
      ]
     },
     "execution_count": 20,
     "metadata": {},
     "output_type": "execute_result"
    }
   ],
   "source": [
    "len(images)"
   ]
  },
  {
   "cell_type": "code",
   "execution_count": 34,
   "id": "17343541",
   "metadata": {},
   "outputs": [
    {
     "data": {
      "text/plain": [
       "20"
      ]
     },
     "execution_count": 34,
     "metadata": {},
     "output_type": "execute_result"
    }
   ],
   "source": [
    "images.count('No Image')"
   ]
  },
  {
   "cell_type": "markdown",
   "id": "c8cfc887",
   "metadata": {},
   "source": [
    "### Information scrapping!"
   ]
  },
  {
   "cell_type": "code",
   "execution_count": 22,
   "id": "cc359721",
   "metadata": {},
   "outputs": [
    {
     "name": "stdout",
     "output_type": "stream",
     "text": [
      "0\n",
      "1\n",
      "2\n",
      "3\n",
      "4\n",
      "5\n",
      "6\n",
      "7\n",
      "8\n",
      "9\n",
      "10\n",
      "11\n",
      "12\n",
      "13\n",
      "14\n",
      "15\n",
      "16\n",
      "17\n",
      "18\n",
      "19\n",
      "20\n",
      "21\n",
      "22\n",
      "23\n",
      "24\n",
      "25\n",
      "26\n",
      "27\n",
      "28\n",
      "29\n",
      "30\n",
      "31\n",
      "32\n",
      "33\n",
      "34\n",
      "35\n",
      "36\n",
      "37\n",
      "38\n",
      "39\n",
      "40\n",
      "41\n",
      "42\n",
      "43\n",
      "44\n",
      "45\n",
      "46\n",
      "47\n",
      "48\n",
      "49\n",
      "50\n",
      "51\n",
      "52\n",
      "53\n",
      "54\n",
      "55\n",
      "56\n",
      "57\n",
      "58\n",
      "59\n",
      "60\n",
      "61\n",
      "62\n",
      "63\n",
      "64\n",
      "65\n",
      "66\n",
      "67\n",
      "68\n",
      "69\n",
      "70\n",
      "71\n",
      "72\n",
      "73\n",
      "74\n",
      "75\n",
      "76\n",
      "77\n",
      "78\n",
      "79\n",
      "80\n",
      "81\n",
      "82\n",
      "83\n",
      "84\n",
      "85\n",
      "86\n",
      "87\n",
      "88\n",
      "89\n",
      "90\n",
      "91\n",
      "92\n",
      "93\n",
      "94\n",
      "95\n",
      "96\n",
      "97\n",
      "98\n",
      "99\n",
      "100\n",
      "101\n",
      "102\n",
      "103\n",
      "104\n",
      "105\n",
      "106\n",
      "107\n",
      "108\n",
      "109\n",
      "110\n",
      "111\n",
      "112\n",
      "113\n",
      "114\n",
      "115\n",
      "116\n",
      "117\n",
      "118\n",
      "119\n",
      "120\n",
      "121\n",
      "122\n",
      "123\n",
      "124\n",
      "125\n",
      "126\n",
      "127\n",
      "128\n",
      "129\n",
      "130\n",
      "131\n",
      "132\n",
      "133\n",
      "134\n",
      "135\n",
      "136\n",
      "137\n",
      "138\n",
      "139\n",
      "140\n",
      "141\n",
      "142\n",
      "143\n",
      "144\n",
      "145\n",
      "146\n",
      "147\n",
      "148\n",
      "149\n",
      "150\n",
      "151\n",
      "152\n",
      "153\n",
      "154\n",
      "155\n",
      "156\n",
      "157\n",
      "158\n",
      "159\n",
      "160\n",
      "161\n",
      "162\n",
      "163\n",
      "164\n",
      "165\n",
      "166\n",
      "167\n",
      "168\n",
      "169\n",
      "170\n",
      "171\n",
      "172\n",
      "173\n",
      "174\n",
      "175\n",
      "176\n",
      "177\n",
      "178\n",
      "179\n",
      "180\n",
      "181\n",
      "182\n",
      "183\n",
      "184\n",
      "185\n",
      "186\n",
      "187\n",
      "188\n",
      "189\n",
      "190\n",
      "191\n",
      "192\n",
      "193\n",
      "194\n",
      "195\n",
      "196\n",
      "197\n",
      "198\n"
     ]
    }
   ],
   "source": [
    "basic = ['Species','Home World','Body','Abilities','First Appearance']\n",
    "species = []\n",
    "home_world = []\n",
    "body = []\n",
    "abilities=[]\n",
    "first_appearance = []\n",
    "for i in range(len(vallain_urls)):\n",
    "    alien_page_url = vallain_urls[i]\n",
    "    response = requests.get(alien_page_url)\n",
    "    alien_doc = BeautifulSoup(response.text, 'html.parser')\n",
    "    basic_info = ['Species','Home World','Body','Abilities','First Appearance']\n",
    "    h3_tags = alien_doc.find_all('h3',{'class':'pi-data-label pi-secondary-font'})\n",
    "    keys = [tag.text for tag in h3_tags]\n",
    "    div_tags = alien_doc.find_all('div',{'class':'pi-data-value pi-font'})\n",
    "    \n",
    "    values = []\n",
    "    for tag in div_tags:\n",
    "    # Replace <br/> tags with a comma\n",
    "        for br_tag in tag.find_all('<br/>'):\n",
    "            br_tag.replace_with(',')\n",
    "    \n",
    "        text_content = tag.get_text(separator=',', strip=True)\n",
    "        values.append(text_content)\n",
    "    values = [element.split('[')[0] if '[' in element else element for element in values]\n",
    "    \n",
    "    species.append(values[keys.index('Species')] if 'Species' in keys else 'No info')\n",
    "    home_world.append(values[keys.index('Home World')] if 'Home World' in keys else 'No info')\n",
    "    body.append(values[keys.index('Body')] if 'Body' in keys else 'No info')\n",
    "    abilities.append(values[keys.index('Abilities')] if 'Abilities' in keys else 'No info')\n",
    "    first_appearance.append(values[keys.index('First Appearance')] if 'First Appearance' in keys else 'No info')\n",
    "    print(i)"
   ]
  },
  {
   "cell_type": "code",
   "execution_count": 23,
   "id": "77ea566e",
   "metadata": {},
   "outputs": [
    {
     "data": {
      "text/plain": [
       "199"
      ]
     },
     "execution_count": 23,
     "metadata": {},
     "output_type": "execute_result"
    }
   ],
   "source": [
    "len(species)"
   ]
  },
  {
   "cell_type": "code",
   "execution_count": 24,
   "id": "67344ecc",
   "metadata": {},
   "outputs": [
    {
     "data": {
      "text/plain": [
       "61"
      ]
     },
     "execution_count": 24,
     "metadata": {},
     "output_type": "execute_result"
    }
   ],
   "source": [
    "species.count('No info')"
   ]
  },
  {
   "cell_type": "code",
   "execution_count": 25,
   "id": "eb734dfb",
   "metadata": {},
   "outputs": [
    {
     "data": {
      "text/plain": [
       "199"
      ]
     },
     "execution_count": 25,
     "metadata": {},
     "output_type": "execute_result"
    }
   ],
   "source": [
    "len(home_world)"
   ]
  },
  {
   "cell_type": "code",
   "execution_count": 26,
   "id": "7d916cbd",
   "metadata": {},
   "outputs": [
    {
     "data": {
      "text/plain": [
       "87"
      ]
     },
     "execution_count": 26,
     "metadata": {},
     "output_type": "execute_result"
    }
   ],
   "source": [
    "home_world.count('No info')"
   ]
  },
  {
   "cell_type": "code",
   "execution_count": 27,
   "id": "ba49daac",
   "metadata": {},
   "outputs": [
    {
     "data": {
      "text/plain": [
       "199"
      ]
     },
     "execution_count": 27,
     "metadata": {},
     "output_type": "execute_result"
    }
   ],
   "source": [
    "len(body)"
   ]
  },
  {
   "cell_type": "code",
   "execution_count": 28,
   "id": "fe2f173e",
   "metadata": {},
   "outputs": [
    {
     "data": {
      "text/plain": [
       "176"
      ]
     },
     "execution_count": 28,
     "metadata": {},
     "output_type": "execute_result"
    }
   ],
   "source": [
    "body.count('No info')"
   ]
  },
  {
   "cell_type": "code",
   "execution_count": 29,
   "id": "4a0404fb",
   "metadata": {},
   "outputs": [
    {
     "data": {
      "text/plain": [
       "199"
      ]
     },
     "execution_count": 29,
     "metadata": {},
     "output_type": "execute_result"
    }
   ],
   "source": [
    "len(abilities)"
   ]
  },
  {
   "cell_type": "code",
   "execution_count": 30,
   "id": "706ee45a",
   "metadata": {},
   "outputs": [
    {
     "data": {
      "text/plain": [
       "84"
      ]
     },
     "execution_count": 30,
     "metadata": {},
     "output_type": "execute_result"
    }
   ],
   "source": [
    "abilities.count('No info')"
   ]
  },
  {
   "cell_type": "code",
   "execution_count": 31,
   "id": "e1cbd141",
   "metadata": {},
   "outputs": [
    {
     "data": {
      "text/plain": [
       "199"
      ]
     },
     "execution_count": 31,
     "metadata": {},
     "output_type": "execute_result"
    }
   ],
   "source": [
    "len(first_appearance)"
   ]
  },
  {
   "cell_type": "code",
   "execution_count": 32,
   "id": "ca4dbd04",
   "metadata": {},
   "outputs": [
    {
     "data": {
      "text/plain": [
       "21"
      ]
     },
     "execution_count": 32,
     "metadata": {},
     "output_type": "execute_result"
    }
   ],
   "source": [
    "first_appearance.count('No info')"
   ]
  },
  {
   "cell_type": "code",
   "execution_count": 35,
   "id": "41cfc385",
   "metadata": {},
   "outputs": [],
   "source": [
    "villains_data = pd.DataFrame({\n",
    "    'title': titles,\n",
    "    'species':species,\n",
    "    'home_world':home_world,\n",
    "    'body':body,\n",
    "    'abilities':abilities,\n",
    "    'first_appearance':first_appearance,\n",
    "    'img_links':images\n",
    "})"
   ]
  },
  {
   "cell_type": "code",
   "execution_count": 36,
   "id": "abea583a",
   "metadata": {},
   "outputs": [],
   "source": [
    "villains_data['character_type'] = 'Villain'"
   ]
  },
  {
   "cell_type": "code",
   "execution_count": 37,
   "id": "a3a7ff8f",
   "metadata": {},
   "outputs": [
    {
     "data": {
      "text/html": [
       "<div>\n",
       "<style scoped>\n",
       "    .dataframe tbody tr th:only-of-type {\n",
       "        vertical-align: middle;\n",
       "    }\n",
       "\n",
       "    .dataframe tbody tr th {\n",
       "        vertical-align: top;\n",
       "    }\n",
       "\n",
       "    .dataframe thead th {\n",
       "        text-align: right;\n",
       "    }\n",
       "</style>\n",
       "<table border=\"1\" class=\"dataframe\">\n",
       "  <thead>\n",
       "    <tr style=\"text-align: right;\">\n",
       "      <th></th>\n",
       "      <th>title</th>\n",
       "      <th>species</th>\n",
       "      <th>home_world</th>\n",
       "      <th>body</th>\n",
       "      <th>abilities</th>\n",
       "      <th>first_appearance</th>\n",
       "      <th>img_links</th>\n",
       "      <th>character_type</th>\n",
       "    </tr>\n",
       "  </thead>\n",
       "  <tbody>\n",
       "    <tr>\n",
       "      <th>0</th>\n",
       "      <td>Acid Breath (Classic)</td>\n",
       "      <td>Mutant,Human</td>\n",
       "      <td>Earth</td>\n",
       "      <td>No info</td>\n",
       "      <td>Acid Breath,Acid Spit,Acid Ignition,Acid Immun...</td>\n",
       "      <td>Last Laugh</td>\n",
       "      <td>https://static.wikia.nocookie.net/ben10/images...</td>\n",
       "      <td>Villain</td>\n",
       "    </tr>\n",
       "    <tr>\n",
       "      <th>1</th>\n",
       "      <td>Acid Breath (Reboot)</td>\n",
       "      <td>Mutant,Human</td>\n",
       "      <td>Earth</td>\n",
       "      <td>No info</td>\n",
       "      <td>Acid Spit,Enhanced Agility</td>\n",
       "      <td>Zombozo-Land</td>\n",
       "      <td>https://static.wikia.nocookie.net/ben10/images...</td>\n",
       "      <td>Villain</td>\n",
       "    </tr>\n",
       "    <tr>\n",
       "      <th>2</th>\n",
       "      <td>Addwaitya</td>\n",
       "      <td>Altered,Geochelone Aerio,</td>\n",
       "      <td>Aldabra</td>\n",
       "      <td>No info</td>\n",
       "      <td>Magic,Mana,Manipulation,Life-Force Generation,...</td>\n",
       "      <td>Where the Magic Happens</td>\n",
       "      <td>https://static.wikia.nocookie.net/ben10/images...</td>\n",
       "      <td>Villain</td>\n",
       "    </tr>\n",
       "    <tr>\n",
       "      <th>3</th>\n",
       "      <td>Aggrebots</td>\n",
       "      <td>No info</td>\n",
       "      <td>No info</td>\n",
       "      <td>No info</td>\n",
       "      <td>No info</td>\n",
       "      <td>Escape from Aggregor</td>\n",
       "      <td>https://static.wikia.nocookie.net/ben10/images...</td>\n",
       "      <td>Villain</td>\n",
       "    </tr>\n",
       "    <tr>\n",
       "      <th>4</th>\n",
       "      <td>Aggregor</td>\n",
       "      <td>Artificial Mutant,Human,(,Osmosian,),</td>\n",
       "      <td>No info</td>\n",
       "      <td>No info</td>\n",
       "      <td>Enhanced Spearmanship,Expert Strategist,Keen T...</td>\n",
       "      <td>Fame</td>\n",
       "      <td>https://static.wikia.nocookie.net/ben10/images...</td>\n",
       "      <td>Villain</td>\n",
       "    </tr>\n",
       "  </tbody>\n",
       "</table>\n",
       "</div>"
      ],
      "text/plain": [
       "                   title                                species home_world  \\\n",
       "0  Acid Breath (Classic)                           Mutant,Human      Earth   \n",
       "1   Acid Breath (Reboot)                           Mutant,Human      Earth   \n",
       "2              Addwaitya              Altered,Geochelone Aerio,    Aldabra   \n",
       "3              Aggrebots                                No info    No info   \n",
       "4               Aggregor  Artificial Mutant,Human,(,Osmosian,),    No info   \n",
       "\n",
       "      body                                          abilities  \\\n",
       "0  No info  Acid Breath,Acid Spit,Acid Ignition,Acid Immun...   \n",
       "1  No info                         Acid Spit,Enhanced Agility   \n",
       "2  No info  Magic,Mana,Manipulation,Life-Force Generation,...   \n",
       "3  No info                                            No info   \n",
       "4  No info  Enhanced Spearmanship,Expert Strategist,Keen T...   \n",
       "\n",
       "          first_appearance                                          img_links  \\\n",
       "0               Last Laugh  https://static.wikia.nocookie.net/ben10/images...   \n",
       "1             Zombozo-Land  https://static.wikia.nocookie.net/ben10/images...   \n",
       "2  Where the Magic Happens  https://static.wikia.nocookie.net/ben10/images...   \n",
       "3     Escape from Aggregor  https://static.wikia.nocookie.net/ben10/images...   \n",
       "4                     Fame  https://static.wikia.nocookie.net/ben10/images...   \n",
       "\n",
       "  character_type  \n",
       "0        Villain  \n",
       "1        Villain  \n",
       "2        Villain  \n",
       "3        Villain  \n",
       "4        Villain  "
      ]
     },
     "execution_count": 37,
     "metadata": {},
     "output_type": "execute_result"
    }
   ],
   "source": [
    "villains_data.head()"
   ]
  },
  {
   "cell_type": "code",
   "execution_count": 38,
   "id": "8d1c9519",
   "metadata": {},
   "outputs": [
    {
     "data": {
      "text/plain": [
       "(199, 8)"
      ]
     },
     "execution_count": 38,
     "metadata": {},
     "output_type": "execute_result"
    }
   ],
   "source": [
    "villains_data.shape"
   ]
  },
  {
   "cell_type": "code",
   "execution_count": 39,
   "id": "c8450698",
   "metadata": {},
   "outputs": [],
   "source": [
    "villains_data.to_csv('D:\\\\Study\\\\ML-Projects\\\\Project-3(Recommending_system)\\\\data\\\\villains.csv',index=False)"
   ]
  },
  {
   "cell_type": "code",
   "execution_count": null,
   "id": "b4c273e0",
   "metadata": {},
   "outputs": [],
   "source": []
  }
 ],
 "metadata": {
  "kernelspec": {
   "display_name": "Python 3 (ipykernel)",
   "language": "python",
   "name": "python3"
  },
  "language_info": {
   "codemirror_mode": {
    "name": "ipython",
    "version": 3
   },
   "file_extension": ".py",
   "mimetype": "text/x-python",
   "name": "python",
   "nbconvert_exporter": "python",
   "pygments_lexer": "ipython3",
   "version": "3.9.13"
  }
 },
 "nbformat": 4,
 "nbformat_minor": 5
}
