{
 "cells": [
  {
   "cell_type": "code",
   "execution_count": 1,
   "id": "49a426da",
   "metadata": {},
   "outputs": [],
   "source": [
    "import numpy as np\n",
    "import pandas as pd\n",
    "import matplotlib.pyplot as plt\n",
    "import seaborn as sns"
   ]
  },
  {
   "cell_type": "markdown",
   "id": "d5c1657b",
   "metadata": {},
   "source": [
    "#### Importing kaggle dataset"
   ]
  },
  {
   "cell_type": "code",
   "execution_count": 2,
   "id": "9e266888",
   "metadata": {},
   "outputs": [
    {
     "name": "stderr",
     "output_type": "stream",
     "text": [
      "C:\\Users\\Mahbub\\AppData\\Local\\Temp\\ipykernel_29360\\3393436495.py:2: DtypeWarning: Columns (4,6,8,16,17,19,23,24,25,27,30,31,32,33,35) have mixed types. Specify dtype option on import or set low_memory=False.\n",
      "  temp = pd.read_csv('D:\\\\Study\\\\Datasets\\\\Superheroes\\\\Sups\\\\Superheroes.csv')\n"
     ]
    }
   ],
   "source": [
    "pd.set_option('display.max_columns', None)\n",
    "temp = pd.read_csv('D:\\\\Study\\\\Datasets\\\\Superheroes\\\\Sups\\\\Superheroes.csv')\n",
    "\n",
    "sups = temp.copy()"
   ]
  },
  {
   "cell_type": "markdown",
   "id": "b4363be4",
   "metadata": {},
   "source": [
    "#### First 5 rows of the dataset"
   ]
  },
  {
   "cell_type": "code",
   "execution_count": 3,
   "id": "09fdaafd",
   "metadata": {},
   "outputs": [
    {
     "data": {
      "text/html": [
       "<div>\n",
       "<style scoped>\n",
       "    .dataframe tbody tr th:only-of-type {\n",
       "        vertical-align: middle;\n",
       "    }\n",
       "\n",
       "    .dataframe tbody tr th {\n",
       "        vertical-align: top;\n",
       "    }\n",
       "\n",
       "    .dataframe thead th {\n",
       "        text-align: right;\n",
       "    }\n",
       "</style>\n",
       "<table border=\"1\" class=\"dataframe\">\n",
       "  <thead>\n",
       "    <tr style=\"text-align: right;\">\n",
       "      <th></th>\n",
       "      <th>Alignment</th>\n",
       "      <th>Alter_Egos</th>\n",
       "      <th>Base</th>\n",
       "      <th>Character</th>\n",
       "      <th>Class_value</th>\n",
       "      <th>Collections</th>\n",
       "      <th>Combat</th>\n",
       "      <th>Creator</th>\n",
       "      <th>Durability</th>\n",
       "      <th>Equipment</th>\n",
       "      <th>Eye_color</th>\n",
       "      <th>Formerly</th>\n",
       "      <th>Full_name</th>\n",
       "      <th>Gender</th>\n",
       "      <th>Hair_color</th>\n",
       "      <th>Height</th>\n",
       "      <th>IQ</th>\n",
       "      <th>Intelligence</th>\n",
       "      <th>Leader</th>\n",
       "      <th>Level</th>\n",
       "      <th>Member</th>\n",
       "      <th>Name</th>\n",
       "      <th>Occupation</th>\n",
       "      <th>Omnipotent</th>\n",
       "      <th>Omnipresent</th>\n",
       "      <th>Omniscient</th>\n",
       "      <th>Place_of_birth</th>\n",
       "      <th>Power</th>\n",
       "      <th>Relatives</th>\n",
       "      <th>Species</th>\n",
       "      <th>Speed</th>\n",
       "      <th>Speed_velocity</th>\n",
       "      <th>Strength</th>\n",
       "      <th>Strength_force</th>\n",
       "      <th>Super_powers</th>\n",
       "      <th>Tier</th>\n",
       "      <th>Universe</th>\n",
       "      <th>Weight</th>\n",
       "      <th>History</th>\n",
       "    </tr>\n",
       "  </thead>\n",
       "  <tbody>\n",
       "    <tr>\n",
       "      <th>0</th>\n",
       "      <td>Good</td>\n",
       "      <td>None</td>\n",
       "      <td>None</td>\n",
       "      <td>Alucard</td>\n",
       "      <td>5471.0</td>\n",
       "      <td>None</td>\n",
       "      <td>80</td>\n",
       "      <td>Konami</td>\n",
       "      <td>35</td>\n",
       "      <td>NaN</td>\n",
       "      <td>Red</td>\n",
       "      <td>None</td>\n",
       "      <td>None</td>\n",
       "      <td>Male</td>\n",
       "      <td>Blond</td>\n",
       "      <td>191 cm • 6'3.2\"</td>\n",
       "      <td>140</td>\n",
       "      <td>70</td>\n",
       "      <td>NaN</td>\n",
       "      <td>3</td>\n",
       "      <td>None</td>\n",
       "      <td>Alucard</td>\n",
       "      <td>None</td>\n",
       "      <td>0</td>\n",
       "      <td>0</td>\n",
       "      <td>0</td>\n",
       "      <td>None</td>\n",
       "      <td>60</td>\n",
       "      <td>Vlad Ţepeş (father)\\nLisa Ţepeş (mother)</td>\n",
       "      <td>Human</td>\n",
       "      <td>30</td>\n",
       "      <td>2000</td>\n",
       "      <td>30</td>\n",
       "      <td>100000</td>\n",
       "      <td>Accelerated Healing,Agility,Berserk Mode,Blood...</td>\n",
       "      <td>2</td>\n",
       "      <td>C17S</td>\n",
       "      <td>82 kg • 180.78 lbs</td>\n",
       "      <td>NaN</td>\n",
       "    </tr>\n",
       "    <tr>\n",
       "      <th>1</th>\n",
       "      <td>Good</td>\n",
       "      <td>None</td>\n",
       "      <td>None</td>\n",
       "      <td>Alucard</td>\n",
       "      <td>5876.0</td>\n",
       "      <td>None</td>\n",
       "      <td>80</td>\n",
       "      <td>Konami</td>\n",
       "      <td>35</td>\n",
       "      <td>NaN</td>\n",
       "      <td>Red</td>\n",
       "      <td>None</td>\n",
       "      <td>None</td>\n",
       "      <td>Male</td>\n",
       "      <td>Blond</td>\n",
       "      <td>191 cm • 6'3.2\"</td>\n",
       "      <td>140</td>\n",
       "      <td>70</td>\n",
       "      <td>NaN</td>\n",
       "      <td>3</td>\n",
       "      <td>None</td>\n",
       "      <td>Alucard</td>\n",
       "      <td>None</td>\n",
       "      <td>0</td>\n",
       "      <td>0</td>\n",
       "      <td>0</td>\n",
       "      <td>None</td>\n",
       "      <td>60</td>\n",
       "      <td>Vlad Ţepeş (father)\\nLisa Ţepeş (mother)</td>\n",
       "      <td>Human</td>\n",
       "      <td>30</td>\n",
       "      <td>2000</td>\n",
       "      <td>30</td>\n",
       "      <td>100000</td>\n",
       "      <td>Accelerated Healing,Agility,Berserk Mode,Blood...</td>\n",
       "      <td>2</td>\n",
       "      <td>C17S</td>\n",
       "      <td>82 kg • 180.78 lbs</td>\n",
       "      <td>NaN</td>\n",
       "    </tr>\n",
       "    <tr>\n",
       "      <th>2</th>\n",
       "      <td>Good</td>\n",
       "      <td>None</td>\n",
       "      <td>None</td>\n",
       "      <td>Alucard</td>\n",
       "      <td>2586011.0</td>\n",
       "      <td>None</td>\n",
       "      <td>90</td>\n",
       "      <td>Konami</td>\n",
       "      <td>100</td>\n",
       "      <td>NaN</td>\n",
       "      <td>Gold</td>\n",
       "      <td>None</td>\n",
       "      <td>None</td>\n",
       "      <td>Male</td>\n",
       "      <td>White</td>\n",
       "      <td>-</td>\n",
       "      <td>160</td>\n",
       "      <td>80</td>\n",
       "      <td>NaN</td>\n",
       "      <td>6</td>\n",
       "      <td>None</td>\n",
       "      <td>NaN</td>\n",
       "      <td>Vampire Hunter</td>\n",
       "      <td>0</td>\n",
       "      <td>0</td>\n",
       "      <td>0</td>\n",
       "      <td>None</td>\n",
       "      <td>100</td>\n",
       "      <td>Dracula Vlad ?epe? (father)\\nLisa (mother)\\nEl...</td>\n",
       "      <td>Vampire</td>\n",
       "      <td>100</td>\n",
       "      <td>1000000000</td>\n",
       "      <td>100</td>\n",
       "      <td>1000000000</td>\n",
       "      <td>Accelerated Healing,Acrobatics,Agility,Blood M...</td>\n",
       "      <td>7</td>\n",
       "      <td>Castlevania</td>\n",
       "      <td>-</td>\n",
       "      <td>NaN</td>\n",
       "    </tr>\n",
       "    <tr>\n",
       "      <th>3</th>\n",
       "      <td>Good</td>\n",
       "      <td>None</td>\n",
       "      <td>None</td>\n",
       "      <td>Alucard</td>\n",
       "      <td>3380098.0</td>\n",
       "      <td>None</td>\n",
       "      <td>90</td>\n",
       "      <td>Konami</td>\n",
       "      <td>100</td>\n",
       "      <td>NaN</td>\n",
       "      <td>Gold</td>\n",
       "      <td>None</td>\n",
       "      <td>None</td>\n",
       "      <td>Male</td>\n",
       "      <td>White</td>\n",
       "      <td>-</td>\n",
       "      <td>160</td>\n",
       "      <td>80</td>\n",
       "      <td>NaN</td>\n",
       "      <td>6</td>\n",
       "      <td>None</td>\n",
       "      <td>NaN</td>\n",
       "      <td>Vampire Hunter</td>\n",
       "      <td>0</td>\n",
       "      <td>0</td>\n",
       "      <td>0</td>\n",
       "      <td>None</td>\n",
       "      <td>100</td>\n",
       "      <td>Dracula Vlad ?epe? (father)\\nLisa (mother)\\nEl...</td>\n",
       "      <td>Vampire</td>\n",
       "      <td>100</td>\n",
       "      <td>1000000000</td>\n",
       "      <td>100</td>\n",
       "      <td>1000000000</td>\n",
       "      <td>Accelerated Healing,Acrobatics,Agility,Blood M...</td>\n",
       "      <td>7</td>\n",
       "      <td>Castlevania</td>\n",
       "      <td>-</td>\n",
       "      <td>NaN</td>\n",
       "    </tr>\n",
       "    <tr>\n",
       "      <th>4</th>\n",
       "      <td>Good</td>\n",
       "      <td>None</td>\n",
       "      <td>None</td>\n",
       "      <td>Alucard</td>\n",
       "      <td>1170.0</td>\n",
       "      <td>None</td>\n",
       "      <td>100</td>\n",
       "      <td>None</td>\n",
       "      <td>45</td>\n",
       "      <td>NaN</td>\n",
       "      <td>Blue</td>\n",
       "      <td>None</td>\n",
       "      <td>None</td>\n",
       "      <td>Male</td>\n",
       "      <td>Blond</td>\n",
       "      <td>-</td>\n",
       "      <td>140</td>\n",
       "      <td>70</td>\n",
       "      <td>NaN</td>\n",
       "      <td>3</td>\n",
       "      <td>None</td>\n",
       "      <td>Alucard</td>\n",
       "      <td>None</td>\n",
       "      <td>0</td>\n",
       "      <td>0</td>\n",
       "      <td>0</td>\n",
       "      <td>None</td>\n",
       "      <td>80</td>\n",
       "      <td>None</td>\n",
       "      <td>None</td>\n",
       "      <td>50</td>\n",
       "      <td>10000</td>\n",
       "      <td>50</td>\n",
       "      <td>400000</td>\n",
       "      <td>Accelerated Healing,Acrobatics,Agility,Berserk...</td>\n",
       "      <td>2</td>\n",
       "      <td>ML</td>\n",
       "      <td>-</td>\n",
       "      <td>NaN</td>\n",
       "    </tr>\n",
       "  </tbody>\n",
       "</table>\n",
       "</div>"
      ],
      "text/plain": [
       "  Alignment Alter_Egos  Base Character Class_value Collections Combat Creator  \\\n",
       "0      Good       None  None   Alucard      5471.0        None     80  Konami   \n",
       "1      Good       None  None   Alucard      5876.0        None     80  Konami   \n",
       "2      Good       None  None   Alucard   2586011.0        None     90  Konami   \n",
       "3      Good       None  None   Alucard   3380098.0        None     90  Konami   \n",
       "4      Good       None  None   Alucard      1170.0        None    100    None   \n",
       "\n",
       "  Durability Equipment Eye_color Formerly Full_name Gender Hair_color  \\\n",
       "0         35       NaN       Red     None      None   Male      Blond   \n",
       "1         35       NaN       Red     None      None   Male      Blond   \n",
       "2        100       NaN      Gold     None      None   Male      White   \n",
       "3        100       NaN      Gold     None      None   Male      White   \n",
       "4         45       NaN      Blue     None      None   Male      Blond   \n",
       "\n",
       "            Height   IQ Intelligence Leader Level Member     Name  \\\n",
       "0  191 cm • 6'3.2\"  140           70    NaN     3   None  Alucard   \n",
       "1  191 cm • 6'3.2\"  140           70    NaN     3   None  Alucard   \n",
       "2                -  160           80    NaN     6   None      NaN   \n",
       "3                -  160           80    NaN     6   None      NaN   \n",
       "4                -  140           70    NaN     3   None  Alucard   \n",
       "\n",
       "       Occupation Omnipotent Omnipresent Omniscient Place_of_birth Power  \\\n",
       "0            None          0           0          0           None    60   \n",
       "1            None          0           0          0           None    60   \n",
       "2  Vampire Hunter          0           0          0           None   100   \n",
       "3  Vampire Hunter          0           0          0           None   100   \n",
       "4            None          0           0          0           None    80   \n",
       "\n",
       "                                           Relatives  Species Speed  \\\n",
       "0           Vlad Ţepeş (father)\\nLisa Ţepeş (mother)    Human    30   \n",
       "1           Vlad Ţepeş (father)\\nLisa Ţepeş (mother)    Human    30   \n",
       "2  Dracula Vlad ?epe? (father)\\nLisa (mother)\\nEl...  Vampire   100   \n",
       "3  Dracula Vlad ?epe? (father)\\nLisa (mother)\\nEl...  Vampire   100   \n",
       "4                                               None     None    50   \n",
       "\n",
       "  Speed_velocity Strength Strength_force  \\\n",
       "0           2000       30         100000   \n",
       "1           2000       30         100000   \n",
       "2     1000000000      100     1000000000   \n",
       "3     1000000000      100     1000000000   \n",
       "4          10000       50         400000   \n",
       "\n",
       "                                        Super_powers Tier     Universe  \\\n",
       "0  Accelerated Healing,Agility,Berserk Mode,Blood...    2         C17S   \n",
       "1  Accelerated Healing,Agility,Berserk Mode,Blood...    2         C17S   \n",
       "2  Accelerated Healing,Acrobatics,Agility,Blood M...    7  Castlevania   \n",
       "3  Accelerated Healing,Acrobatics,Agility,Blood M...    7  Castlevania   \n",
       "4  Accelerated Healing,Acrobatics,Agility,Berserk...    2           ML   \n",
       "\n",
       "               Weight History  \n",
       "0  82 kg • 180.78 lbs     NaN  \n",
       "1  82 kg • 180.78 lbs     NaN  \n",
       "2                   -     NaN  \n",
       "3                   -     NaN  \n",
       "4                   -     NaN  "
      ]
     },
     "execution_count": 3,
     "metadata": {},
     "output_type": "execute_result"
    }
   ],
   "source": [
    "sups.head(5)"
   ]
  },
  {
   "cell_type": "code",
   "execution_count": 4,
   "id": "d0d4fc60",
   "metadata": {},
   "outputs": [
    {
     "data": {
      "text/plain": [
       "(28118, 39)"
      ]
     },
     "execution_count": 4,
     "metadata": {},
     "output_type": "execute_result"
    }
   ],
   "source": [
    "sups.shape"
   ]
  },
  {
   "cell_type": "markdown",
   "id": "d383141d",
   "metadata": {},
   "source": [
    "#### Checking for duplicated data"
   ]
  },
  {
   "cell_type": "code",
   "execution_count": 5,
   "id": "4670e30b",
   "metadata": {},
   "outputs": [
    {
     "data": {
      "text/plain": [
       "3448"
      ]
     },
     "execution_count": 5,
     "metadata": {},
     "output_type": "execute_result"
    }
   ],
   "source": [
    "sups.duplicated().sum()"
   ]
  },
  {
   "cell_type": "code",
   "execution_count": 6,
   "id": "8f5b7b7c",
   "metadata": {},
   "outputs": [],
   "source": [
    "sups = sups.drop_duplicates()"
   ]
  },
  {
   "cell_type": "code",
   "execution_count": 7,
   "id": "989f8f44",
   "metadata": {},
   "outputs": [
    {
     "data": {
      "text/plain": [
       "(24670, 39)"
      ]
     },
     "execution_count": 7,
     "metadata": {},
     "output_type": "execute_result"
    }
   ],
   "source": [
    "sups.shape"
   ]
  },
  {
   "cell_type": "markdown",
   "id": "f77fc562",
   "metadata": {},
   "source": [
    "#### Deleting the columns that are not required for the analysis and model creation"
   ]
  },
  {
   "cell_type": "code",
   "execution_count": 8,
   "id": "8acd0215",
   "metadata": {},
   "outputs": [
    {
     "data": {
      "text/plain": [
       "Index(['Alignment', 'Alter_Egos', 'Base', 'Character', 'Class_value',\n",
       "       'Collections', 'Combat', 'Creator', 'Durability', 'Equipment',\n",
       "       'Eye_color', 'Formerly', 'Full_name', 'Gender', 'Hair_color', 'Height',\n",
       "       'IQ', 'Intelligence', 'Leader', 'Level', 'Member', 'Name', 'Occupation',\n",
       "       'Omnipotent', 'Omnipresent', 'Omniscient', 'Place_of_birth', 'Power',\n",
       "       'Relatives', 'Species', 'Speed', 'Speed_velocity', 'Strength',\n",
       "       'Strength_force', 'Super_powers', 'Tier', 'Universe', 'Weight',\n",
       "       'History'],\n",
       "      dtype='object')"
      ]
     },
     "execution_count": 8,
     "metadata": {},
     "output_type": "execute_result"
    }
   ],
   "source": [
    "sups.columns"
   ]
  },
  {
   "cell_type": "code",
   "execution_count": 9,
   "id": "6692752d",
   "metadata": {},
   "outputs": [],
   "source": [
    "not_needed_columns = ['Alter_Egos','Base','Collections','Full_name','Class_value','Eye_color','Equipment','Formerly','Hair_color',\n",
    "                      'Leader','Member','Name','Occupation','Relatives','History']"
   ]
  },
  {
   "cell_type": "code",
   "execution_count": 10,
   "id": "e63aead2",
   "metadata": {},
   "outputs": [],
   "source": [
    "sups.drop(columns=not_needed_columns,inplace=True)"
   ]
  },
  {
   "cell_type": "code",
   "execution_count": 11,
   "id": "27ecbc13",
   "metadata": {},
   "outputs": [
    {
     "data": {
      "text/plain": [
       "(24670, 24)"
      ]
     },
     "execution_count": 11,
     "metadata": {},
     "output_type": "execute_result"
    }
   ],
   "source": [
    "sups.shape"
   ]
  },
  {
   "cell_type": "code",
   "execution_count": 12,
   "id": "780d2144",
   "metadata": {},
   "outputs": [
    {
     "name": "stdout",
     "output_type": "stream",
     "text": [
      "<class 'pandas.core.frame.DataFrame'>\n",
      "Int64Index: 24670 entries, 0 to 28117\n",
      "Data columns (total 24 columns):\n",
      " #   Column          Non-Null Count  Dtype \n",
      "---  ------          --------------  ----- \n",
      " 0   Alignment       24492 non-null  object\n",
      " 1   Character       24670 non-null  object\n",
      " 2   Combat          24492 non-null  object\n",
      " 3   Creator         24492 non-null  object\n",
      " 4   Durability      24492 non-null  object\n",
      " 5   Gender          24492 non-null  object\n",
      " 6   Height          24492 non-null  object\n",
      " 7   IQ              24492 non-null  object\n",
      " 8   Intelligence    24492 non-null  object\n",
      " 9   Level           24492 non-null  object\n",
      " 10  Omnipotent      24492 non-null  object\n",
      " 11  Omnipresent     24492 non-null  object\n",
      " 12  Omniscient      24492 non-null  object\n",
      " 13  Place_of_birth  24472 non-null  object\n",
      " 14  Power           24492 non-null  object\n",
      " 15  Species         24492 non-null  object\n",
      " 16  Speed           24492 non-null  object\n",
      " 17  Speed_velocity  24492 non-null  object\n",
      " 18  Strength        24492 non-null  object\n",
      " 19  Strength_force  24492 non-null  object\n",
      " 20  Super_powers    24492 non-null  object\n",
      " 21  Tier            24492 non-null  object\n",
      " 22  Universe        21786 non-null  object\n",
      " 23  Weight          24492 non-null  object\n",
      "dtypes: object(24)\n",
      "memory usage: 4.7+ MB\n"
     ]
    }
   ],
   "source": [
    "sups.info()"
   ]
  },
  {
   "cell_type": "markdown",
   "id": "a50e08c7",
   "metadata": {},
   "source": [
    "#### Duplicates"
   ]
  },
  {
   "cell_type": "code",
   "execution_count": 13,
   "id": "087e302d",
   "metadata": {},
   "outputs": [
    {
     "data": {
      "text/html": [
       "<div>\n",
       "<style scoped>\n",
       "    .dataframe tbody tr th:only-of-type {\n",
       "        vertical-align: middle;\n",
       "    }\n",
       "\n",
       "    .dataframe tbody tr th {\n",
       "        vertical-align: top;\n",
       "    }\n",
       "\n",
       "    .dataframe thead th {\n",
       "        text-align: right;\n",
       "    }\n",
       "</style>\n",
       "<table border=\"1\" class=\"dataframe\">\n",
       "  <thead>\n",
       "    <tr style=\"text-align: right;\">\n",
       "      <th></th>\n",
       "      <th>Alignment</th>\n",
       "      <th>Character</th>\n",
       "      <th>Combat</th>\n",
       "      <th>Creator</th>\n",
       "      <th>Durability</th>\n",
       "      <th>Gender</th>\n",
       "      <th>Height</th>\n",
       "      <th>IQ</th>\n",
       "      <th>Intelligence</th>\n",
       "      <th>Level</th>\n",
       "      <th>Omnipotent</th>\n",
       "      <th>Omnipresent</th>\n",
       "      <th>Omniscient</th>\n",
       "      <th>Place_of_birth</th>\n",
       "      <th>Power</th>\n",
       "      <th>Species</th>\n",
       "      <th>Speed</th>\n",
       "      <th>Speed_velocity</th>\n",
       "      <th>Strength</th>\n",
       "      <th>Strength_force</th>\n",
       "      <th>Super_powers</th>\n",
       "      <th>Tier</th>\n",
       "      <th>Universe</th>\n",
       "      <th>Weight</th>\n",
       "    </tr>\n",
       "  </thead>\n",
       "  <tbody>\n",
       "    <tr>\n",
       "      <th>1</th>\n",
       "      <td>Good</td>\n",
       "      <td>Alucard</td>\n",
       "      <td>80</td>\n",
       "      <td>Konami</td>\n",
       "      <td>35</td>\n",
       "      <td>Male</td>\n",
       "      <td>191 cm • 6'3.2\"</td>\n",
       "      <td>140</td>\n",
       "      <td>70</td>\n",
       "      <td>3</td>\n",
       "      <td>0</td>\n",
       "      <td>0</td>\n",
       "      <td>0</td>\n",
       "      <td>None</td>\n",
       "      <td>60</td>\n",
       "      <td>Human</td>\n",
       "      <td>30</td>\n",
       "      <td>2000</td>\n",
       "      <td>30</td>\n",
       "      <td>100000</td>\n",
       "      <td>Accelerated Healing,Agility,Berserk Mode,Blood...</td>\n",
       "      <td>2</td>\n",
       "      <td>C17S</td>\n",
       "      <td>82 kg • 180.78 lbs</td>\n",
       "    </tr>\n",
       "    <tr>\n",
       "      <th>2</th>\n",
       "      <td>Good</td>\n",
       "      <td>Alucard</td>\n",
       "      <td>90</td>\n",
       "      <td>Konami</td>\n",
       "      <td>100</td>\n",
       "      <td>Male</td>\n",
       "      <td>-</td>\n",
       "      <td>160</td>\n",
       "      <td>80</td>\n",
       "      <td>6</td>\n",
       "      <td>0</td>\n",
       "      <td>0</td>\n",
       "      <td>0</td>\n",
       "      <td>None</td>\n",
       "      <td>100</td>\n",
       "      <td>Vampire</td>\n",
       "      <td>100</td>\n",
       "      <td>1000000000</td>\n",
       "      <td>100</td>\n",
       "      <td>1000000000</td>\n",
       "      <td>Accelerated Healing,Acrobatics,Agility,Blood M...</td>\n",
       "      <td>7</td>\n",
       "      <td>Castlevania</td>\n",
       "      <td>-</td>\n",
       "    </tr>\n",
       "    <tr>\n",
       "      <th>3</th>\n",
       "      <td>Good</td>\n",
       "      <td>Alucard</td>\n",
       "      <td>90</td>\n",
       "      <td>Konami</td>\n",
       "      <td>100</td>\n",
       "      <td>Male</td>\n",
       "      <td>-</td>\n",
       "      <td>160</td>\n",
       "      <td>80</td>\n",
       "      <td>6</td>\n",
       "      <td>0</td>\n",
       "      <td>0</td>\n",
       "      <td>0</td>\n",
       "      <td>None</td>\n",
       "      <td>100</td>\n",
       "      <td>Vampire</td>\n",
       "      <td>100</td>\n",
       "      <td>1000000000</td>\n",
       "      <td>100</td>\n",
       "      <td>1000000000</td>\n",
       "      <td>Accelerated Healing,Acrobatics,Agility,Blood M...</td>\n",
       "      <td>7</td>\n",
       "      <td>Castlevania</td>\n",
       "      <td>-</td>\n",
       "    </tr>\n",
       "    <tr>\n",
       "      <th>4</th>\n",
       "      <td>Good</td>\n",
       "      <td>Alucard</td>\n",
       "      <td>100</td>\n",
       "      <td>None</td>\n",
       "      <td>45</td>\n",
       "      <td>Male</td>\n",
       "      <td>-</td>\n",
       "      <td>140</td>\n",
       "      <td>70</td>\n",
       "      <td>3</td>\n",
       "      <td>0</td>\n",
       "      <td>0</td>\n",
       "      <td>0</td>\n",
       "      <td>None</td>\n",
       "      <td>80</td>\n",
       "      <td>None</td>\n",
       "      <td>50</td>\n",
       "      <td>10000</td>\n",
       "      <td>50</td>\n",
       "      <td>400000</td>\n",
       "      <td>Accelerated Healing,Acrobatics,Agility,Berserk...</td>\n",
       "      <td>2</td>\n",
       "      <td>ML</td>\n",
       "      <td>-</td>\n",
       "    </tr>\n",
       "    <tr>\n",
       "      <th>5</th>\n",
       "      <td>Good</td>\n",
       "      <td>Alucard</td>\n",
       "      <td>100</td>\n",
       "      <td>None</td>\n",
       "      <td>45</td>\n",
       "      <td>Male</td>\n",
       "      <td>-</td>\n",
       "      <td>140</td>\n",
       "      <td>70</td>\n",
       "      <td>3</td>\n",
       "      <td>0</td>\n",
       "      <td>0</td>\n",
       "      <td>0</td>\n",
       "      <td>None</td>\n",
       "      <td>80</td>\n",
       "      <td>None</td>\n",
       "      <td>50</td>\n",
       "      <td>10000</td>\n",
       "      <td>50</td>\n",
       "      <td>400000</td>\n",
       "      <td>Accelerated Healing,Acrobatics,Agility,Berserk...</td>\n",
       "      <td>2</td>\n",
       "      <td>ML</td>\n",
       "      <td>-</td>\n",
       "    </tr>\n",
       "    <tr>\n",
       "      <th>...</th>\n",
       "      <td>...</td>\n",
       "      <td>...</td>\n",
       "      <td>...</td>\n",
       "      <td>...</td>\n",
       "      <td>...</td>\n",
       "      <td>...</td>\n",
       "      <td>...</td>\n",
       "      <td>...</td>\n",
       "      <td>...</td>\n",
       "      <td>...</td>\n",
       "      <td>...</td>\n",
       "      <td>...</td>\n",
       "      <td>...</td>\n",
       "      <td>...</td>\n",
       "      <td>...</td>\n",
       "      <td>...</td>\n",
       "      <td>...</td>\n",
       "      <td>...</td>\n",
       "      <td>...</td>\n",
       "      <td>...</td>\n",
       "      <td>...</td>\n",
       "      <td>...</td>\n",
       "      <td>...</td>\n",
       "      <td>...</td>\n",
       "    </tr>\n",
       "    <tr>\n",
       "      <th>28110</th>\n",
       "      <td>NaN</td>\n",
       "      <td>Wonder Man</td>\n",
       "      <td>NaN</td>\n",
       "      <td>NaN</td>\n",
       "      <td>NaN</td>\n",
       "      <td>NaN</td>\n",
       "      <td>NaN</td>\n",
       "      <td>NaN</td>\n",
       "      <td>NaN</td>\n",
       "      <td>NaN</td>\n",
       "      <td>NaN</td>\n",
       "      <td>NaN</td>\n",
       "      <td>NaN</td>\n",
       "      <td>NaN</td>\n",
       "      <td>NaN</td>\n",
       "      <td>NaN</td>\n",
       "      <td>NaN</td>\n",
       "      <td>NaN</td>\n",
       "      <td>NaN</td>\n",
       "      <td>NaN</td>\n",
       "      <td>NaN</td>\n",
       "      <td>NaN</td>\n",
       "      <td>Earth-2149</td>\n",
       "      <td>NaN</td>\n",
       "    </tr>\n",
       "    <tr>\n",
       "      <th>28111</th>\n",
       "      <td>NaN</td>\n",
       "      <td>Wonder Girl</td>\n",
       "      <td>NaN</td>\n",
       "      <td>NaN</td>\n",
       "      <td>NaN</td>\n",
       "      <td>NaN</td>\n",
       "      <td>NaN</td>\n",
       "      <td>NaN</td>\n",
       "      <td>NaN</td>\n",
       "      <td>NaN</td>\n",
       "      <td>NaN</td>\n",
       "      <td>NaN</td>\n",
       "      <td>NaN</td>\n",
       "      <td>NaN</td>\n",
       "      <td>NaN</td>\n",
       "      <td>NaN</td>\n",
       "      <td>NaN</td>\n",
       "      <td>NaN</td>\n",
       "      <td>NaN</td>\n",
       "      <td>NaN</td>\n",
       "      <td>NaN</td>\n",
       "      <td>NaN</td>\n",
       "      <td>New 52</td>\n",
       "      <td>NaN</td>\n",
       "    </tr>\n",
       "    <tr>\n",
       "      <th>28112</th>\n",
       "      <td>NaN</td>\n",
       "      <td>Wonder Girl</td>\n",
       "      <td>NaN</td>\n",
       "      <td>NaN</td>\n",
       "      <td>NaN</td>\n",
       "      <td>NaN</td>\n",
       "      <td>NaN</td>\n",
       "      <td>NaN</td>\n",
       "      <td>NaN</td>\n",
       "      <td>NaN</td>\n",
       "      <td>NaN</td>\n",
       "      <td>NaN</td>\n",
       "      <td>NaN</td>\n",
       "      <td>NaN</td>\n",
       "      <td>NaN</td>\n",
       "      <td>NaN</td>\n",
       "      <td>NaN</td>\n",
       "      <td>NaN</td>\n",
       "      <td>NaN</td>\n",
       "      <td>NaN</td>\n",
       "      <td>NaN</td>\n",
       "      <td>NaN</td>\n",
       "      <td>Prime Earth</td>\n",
       "      <td>NaN</td>\n",
       "    </tr>\n",
       "    <tr>\n",
       "      <th>28114</th>\n",
       "      <td>NaN</td>\n",
       "      <td>Watcher</td>\n",
       "      <td>NaN</td>\n",
       "      <td>NaN</td>\n",
       "      <td>NaN</td>\n",
       "      <td>NaN</td>\n",
       "      <td>NaN</td>\n",
       "      <td>NaN</td>\n",
       "      <td>NaN</td>\n",
       "      <td>NaN</td>\n",
       "      <td>NaN</td>\n",
       "      <td>NaN</td>\n",
       "      <td>NaN</td>\n",
       "      <td>NaN</td>\n",
       "      <td>NaN</td>\n",
       "      <td>NaN</td>\n",
       "      <td>NaN</td>\n",
       "      <td>NaN</td>\n",
       "      <td>NaN</td>\n",
       "      <td>NaN</td>\n",
       "      <td>NaN</td>\n",
       "      <td>NaN</td>\n",
       "      <td>TLFFS</td>\n",
       "      <td>NaN</td>\n",
       "    </tr>\n",
       "    <tr>\n",
       "      <th>28116</th>\n",
       "      <td>NaN</td>\n",
       "      <td>Yellow Lantern</td>\n",
       "      <td>NaN</td>\n",
       "      <td>NaN</td>\n",
       "      <td>NaN</td>\n",
       "      <td>NaN</td>\n",
       "      <td>NaN</td>\n",
       "      <td>NaN</td>\n",
       "      <td>NaN</td>\n",
       "      <td>NaN</td>\n",
       "      <td>NaN</td>\n",
       "      <td>NaN</td>\n",
       "      <td>NaN</td>\n",
       "      <td>NaN</td>\n",
       "      <td>NaN</td>\n",
       "      <td>NaN</td>\n",
       "      <td>NaN</td>\n",
       "      <td>NaN</td>\n",
       "      <td>NaN</td>\n",
       "      <td>NaN</td>\n",
       "      <td>NaN</td>\n",
       "      <td>NaN</td>\n",
       "      <td>New 52</td>\n",
       "      <td>NaN</td>\n",
       "    </tr>\n",
       "  </tbody>\n",
       "</table>\n",
       "<p>13408 rows × 24 columns</p>\n",
       "</div>"
      ],
      "text/plain": [
       "      Alignment       Character Combat Creator Durability Gender  \\\n",
       "1          Good         Alucard     80  Konami         35   Male   \n",
       "2          Good         Alucard     90  Konami        100   Male   \n",
       "3          Good         Alucard     90  Konami        100   Male   \n",
       "4          Good         Alucard    100    None         45   Male   \n",
       "5          Good         Alucard    100    None         45   Male   \n",
       "...         ...             ...    ...     ...        ...    ...   \n",
       "28110       NaN      Wonder Man    NaN     NaN        NaN    NaN   \n",
       "28111       NaN     Wonder Girl    NaN     NaN        NaN    NaN   \n",
       "28112       NaN     Wonder Girl    NaN     NaN        NaN    NaN   \n",
       "28114       NaN         Watcher    NaN     NaN        NaN    NaN   \n",
       "28116       NaN  Yellow Lantern    NaN     NaN        NaN    NaN   \n",
       "\n",
       "                Height   IQ Intelligence Level Omnipotent Omnipresent  \\\n",
       "1      191 cm • 6'3.2\"  140           70     3          0           0   \n",
       "2                    -  160           80     6          0           0   \n",
       "3                    -  160           80     6          0           0   \n",
       "4                    -  140           70     3          0           0   \n",
       "5                    -  140           70     3          0           0   \n",
       "...                ...  ...          ...   ...        ...         ...   \n",
       "28110              NaN  NaN          NaN   NaN        NaN         NaN   \n",
       "28111              NaN  NaN          NaN   NaN        NaN         NaN   \n",
       "28112              NaN  NaN          NaN   NaN        NaN         NaN   \n",
       "28114              NaN  NaN          NaN   NaN        NaN         NaN   \n",
       "28116              NaN  NaN          NaN   NaN        NaN         NaN   \n",
       "\n",
       "      Omniscient Place_of_birth Power  Species Speed Speed_velocity Strength  \\\n",
       "1              0           None    60    Human    30           2000       30   \n",
       "2              0           None   100  Vampire   100     1000000000      100   \n",
       "3              0           None   100  Vampire   100     1000000000      100   \n",
       "4              0           None    80     None    50          10000       50   \n",
       "5              0           None    80     None    50          10000       50   \n",
       "...          ...            ...   ...      ...   ...            ...      ...   \n",
       "28110        NaN            NaN   NaN      NaN   NaN            NaN      NaN   \n",
       "28111        NaN            NaN   NaN      NaN   NaN            NaN      NaN   \n",
       "28112        NaN            NaN   NaN      NaN   NaN            NaN      NaN   \n",
       "28114        NaN            NaN   NaN      NaN   NaN            NaN      NaN   \n",
       "28116        NaN            NaN   NaN      NaN   NaN            NaN      NaN   \n",
       "\n",
       "      Strength_force                                       Super_powers Tier  \\\n",
       "1             100000  Accelerated Healing,Agility,Berserk Mode,Blood...    2   \n",
       "2         1000000000  Accelerated Healing,Acrobatics,Agility,Blood M...    7   \n",
       "3         1000000000  Accelerated Healing,Acrobatics,Agility,Blood M...    7   \n",
       "4             400000  Accelerated Healing,Acrobatics,Agility,Berserk...    2   \n",
       "5             400000  Accelerated Healing,Acrobatics,Agility,Berserk...    2   \n",
       "...              ...                                                ...  ...   \n",
       "28110            NaN                                                NaN  NaN   \n",
       "28111            NaN                                                NaN  NaN   \n",
       "28112            NaN                                                NaN  NaN   \n",
       "28114            NaN                                                NaN  NaN   \n",
       "28116            NaN                                                NaN  NaN   \n",
       "\n",
       "          Universe              Weight  \n",
       "1             C17S  82 kg • 180.78 lbs  \n",
       "2      Castlevania                   -  \n",
       "3      Castlevania                   -  \n",
       "4               ML                   -  \n",
       "5               ML                   -  \n",
       "...            ...                 ...  \n",
       "28110   Earth-2149                 NaN  \n",
       "28111       New 52                 NaN  \n",
       "28112  Prime Earth                 NaN  \n",
       "28114        TLFFS                 NaN  \n",
       "28116       New 52                 NaN  \n",
       "\n",
       "[13408 rows x 24 columns]"
      ]
     },
     "execution_count": 13,
     "metadata": {},
     "output_type": "execute_result"
    }
   ],
   "source": [
    "sups[sups['Character'].duplicated()]"
   ]
  },
  {
   "cell_type": "code",
   "execution_count": 14,
   "id": "e842a001",
   "metadata": {},
   "outputs": [],
   "source": [
    "sups = sups.drop_duplicates(subset=['Character'])"
   ]
  },
  {
   "cell_type": "code",
   "execution_count": 15,
   "id": "e8a77f2e",
   "metadata": {},
   "outputs": [
    {
     "data": {
      "text/plain": [
       "(11262, 24)"
      ]
     },
     "execution_count": 15,
     "metadata": {},
     "output_type": "execute_result"
    }
   ],
   "source": [
    "sups.shape"
   ]
  },
  {
   "cell_type": "markdown",
   "id": "b1f9cdc2",
   "metadata": {},
   "source": [
    "#### Checking NAN rows"
   ]
  },
  {
   "cell_type": "code",
   "execution_count": 16,
   "id": "5f3659dd",
   "metadata": {},
   "outputs": [],
   "source": [
    "threshold = 11\n",
    "\n",
    "# Filter rows with most NaN values\n",
    "rows_with_most_nan = sups[sups.isna().sum(axis=1) >= threshold]"
   ]
  },
  {
   "cell_type": "code",
   "execution_count": 17,
   "id": "976c178f",
   "metadata": {},
   "outputs": [
    {
     "data": {
      "text/plain": [
       "56"
      ]
     },
     "execution_count": 17,
     "metadata": {},
     "output_type": "execute_result"
    }
   ],
   "source": [
    "len(rows_with_most_nan)"
   ]
  },
  {
   "cell_type": "code",
   "execution_count": 18,
   "id": "af9c4a83",
   "metadata": {},
   "outputs": [],
   "source": [
    "sups = sups.dropna(thresh = threshold)"
   ]
  },
  {
   "cell_type": "code",
   "execution_count": 19,
   "id": "5d6a0dda",
   "metadata": {},
   "outputs": [
    {
     "data": {
      "text/plain": [
       "(11206, 24)"
      ]
     },
     "execution_count": 19,
     "metadata": {},
     "output_type": "execute_result"
    }
   ],
   "source": [
    "sups.shape"
   ]
  },
  {
   "cell_type": "code",
   "execution_count": 20,
   "id": "eeca1fa3",
   "metadata": {},
   "outputs": [
    {
     "data": {
      "text/plain": [
       "Index(['Alignment', 'Character', 'Combat', 'Creator', 'Durability', 'Gender',\n",
       "       'Height', 'IQ', 'Intelligence', 'Level', 'Omnipotent', 'Omnipresent',\n",
       "       'Omniscient', 'Place_of_birth', 'Power', 'Species', 'Speed',\n",
       "       'Speed_velocity', 'Strength', 'Strength_force', 'Super_powers', 'Tier',\n",
       "       'Universe', 'Weight'],\n",
       "      dtype='object')"
      ]
     },
     "execution_count": 20,
     "metadata": {},
     "output_type": "execute_result"
    }
   ],
   "source": [
    "sups.columns"
   ]
  },
  {
   "cell_type": "markdown",
   "id": "1ecfb00e",
   "metadata": {},
   "source": [
    "#### Alignment column"
   ]
  },
  {
   "cell_type": "code",
   "execution_count": 21,
   "id": "b6c48a3f",
   "metadata": {},
   "outputs": [
    {
     "data": {
      "text/html": [
       "<div>\n",
       "<style scoped>\n",
       "    .dataframe tbody tr th:only-of-type {\n",
       "        vertical-align: middle;\n",
       "    }\n",
       "\n",
       "    .dataframe tbody tr th {\n",
       "        vertical-align: top;\n",
       "    }\n",
       "\n",
       "    .dataframe thead th {\n",
       "        text-align: right;\n",
       "    }\n",
       "</style>\n",
       "<table border=\"1\" class=\"dataframe\">\n",
       "  <thead>\n",
       "    <tr style=\"text-align: right;\">\n",
       "      <th></th>\n",
       "      <th>Alignment</th>\n",
       "      <th>Character</th>\n",
       "      <th>Combat</th>\n",
       "      <th>Creator</th>\n",
       "      <th>Durability</th>\n",
       "      <th>Gender</th>\n",
       "      <th>Height</th>\n",
       "      <th>IQ</th>\n",
       "      <th>Intelligence</th>\n",
       "      <th>Level</th>\n",
       "      <th>Omnipotent</th>\n",
       "      <th>Omnipresent</th>\n",
       "      <th>Omniscient</th>\n",
       "      <th>Place_of_birth</th>\n",
       "      <th>Power</th>\n",
       "      <th>Species</th>\n",
       "      <th>Speed</th>\n",
       "      <th>Speed_velocity</th>\n",
       "      <th>Strength</th>\n",
       "      <th>Strength_force</th>\n",
       "      <th>Super_powers</th>\n",
       "      <th>Tier</th>\n",
       "      <th>Universe</th>\n",
       "      <th>Weight</th>\n",
       "    </tr>\n",
       "  </thead>\n",
       "  <tbody>\n",
       "  </tbody>\n",
       "</table>\n",
       "</div>"
      ],
      "text/plain": [
       "Empty DataFrame\n",
       "Columns: [Alignment, Character, Combat, Creator, Durability, Gender, Height, IQ, Intelligence, Level, Omnipotent, Omnipresent, Omniscient, Place_of_birth, Power, Species, Speed, Speed_velocity, Strength, Strength_force, Super_powers, Tier, Universe, Weight]\n",
       "Index: []"
      ]
     },
     "execution_count": 21,
     "metadata": {},
     "output_type": "execute_result"
    }
   ],
   "source": [
    "sups[sups.Alignment.isna()]"
   ]
  },
  {
   "cell_type": "code",
   "execution_count": 22,
   "id": "5b409b05",
   "metadata": {},
   "outputs": [
    {
     "data": {
      "text/plain": [
       "array(['Good', 'Neutral', 'Bad', 'None', '-', 'Alignment'], dtype=object)"
      ]
     },
     "execution_count": 22,
     "metadata": {},
     "output_type": "execute_result"
    }
   ],
   "source": [
    "sups.Alignment.unique()"
   ]
  },
  {
   "cell_type": "markdown",
   "id": "e2fb0568",
   "metadata": {},
   "source": [
    "#### Will take only heroes and villains from the dataset, so only Good and Bad value rows will be taken"
   ]
  },
  {
   "cell_type": "code",
   "execution_count": 23,
   "id": "0a47da4a",
   "metadata": {},
   "outputs": [],
   "source": [
    "sups = sups[(sups['Alignment'] == 'Good') | (sups['Alignment'] == 'Bad')]"
   ]
  },
  {
   "cell_type": "code",
   "execution_count": 24,
   "id": "4131add9",
   "metadata": {},
   "outputs": [
    {
     "data": {
      "text/plain": [
       "(6499, 24)"
      ]
     },
     "execution_count": 24,
     "metadata": {},
     "output_type": "execute_result"
    }
   ],
   "source": [
    "sups.shape"
   ]
  },
  {
   "cell_type": "code",
   "execution_count": 25,
   "id": "0e6a0fb6",
   "metadata": {},
   "outputs": [
    {
     "data": {
      "text/plain": [
       "array(['Good', 'Bad'], dtype=object)"
      ]
     },
     "execution_count": 25,
     "metadata": {},
     "output_type": "execute_result"
    }
   ],
   "source": [
    "# verify\n",
    "sups.Alignment.unique()"
   ]
  },
  {
   "cell_type": "markdown",
   "id": "77305c8e",
   "metadata": {},
   "source": [
    "#### Character column"
   ]
  },
  {
   "cell_type": "code",
   "execution_count": 26,
   "id": "448c2a2f",
   "metadata": {},
   "outputs": [
    {
     "data": {
      "text/plain": [
       "0"
      ]
     },
     "execution_count": 26,
     "metadata": {},
     "output_type": "execute_result"
    }
   ],
   "source": [
    "sups['Character'].duplicated().sum()"
   ]
  },
  {
   "cell_type": "code",
   "execution_count": 27,
   "id": "5a4372a1",
   "metadata": {},
   "outputs": [
    {
     "data": {
      "text/plain": [
       "0"
      ]
     },
     "execution_count": 27,
     "metadata": {},
     "output_type": "execute_result"
    }
   ],
   "source": [
    "sups['Character'].isna().sum()"
   ]
  },
  {
   "cell_type": "markdown",
   "id": "735e436a",
   "metadata": {},
   "source": [
    "#### Cobmat columns"
   ]
  },
  {
   "cell_type": "code",
   "execution_count": 28,
   "id": "ba726be7",
   "metadata": {},
   "outputs": [],
   "source": [
    "def process_powers(val):\n",
    "    for i in range(1, 21): \n",
    "        if i * 5 + 1 <= val <= (i + 1) * 5:\n",
    "            return f'{i * 5 + 1}to{(i + 1) * 5}'\n",
    "    return 'outofrange'"
   ]
  },
  {
   "cell_type": "code",
   "execution_count": 29,
   "id": "bdb6784d",
   "metadata": {},
   "outputs": [],
   "source": [
    "# data type\n",
    "sups['Combat'] = sups['Combat'].astype(int)"
   ]
  },
  {
   "cell_type": "code",
   "execution_count": 30,
   "id": "2aa1e96e",
   "metadata": {},
   "outputs": [],
   "source": [
    "sups['Combat'] = sups['Combat'].apply(process_powers)"
   ]
  },
  {
   "cell_type": "code",
   "execution_count": 31,
   "id": "5db570dd",
   "metadata": {},
   "outputs": [
    {
     "data": {
      "text/plain": [
       "0"
      ]
     },
     "execution_count": 31,
     "metadata": {},
     "output_type": "execute_result"
    }
   ],
   "source": [
    "sups['Combat'].isna().sum()"
   ]
  },
  {
   "cell_type": "code",
   "execution_count": 32,
   "id": "4ec26092",
   "metadata": {},
   "outputs": [
    {
     "data": {
      "text/plain": [
       "6479"
      ]
     },
     "execution_count": 32,
     "metadata": {},
     "output_type": "execute_result"
    }
   ],
   "source": [
    "sups.Combat.duplicated().sum()"
   ]
  },
  {
   "cell_type": "code",
   "execution_count": 33,
   "id": "bd196690",
   "metadata": {},
   "outputs": [],
   "source": [
    "sups['Combat'] = 'combat' + sups['Combat'].astype(str)"
   ]
  },
  {
   "cell_type": "code",
   "execution_count": 34,
   "id": "a48c90b8",
   "metadata": {},
   "outputs": [
    {
     "data": {
      "text/plain": [
       "array(['combat76to80', 'combat36to40', 'combat11to15', 'combat56to60',\n",
       "       'combat96to100', 'combat41to45', 'combat46to50', 'combat71to75',\n",
       "       'combat91to95', 'combat16to20', 'combat86to90', 'combat66to70',\n",
       "       'combat51to55', 'combat26to30', 'combatoutofrange', 'combat31to35',\n",
       "       'combat21to25', 'combat81to85', 'combat61to65', 'combat6to10'],\n",
       "      dtype=object)"
      ]
     },
     "execution_count": 34,
     "metadata": {},
     "output_type": "execute_result"
    }
   ],
   "source": [
    "sups.Combat.unique()"
   ]
  },
  {
   "cell_type": "markdown",
   "id": "152993b5",
   "metadata": {},
   "source": [
    "#### Creator Column"
   ]
  },
  {
   "cell_type": "code",
   "execution_count": 35,
   "id": "904a729f",
   "metadata": {},
   "outputs": [
    {
     "data": {
      "text/plain": [
       "array(['Konami', 'None', 'Cartoon Network', 'Marvel Comics', 'Sega',\n",
       "       'Square Enix', 'DC Comics', 'Shueisha', 'Warner Brothers',\n",
       "       'J. K. Rowling', 'James Cameron', 'Hasbro', 'Ubisoft',\n",
       "       'Shogakukan', 'Capcom', 'J. R. R. Tolkien', 'Image Comics',\n",
       "       'George R. R. Martin', 'ABC Studios', 'Wildstorm', 'Kodansha',\n",
       "       'Microsoft', 'Nintendo', 'Nickelodeon', 'Kadokawa',\n",
       "       'Activision Blizzard', 'Skybound', 'Dreamworks', 'Riot Games',\n",
       "       'Namco', 'George Lucas', 'SNK', 'Toei Animation', 'Pixar',\n",
       "       'Dark Horse Comics', 'Dargaud', 'Mattel', 'Team Epic TV',\n",
       "       'Netflix', 'IDW Publishing', 'Hanna-Barbera', 'Rick Riordan',\n",
       "       'Universal Studios', 'Disney', 'CD Projekt Red', 'South Park',\n",
       "       'Dynamite Entertainment', 'Mortal Kombat', 'Sony Pictures',\n",
       "       'Amalgam Comics', 'AMC', 'SyFy', 'H.P. Lovecraft',\n",
       "       'Kevin Williamson', 'Rebellion', 'Viz Media', 'Naughty Dog',\n",
       "       'Top Cow Productions', 'Studio Ghibli', 'Matt Groening', 'Lego',\n",
       "       'SCP Foundation', 'NBC', 'Stephen King', 'Tui T. Sutherland',\n",
       "       'Herg�', 'Insomniac Games', 'Newgrounds', 'Stephen McCranie',\n",
       "       'Valve Corporation', 'Bonelli', 'Valiant Comics', 'Ian Fleming',\n",
       "       '2K', 'Electronic Arts', 'Boom! Studios', 'Rooster Teeth Games',\n",
       "       'Clive Barker', 'Guerrilla Games', 'Epic', 'Arkane Studios',\n",
       "       'Rockstar Games', 'Type-Moon', 'Warhammer 40K', '07th Expansion',\n",
       "       'Absolute Comics Group', 'Power Rangers', 'AC Comics', 'MGM',\n",
       "       'Le Lombard', 'The CW', 'Games Workshop', 'CoroCoro Comic',\n",
       "       'Thomas Harris', 'Tokuma Shoten', 'John Conroe', 'Dupuis',\n",
       "       'Gene Roddenberry', 'Mark Jones', 'Koei Tecmo'], dtype=object)"
      ]
     },
     "execution_count": 35,
     "metadata": {},
     "output_type": "execute_result"
    }
   ],
   "source": [
    "sups.Creator.unique()"
   ]
  },
  {
   "cell_type": "code",
   "execution_count": 36,
   "id": "3b7c2ad1",
   "metadata": {},
   "outputs": [
    {
     "data": {
      "text/plain": [
       "0"
      ]
     },
     "execution_count": 36,
     "metadata": {},
     "output_type": "execute_result"
    }
   ],
   "source": [
    "sups.Creator.isna().sum()"
   ]
  },
  {
   "cell_type": "markdown",
   "id": "4a1b499c",
   "metadata": {},
   "source": [
    "#### Durability column"
   ]
  },
  {
   "cell_type": "code",
   "execution_count": 37,
   "id": "08ede9ee",
   "metadata": {},
   "outputs": [
    {
     "data": {
      "text/plain": [
       "dtype('O')"
      ]
     },
     "execution_count": 37,
     "metadata": {},
     "output_type": "execute_result"
    }
   ],
   "source": [
    "sups.Durability.dtype"
   ]
  },
  {
   "cell_type": "code",
   "execution_count": 38,
   "id": "931829d6",
   "metadata": {},
   "outputs": [],
   "source": [
    "# data type\n",
    "sups['Durability'] = sups['Durability'].astype(int)"
   ]
  },
  {
   "cell_type": "code",
   "execution_count": 39,
   "id": "b43a38a9",
   "metadata": {},
   "outputs": [],
   "source": [
    "sups['Durability'] = sups['Durability'].apply(process_powers)"
   ]
  },
  {
   "cell_type": "code",
   "execution_count": 40,
   "id": "9505228b",
   "metadata": {},
   "outputs": [
    {
     "data": {
      "text/plain": [
       "0"
      ]
     },
     "execution_count": 40,
     "metadata": {},
     "output_type": "execute_result"
    }
   ],
   "source": [
    "sups.Durability.isna().sum()"
   ]
  },
  {
   "cell_type": "code",
   "execution_count": 41,
   "id": "efbfde68",
   "metadata": {},
   "outputs": [
    {
     "data": {
      "text/plain": [
       "6479"
      ]
     },
     "execution_count": 41,
     "metadata": {},
     "output_type": "execute_result"
    }
   ],
   "source": [
    "sups.Durability.duplicated().sum()"
   ]
  },
  {
   "cell_type": "code",
   "execution_count": 42,
   "id": "6861725b",
   "metadata": {},
   "outputs": [],
   "source": [
    "sups['Durability'] = 'durability' + sups['Durability'].astype(str)"
   ]
  },
  {
   "cell_type": "code",
   "execution_count": 43,
   "id": "24a73b86",
   "metadata": {},
   "outputs": [
    {
     "data": {
      "text/plain": [
       "array(['durability31to35', 'durability11to15', 'durabilityoutofrange',\n",
       "       'durability56to60', 'durability21to25', 'durability96to100',\n",
       "       'durability6to10', 'durability16to20', 'durability66to70',\n",
       "       'durability81to85', 'durability46to50', 'durability26to30',\n",
       "       'durability91to95', 'durability76to80', 'durability51to55',\n",
       "       'durability86to90', 'durability36to40', 'durability41to45',\n",
       "       'durability61to65', 'durability71to75'], dtype=object)"
      ]
     },
     "execution_count": 43,
     "metadata": {},
     "output_type": "execute_result"
    }
   ],
   "source": [
    "sups.Durability.unique()"
   ]
  },
  {
   "cell_type": "markdown",
   "id": "f6016d92",
   "metadata": {},
   "source": [
    "#### Gender column"
   ]
  },
  {
   "cell_type": "code",
   "execution_count": 44,
   "id": "e7775964",
   "metadata": {},
   "outputs": [
    {
     "data": {
      "text/plain": [
       "dtype('O')"
      ]
     },
     "execution_count": 44,
     "metadata": {},
     "output_type": "execute_result"
    }
   ],
   "source": [
    "sups.Gender.dtype"
   ]
  },
  {
   "cell_type": "code",
   "execution_count": 45,
   "id": "a90a9d00",
   "metadata": {},
   "outputs": [
    {
     "data": {
      "text/plain": [
       "0"
      ]
     },
     "execution_count": 45,
     "metadata": {},
     "output_type": "execute_result"
    }
   ],
   "source": [
    "sups.Gender.isna().sum()"
   ]
  },
  {
   "cell_type": "code",
   "execution_count": 46,
   "id": "9a375d18",
   "metadata": {},
   "outputs": [
    {
     "data": {
      "text/plain": [
       "array(['Male', 'Female', '-', 'None', 'Other'], dtype=object)"
      ]
     },
     "execution_count": 46,
     "metadata": {},
     "output_type": "execute_result"
    }
   ],
   "source": [
    "sups.Gender.unique()"
   ]
  },
  {
   "cell_type": "code",
   "execution_count": 47,
   "id": "b8847ae7",
   "metadata": {},
   "outputs": [],
   "source": [
    "sups['Gender'] = sups['Gender'].replace('-','Unknown')"
   ]
  },
  {
   "cell_type": "code",
   "execution_count": 48,
   "id": "734fe620",
   "metadata": {},
   "outputs": [
    {
     "data": {
      "text/plain": [
       "array(['Male', 'Female', 'Unknown', 'None', 'Other'], dtype=object)"
      ]
     },
     "execution_count": 48,
     "metadata": {},
     "output_type": "execute_result"
    }
   ],
   "source": [
    "sups.Gender.unique()"
   ]
  },
  {
   "cell_type": "markdown",
   "id": "d78eeed0",
   "metadata": {},
   "source": [
    "#### Height Column"
   ]
  },
  {
   "cell_type": "code",
   "execution_count": 49,
   "id": "0a41796e",
   "metadata": {},
   "outputs": [
    {
     "data": {
      "text/plain": [
       "0"
      ]
     },
     "execution_count": 49,
     "metadata": {},
     "output_type": "execute_result"
    }
   ],
   "source": [
    "sups['Height'].isna().sum()"
   ]
  },
  {
   "cell_type": "code",
   "execution_count": 50,
   "id": "52c9d2c4",
   "metadata": {},
   "outputs": [],
   "source": [
    "#sups['Height'].unique()"
   ]
  },
  {
   "cell_type": "code",
   "execution_count": 51,
   "id": "92b3a983",
   "metadata": {},
   "outputs": [],
   "source": [
    "sups['Height'] = sups['Height'].str.replace('cm','')\n",
    "sups['Height'] = sups['Height'].str.replace('m','')\n",
    "sups['Height'] = sups['Height'].str.replace('-','0')\n",
    "sups['Height'] = sups['Height'].str.replace('k','')"
   ]
  },
  {
   "cell_type": "code",
   "execution_count": 52,
   "id": "69d089f2",
   "metadata": {},
   "outputs": [
    {
     "data": {
      "text/plain": [
       "array(['191  • 6\\'3.2\"', '0', '18  • 59\\'0.7\"', '165.1  • 5\\'5\"',\n",
       "       '182.9  • 6\\'0\"', '185.4  • 6\\'1\"', '167.6  • 5\\'6\"',\n",
       "       '170  • 5\\'6.9\"', '69  • 226\\'4.5\"', '243.8  • 7\\'12\"',\n",
       "       '183  • 6\\'0\"', '210.8  • 6\\'11\"', '177.8  • 5\\'10\"',\n",
       "       '304.8  • 10\\'0\"', '162.6  • 5\\'4\"', '40  • 131\\'2.8\"',\n",
       "       '193  • 6\\'4\"', '15  • 49\\'2.6\"', '290  • 9\\'6.2\"',\n",
       "       '45  • 147\\'7.7\"', '175.3  • 5\\'9\"', '198.1  • 6\\'6\"',\n",
       "       '121.9  • 3\\'12\"', '175  • 5\\'8.9\"', '180.3  • 5\\'11\"',\n",
       "       '188  • 6\\'2\"', '60.96  • 200\\'0\"', '200.7  • 6\\'7\"',\n",
       "       '165  • 5\\'5\"', '177  • 5\\'9.7\"', '222.5  • 7\\'3.6\"',\n",
       "       '168  • 5\\'6.1\"', '228.6  • 7\\'6\"', '195.6  • 6\\'5\"',\n",
       "       '174  • 5\\'8.5\"', '193.1  • 6\\'4\"', '86.4  • 2\\'10\"',\n",
       "       '170.2  • 5\\'7\"', '172.7  • 5\\'8\"', '20  • 0.79 inch',\n",
       "       '198  • 6\\'6\"', '196  • 6\\'5.2\"', '184  • 6\\'0.4\"',\n",
       "       '159  • 5\\'2.6\"', '30  • 98\\'5.1\"', '60  • 196\\'10.2\"',\n",
       "       '173  • 5\\'8.1\"', '57  • 187\\'0.1\"', '109.2  • 3\\'7\"',\n",
       "       '155  • 5\\'1\"', '183.4  • 6\\'0.2\"', '127  • 4\\'2\"',\n",
       "       '178  • 5\\'10.1\"', '87.78  • 287\\'12\"', '157.5  • 5\\'2\"',\n",
       "       '203.2  • 6\\'8\"', '160  • 5\\'3\"', '187  • 6\\'1.6\"',\n",
       "       '297.2  • 9\\'9\"', '150  • 492\\'1.5\"', '185  • 6\\'0.8\"',\n",
       "       '138  • 4\\'6.3\"', '226.1  • 7\\'5\"', '147.3  • 4\\'10\"',\n",
       "       '172  • 5\\'7.7\"', '365.8  • 12\\'0\"', '189  • 6\\'2.4\"',\n",
       "       '180  • 5\\'10.9\"', '200  • 6\\'6.7\"', '187.8  • 6\\'1.9\"',\n",
       "       '190.5  • 6\\'3\"', '49.99  • 163\\'12\"', '214  • 7\\'0.3\"',\n",
       "       '213  • 6\\'11.9\"', '144.8  • 4\\'9\"', '149.8  • 4\\'11\"',\n",
       "       '199  • 6\\'6.3\"', '274.3  • 8\\'12\"', '487.7  • 16\\'0\"',\n",
       "       '880  • 28\\'10.5\"', '72  • 236\\'2.6\"', '16  • 0.63 inch',\n",
       "       '221  • 7\\'3\"', '220  • 7\\'2.6\"', '201  • 6\\'7.1\"',\n",
       "       '9.14  • 30\\'0\"', '609.6  • 20\\'0\"', '203  • 6\\'7.9\"',\n",
       "       '164  • 5\\'4.6\"', '22.86  • 75\\'0\"', '54.86  • 180\\'0\"',\n",
       "       '58.4  • 1\\'11\"', '179  • 5\\'10.5\"', '120  • 393\\'8.4\"',\n",
       "       '210  • 6\\'10.7\"', '181  • 5\\'11.3\"', '100  • 328\\'1\"',\n",
       "       '300  • 1.86 iles', '50  • 164\\'0.5\"', '266  • 8\\'8.7\"',\n",
       "       '176  • 5\\'9.3\"', '79.25  • 260\\'0\"', '81.77  • 268\\'3.3\"',\n",
       "       '61.98  • 203\\'4\"', '65  • 213\\'3.1\"', '10  • 62.14 ile',\n",
       "       '104.1  • 3\\'5\"', '80  • 262\\'5.6\"', '25  • 82\\'0.3\"',\n",
       "       '200  • 7.87 inch', '142.2  • 4\\'8\"', '420  • 2.61 iles',\n",
       "       '701  • 22\\'12\"', '99  • 324\\'9.6\"', '233.7  • 7\\'8\"',\n",
       "       '157  • 5\\'1.8\"', '236.2  • 7\\'9\"', '204  • 6\\'8.3\"',\n",
       "       '153  • 5\\'0.2\"', '213.4  • 7\\'0\"', '162  • 5\\'3.8\"',\n",
       "       '30  • 98\\'5\"', '324517  • 2016455.15 ile', '61  • 2.4 inch',\n",
       "       '140  • 4\\'7.1\"', '182  • 5\\'11.7\"', '301  • 9\\'10.5\"',\n",
       "       '71.1  • 2\\'4\"', '335.3  • 11\\'0\"', '152  • 4\\'11.8\"',\n",
       "       '152.4  • 5\\'0\"', '610  • 20\\'0.2\"', '368.3  • 12\\'1\"',\n",
       "       '264.2  • 8\\'8\"', '78.7  • 2\\'7\"', '91.5  • 3\\'0\"',\n",
       "       '190  • 6\\'2.8\"', '158  • 5\\'2.2\"', '264.1  • 8\\'8\"',\n",
       "       '762  • 25\\'0\"', '65  • 2\\'1.6\"', '218.5  • 7\\'2\"',\n",
       "       '147  • 4\\'9.9\"', '154.9  • 5\\'1\"', '167  • 5\\'5.7\"',\n",
       "       '171  • 5\\'7.3\"', '63.5  • 2\\'1\"', '156.2  • 5\\'1.5\"',\n",
       "       '388.7  • 12\\'9\"', '43.2  • 1\\'5\"', '150  • 4\\'11.1\"',\n",
       "       '57.3  • 187\\'12\"', '15.24  • 50\\'0\"', '85  • 2\\'9.5\"',\n",
       "       '218.4  • 7\\'2\"', '103.63  • 340\\'0\"', '89.92  • 295\\'0\"',\n",
       "       '236  • 7\\'8.9\"', '161  • 5\\'3.4\"', '108  • 3\\'6.5\"',\n",
       "       '61  • 2\\'0\"', '170.8  • 5\\'7.2\"', '91.81  • 301\\'2.6\"',\n",
       "       '164.2  • 5\\'4.6\"', '153.3  • 5\\'0.4\"', '350  • 11\\'5.8\"',\n",
       "       '250  • 8\\'2.4\"', '288  • 9\\'5.4\"', '149.9  • 4\\'11\"',\n",
       "       '146  • 4\\'9.5\"', '222  • 7\\'3.4\"', '238.8  • 7\\'10\"',\n",
       "       '77.72  • 255\\'0\"', '114.3  • 3\\'9\"', '133.43  • 437\\'9\"',\n",
       "       '166.9  • 5\\'5.7\"', '365  • 11\\'11.7\"', '100  • 3.94 inch',\n",
       "       '31.32  • 102\\'9\"', '30  • 1.18 inch', '160.02  • 994.32 ile',\n",
       "       '60  • 2.36 inch', '168.4  • 5\\'6.3\"', '166.4  • 5\\'5.5\"',\n",
       "       '251  • 8\\'2.8\"', '176.5  • 5\\'9.5\"', '192  • 6\\'3.6\"',\n",
       "       '130  • 4\\'3.2\"', '215  • 7\\'0.6\"', '457.2  • 15\\'0\"',\n",
       "       '161.4  • 5\\'3.5\"', '74.37  • 243\\'12\"', '186  • 6\\'1.2\"',\n",
       "       '230  • 7\\'6.6\"', '78  • 2\\'6.7\"', '68.6  • 2\\'3\"',\n",
       "       '48  • 157\\'5.8\"', '235  • 7\\'8.5\"', '91.4  • 2\\'12\"',\n",
       "       '99.1  • 3\\'3\"', '93.9  • 3\\'1\"', '137.1  • 4\\'6\"',\n",
       "       '59.9  • 1\\'11.6\"', '12.5  • 41\\'0\"', '28  • 91\\'10.4\"',\n",
       "       '199.9  • 6\\'6.7\"', '100  • 3\\'3.4\"', '17  • 0.67 inch',\n",
       "       '169  • 5\\'6.5\"', '156  • 5\\'1.4\"', '25.4  • 83\\'4\"',\n",
       "       '178.8  • 5\\'10.4\"', '130.45  • 427\\'12\"', '96  • 314\\'11.5\"',\n",
       "       '305  • 10\\'0.1\"', '244  • 8\\'0.1\"', '182.88  • 1.14 iles',\n",
       "       '234  • 7\\'8.1\"', '18.47  • 60\\'7\"', '120  • 3\\'11.2\"',\n",
       "       '27.9  • 0\\'11\"', '256.5  • 8\\'5\"', '208.3  • 6\\'10\"',\n",
       "       '75  • 246\\'0.8\"', '62  • 203\\'4.9\"', '47  • 154\\'2.4\"',\n",
       "       '163  • 5\\'4.2\"', '124  • 4\\'0.8\"', '129.5  • 4\\'3\"',\n",
       "       '56  • 183\\'8.7\"', '277  • 9\\'1.1\"', '43  • 141\\'0.9\"',\n",
       "       '792.5  • 26\\'0\"', '111.7  • 3\\'8\"', '231  • 9.09 inch',\n",
       "       '85.34  • 280\\'0\"', '142  • 4\\'7.9\"', '70  • 2\\'3.6\"',\n",
       "       '170.9  • 5\\'7.3\"', '497.8  • 16\\'4\"', '58  • 190\\'3.5\"',\n",
       "       '73  • 239\\'6\"', '253  • 8\\'3.6\"', '76.2  • 250\\'0\"',\n",
       "       '10.67  • 35\\'0\"', '410  • 13\\'5.4\"', '166  • 5\\'5.4\"',\n",
       "       '307.3  • 10\\'1\"', '289.5  • 9\\'6\"', '266.7  • 8\\'9\"',\n",
       "       '289.6  • 9\\'6\"', '145  • 4\\'9.1\"', '194  • 6\\'4.4\"',\n",
       "       '541.1  • 17\\'9\"', '80  • 2\\'7.5\"', '325.1  • 10\\'8\"',\n",
       "       '110  • 3\\'7.3\"', '205.8  • 6\\'9\"', '14  • 45\\'11.2\"',\n",
       "       '9.75  • 32\\'0\"', '166.7  • 5\\'5.6\"', '126  • 4\\'1.6\"',\n",
       "       '692  • 22\\'8.4\"', '690.9  • 22\\'8\"', '51  • 2.01 inch',\n",
       "       '154  • 5\\'0.6\"', '46  • 150\\'11\"', '204.5  • 6\\'8.5\"',\n",
       "       '85  • 278\\'10.5\"', '134.6  • 4\\'5\"', '72.54  • 237\\'12\"',\n",
       "       '88  • 288\\'8.6\"', '33.3  • 1\\'1.1\"', '121  • 3\\'11.6\"',\n",
       "       '52.49  • 172\\'2.5\"', '217.2  • 7\\'1.5\"', '197  • 6\\'5.6\"',\n",
       "       '165.7  • 5\\'5.2\"', '828  • 27\\'2\"', '140  • 459\\'3.8\"',\n",
       "       '191.2  • 6\\'3.3\"', '55  • 180\\'5.4\"', '203  • 7.99 inch',\n",
       "       '30.48  • 100\\'0\"', '20  • 124.27 ile', '300  • 9\\'10.1\"',\n",
       "       '37.41  • 122\\'9\"', '139.7  • 4\\'7\"', '195  • 6\\'4.8\"',\n",
       "       '500  • 3.11 iles', '212  • 6\\'11.5\"', '30  • 0\\'11.8\"',\n",
       "       '128  • 419\\'11.4\"', '16.5  • 54\\'1.6\"', '20  • 65\\'7.4\"',\n",
       "       '40.6  • 1\\'4\"', '76  • 2.99 inch', '151  • 4\\'11.4\"',\n",
       "       '19  • 0.75 inch', '731.5  • 23\\'12\"', '154.5  • 5\\'0.8\"',\n",
       "       '50  • 1.97 inch', '650  • 21\\'3.9\"', '249  • 8\\'2\"',\n",
       "       '260  • 8\\'6.4\"', '36.58  • 120\\'0\"', '60  • 1\\'11.6\"',\n",
       "       '11.61  • 38\\'1\"', '208  • 6\\'9.9\"', '63.09  • 207\\'0\"',\n",
       "       '24  • 78\\'8.9\"', '205.7  • 6\\'9\"', '38.51  • 126\\'4\"',\n",
       "       '106.83  • 350\\'5.9\"', '109.12  • 357\\'12\"', '181.6  • 5\\'11.5\"',\n",
       "       '179.1  • 5\\'10.5\"', '243.9  • 8\\'0\"', '144  • 4\\'8.7\"',\n",
       "       '21  • 68\\'10.8\"', '76.91  • 252\\'4\"', '134.42  • 441\\'0\"',\n",
       "       '12.07  • 39\\'7.2\"', '246.3  • 8\\'1\"', '12.19  • 40\\'0\"',\n",
       "       '274  • 8\\'11.9\"', '360  • 11\\'9.7\"', '10  • 0.39 inch',\n",
       "       '181.66  • 1.13 iles', '133  • 4\\'4.4\"', '79  • 259\\'2.2\"',\n",
       "       '180.6  • 5\\'11.1\"', '137.2  • 4\\'6\"', '36.6  • 120\\'1\"',\n",
       "       '665.5  • 21\\'10\"', '330  • 10\\'9.9\"', '820  • 26\\'10.8\"',\n",
       "       '263  • 8\\'7.5\"', '167.9  • 5\\'6.1\"', '259.1  • 8\\'6\"',\n",
       "       '22  • 72\\'2.1\"', '231.1  • 7\\'7\"', '99  • 3\\'3\"',\n",
       "       '270  • 8\\'10.3\"', '9.98  • 32\\'9\"', '45.7  • 1\\'6\"',\n",
       "       '509  • 16\\'8.4\"', '96.5  • 3\\'2\"', '309  • 10\\'1.7\"',\n",
       "       '102  • 4.02 inch', '275  • 9\\'0.3\"', '70.92  • 232\\'8\"',\n",
       "       '132.1  • 4\\'4\"', '261.6  • 8\\'7\"', '54  • 1\\'9.3\"',\n",
       "       '129.3  • 4\\'2.9\"', '269.2  • 8\\'10\"', '152  • 5.98 inch',\n",
       "       '231.2  • 7\\'7\"', '73.2  • 240\\'2\"', '240  • 7\\'10.5\"',\n",
       "       '40.2  • 131\\'10.7\"', '335.4  • 11\\'0\"', '17  • 55\\'9.3\"',\n",
       "       '4  • 24.85 ile', '366  • 12\\'0.1\"', '88.9  • 2\\'11\"',\n",
       "       '91.44  • 300\\'0\"', '18  • 0.71 inch', '1000  • 6.21 iles',\n",
       "       '181.8  • 5\\'11.6\"', '96.01  • 315\\'0\"', '302.3  • 9\\'11\"',\n",
       "       '49  • 160\\'9.1\"', '158  • 518\\'4.5\"', '202  • 6\\'7.5\"',\n",
       "       '174.5  • 5\\'8.7\"', '134  • 4\\'4.8\"', '157.7  • 5\\'2.1\"',\n",
       "       '181.2  • 5\\'11.3\"', '10  • 32\\'9.7\"', '81.38  • 267\\'0\"',\n",
       "       '241.3  • 7\\'11\"', '36.4  • 119\\'5.1\"', '63  • 206\\'8.3\"',\n",
       "       '419.1  • 13\\'9\"', '376  • 12\\'4\"', '143  • 4\\'8.3\"',\n",
       "       '276.9  • 9\\'1\"', '97.6  • 3\\'2.4\"', '119.4  • 3\\'11\"',\n",
       "       '43  • 1\\'4.9\"', '167.74  • 1.04 iles', '278  • 9\\'1.4\"',\n",
       "       '149  • 4\\'10.7\"', '163.6  • 5\\'4.4\"', '115  • 3\\'9.3\"',\n",
       "       '159.4  • 5\\'2.8\"', '135  • 4\\'5.1\"', '612.1  • 20\\'1\"',\n",
       "       '40.7  • 133\\'6.4\"', '109.73  • 360\\'0\"', '106.7  • 3\\'6\"',\n",
       "       '259  • 8\\'6\"', '137  • 4\\'5.9\"', '13  • 0.51 inch',\n",
       "       '184.7  • 6\\'0.7\"', '218  • 7\\'1.8\"', '53  • 173\\'10.6\"',\n",
       "       '52  • 170\\'7.2\"', '16.76  • 55\\'0\"', '92.05  • 302\\'0\"'],\n",
       "      dtype=object)"
      ]
     },
     "execution_count": 52,
     "metadata": {},
     "output_type": "execute_result"
    }
   ],
   "source": [
    "sups['Height'].unique()"
   ]
  },
  {
   "cell_type": "code",
   "execution_count": 53,
   "id": "12baa7d5",
   "metadata": {},
   "outputs": [],
   "source": [
    "sups['Height'] = sups['Height'].str.split('•').apply(lambda x: x[0].strip())"
   ]
  },
  {
   "cell_type": "code",
   "execution_count": 54,
   "id": "05f4650c",
   "metadata": {},
   "outputs": [],
   "source": [
    "sups['Height'] = sups['Height'].str.split('.').apply(lambda x: x[0].strip())"
   ]
  },
  {
   "cell_type": "code",
   "execution_count": 55,
   "id": "c44749ba",
   "metadata": {},
   "outputs": [
    {
     "data": {
      "text/plain": [
       "array(['191', '0', '18', '165', '182', '185', '167', '170', '69', '243',\n",
       "       '183', '210', '177', '304', '162', '40', '193', '15', '290', '45',\n",
       "       '175', '198', '121', '180', '188', '60', '200', '222', '168',\n",
       "       '228', '195', '174', '86', '172', '20', '196', '184', '159', '30',\n",
       "       '173', '57', '109', '155', '127', '178', '87', '157', '203', '160',\n",
       "       '187', '297', '150', '138', '226', '147', '365', '189', '190',\n",
       "       '49', '214', '213', '144', '149', '199', '274', '487', '880', '72',\n",
       "       '16', '221', '220', '201', '9', '609', '164', '22', '54', '58',\n",
       "       '179', '120', '181', '100', '300', '50', '266', '176', '79', '81',\n",
       "       '61', '65', '10', '104', '80', '25', '142', '420', '701', '99',\n",
       "       '233', '236', '204', '153', '324517', '140', '301', '71', '335',\n",
       "       '152', '610', '368', '264', '78', '91', '158', '762', '218', '154',\n",
       "       '171', '63', '156', '388', '43', '85', '103', '89', '161', '108',\n",
       "       '350', '250', '288', '146', '238', '77', '114', '133', '166', '31',\n",
       "       '251', '192', '130', '215', '457', '74', '186', '230', '68', '48',\n",
       "       '235', '93', '137', '59', '12', '28', '17', '169', '96', '305',\n",
       "       '244', '234', '27', '256', '208', '75', '62', '47', '163', '124',\n",
       "       '129', '56', '277', '792', '111', '231', '70', '497', '73', '253',\n",
       "       '76', '410', '307', '289', '145', '194', '541', '325', '110',\n",
       "       '205', '14', '126', '692', '690', '51', '46', '134', '88', '33',\n",
       "       '52', '217', '197', '828', '55', '37', '139', '500', '212', '128',\n",
       "       '151', '19', '731', '650', '249', '260', '36', '11', '24', '38',\n",
       "       '106', '21', '246', '360', '665', '330', '820', '263', '259',\n",
       "       '270', '509', '309', '102', '275', '132', '261', '269', '240', '4',\n",
       "       '366', '1000', '302', '202', '241', '419', '376', '143', '276',\n",
       "       '97', '119', '278', '115', '135', '612', '13', '53', '92'],\n",
       "      dtype=object)"
      ]
     },
     "execution_count": 55,
     "metadata": {},
     "output_type": "execute_result"
    }
   ],
   "source": [
    "sups['Height'].unique()"
   ]
  },
  {
   "cell_type": "code",
   "execution_count": 56,
   "id": "6eafe400",
   "metadata": {},
   "outputs": [],
   "source": [
    "sups['Height'] = sups['Height'].astype(int)"
   ]
  },
  {
   "cell_type": "code",
   "execution_count": 57,
   "id": "35a74422",
   "metadata": {},
   "outputs": [],
   "source": [
    "sups['Height'] = sups['Height'].replace(0,int(sups['Height'].mean()))"
   ]
  },
  {
   "cell_type": "code",
   "execution_count": 58,
   "id": "7dc92591",
   "metadata": {},
   "outputs": [
    {
     "data": {
      "text/plain": [
       "array([   191,    114,     18,    165,    182,    185,    167,    170,\n",
       "           69,    243,    183,    210,    177,    304,    162,     40,\n",
       "          193,     15,    290,     45,    175,    198,    121,    180,\n",
       "          188,     60,    200,    222,    168,    228,    195,    174,\n",
       "           86,    172,     20,    196,    184,    159,     30,    173,\n",
       "           57,    109,    155,    127,    178,     87,    157,    203,\n",
       "          160,    187,    297,    150,    138,    226,    147,    365,\n",
       "          189,    190,     49,    214,    213,    144,    149,    199,\n",
       "          274,    487,    880,     72,     16,    221,    220,    201,\n",
       "            9,    609,    164,     22,     54,     58,    179,    120,\n",
       "          181,    100,    300,     50,    266,    176,     79,     81,\n",
       "           61,     65,     10,    104,     80,     25,    142,    420,\n",
       "          701,     99,    233,    236,    204,    153, 324517,    140,\n",
       "          301,     71,    335,    152,    610,    368,    264,     78,\n",
       "           91,    158,    762,    218,    154,    171,     63,    156,\n",
       "          388,     43,     85,    103,     89,    161,    108,    350,\n",
       "          250,    288,    146,    238,     77,    133,    166,     31,\n",
       "          251,    192,    130,    215,    457,     74,    186,    230,\n",
       "           68,     48,    235,     93,    137,     59,     12,     28,\n",
       "           17,    169,     96,    305,    244,    234,     27,    256,\n",
       "          208,     75,     62,     47,    163,    124,    129,     56,\n",
       "          277,    792,    111,    231,     70,    497,     73,    253,\n",
       "           76,    410,    307,    289,    145,    194,    541,    325,\n",
       "          110,    205,     14,    126,    692,    690,     51,     46,\n",
       "          134,     88,     33,     52,    217,    197,    828,     55,\n",
       "           37,    139,    500,    212,    128,    151,     19,    731,\n",
       "          650,    249,    260,     36,     11,     24,     38,    106,\n",
       "           21,    246,    360,    665,    330,    820,    263,    259,\n",
       "          270,    509,    309,    102,    275,    132,    261,    269,\n",
       "          240,      4,    366,   1000,    302,    202,    241,    419,\n",
       "          376,    143,    276,     97,    119,    278,    115,    135,\n",
       "          612,     13,     53,     92])"
      ]
     },
     "execution_count": 58,
     "metadata": {},
     "output_type": "execute_result"
    }
   ],
   "source": [
    "sups['Height'].unique()"
   ]
  },
  {
   "cell_type": "code",
   "execution_count": 59,
   "id": "aadebc2e",
   "metadata": {},
   "outputs": [],
   "source": [
    "def height_process(val):\n",
    "    for i in range(1, 62): \n",
    "        if i * 5 + 1 <= val <= (i + 1) * 5:\n",
    "            return f'height{i * 5 + 1}to{(i + 1) * 5}'\n",
    "    return 'heighthuge'"
   ]
  },
  {
   "cell_type": "code",
   "execution_count": 60,
   "id": "2685523c",
   "metadata": {},
   "outputs": [],
   "source": [
    "sups['Height'] = sups['Height'].apply(height_process)"
   ]
  },
  {
   "cell_type": "code",
   "execution_count": 61,
   "id": "fa1bbaa4",
   "metadata": {},
   "outputs": [
    {
     "data": {
      "text/plain": [
       "array(['height191to195', 'height111to115', 'height16to20',\n",
       "       'height161to165', 'height181to185', 'height166to170',\n",
       "       'height66to70', 'height241to245', 'height206to210',\n",
       "       'height176to180', 'height301to305', 'height36to40', 'height11to15',\n",
       "       'height286to290', 'height41to45', 'height171to175',\n",
       "       'height196to200', 'height121to125', 'height186to190',\n",
       "       'height56to60', 'height221to225', 'height226to230', 'height86to90',\n",
       "       'height156to160', 'height26to30', 'height106to110',\n",
       "       'height151to155', 'height126to130', 'height201to205',\n",
       "       'height296to300', 'height146to150', 'height136to140', 'heighthuge',\n",
       "       'height46to50', 'height211to215', 'height141to145',\n",
       "       'height271to275', 'height71to75', 'height216to220', 'height6to10',\n",
       "       'height21to25', 'height51to55', 'height116to120', 'height96to100',\n",
       "       'height266to270', 'height76to80', 'height81to85', 'height61to65',\n",
       "       'height101to105', 'height231to235', 'height236to240',\n",
       "       'height261to265', 'height91to95', 'height246to250',\n",
       "       'height131to135', 'height31to35', 'height251to255',\n",
       "       'height256to260', 'height276to280', 'height306to310'], dtype=object)"
      ]
     },
     "execution_count": 61,
     "metadata": {},
     "output_type": "execute_result"
    }
   ],
   "source": [
    "sups['Height'].unique()"
   ]
  },
  {
   "cell_type": "markdown",
   "id": "c26da72a",
   "metadata": {},
   "source": [
    "#### IQ column"
   ]
  },
  {
   "cell_type": "code",
   "execution_count": 62,
   "id": "bd382bbf",
   "metadata": {},
   "outputs": [],
   "source": [
    "def iq_process(val):\n",
    "    if val == 0:\n",
    "        return 'iq0'\n",
    "    for i in range(1, 41):\n",
    "        if i * 5 + 1 <= val <= (i + 1) * 5:\n",
    "            return f'iq{i * 5 + 1}to{(i + 1) * 5}'\n",
    "    return 'iqoutofrange'"
   ]
  },
  {
   "cell_type": "code",
   "execution_count": 63,
   "id": "6a8603a6",
   "metadata": {},
   "outputs": [
    {
     "data": {
      "text/plain": [
       "dtype('O')"
      ]
     },
     "execution_count": 63,
     "metadata": {},
     "output_type": "execute_result"
    }
   ],
   "source": [
    "sups['IQ'].dtype"
   ]
  },
  {
   "cell_type": "code",
   "execution_count": 64,
   "id": "99f172bd",
   "metadata": {},
   "outputs": [],
   "source": [
    "sups.IQ = sups.IQ.astype(int)"
   ]
  },
  {
   "cell_type": "code",
   "execution_count": 65,
   "id": "a893dd35",
   "metadata": {},
   "outputs": [
    {
     "data": {
      "text/plain": [
       "0"
      ]
     },
     "execution_count": 65,
     "metadata": {},
     "output_type": "execute_result"
    }
   ],
   "source": [
    "sups.IQ.isna().sum()"
   ]
  },
  {
   "cell_type": "code",
   "execution_count": 66,
   "id": "836d68b5",
   "metadata": {},
   "outputs": [
    {
     "data": {
      "text/plain": [
       "0"
      ]
     },
     "execution_count": 66,
     "metadata": {},
     "output_type": "execute_result"
    }
   ],
   "source": [
    "sups.IQ.min()"
   ]
  },
  {
   "cell_type": "code",
   "execution_count": 67,
   "id": "455f11db",
   "metadata": {},
   "outputs": [
    {
     "data": {
      "text/plain": [
       "200"
      ]
     },
     "execution_count": 67,
     "metadata": {},
     "output_type": "execute_result"
    }
   ],
   "source": [
    "sups.IQ.max()"
   ]
  },
  {
   "cell_type": "code",
   "execution_count": 68,
   "id": "38c7d793",
   "metadata": {},
   "outputs": [],
   "source": [
    "sups.IQ = sups.IQ.apply(iq_process)"
   ]
  },
  {
   "cell_type": "code",
   "execution_count": 69,
   "id": "846b3fac",
   "metadata": {},
   "outputs": [
    {
     "data": {
      "text/plain": [
       "array(['iq136to140', 'iq106to110', 'iq96to100', 'iq126to130',\n",
       "       'iq146to150', 'iq156to160', 'iq116to120', 'iq196to200',\n",
       "       'iq166to170', 'iq176to180', 'iq36to40', 'iq111to115', 'iq86to90',\n",
       "       'iq181to185', 'iq186to190', 'iq131to135', 'iq141to145', 'iq46to50',\n",
       "       'iq6to10', 'iq76to80', 'iq161to165', 'iq171to175', 'iq91to95',\n",
       "       'iq41to45', 'iq101to105', 'iq66to70', 'iq51to55', 'iq151to155',\n",
       "       'iq121to125', 'iq56to60', 'iq81to85', 'iq71to75', 'iq191to195',\n",
       "       'iq61to65', 'iq16to20', 'iq21to25', 'iq31to35', 'iq0', 'iq11to15'],\n",
       "      dtype=object)"
      ]
     },
     "execution_count": 69,
     "metadata": {},
     "output_type": "execute_result"
    }
   ],
   "source": [
    "sups.IQ.unique()"
   ]
  },
  {
   "cell_type": "code",
   "execution_count": null,
   "id": "238797f7",
   "metadata": {},
   "outputs": [],
   "source": []
  }
 ],
 "metadata": {
  "kernelspec": {
   "display_name": "Python 3 (ipykernel)",
   "language": "python",
   "name": "python3"
  },
  "language_info": {
   "codemirror_mode": {
    "name": "ipython",
    "version": 3
   },
   "file_extension": ".py",
   "mimetype": "text/x-python",
   "name": "python",
   "nbconvert_exporter": "python",
   "pygments_lexer": "ipython3",
   "version": "3.9.13"
  }
 },
 "nbformat": 4,
 "nbformat_minor": 5
}
