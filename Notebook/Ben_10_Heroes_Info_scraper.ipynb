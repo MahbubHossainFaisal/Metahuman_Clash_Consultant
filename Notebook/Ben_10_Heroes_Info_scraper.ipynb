{
 "cells": [
  {
   "cell_type": "code",
   "execution_count": 1,
   "id": "ba444cb4",
   "metadata": {},
   "outputs": [],
   "source": [
    "from bs4 import BeautifulSoup\n",
    "import os\n",
    "import requests\n",
    "import numpy as np\n",
    "import pandas as pd"
   ]
  },
  {
   "cell_type": "code",
   "execution_count": 2,
   "id": "73b0c00d",
   "metadata": {},
   "outputs": [],
   "source": [
    "url = 'https://ben10.fandom.com/wiki/Category:Classic_Aliens'\n",
    "response = requests.get(url)\n",
    "page_contents = response.text\n",
    "doc = BeautifulSoup(page_contents, 'html.parser')"
   ]
  },
  {
   "cell_type": "code",
   "execution_count": 3,
   "id": "daed4f10",
   "metadata": {},
   "outputs": [],
   "source": [
    "li_tags = doc.find_all('li', {'class': 'category-page__member'})"
   ]
  },
  {
   "cell_type": "code",
   "execution_count": 4,
   "id": "a800ccbc",
   "metadata": {},
   "outputs": [],
   "source": [
    "# Getting title names\n",
    "titles = []\n",
    "for i in range(1,len(li_tags)):\n",
    "    div_tag = li_tags[i].find('div')\n",
    "    if div_tag and div_tag.a and div_tag.a.get('title'):\n",
    "        titles.append(div_tag.a.get('title'))\n",
    "    elif li_tags[i].a and li_tags[i].a.get('title'):\n",
    "        titles.append(li_tags[i].a.get('title'))\n"
   ]
  },
  {
   "cell_type": "code",
   "execution_count": 5,
   "id": "b2e2a95c",
   "metadata": {},
   "outputs": [
    {
     "data": {
      "text/plain": [
       "120"
      ]
     },
     "execution_count": 5,
     "metadata": {},
     "output_type": "execute_result"
    }
   ],
   "source": [
    "len(titles)"
   ]
  },
  {
   "cell_type": "code",
   "execution_count": 6,
   "id": "1c468533",
   "metadata": {},
   "outputs": [],
   "source": [
    "alien_urls = []\n",
    "for i in range(1,len(li_tags)):\n",
    "    try:\n",
    "        alien_urls.append(\"https://ben10.fandom.com/\" + li_tags[i].a.get('href'))\n",
    "    except requests.exceptions.RequestException as e:\n",
    "        print(f\"Failed to get alien data: {e}\")\n",
    "        alien_urls = []"
   ]
  },
  {
   "cell_type": "code",
   "execution_count": 7,
   "id": "9bfb2ef5",
   "metadata": {},
   "outputs": [
    {
     "data": {
      "text/plain": [
       "120"
      ]
     },
     "execution_count": 7,
     "metadata": {},
     "output_type": "execute_result"
    }
   ],
   "source": [
    "len(alien_urls)"
   ]
  },
  {
   "cell_type": "code",
   "execution_count": 8,
   "id": "99ade49b",
   "metadata": {},
   "outputs": [
    {
     "data": {
      "text/plain": [
       "'https://ben10.fandom.com//wiki/Atomic-X'"
      ]
     },
     "execution_count": 8,
     "metadata": {},
     "output_type": "execute_result"
    }
   ],
   "source": [
    "alien_urls[5]"
   ]
  },
  {
   "cell_type": "code",
   "execution_count": 9,
   "id": "f67cdd01",
   "metadata": {},
   "outputs": [
    {
     "name": "stdout",
     "output_type": "stream",
     "text": [
      "Request successful!\n"
     ]
    }
   ],
   "source": [
    "alien_page_url = alien_urls[0]\n",
    "response = requests.get(alien_page_url)\n",
    "\n",
    "# Check if the request was successful (status code 200)\n",
    "if response.status_code == 200:\n",
    "    print(\"Request successful!\")\n",
    "else:\n",
    "    print(f\"Request failed with status code {response.status_code}\")\n"
   ]
  },
  {
   "cell_type": "markdown",
   "id": "0729a8a7",
   "metadata": {},
   "source": [
    "### Image url scrapping"
   ]
  },
  {
   "cell_type": "code",
   "execution_count": 10,
   "id": "86f19d61",
   "metadata": {},
   "outputs": [
    {
     "name": "stdout",
     "output_type": "stream",
     "text": [
      "0\n",
      "1\n",
      "2\n",
      "3\n",
      "4\n",
      "5\n",
      "6\n",
      "7\n",
      "8\n",
      "9\n",
      "10\n",
      "11\n",
      "12\n",
      "13\n",
      "14\n",
      "15\n",
      "16\n",
      "17\n",
      "18\n",
      "19\n",
      "20\n",
      "21\n",
      "22\n",
      "23\n",
      "24\n",
      "25\n",
      "26\n",
      "27\n",
      "28\n",
      "29\n",
      "30\n",
      "31\n",
      "32\n",
      "33\n",
      "34\n",
      "35\n",
      "36\n",
      "37\n",
      "38\n",
      "39\n",
      "40\n",
      "41\n",
      "42\n",
      "43\n",
      "44\n",
      "45\n",
      "46\n",
      "47\n",
      "48\n",
      "49\n",
      "50\n",
      "51\n",
      "52\n",
      "53\n",
      "54\n",
      "55\n",
      "56\n",
      "57\n",
      "58\n",
      "59\n",
      "60\n",
      "61\n",
      "62\n",
      "63\n",
      "64\n",
      "65\n",
      "66\n",
      "67\n",
      "68\n",
      "69\n",
      "70\n",
      "71\n",
      "72\n",
      "73\n",
      "74\n",
      "75\n",
      "76\n",
      "77\n",
      "78\n",
      "79\n",
      "80\n",
      "81\n",
      "82\n",
      "83\n",
      "84\n",
      "85\n",
      "86\n",
      "87\n",
      "88\n",
      "89\n",
      "90\n",
      "91\n",
      "92\n",
      "93\n",
      "94\n",
      "95\n",
      "96\n",
      "97\n",
      "98\n",
      "99\n",
      "100\n",
      "101\n",
      "102\n",
      "103\n",
      "104\n",
      "105\n",
      "106\n",
      "107\n",
      "108\n",
      "109\n",
      "110\n",
      "111\n",
      "112\n",
      "113\n",
      "114\n",
      "115\n",
      "116\n",
      "117\n",
      "118\n",
      "119\n"
     ]
    }
   ],
   "source": [
    "images = []\n",
    "for i in range(len(alien_urls)):\n",
    "    print(i)\n",
    "    alien_page_url = alien_urls[i]\n",
    "    response = requests.get(alien_page_url)\n",
    "    alien_doc = BeautifulSoup(response.text, 'html.parser')\n",
    "    try:\n",
    "        section = alien_doc.find('figure', class_='pi-item pi-image')\n",
    "        if section:\n",
    "            img_url = section.a.get('href')\n",
    "            images.append(img_url)\n",
    "        else:\n",
    "            images.append('No Image')\n",
    "        \n",
    "        \n",
    "    except Exception as e:\n",
    "        print(titles[i],e)\n"
   ]
  },
  {
   "cell_type": "code",
   "execution_count": 18,
   "id": "c4ca01d8",
   "metadata": {},
   "outputs": [
    {
     "data": {
      "text/plain": [
       "120"
      ]
     },
     "execution_count": 18,
     "metadata": {},
     "output_type": "execute_result"
    }
   ],
   "source": [
    "len(images)"
   ]
  },
  {
   "cell_type": "markdown",
   "id": "8553065f",
   "metadata": {},
   "source": [
    "### Information scrapping!"
   ]
  },
  {
   "cell_type": "code",
   "execution_count": 14,
   "id": "50ff6d26",
   "metadata": {},
   "outputs": [],
   "source": [
    "basic = ['Species','Home World','Body','Abilities','First Appearance']\n",
    "species = []\n",
    "home_world = []\n",
    "body = []\n",
    "abilities=[]\n",
    "first_appearance = []\n",
    "for i in range(len(alien_urls)):\n",
    "    alien_page_url = alien_urls[i]\n",
    "    response = requests.get(alien_page_url)\n",
    "    alien_doc = BeautifulSoup(response.text, 'html.parser')\n",
    "    basic_info = ['Species','Home World','Body','Abilities','First Appearance']\n",
    "    h3_tags = alien_doc.find_all('h3',{'class':'pi-data-label pi-secondary-font'})\n",
    "    keys = [tag.text for tag in h3_tags]\n",
    "    div_tags = alien_doc.find_all('div',{'class':'pi-data-value pi-font'})\n",
    "    \n",
    "    values = []\n",
    "    for tag in div_tags:\n",
    "    # Replace <br/> tags with a comma\n",
    "        for br_tag in tag.find_all('<br/>'):\n",
    "            br_tag.replace_with(',')\n",
    "    \n",
    "        text_content = tag.get_text(separator=',', strip=True)\n",
    "        values.append(text_content)\n",
    "    values = [element.split('[')[0] if '[' in element else element for element in values]\n",
    "    \n",
    "    species.append(values[keys.index('Species')] if 'Species' in keys else 'No info')\n",
    "    home_world.append(values[keys.index('Home World')] if 'Home World' in keys else 'No info')\n",
    "    body.append(values[keys.index('Body')] if 'Body' in keys else 'No info')\n",
    "    abilities.append(values[keys.index('Abilities')] if 'Abilities' in keys else 'No info')\n",
    "    first_appearance.append(values[keys.index('First Appearance')] if 'First Appearance' in keys else 'No info')\n",
    "    "
   ]
  },
  {
   "cell_type": "code",
   "execution_count": 19,
   "id": "53ec8873",
   "metadata": {},
   "outputs": [
    {
     "data": {
      "text/plain": [
       "120"
      ]
     },
     "execution_count": 19,
     "metadata": {},
     "output_type": "execute_result"
    }
   ],
   "source": [
    "len(species)"
   ]
  },
  {
   "cell_type": "code",
   "execution_count": 37,
   "id": "833734bc",
   "metadata": {},
   "outputs": [
    {
     "data": {
      "text/plain": [
       "5"
      ]
     },
     "execution_count": 37,
     "metadata": {},
     "output_type": "execute_result"
    }
   ],
   "source": [
    "species.count('No info')"
   ]
  },
  {
   "cell_type": "code",
   "execution_count": 20,
   "id": "285efc62",
   "metadata": {},
   "outputs": [
    {
     "data": {
      "text/plain": [
       "120"
      ]
     },
     "execution_count": 20,
     "metadata": {},
     "output_type": "execute_result"
    }
   ],
   "source": [
    "len(home_world)"
   ]
  },
  {
   "cell_type": "code",
   "execution_count": 38,
   "id": "4855f78f",
   "metadata": {},
   "outputs": [
    {
     "data": {
      "text/plain": [
       "27"
      ]
     },
     "execution_count": 38,
     "metadata": {},
     "output_type": "execute_result"
    }
   ],
   "source": [
    "home_world.count('No info')"
   ]
  },
  {
   "cell_type": "code",
   "execution_count": 21,
   "id": "d5530e5c",
   "metadata": {},
   "outputs": [
    {
     "data": {
      "text/plain": [
       "120"
      ]
     },
     "execution_count": 21,
     "metadata": {},
     "output_type": "execute_result"
    }
   ],
   "source": [
    "len(body)"
   ]
  },
  {
   "cell_type": "code",
   "execution_count": 39,
   "id": "108075ac",
   "metadata": {},
   "outputs": [
    {
     "data": {
      "text/plain": [
       "6"
      ]
     },
     "execution_count": 39,
     "metadata": {},
     "output_type": "execute_result"
    }
   ],
   "source": [
    "body.count('No info')"
   ]
  },
  {
   "cell_type": "code",
   "execution_count": 23,
   "id": "9dbc40ae",
   "metadata": {},
   "outputs": [
    {
     "data": {
      "text/plain": [
       "120"
      ]
     },
     "execution_count": 23,
     "metadata": {},
     "output_type": "execute_result"
    }
   ],
   "source": [
    "len(abilities)"
   ]
  },
  {
   "cell_type": "code",
   "execution_count": 40,
   "id": "ca7efa54",
   "metadata": {},
   "outputs": [
    {
     "data": {
      "text/plain": [
       "5"
      ]
     },
     "execution_count": 40,
     "metadata": {},
     "output_type": "execute_result"
    }
   ],
   "source": [
    "abilities.count('No info')"
   ]
  },
  {
   "cell_type": "code",
   "execution_count": 24,
   "id": "e259de87",
   "metadata": {},
   "outputs": [
    {
     "data": {
      "text/plain": [
       "120"
      ]
     },
     "execution_count": 24,
     "metadata": {},
     "output_type": "execute_result"
    }
   ],
   "source": [
    "len(first_appearance)"
   ]
  },
  {
   "cell_type": "code",
   "execution_count": 41,
   "id": "d81487f4",
   "metadata": {},
   "outputs": [
    {
     "data": {
      "text/plain": [
       "21"
      ]
     },
     "execution_count": 41,
     "metadata": {},
     "output_type": "execute_result"
    }
   ],
   "source": [
    "first_appearance.count('No info')"
   ]
  },
  {
   "cell_type": "code",
   "execution_count": null,
   "id": "acffee03",
   "metadata": {},
   "outputs": [],
   "source": []
  },
  {
   "cell_type": "code",
   "execution_count": 25,
   "id": "383a6173",
   "metadata": {},
   "outputs": [],
   "source": [
    "alien_heroes_data = pd.DataFrame({\n",
    "    'title': titles,\n",
    "    'species':species,\n",
    "    'home_world':home_world,\n",
    "    'body':body,\n",
    "    'abilities':abilities,\n",
    "    'first_appearance':first_appearance,\n",
    "    'img_links':images\n",
    "})"
   ]
  },
  {
   "cell_type": "code",
   "execution_count": 31,
   "id": "3c5172d6",
   "metadata": {},
   "outputs": [],
   "source": [
    "alien_heroes_data['character_type'] = 'Hero'"
   ]
  },
  {
   "cell_type": "code",
   "execution_count": 32,
   "id": "9394cbd6",
   "metadata": {},
   "outputs": [
    {
     "data": {
      "text/plain": [
       "(120, 8)"
      ]
     },
     "execution_count": 32,
     "metadata": {},
     "output_type": "execute_result"
    }
   ],
   "source": [
    "alien_heroes_data.shape"
   ]
  },
  {
   "cell_type": "code",
   "execution_count": 33,
   "id": "e56f72cb",
   "metadata": {},
   "outputs": [],
   "source": [
    "alien_heroes_data.to_csv('D:\\\\Study\\\\ML-Projects\\\\Project-3(Recommending_system)\\\\data\\\\heroes.csv',index=False)"
   ]
  },
  {
   "cell_type": "code",
   "execution_count": null,
   "id": "d04d4771",
   "metadata": {},
   "outputs": [],
   "source": []
  }
 ],
 "metadata": {
  "kernelspec": {
   "display_name": "Python 3 (ipykernel)",
   "language": "python",
   "name": "python3"
  },
  "language_info": {
   "codemirror_mode": {
    "name": "ipython",
    "version": 3
   },
   "file_extension": ".py",
   "mimetype": "text/x-python",
   "name": "python",
   "nbconvert_exporter": "python",
   "pygments_lexer": "ipython3",
   "version": "3.9.13"
  }
 },
 "nbformat": 4,
 "nbformat_minor": 5
}
